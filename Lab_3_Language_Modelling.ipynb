{
  "nbformat": 4,
  "nbformat_minor": 0,
  "metadata": {
    "colab": {
      "provenance": [],
      "toc_visible": true,
      "include_colab_link": true
    },
    "kernelspec": {
      "name": "python3",
      "display_name": "Python 3"
    }
  },
  "cells": [
    {
      "cell_type": "markdown",
      "metadata": {
        "id": "view-in-github",
        "colab_type": "text"
      },
      "source": [
        "<a href=\"https://colab.research.google.com/github/williamkho-xzq/text-as-data/blob/main/Lab_3_Language_Modelling.ipynb\" target=\"_parent\"><img src=\"https://colab.research.google.com/assets/colab-badge.svg\" alt=\"Open In Colab\"/></a>"
      ]
    },
    {
      "cell_type": "markdown",
      "metadata": {
        "id": "1suGewMzIKsC"
      },
      "source": [
        "# Text as Data Lab 3: Language Modelling\n",
        "\n",
        "In this week's lab, we'll explore basic techniques for language modelling.\n",
        "\n",
        "The aims of this lab are:\n",
        "*   Model the probability of generating language\n",
        "*   Evaluating the quality of language model using perplexity\n",
        "*   Understand and address issues of sparsity in language modelling\n",
        "*   Learn applications of language models in understanding text"
      ]
    },
    {
      "cell_type": "markdown",
      "source": [
        "**Before you start, save a copy of this lab to your drive using \"File > Save a Copy in Drive\".** If you skip this step, you may lose progress that you have made (e.g., if you close the browser tab or your computer crashes)."
      ],
      "metadata": {
        "id": "hzZNFlTLit6R"
      }
    },
    {
      "cell_type": "markdown",
      "source": [
        "**Note:** Colab may hide some of this lab by collapsing a section. You'd see something that says \"X cells hidden\" (like below). Click on it to expand that section of the lab."
      ],
      "metadata": {
        "id": "eSGmYYvKhzYN"
      }
    },
    {
      "cell_type": "markdown",
      "source": [
        "![image.png](data:image/png;base64,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)"
      ],
      "metadata": {
        "id": "uwNJI8gYhzxa"
      }
    },
    {
      "cell_type": "markdown",
      "source": [
        "## Setting up the labtest function\n",
        "\n",
        "As with previous labs, we'll use a `labtest` function so that you can check your code. You need to install and load it with the code below."
      ],
      "metadata": {
        "id": "aH_of5OsGuii"
      }
    },
    {
      "cell_type": "code",
      "execution_count": 1,
      "metadata": {
        "id": "-FNU1G7Qt_v7",
        "colab": {
          "base_uri": "https://localhost:8080/"
        },
        "outputId": "7583ee30-98e5-4f1f-dc0f-d066f615becb"
      },
      "outputs": [
        {
          "output_type": "stream",
          "name": "stdout",
          "text": [
            "Collecting git+https://github.com/jakelever/glasgowcs_labtest.git\n",
            "  Cloning https://github.com/jakelever/glasgowcs_labtest.git to /tmp/pip-req-build-0ck7ow0r\n",
            "  Running command git clone --filter=blob:none --quiet https://github.com/jakelever/glasgowcs_labtest.git /tmp/pip-req-build-0ck7ow0r\n",
            "  Resolved https://github.com/jakelever/glasgowcs_labtest.git to commit 130d80d906c9ef54a4e05a559e832c9f52a1612d\n",
            "  Preparing metadata (setup.py) ... \u001b[?25l\u001b[?25hdone\n",
            "Building wheels for collected packages: glasgowcs-labtest\n",
            "  Building wheel for glasgowcs-labtest (setup.py) ... \u001b[?25l\u001b[?25hdone\n",
            "  Created wheel for glasgowcs-labtest: filename=glasgowcs_labtest-1.0.9-py3-none-any.whl size=27895 sha256=c8a7001bc254cd704787d4319f50826e856ab6548dd691f6dcf2b6f32a6be1b0\n",
            "  Stored in directory: /tmp/pip-ephem-wheel-cache-dehf63fl/wheels/26/99/9f/8a1f194676e70dc9318592b6657d7922f8272e0ad22a47a349\n",
            "Successfully built glasgowcs-labtest\n",
            "Installing collected packages: glasgowcs-labtest\n",
            "Successfully installed glasgowcs-labtest-1.0.9\n"
          ]
        }
      ],
      "source": [
        "# Installs the labtest system and loads the tests for this specific lab\n",
        "\n",
        "!pip install -U git+https://github.com/jakelever/glasgowcs_labtest.git\n",
        "from glasgowcs_labtest.textasdata.lab3 import labtest"
      ]
    },
    {
      "cell_type": "markdown",
      "metadata": {
        "id": "napJywoXLO7u"
      },
      "source": [
        "## Loading the Reddit data\n",
        "\n",
        "We'll be using the same Reddit data from the previous labs. We will download it and tokenize it with [Spacy](https://spacy.io/) for later use.\n",
        "\n",
        "**This time, we are going to tokenize it a little differently.**\n",
        "\n",
        "First, let's download it:"
      ]
    },
    {
      "cell_type": "code",
      "source": [
        "!wget -O reddit_posts.json https://gla-my.sharepoint.com/:u:/g/personal/jake_lever_glasgow_ac_uk/EY_R8Y7DkrxMqXGe-zlgeNkBdJU5ZNTf8FYrN2pqDwddMA?download=1"
      ],
      "metadata": {
        "id": "Ax-gRXfWIcVq",
        "colab": {
          "base_uri": "https://localhost:8080/"
        },
        "outputId": "c7691bb7-dbcf-4c18-e8b2-8f2dd6252339"
      },
      "execution_count": 2,
      "outputs": [
        {
          "output_type": "stream",
          "name": "stdout",
          "text": [
            "--2024-01-30 10:18:46--  https://gla-my.sharepoint.com/:u:/g/personal/jake_lever_glasgow_ac_uk/EY_R8Y7DkrxMqXGe-zlgeNkBdJU5ZNTf8FYrN2pqDwddMA?download=1\n",
            "Resolving gla-my.sharepoint.com (gla-my.sharepoint.com)... 13.107.136.10, 13.107.138.10, 2620:1ec:8f8::10, ...\n",
            "Connecting to gla-my.sharepoint.com (gla-my.sharepoint.com)|13.107.136.10|:443... connected.\n",
            "HTTP request sent, awaiting response... 302 Found\n",
            "Location: https://gla-my.sharepoint.com/personal/jake_lever_glasgow_ac_uk/_layouts/15/download.aspx?UniqueId=8ef1d18f92c34cbca9719efb396078d9 [following]\n",
            "--2024-01-30 10:18:47--  https://gla-my.sharepoint.com/personal/jake_lever_glasgow_ac_uk/_layouts/15/download.aspx?UniqueId=8ef1d18f92c34cbca9719efb396078d9\n",
            "Reusing existing connection to gla-my.sharepoint.com:443.\n",
            "HTTP request sent, awaiting response... 200 OK\n",
            "Length: 1279064 (1.2M) [application/json]\n",
            "Saving to: ‘reddit_posts.json’\n",
            "\n",
            "reddit_posts.json   100%[===================>]   1.22M  1.11MB/s    in 1.1s    \n",
            "\n",
            "2024-01-30 10:18:48 (1.11 MB/s) - ‘reddit_posts.json’ saved [1279064/1279064]\n",
            "\n"
          ]
        }
      ]
    },
    {
      "cell_type": "markdown",
      "source": [
        "Let's load in the posts:"
      ],
      "metadata": {
        "id": "lziRq9bixzuj"
      }
    },
    {
      "cell_type": "code",
      "source": [
        "import json\n",
        "\n",
        "with open('reddit_posts.json') as f:\n",
        "    posts = json.load(f)\n",
        "\n",
        "len(posts)"
      ],
      "metadata": {
        "id": "fe7eLDpzImYF",
        "colab": {
          "base_uri": "https://localhost:8080/"
        },
        "outputId": "f56b5b41-1db5-4b6a-f426-f83a9f899ba1"
      },
      "execution_count": 3,
      "outputs": [
        {
          "output_type": "execute_result",
          "data": {
            "text/plain": [
              "2000"
            ]
          },
          "metadata": {},
          "execution_count": 3
        }
      ]
    },
    {
      "cell_type": "markdown",
      "source": [
        "A reminder of what a post looks like:"
      ],
      "metadata": {
        "id": "6rqH8dC6x050"
      }
    },
    {
      "cell_type": "code",
      "source": [
        "posts[0]"
      ],
      "metadata": {
        "id": "I5zzUtTSgcqT",
        "colab": {
          "base_uri": "https://localhost:8080/"
        },
        "outputId": "069edef8-207d-4d22-d174-b3b39a87b473"
      },
      "execution_count": 4,
      "outputs": [
        {
          "output_type": "execute_result",
          "data": {
            "text/plain": [
              "{'subreddit': 'Soda',\n",
              " 'title': 'Anyone tried Irn Bru?',\n",
              " 'score': 8,\n",
              " 'id': 'ou5yp1',\n",
              " 'author': 'jackibhoy',\n",
              " 'body': 'It’s a Scottish drink and it’s banned some countries and I was wondering if anyone here has tried it. It has quite a unique taste and it’s not something you’d forget quickly. You either love it or hate it I think.'}"
            ]
          },
          "metadata": {},
          "execution_count": 4
        }
      ]
    },
    {
      "cell_type": "markdown",
      "source": [
        "### Alternative parsing\n",
        "\n",
        "We're going to do a few things differently this time.\n",
        "\n",
        "1. We're going to use a slimmed down version of Spacy. This is to show that you can turn off bits of Spacy and make it **a lot** faster.\n",
        "2. We're going to keep stopwords this time\n",
        "3. We're not going to lemmatize, but we will still use the lowercase version of the token text\n",
        "\n",
        "We want to split the text into its tokens and not do anything special to them.\n",
        "\n",
        "Let's load in a slimmed down version of Spacy with a few things (e.g. tagger, parser, NER) turned off."
      ],
      "metadata": {
        "id": "RDEaWotax3Ju"
      }
    },
    {
      "cell_type": "code",
      "metadata": {
        "id": "gB1SEq_B1jYc",
        "colab": {
          "base_uri": "https://localhost:8080/"
        },
        "outputId": "bfd8822f-7419-4661-c130-a68a9b17369b"
      },
      "source": [
        "import spacy\n",
        "\n",
        "# Load the small english model.\n",
        "# Disable the advanced NLP features in the pipeline for efficiency.\n",
        "nlp = spacy.load('en_core_web_sm', disable=['ner'])\n",
        "nlp.remove_pipe('tagger')\n",
        "nlp.remove_pipe('parser')\n",
        "nlp.remove_pipe('lemmatizer')"
      ],
      "execution_count": 5,
      "outputs": [
        {
          "output_type": "execute_result",
          "data": {
            "text/plain": [
              "('lemmatizer', <spacy.lang.en.lemmatizer.EnglishLemmatizer at 0x7d8c2d696700>)"
            ]
          },
          "metadata": {},
          "execution_count": 5
        }
      ]
    },
    {
      "cell_type": "markdown",
      "source": [
        "And we'll define a modified version of the Spacy pipeline function from previous labs that doesn't throw away stopwords and give the original text, not lemmas."
      ],
      "metadata": {
        "id": "D2LT0Y8nyeWr"
      }
    },
    {
      "cell_type": "code",
      "source": [
        "def text_pipeline_spacy_special(text):\n",
        "  tokens = []\n",
        "  doc = nlp(text)\n",
        "  for t in doc:\n",
        "    if not t.is_punct and not t.is_space: # what we removed: \"not t.is_stop and\"\n",
        "      tokens.append(t.text.lower()) # what we changed: t.text instead of t.lemma_\n",
        "  return tokens"
      ],
      "metadata": {
        "id": "pbv8yE5LyeeV"
      },
      "execution_count": 6,
      "outputs": []
    },
    {
      "cell_type": "markdown",
      "source": [
        "Now if we tokenize everything, it is much faster."
      ],
      "metadata": {
        "id": "jAV7cr_qywdy"
      }
    },
    {
      "cell_type": "code",
      "source": [
        "from tqdm import tqdm # This provides a nice progress bar\n",
        "\n",
        "for post in tqdm(posts):\n",
        "    post['tokens'] = text_pipeline_spacy_special(post['title'] + '\\n' + post['body'])"
      ],
      "metadata": {
        "id": "Kl4nh7eKfe9m",
        "colab": {
          "base_uri": "https://localhost:8080/"
        },
        "outputId": "6af0298a-3433-4eaa-a8e2-bfff34217d82"
      },
      "execution_count": 7,
      "outputs": [
        {
          "output_type": "stream",
          "name": "stderr",
          "text": [
            "100%|██████████| 2000/2000 [00:21<00:00, 93.81it/s] \n"
          ]
        }
      ]
    },
    {
      "cell_type": "markdown",
      "source": [
        "### Flattening the tokens\n",
        "\n",
        "For this lab, we want to deal with the whole collection of posts as a single long list of tokens. We'll make one list and combine each post with a special token `<START>` at the beginning of each."
      ],
      "metadata": {
        "id": "qFse93LXy8DM"
      }
    },
    {
      "cell_type": "code",
      "source": [
        "posts_flattened_tokens = []\n",
        "for post in posts:\n",
        "  posts_flattened_tokens += ['<START>'] + post['tokens']\n",
        "len(posts_flattened_tokens)"
      ],
      "metadata": {
        "id": "ivXZChNE0M3C",
        "colab": {
          "base_uri": "https://localhost:8080/"
        },
        "outputId": "e917fd1c-c854-46fa-ccb4-7c76b11bfcea"
      },
      "execution_count": 8,
      "outputs": [
        {
          "output_type": "execute_result",
          "data": {
            "text/plain": [
              "189428"
            ]
          },
          "metadata": {},
          "execution_count": 8
        }
      ]
    },
    {
      "cell_type": "markdown",
      "source": [
        "That's quite a few tokens!"
      ],
      "metadata": {
        "id": "tQsFNGH2zSH5"
      }
    },
    {
      "cell_type": "markdown",
      "source": [
        "And again, we'll make a little mini corpus of sentences and create the same flattened list of tokens with the `<START>` special token before each sentence. This will be useful for a few places later."
      ],
      "metadata": {
        "id": "smF8x1ODzNcn"
      }
    },
    {
      "cell_type": "code",
      "source": [
        "mini_sentences = [\n",
        "    \"My favourite soft drink is Apple Tango, but I also love Irn Bru.\",\n",
        "    \"Irn Bru is a great drink.\",\n",
        "    \"I once found a can of Irn Bru in St Petersburg.\",\n",
        "    \"Irn Bru is a soft drink launched in 1901 by AG Barr.\",\n",
        "    \"IRN-BRU is made at AG Barr in Cumbernauld.\"\n",
        "]\n",
        "\n",
        "mini_flattened = []\n",
        "for x in mini_sentences:\n",
        "  mini_flattened += ['<START>'] + text_pipeline_spacy_special(x)\n",
        "\n",
        "print(mini_flattened)"
      ],
      "metadata": {
        "id": "kGXrr37Ohw3F",
        "colab": {
          "base_uri": "https://localhost:8080/"
        },
        "outputId": "8eba90f5-9e99-4d91-851a-e4f5a1ed0ffe"
      },
      "execution_count": 9,
      "outputs": [
        {
          "output_type": "stream",
          "name": "stdout",
          "text": [
            "['<START>', 'my', 'favourite', 'soft', 'drink', 'is', 'apple', 'tango', 'but', 'i', 'also', 'love', 'irn', 'bru', '<START>', 'irn', 'bru', 'is', 'a', 'great', 'drink', '<START>', 'i', 'once', 'found', 'a', 'can', 'of', 'irn', 'bru', 'in', 'st', 'petersburg', '<START>', 'irn', 'bru', 'is', 'a', 'soft', 'drink', 'launched', 'in', '1901', 'by', 'ag', 'barr', '<START>', 'irn', 'bru', 'is', 'made', 'at', 'ag', 'barr', 'in', 'cumbernauld']\n"
          ]
        }
      ]
    },
    {
      "cell_type": "markdown",
      "metadata": {
        "id": "78XpfWSHF9n6"
      },
      "source": [
        "## Unigram language model\n",
        "\n",
        "We're going to start with a unigram language model. This will provide the probability of each token occurring and has lots of uses.\n",
        "\n",
        "Recall that a unigram model treats each token independently and does not take any context (i.e. the previous tokens) into account.\n",
        "\n",
        "Before we calculate the unigram probabilities, we need to calculate the unigram counts. We'll use the [Counter](https://docs.python.org/3/library/collections.html#collections.Counter) class again."
      ]
    },
    {
      "cell_type": "code",
      "source": [
        "from collections import Counter\n",
        "posts_unigram_counts = Counter(posts_flattened_tokens)\n",
        "posts_unigram_N = len(posts_flattened_tokens) # also the same as sum(posts_unigram_counts.values())"
      ],
      "metadata": {
        "id": "Qno5picKWLy7",
        "colab": {
          "base_uri": "https://localhost:8080/"
        },
        "outputId": "de903ba2-2398-4ae0-f1f2-bdc32c6920af"
      },
      "execution_count": 70,
      "outputs": [
        {
          "output_type": "stream",
          "name": "stdout",
          "text": [
            "12286\n"
          ]
        }
      ]
    },
    {
      "cell_type": "markdown",
      "source": [
        "We can get the number of times that 'irn' appears in our posts:"
      ],
      "metadata": {
        "id": "KKdgmVnp01hz"
      }
    },
    {
      "cell_type": "code",
      "source": [
        "posts_unigram_counts['irn']"
      ],
      "metadata": {
        "id": "UcyYMK5M05kJ",
        "colab": {
          "base_uri": "https://localhost:8080/"
        },
        "outputId": "4627c98f-e430-4546-f638-409f49a5dc79"
      },
      "execution_count": 11,
      "outputs": [
        {
          "output_type": "execute_result",
          "data": {
            "text/plain": [
              "10"
            ]
          },
          "metadata": {},
          "execution_count": 11
        }
      ]
    },
    {
      "cell_type": "markdown",
      "source": [
        "Now time to calculate unigram probabilities:\n",
        "\n",
        "**Exercise:** Write a function `unigram_token_prob` that given a token, the unigram counts and the total number of unigrams, returns the probability of that token\n"
      ],
      "metadata": {
        "id": "tf5-Ct4l1EOl"
      }
    },
    {
      "cell_type": "code",
      "source": [
        "def unigram_token_prob(next_token, unigram_counts, unigram_N):\n",
        "  # print(next_token, unigram_counts, unigram_N)\n",
        "  return unigram_counts[next_token]/unigram_N\n",
        "  # your code!\n",
        "\n",
        "unigram_token_prob('irn', posts_unigram_counts, posts_unigram_N)"
      ],
      "metadata": {
        "id": "gcg8jO3gg0qd",
        "colab": {
          "base_uri": "https://localhost:8080/"
        },
        "outputId": "8106c53d-5373-485d-b80a-8739c4485b0c"
      },
      "execution_count": 14,
      "outputs": [
        {
          "output_type": "execute_result",
          "data": {
            "text/plain": [
              "5.279050615537302e-05"
            ]
          },
          "metadata": {},
          "execution_count": 14
        }
      ]
    },
    {
      "cell_type": "markdown",
      "source": [
        "Check that your function returns a probability of zero for a token that is not in the dictionary."
      ],
      "metadata": {
        "id": "0nh7ZUQN1mBx"
      }
    },
    {
      "cell_type": "code",
      "source": [
        "unigram_token_prob('totallynotatoken', posts_unigram_counts, posts_unigram_N)"
      ],
      "metadata": {
        "id": "UEUWJjvS1lQL",
        "colab": {
          "base_uri": "https://localhost:8080/"
        },
        "outputId": "f6fc55ff-4161-4610-dbda-cc397f7c432b"
      },
      "execution_count": 15,
      "outputs": [
        {
          "output_type": "execute_result",
          "data": {
            "text/plain": [
              "0.0"
            ]
          },
          "metadata": {},
          "execution_count": 15
        }
      ]
    },
    {
      "cell_type": "markdown",
      "source": [
        "And now you can run the labtest function:"
      ],
      "metadata": {
        "id": "HwsD6NUi1xMp"
      }
    },
    {
      "cell_type": "code",
      "source": [
        "labtest(unigram_token_prob)"
      ],
      "metadata": {
        "id": "Lr7FBJFI1DdO",
        "colab": {
          "base_uri": "https://localhost:8080/"
        },
        "outputId": "f1a37c84-99be-4a3e-9a08-1e34b5d9b810"
      },
      "execution_count": 16,
      "outputs": [
        {
          "output_type": "stream",
          "name": "stdout",
          "text": [
            "----------------------------\n",
            "LABTEST: Running 5 testcases\n",
            "----------------------------\n",
            "Input: ('cup', {'cup': 2, 'spoon': 2, 'glass': 6, 'fork': 1}, 11). Running... \n",
            "OK.\n",
            "Input: ('plate', {'plate': 2, 'cup': 2, 'fork': 5, 'spoon': 5}, 14). Running... \n",
            "OK.\n",
            "Input: ('fork', {'bowl': 4, 'fork': 5, 'plate': 3, 'cup': 1}, 13). Running... \n",
            "OK.\n",
            "Input: ('cup', {'plate': 2, 'glass': 3, 'fork': 1, 'cup': 1}, 7). Running... \n",
            "OK.\n",
            "Input: ('glass', {'glass': 5, 'spoon': 3}, 8). Running... \n",
            "OK.\n",
            "----------------------------\n",
            "5 testcases PASSED\n",
            "----------------------------\n"
          ]
        }
      ]
    },
    {
      "cell_type": "markdown",
      "source": [
        "Now we can use the individual token probabilities to calculate the probability of a whole sequence. Remember that the unigram probability of a sequence treats each token independently:\n",
        "\n",
        "$$ P(w_1, ... w_N) = \\prod_{i=1}^N \\hat{p}(w_i) $$\n",
        "\n",
        "**Exercise:** Write a function `unigram_sequence_prob` that given a sequence of tokens (and the unigram data), calculates the probability of the sequence.\n",
        "\n",
        "Remember that if a sequence contains a token that doesn't exist in the corpus, the probability of the sequence should be zero."
      ],
      "metadata": {
        "id": "lQFdSOO01-Co"
      }
    },
    {
      "cell_type": "code",
      "source": [
        "def unigram_sequence_prob(sequence, unigram_counts, unigram_N):\n",
        "  result = 1\n",
        "  for token in sequence:\n",
        "    result *= unigram_token_prob(token, unigram_counts, unigram_N)\n",
        "  return result\n",
        "  # your code!\n",
        "\n",
        "unigram_sequence_prob(['i', 'like', 'irn', 'bru'], posts_unigram_counts, posts_unigram_N)"
      ],
      "metadata": {
        "id": "7lUuyQjMWl7j",
        "colab": {
          "base_uri": "https://localhost:8080/"
        },
        "outputId": "d68e13d3-de7e-40e6-a43f-fa56f40e6e4e"
      },
      "execution_count": 28,
      "outputs": [
        {
          "output_type": "execute_result",
          "data": {
            "text/plain": [
              "5.810905251121602e-13"
            ]
          },
          "metadata": {},
          "execution_count": 28
        }
      ]
    },
    {
      "cell_type": "code",
      "source": [
        "labtest(unigram_sequence_prob)"
      ],
      "metadata": {
        "id": "6UfEUYoC3ObO",
        "colab": {
          "base_uri": "https://localhost:8080/"
        },
        "outputId": "47f9435f-37b7-4f5b-98b1-6afbfd288b12"
      },
      "execution_count": 29,
      "outputs": [
        {
          "output_type": "stream",
          "name": "stdout",
          "text": [
            "----------------------------\n",
            "LABTEST: Running 5 testcases\n",
            "----------------------------\n",
            "Input: (['glass', 'glass', 'glass', 'cup', 'cup'], {'cup': 2, 'spoon': 2, 'glass': 6, 'fork': 1}, 11). Running... \n",
            "OK.\n",
            "Input: (['spoon', 'spoon', 'fork'], {'fork': 1, 'spoon': 5}, 6). Running... \n",
            "OK.\n",
            "Input: (['fork', 'fork', 'cup', 'fork'], {'fork': 2, 'glass': 6, 'cup': 4}, 12). Running... \n",
            "OK.\n",
            "Input: (['glass', 'cup', 'fork', 'cup', 'cup'], {'cup': 5, 'glass': 3, 'fork': 1}, 9). Running... \n",
            "OK.\n",
            "Input: (['spoon', 'spoon', 'spoon', 'glass'], {'fork': 1, 'glass': 1, 'bowl': 6, 'spoon': 2}, 10). Running... \n",
            "OK.\n",
            "----------------------------\n",
            "5 testcases PASSED\n",
            "----------------------------\n"
          ]
        }
      ]
    },
    {
      "cell_type": "markdown",
      "source": [
        "For long sequences, we start multiplying by very small numbers. This is a very bad idea computationally. Computers only have a limited number of bits for a number and precision problems start happening when multiplying by lots of small numbers.\n",
        "\n",
        "A better idea is to do everything with logarithms. We'll work with log base 2 here. The above equation becomes:\n",
        "\n",
        "$$ LogP(w_1, ... w_N) = \\sum_{i=1}^N \\log_2 \\hat{p}(w_i) $$\n",
        "\n",
        "**Exercise:** Write a function `unigram_sequence_logprob` which is equivalent to the `unigram_sequence_prob` method but using log2 and summation as in the equation above."
      ],
      "metadata": {
        "id": "ubeEHwkk2yUD"
      }
    },
    {
      "cell_type": "code",
      "source": [
        "import math\n",
        "\n",
        "def unigram_sequence_logprob(sequence, unigram_counts, unigram_N):\n",
        "  result = 0\n",
        "  for token in sequence:\n",
        "    result += math.log2(unigram_token_prob(token, unigram_counts, unigram_N))\n",
        "  return result\n",
        "  # your code!\n",
        "\n",
        "unigram_sequence_logprob(['i', 'like', 'irn', 'bru'], posts_unigram_counts, posts_unigram_N)"
      ],
      "metadata": {
        "id": "IY3hnAVYXbc3",
        "colab": {
          "base_uri": "https://localhost:8080/"
        },
        "outputId": "16a879c5-f29c-4f2f-ba50-6a9f7fe53817"
      },
      "execution_count": 30,
      "outputs": [
        {
          "output_type": "execute_result",
          "data": {
            "text/plain": [
              "-40.64630230233775"
            ]
          },
          "metadata": {},
          "execution_count": 30
        }
      ]
    },
    {
      "cell_type": "markdown",
      "source": [
        "We can sanity check that it's working by taking the log2 of the original function and seeing if we get the same result."
      ],
      "metadata": {
        "id": "_Vuv6YAN4FEA"
      }
    },
    {
      "cell_type": "code",
      "source": [
        "math.log2(unigram_sequence_prob(['i', 'like', 'irn', 'bru'], posts_unigram_counts, posts_unigram_N))"
      ],
      "metadata": {
        "id": "7DXv003LXlvF",
        "colab": {
          "base_uri": "https://localhost:8080/"
        },
        "outputId": "485eee32-1b06-42a2-80e4-d5374eaa0750"
      },
      "execution_count": 31,
      "outputs": [
        {
          "output_type": "execute_result",
          "data": {
            "text/plain": [
              "-40.64630230233775"
            ]
          },
          "metadata": {},
          "execution_count": 31
        }
      ]
    },
    {
      "cell_type": "code",
      "source": [
        "labtest(unigram_sequence_logprob)"
      ],
      "metadata": {
        "id": "0Nt2z8XZ4DSG",
        "colab": {
          "base_uri": "https://localhost:8080/"
        },
        "outputId": "8f6570a2-4c12-4374-e74d-003779801914"
      },
      "execution_count": 32,
      "outputs": [
        {
          "output_type": "stream",
          "name": "stdout",
          "text": [
            "----------------------------\n",
            "LABTEST: Running 5 testcases\n",
            "----------------------------\n",
            "Input: (['glass', 'glass', 'glass', 'cup', 'cup'], {'cup': 2, 'spoon': 2, 'glass': 6, 'fork': 1}, 11). Running... \n",
            "OK.\n",
            "Input: (['spoon', 'spoon', 'fork'], {'fork': 1, 'spoon': 5}, 6). Running... \n",
            "OK.\n",
            "Input: (['fork', 'fork', 'cup', 'fork'], {'fork': 2, 'glass': 6, 'cup': 4}, 12). Running... \n",
            "OK.\n",
            "Input: (['glass', 'cup', 'fork', 'cup', 'cup'], {'cup': 5, 'glass': 3, 'fork': 1}, 9). Running... \n",
            "OK.\n",
            "Input: (['spoon', 'spoon', 'spoon', 'glass'], {'fork': 1, 'glass': 1, 'bowl': 6, 'spoon': 2}, 10). Running... \n",
            "OK.\n",
            "----------------------------\n",
            "5 testcases PASSED\n",
            "----------------------------\n"
          ]
        }
      ]
    },
    {
      "cell_type": "markdown",
      "metadata": {
        "id": "LZ1mMO8jxD7W"
      },
      "source": [
        "Let's try computing the unigram probabilities of a few tokens."
      ]
    },
    {
      "cell_type": "code",
      "metadata": {
        "id": "MoRWLmmCwa4o",
        "colab": {
          "base_uri": "https://localhost:8080/"
        },
        "outputId": "b2e8d478-dca2-4a47-e2dc-44a6a4bb9ef7"
      },
      "source": [
        "for token in ['the','game','defenenstrate']:\n",
        "  print(\"Pr(\",token,\"):\", unigram_token_prob(token, posts_unigram_counts, posts_unigram_N))"
      ],
      "execution_count": 33,
      "outputs": [
        {
          "output_type": "stream",
          "name": "stdout",
          "text": [
            "Pr( the ): 0.0327195557151002\n",
            "Pr( game ): 0.0038114745444179318\n",
            "Pr( defenenstrate ): 0.0\n"
          ]
        }
      ]
    },
    {
      "cell_type": "markdown",
      "metadata": {
        "id": "PM6aSVrnzCOX"
      },
      "source": [
        "The probabilities should be about 3% for 'the', 0.4% for 'game' and 0 for 'defenestrate'.\n",
        "\n",
        "Now, try computing the probability of a sequence of tokens.  "
      ]
    },
    {
      "cell_type": "code",
      "metadata": {
        "id": "bHIVlXHrxb9y",
        "colab": {
          "base_uri": "https://localhost:8080/"
        },
        "outputId": "ff408088-e14d-42ea-cfee-5278b9143a56"
      },
      "source": [
        "probability = unigram_sequence_prob([\"the\", \"end\", \"of\", \"the\", \"world\", \"as\", \"we\", \"know\", \"it\"], posts_unigram_counts, posts_unigram_N)\n",
        "print('{:.40f}'.format(probability))"
      ],
      "execution_count": 34,
      "outputs": [
        {
          "output_type": "stream",
          "name": "stdout",
          "text": [
            "0.0000000000000000000010693914958728715991\n"
          ]
        }
      ]
    },
    {
      "cell_type": "markdown",
      "metadata": {
        "id": "uFnlo0cSzsLP"
      },
      "source": [
        "This is already a very small number and most of the values in these sequence are large by typical probability values. This is the reason that we usually do the probability computation in log space in practice to avoid problems of underflow."
      ]
    },
    {
      "cell_type": "markdown",
      "metadata": {
        "id": "5igWwh7t5uLx"
      },
      "source": [
        "## Application: Spelling correction\n",
        "\n",
        "We can use this simple language model to build a spelling corrector.\n",
        "\n",
        "This builds on ideas of a [spelling corrector from code by Peter Norvig](http://norvig.com/spell-correct.html), a director of research at Google."
      ]
    },
    {
      "cell_type": "markdown",
      "source": [
        "### The objective\n",
        "\n",
        "For a given misspelled token, we want to find candidate tokens that it could be assuming that the real token is only a few edits away. With those candidate tokens, we will then calculate the most likely with our language model.\n"
      ],
      "metadata": {
        "id": "U20bFiEg5JxX"
      }
    },
    {
      "cell_type": "markdown",
      "source": [
        "### Edit distance\n",
        "\n",
        "\n",
        "What do we mean by edits? Perhaps, we transposed two letters, accidentally added a letter, or deleted a letter, etc.\n",
        "\n",
        "We need a function that can generate a list of tokens that are a single edit away. For example 'go' is one edit away from 'lo'.\n",
        "\n",
        "Here is the `generate_edits1` function."
      ],
      "metadata": {
        "id": "QT49Ugk45zE5"
      }
    },
    {
      "cell_type": "code",
      "source": [
        "def generate_edits1(token):\n",
        "  \"All edits that are one edit away from `token`.\"\n",
        "  letters    = 'abcdefghijklmnopqrstuvwxyz'\n",
        "  splits     = [(token[:i], token[i:])  for i in range(len(token) + 1)]\n",
        "  deletes    = [L + R[1:]               for L, R in splits if R]\n",
        "  transposes = [L + R[1] + R[0] + R[2:] for L, R in splits if len(R)>1]\n",
        "  replaces   = [L + c + R[1:]           for L, R in splits if R for c in letters]\n",
        "  inserts    = [L + c + R               for L, R in splits for c in letters]\n",
        "  return set(deletes + transposes + replaces + inserts)\n",
        "\n",
        "print(generate_edits1('irn'))"
      ],
      "metadata": {
        "id": "5VNdTveBY8Bn",
        "colab": {
          "base_uri": "https://localhost:8080/"
        },
        "outputId": "3196a29e-34cb-4974-ead6-016062647682"
      },
      "execution_count": 35,
      "outputs": [
        {
          "output_type": "stream",
          "name": "stdout",
          "text": [
            "{'iwn', 'eirn', 'icrn', 'arn', 'itn', 'irn', 'in', 'irvn', 'ibn', 'irnm', 'trn', 'lrn', 'brn', 'ihn', 'irsn', 'irna', 'iin', 'wirn', 'ird', 'irne', 'ian', 'irl', 'xirn', 'ikrn', 'irnz', 'irq', 'irk', 'irc', 'ivn', 'irnq', 'rin', 'inrn', 'izn', 'irln', 'irnv', 'irnx', 'grn', 'iran', 'irnj', 'iern', 'iren', 'irkn', 'isn', 'iyrn', 'irr', 'ircn', 'ivrn', 'inn', 'irs', 'mirn', 'iqrn', 'srn', 'irx', 'firn', 'krn', 'rn', 'birn', 'irmn', 'lirn', 'pirn', 'irgn', 'icn', 'cirn', 'irwn', 'irm', 'orn', 'irni', 'iwrn', 'hirn', 'igrn', 'iyn', 'iorn', 'iqn', 'irp', 'irt', 'ira', 'iri', 'ion', 'irf', 'rrn', 'wrn', 'irqn', 'irnh', 'idn', 'ijrn', 'frn', 'prn', 'virn', 'iprn', 'irz', 'irhn', 'irnu', 'ikn', 'zirn', 'iro', 'iry', 'irpn', 'yirn', 'ipn', 'irnn', 'irno', 'irnc', 'urn', 'jrn', 'irun', 'airn', 'irny', 'iun', 'iryn', 'sirn', 'ixrn', 'imn', 'ir', 'irng', 'uirn', 'yrn', 'ibrn', 'zrn', 'ien', 'irin', 'drn', 'inr', 'iirn', 'qirn', 'iru', 'rirn', 'oirn', 'itrn', 'tirn', 'irnb', 'vrn', 'irj', 'ifrn', 'irfn', 'isrn', 'irnd', 'irdn', 'xrn', 'mrn', 'irv', 'irnt', 'irg', 'idrn', 'ilrn', 'kirn', 'iln', 'iarn', 'irw', 'irzn', 'qrn', 'ixn', 'jirn', 'irnf', 'ihrn', 'ern', 'dirn', 'irns', 'hrn', 'irxn', 'izrn', 'irnr', 'irnp', 'iurn', 'irjn', 'irnl', 'irnw', 'ifn', 'nrn', 'ijn', 'iron', 'irb', 'irtn', 'irrn', 'irnk', 'crn', 'ire', 'ign', 'nirn', 'irh', 'imrn', 'irbn', 'girn'}\n"
          ]
        }
      ]
    },
    {
      "cell_type": "markdown",
      "source": [
        "And we may want to get tokens that are two edits away."
      ],
      "metadata": {
        "id": "ldsGqStOMMdr"
      }
    },
    {
      "cell_type": "code",
      "source": [
        "def generate_edits2(token):\n",
        "  \"All edits that are two edits away from `token`.\"\n",
        "  return set(e2 for e1 in generate_edits1(token) for e2 in generate_edits1(e1))\n",
        "\n",
        "print(generate_edits2('irn'))"
      ],
      "metadata": {
        "id": "bJylYYJoZI1v",
        "colab": {
          "base_uri": "https://localhost:8080/"
        },
        "outputId": "78129c7d-e08a-4da3-a921-19c3e60a6390"
      },
      "execution_count": 36,
      "outputs": [
        {
          "output_type": "stream",
          "name": "stdout",
          "text": [
            "{'nirnk', 'iuxn', 'rk', 'lrni', 'kxirn', 'ivc', 'hirwn', 'irn', 'icrz', 'irqna', 'icrnr', 'ibgrn', 'iwnn', 'lrr', 'irgln', 'irwnr', 'qrg', 'ornw', 'itrp', 'hrnu', 'xry', 'uwirn', 'prnf', 'niri', 'ixrvn', 'iemrn', 'zirv', 'isun', 'izrnu', 'mrsn', 'irbnf', 'ianm', 'ierhn', 'eiwrn', 'lien', 'ixrl', 'jirmn', 'urgn', 'imnt', 'gsn', 'ibrhn', 'zrns', 'ive', 'grnd', 'hirnj', 'itlrn', 'ihrf', 'birm', 'irkf', 'qran', 'ifp', 'irnfg', 'uirk', 'idrcn', 'prdn', 'ixron', 'igns', 'ieny', 'irha', 'irnbg', 'eion', 'iknm', 'prjn', 'idna', 'inrln', 'pirny', 'iurj', 'urrn', 'irkw', 'yifn', 'iynd', 'xidn', 'ilrc', 'jrwn', 'ijnt', 'qzn', 'itrt', 'irenk', 'irlnx', 'drnt', 'pird', 'iyrn', 'lirns', 'cir', 'wen', 'xirk', 'itry', 'irnqg', 'slrn', 'aixrn', 'iurnp', 'ibni', 'ijj', 'irjr', 'irynu', 'iqrnr', 'xfn', 'mirnh', 'ibx', 'iruw', 'mvirn', 'crs', 'brln', 'mrni', 'ibrqn', 'vrnh', 'irhg', 'virnq', 'ieg', 'ij', 'crvn', 'irynx', 'rsrn', 'sihn', 'iwbn', 'biern', 'nfirn', 'iuqrn', 'toirn', 'nrnj', 'hqrn', 'ivrc', 'itan', 'irmnm', 'iark', 'firnx', 'ijrnh', 'inbn', 'miin', 'irndi', 'itrjn', 'uin', 'icxn', 'ircnx', 'iernt', 'iwrnu', 'izcrn', 'drnv', 'ixz', 'irbnw', 'sirnb', 'jrhn', 'cxrn', 'ibrjn', 'skrn', 'iojrn', 'irmrn', 'liyn', 'uien', 'fihn', 'idrzn', 'qrnc', 'irzl', 'jirc', 'mirny', 'zrfn', 'cdn', 'uirtn', 'irvhn', 'drne', 'itrcn', 'krbn', 'iyrtn', 'iwu', 'iirw', 'irgsn', 'iurjn', 'jiren', 'iori', 'ipnm', 'vjirn', 'qkirn', 'nrrn', 'arg', 'idrg', 'bivrn', 'pxrn', 'iiirn', 'adirn', 'iarq', 'nrna', 'qircn', 'irhi', 'jrcn', 'kzrn', 'irnut', 'lzirn', 'nry', 'irndr', 'ixv', 'iras', 'irql', 'iyrno', 'iirwn', 'hirin', 'iorpn', 'arcn', 'ichn', 'iylrn', 'yirnk', 'isqn', 'iorzn', 'kbn', 'rjin', 'irnkd', 'ifnn', 'innm', 'izrnz', 'ixon', 'jiqn', 'psirn', 'ekn', 'drirn', 'exrn', 'ihrd', 'ikrnf', 'ixru', 'irgpn', 'iryng', 'ernh', 'uivrn', 'irpna', 'drq', 'ijrkn', 'irnuw', 'irjnq', 'gnrn', 'iearn', 'vrnp', 'idny', 'iovn', 'xiri', 'ivj', 'rran', 'dizn', 'zrsn', 'iyrln', 'vsirn', 'ierkn', 'iirx', 'ziirn', 'irhx', 'igx', 'iunw', 'iny', 'icrwn', 'uiqn', 'jijrn', 'rinu', 'pqrn', 'pqn', 'irbe', 'siron', 'zifrn', 'ikrp', 'ibnc', 'iprhn', 'uifn', 'girnh', 'hprn', 'irkgn', 'icrnq', 'ican', 'kicrn', 'ihcn', 'ivxn', 'iim', 'irxnx', 'iqern', 'ivz', 'irnnh', 'hrbn', 'ipg', 'crg', 'ivrh', 'idrna', 'zfn', 'oira', 'irwkn', 'xrnn', 'qiru', 'irwq', 'inor', 'ihrne', 'uqn', 'irqjn', 'cirhn', 'qbirn', 'irdnx', 'intn', 'cirnh', 'iare', 'ibvrn', 'irhe', 'irnnw', 'iraw', 'isrfn', 'kin', 'irsnz', 'jrh', 'iernq', 'iea', 'irnxr', 'itb', 'iorng', 'zirjn', 'iporn', 'xfirn', 'izprn', 'irnlg', 'ibq', 'irknw', 'isu', 'eiryn', 'ioirn', 'ireg', 'eijn', 'ijnm', 'wicn', 'prnu', 'rig', 'irycn', 'lirg', 'zirm', 'frnd', 'dln', 'brbn', 'mrw', 'srnw', 'illn', 'mrnd', 'hirs', 'wrqn', 'iiurn', 'irrun', 'rgirn', 'rtin', 'uipn', 'ibnu', 'tirkn', 'jrjn', 'hirv', 'iidrn', 'qirjn', 'qmrn', 'grj', 'tixrn', 'cuirn', 'avirn', 'igran', 'zirpn', 'iernz', 'tirk', 'iirnf', 'wrnh', 'brpn', 'kcirn', 'oqn', 'igren', 'irunr', 'iupn', 'rins', 'irqnt', 'ijni', 'bre', 'tvirn', 'iwdrn', 'qire', 'idnv', 'arnd', 'frw', 'irxnw', 'ierno', 'izs', 'irszn', 'ibs', 'ixrln', 'fgn', 'irntd', 'nirnm', 'isrk', 'iornl', 'birun', 'qrw', 'iwkrn', 'irnvw', 'imn', 'inrx', 'isnn', 'arnm', 'irnil', 'qan', 'ief', 'axrn', 'irknh', 'oirg', 'rrirn', 'nrnx', 'irbg', 'iznx', 'ifdn', 'irgqn', 'zdirn', 'wire', 'kvrn', 'irjxn', 'irpnr', 'vrn', 'rrnz', 'bsrn', 'imbrn', 'irnna', 'ikrun', 'pirt', 'idpn', 'ihd', 'drt', 'ikyrn', 'tiln', 'ernn', 'iszrn', 'qirqn', 'urnk', 'myirn', 'irdp', 'ijrfn', 'iarnf', 'nrnd', 'ipnf', 'igpn', 'lren', 'ifhn', 'qion', 'ierl', 'iqln', 'irnrt', 'iinrn', 'kdrn', 'nirnt', 'tivrn', 'isrxn', 'iyrb', 'irnen', 'iprgn', 'irang', 'xhn', 'ice', 'xrpn', 'firin', 'isnj', 'ihrhn', 'wirnt', 'ionh', 'iknf', 'iyqrn', 'piorn', 'irpxn', 'jgn', 'girj', 'tikn', 'inzr', 'ijrnd', 'irdv', 'ifu', 'zibn', 'irenz', 'duirn', 'iwfn', 'viqn', 'yvirn', 'irnuv', 'icna', 'hbn', 'ermn', 'oirnw', 'irsni', 'zrnz', 'irrxn', 'izkrn', 'qrny', 'oirnc', 'yrk', 'ibrnr', 'nrne', 'irbcn', 'vry', 'ifrnm', 'iban', 'fxrn', 'zigrn', 'qirvn', 'don', 'cinrn', 'mirns', 'ignu', 'irbnx', 'zgrn', 'sin', 'irain', 'irngd', 'giwrn', 'irjk', 'inzn', 'iynq', 'imrnq', 'xizrn', 'nirnb', 'jra', 'irnxn', 'dirz', 'iufrn', 'irhnz', 'ninr', 'hiren', 'ijrzn', 'infn', 'vrne', 'ihrz', 'ujrn', 'ornx', 'iinf', 'grb', 'izrnd', 'isrm', 'irtx', 'iynf', 'icgrn', 'kirfn', 'irnsj', 'kirnp', 'drnw', 'oirhn', 'iih', 'vran', 'irps', 'iub', 'kirhn', 'urin', 'oilrn', 'eirno', 'jirp', 'irnyy', 'irhh', 'asn', 'irnte', 'rie', 'injrn', 'orwn', 'ilq', 'qrnj', 'vn', 'ija', 'wjn', 'xigrn', 'uzirn', 'nirun', 'ivzn', 'frnm', 'irqnj', 'yirns', 'icnr', 'ilny', 'fn', 'drnx', 'iprnj', 'wirsn', 'drs', 'irqo', 'iurrn', 'icorn', 'zirtn', 'icng', 'ixtn', 'er', 'isdrn', 'iqqrn', 'nirnx', 'iczn', 'icrln', 'arnl', 'pzn', 'kirp', 'frnt', 'irje', 'itkrn', 'imcrn', 'izh', 'iryvn', 'iven', 'irnxs', 'ivt', 'firpn', 'nrq', 'bidrn', 'ixa', 'srrn', 'yirnn', 'trnm', 'finr', 'ilbn', 'pkrn', 'irdnd', 'eirnl', 'iavrn', 'iqrqn', 'irdny', 'wiqrn', 'idx', 'qcirn', 'igrnk', 'itrnw', 'yeirn', 'viorn', 'irpen', 'xire', 'yrrn', 'ikrt', 'uijn', 'arin', 'zxrn', 'xqrn', 'mirwn', 'ilrx', 'bzirn', 'tjn', 'qitn', 'irgny', 'irfns', 'hirxn', 'ieh', 'ignw', 'iryxn', 'prnx', 'iiy', 'grd', 'ikrnn', 'irwns', 'ifrb', 'frnf', 'rnin', 'wirnf', 'irrp', 'kirqn', 'iroh', 'biun', 'wira', 'crc', 'iracn', 'wnr', 'yprn', 'irnbo', 'ielrn', 'npn', 'irnws', 'irnpm', 'qrno', 'irnmu', 'ibg', 'imcn', 'irnag', 'girq', 'isrp', 'yrnk', 'ithn', 'isa', 'ihv', 'ixwn', 'tirnd', 'irnr', 'irsp', 'ypn', 'pirh', 'irii', 'aran', 'igyn', 'irwa', 'eirfn', 'dgirn', 'ignk', 'irdtn', 'ipern', 'ivny', 'wirnx', 'lprn', 'iaren', 'rgin', 'irwnf', 'itzn', 'ipi', 'ijirn', 'iwrgn', 'pirnr', 'irqny', 'iarh', 'tirtn', 'knn', 'tirzn', 'iklrn', 'iwn', 'irnaq', 'irpun', 'ierd', 'yivrn', 'clrn', 'qrwn', 'jirnu', 'isrnt', 'irntl', 'ijqn', 'iunt', 'rirpn', 'ierln', 'impn', 'ihnh', 'efrn', 'rs', 'birns', 'lrxn', 'ishn', 'aisrn', 'qir', 'irinm', 'curn', 'ibnk', 'ignj', 'vrin', 'dsn', 'iirnu', 'ivjrn', 'icln', 'aoirn', 'tisrn', 'azirn', 'ircnr', 'ifprn', 'ivzrn', 'iqrl', 'mrnh', 'pirbn', 'kgrn', 'idb', 'irtmn', 'iuron', 'itns', 'issn', 'rh', 'xkirn', 'firun', 'ibrnm', 'irntt', 'irwnp', 'wr', 'irnop', 'iorz', 'irnuu', 'erns', 'cmrn', 'wgn', 'iqan', 'ikrtn', 'drfn', 'iyry', 'irst', 'wrnb', 'irynd', 'ykn', 'lrgn', 'vrnj', 'hrnq', 'brnp', 'ircqn', 'izxn', 'iwtn', 'ikrfn', 'iwh', 'iurnh', 'isw', 'irkan', 'airnl', 'ihnp', 'xtn', 'nrzn', 'irrz', 'xlirn', 'mirna', 'uvirn', 'inrny', 'owirn', 'sirl', 'mjirn', 'wrm', 'prqn', 'itrkn', 'ygrn', 'irnwk', 'brno', 'itnw', 'iqwrn', 'drhn', 'zibrn', 'biqn', 'arx', 'vzrn', 'irjqn', 'irnnj', 'irnbs', 'wrl', 'ibxrn', 'iury', 'irsg', 'irbxn', 'xisrn', 'ironw', 'usrn', 'ifhrn', 'ipn', 'irwan', 'pirfn', 'iul', 'nrnq', 'irnln', 'int', 'ivro', 'vrf', 'xvirn', 'icnk', 'drvn', 'rron', 'likn', 'iroq', 'ivrvn', 'ibarn', 'uirt', 'arqn', 'izln', 'oirj', 'irmq', 'mcrn', 'iurun', 'nixrn', 'nmirn', 'iwrnl', 'irfnr', 'ickn', 'iamn', 'hiwrn', 'zirp', 'irajn', 'irvns', 'eirm', 'frmn', 'widn', 'qprn', 'hzn', 'dlirn', 'tipn', 'ivjn', 'sri', 'diprn', 'hkirn', 'imern', 'ilrd', 'bern', 'tirnx', 'irtrn', 'ippn', 'iud', 'ivrhn', 'ifz', 'ikqn', 'inrng', 'irnav', 'ihhn', 'iprdn', 'irnlz', 'ihnu', 'iruwn', 'cirne', 'qirnh', 'iruny', 'yizn', 'rvn', 'hiron', 'ornh', 'irnrm', 'idcrn', 'qrjn', 'sidn', 'smrn', 'ymn', 'pirkn', 'aizrn', 'nhn', 'ircj', 'dign', 'krm', 'vrni', 'dirwn', 'qgrn', 'xirns', 'frnc', 'irty', 'vrjn', 'rirnh', 'xiwrn', 'qrk', 'nbn', 'irpr', 'lyirn', 'ridrn', 'nru', 'idt', 'ikrnh', 'imarn', 'iyrf', 'imng', 'iqirn', 'eilrn', 'itrna', 'rmn', 'rinrn', 'izrz', 'hirnv', 'iryhn', 'qinrn', 'iarjn', 'lirt', 'wcirn', 'uirrn', 'ihn', 'gixn', 'hirq', 'innp', 'krnw', 'nigrn', 'qrnr', 'chn', 'riyn', 'iab', 'qirc', 'iqkn', 'gvn', 'iory', 'iroy', 'sjirn', 'irpl', 'igrnr', 'irsq', 'zhn', 'diwn', 'oiyrn', 'zirng', 'rird', 'irsnp', 'iuno', 'irnaj', 'imnf', 'inrna', 'itrdn', 'vtn', 'irzne', 'girns', 'ixrnb', 'sisn', 'irznt', 'irdnw', 'irent', 'irhdn', 'iorsn', 'eern', 'hrrn', 'hion', 'ainr', 'mtirn', 'ibf', 'iqrni', 'rrz', 'iarne', 'ejirn', 'qpn', 'prni', 'hirnl', 'irscn', 'frt', 'kirpn', 'iob', 'irru', 'irdy', 'iarkn', 'irwrn', 'ivm', 'mrnm', 'irnov', 'ornl', 'cirn', 'ijqrn', 'zinr', 'izrne', 'zern', 'uirxn', 'ironc', 'idnk', 'irzf', 'kln', 'rrnn', 'irwr', 'xirln', 'irwp', 'mrk', 'irlnt', 'xrnr', 'irfnd', 'qkrn', 'jrj', 'igw', 'bmirn', 'ircny', 'irnzq', 'jirdn', 'irz', 'agn', 'irnfr', 'ibsn', 'irnii', 'cqirn', 'ilrnx', 'kirnf', 'rrcn', 'iryj', 'irnac', 'san', 'oiun', 'irnzx', 'wirns', 'airk', 'urn', 'nirns', 'prrn', 'cirvn', 'ivcn', 'inlr', 'irnkm', 'ikrw', 'irvni', 'mirz', 'qun', 'wrnu', 'iymn', 'ernv', 'irkc', 'rkirn', 'irljn', 'irrnw', 'virr', 'icrkn', 'piryn', 'irnfu', 'irndl', 'nirjn', 'ikrnv', 'din', 'irnbm', 'rirkn', 'irndy', 'iart', 'rnv', 'iwrrn', 'cien', 'irnqx', 'yicrn', 'ckirn', 'hirns', 'ykirn', 'irynr', 'rik', 'grbn', 'iagn', 'nzirn', 'url', 'tn', 'nirkn', 'isnh', 'eirln', 'firen', 'iwq', 'iykn', 'frbn', 'irri', 'ivrs', 'irnzg', 'ixrdn', 'nirnl', 'cirnv', 'oibn', 'rijn', 'can', 'jrmn', 'girnt', 'mfn', 'ireen', 'ihern', 'qirgn', 'gkirn', 'isc', 'liin', 'lri', 'srbn', 'ilrnn', 'iriin', 'brrn', 'rirnm', 'lkrn', 'siern', 'inan', 'prmn', 'igrxn', 'eyn', 'imrin', 'ijrgn', 'iurnm', 'iorr', 'tirne', 'isrnj', 'njn', 'irwnj', 'amn', 'firni', 'isfn', 'cinn', 'igprn', 'iuvn', 'iycn', 'dirm', 'oiren', 'yrj', 'irya', 'iqrc', 'lirdn', 'srnr', 'inln', 'lirbn', 'irenu', 'xion', 'arvn', 'izrnm', 'nirnc', 'rib', 'ivnn', 'iszn', 'lrnv', 'iknz', 'hixrn', 'iscn', 'iens', 'rirmn', 'arr', 'irndh', 'qzrn', 'prw', 'irnwv', 'irnfb', 'iruu', 'iqri', 'iol', 'lvirn', 'brm', 'ihkn', 'bizn', 'xrln', 'birr', 'irfu', 'idxrn', 'airnz', 'ijrvn', 'iing', 'ivrq', 'wurn', 'nvrn', 'mzirn', 'irxpn', 'yrnb', 'igwrn', 'firh', 'zrw', 'aern', 'qrpn', 'ihurn', 'irvtn', 'irlna', 'irxi', 'irqk', 'onirn', 'ipnw', 'inpr', 'dyrn', 'qyrn', 'mion', 'igcrn', 'wtn', 'rrnj', 'irxs', 'iredn', 'qirns', 'iva', 'irdkn', 'airmn', 'ywn', 'iwrp', 'rl', 'iryan', 'qra', 'irvin', 'jrln', 'smirn', 'picrn', 'idorn', 'tirxn', 'orqn', 'hairn', 'rnh', 'vwirn', 'gir', 'irfnb', 'iurnq', 'irti', 'ifri', 'iirfn', 'mirjn', 'srns', 'lrc', 'isnz', 'forn', 'imyn', 'ibrdn', 'fnrn', 'sbrn', 'xan', 'cinr', 'ixrfn', 'rbrn', 'ifzn', 'jrf', 'dron', 'eirnj', 'iwrnr', 'irjnc', 'nkrn', 'ierbn', 'irwf', 'imran', 'bcrn', 'tiern', 'idgn', 'iorxn', 'iuorn', 'krpn', 'ijra', 'ikrnw', 'zrni', 'ivhn', 'ircc', 'izdrn', 'ltn', 'dr', 'iine', 'lrun', 'hcirn', 'isrkn', 'iys', 'irbv', 'ifrnu', 'hiurn', 'irnqv', 'ssn', 'iofrn', 'iurnj', 'irivn', 'airin', 'itin', 'ize', 'irntj', 'irfjn', 'ifxrn', 'icrnu', 'brv', 'iurnw', 'ircng', 'ilwn', 'iqns', 'isrx', 'hirj', 'prnj', 'ijzrn', 'iarpn', 'irmcn', 'sijrn', 'ijrin', 'wrnw', 'yoirn', 'iiri', 'icx', 'iyrin', 'irngh', 'dgrn', 'bran', 'hn', 'irjw', 'irvne', 'ginrn', 'iprna', 'iqnrn', 'lrjn', 'irnek', 'adrn', 'lirmn', 'zitrn', 'iurv', 'kizn', 'fvirn', 'ohrn', 'xirmn', 'irpz', 'ynrn', 'aicrn', 'jian', 'irqrn', 'krf', 'lrns', 'ihnr', 'tihrn', 'rsin', 'lrnp', 'kpn', 'ornk', 'lrwn', 'wirrn', 'irnbj', 'icrc', 'pnrn', 'irons', 'irnri', 'ernk', 'erz', 'byn', 'ihl', 'birnp', 'dirni', 'ipra', 'ic', 'ircnq', 'irlnj', 'ijn', 'sern', 'iyrx', 'irunw', 'crbn', 'iik', 'ifrw', 'irnxl', 'ietrn', 'igrnf', 'pihrn', 'ihvrn', 'cri', 'urwn', 'irch', 'qign', 'irsnq', 'yirq', 'ibnt', 'iqrtn', 'iorne', 'ibrkn', 'iprzn', 'ixryn', 'axn', 'irrnd', 'lrpn', 'yirnj', 'irxrn', 'irnpk', 'idrx', 'irjwn', 'irfbn', 'irnbi', 'dmrn', 'nrb', 'pibrn', 'fcrn', 'ioprn', 'iyrw', 'irnmr', 'irpsn', 'mrs', 'iyrnq', 'inz', 'ima', 'sxn', 'irqnb', 'gtn', 'irqin', 'uirnv', 'irod', 'imna', 'ian', 'ijprn', 'idrh', 'oiyn', 'ixm', 'igrnc', 'izxrn', 'ijsn', 'irenv', 'brirn', 'lrh', 'irax', 'itrr', 'irnpg', 'ianu', 'lrdn', 'nirp', 'ige', 'iww', 'zirr', 'wvn', 'pirtn', 'irtpn', 'ijjrn', 'inkr', 'oqirn', 'irxqn', 'irona', 'krnt', 'ila', 'uiwrn', 'ivon', 'qisn', 'jizrn', 'iiwrn', 'inur', 'vrnw', 'firn', 'irono', 'krnk', 'ton', 'irlvn', 'ursn', 'iqrnx', 'airnr', 'iarnh', 'ihvn', 'dgn', 'ibrna', 'jprn', 'irnyn', 'xrnl', 'ibc', 'irli', 'irnkq', 'airw', 'iblrn', 'kirnd', 'gcirn', 'ijf', 'oinr', 'yrnl', 'jirr', 'irpnl', 'jhrn', 'icrnv', 'irtny', 'sikrn', 'inwn', 'riz', 'kdirn', 'ikrq', 'irhny', 'ebrn', 'frwn', 'tircn', 'pairn', 'hisn', 'izrnw', 'igdrn', 'srcn', 'irnnp', 'yyirn', 'iyrqn', 'irnun', 'ihni', 'yrvn', 'iprnf', 'esirn', 'xrbn', 'hlirn', 'viurn', 'irysn', 'irdan', 'irngg', 'iwc', 'iirvn', 'ivng', 'liry', 'grnh', 'jiri', 'utrn', 'girnb', 'iaa', 'ihrg', 'zrj', 'wirnw', 'iprc', 'vrun', 'irofn', 'firgn', 'girl', 'qri', 'tyrn', 'inarn', 'fcirn', 'juirn', 'iend', 'oihn', 'irpcn', 'ignt', 'nifn', 'nvn', 'irlr', 'nn', 'sirnl', 'inq', 'irzq', 'tpirn', 'zirk', 'rrpn', 'bircn', 'itnrn', 'imrna', 'irnig', 'rnd', 'cirnm', 'rrny', 'yrq', 'eirna', 'ibbn', 'ibprn', 'urny', 'irenh', 'jirj', 'irjnf', 'cidrn', 'kfn', 'inrno', 'xron', 'ihdrn', 'irini', 'are', 'idjrn', 'ciln', 'xrn', 'birnw', 'iomrn', 'inar', 'izrnt', 'dxn', 'qirnx', 'eran', 'piro', 'ianr', 'irpnv', 'ikorn', 'ifrnj', 'auirn', 'virwn', 'bixrn', 'vrmn', 'igna', 'irnzj', 'beirn', 'rorn', 'qwrn', 'hxrn', 'iryyn', 'nkirn', 'urkn', 'ixrnw', 'nizrn', 'trnu', 'rqn', 'irank', 'imnb', 'irdxn', 'eird', 'izrna', 'ijrnv', 'lirgn', 'ierns', 'gircn', 'ipb', 'iqren', 'krdn', 'gsirn', 'uirdn', 'irnzr', 'yrzn', 'xrwn', 'iyrnw', 'aiprn', 'pirnf', 'iaryn', 'qifrn', 'kihrn', 'iebn', 'irinb', 'nircn', 'idun', 'irnoo', 'yirpn', 'irjdn', 'difn', 'ihmn', 'idni', 'iruyn', 'hru', 'fairn', 'ifrq', 'iina', 'ieyrn', 'prj', 'oirgn', 'ikbn', 'irinc', 'isrvn', 'rifrn', 'ifrr', 'iqrbn', 'girwn', 'hrhn', 'uiun', 'rinp', 'jnn', 'xrw', 'hirna', 'irhc', 'igmn', 'iarnc', 'iergn', 'hdn', 'fwn', 'iorf', 'rpirn', 'iydrn', 'hizrn', 'ihf', 'wirbn', 'irnx', 'mifn', 'irnkr', 'qizrn', 'iunu', 'qvn', 'srny', 'iurvn', 'fisn', 'ihg', 'itq', 'ignp', 'hwn', 'dijrn', 'ixns', 'irxnt', 'ivrm', 'iwrun', 'orzn', 'itra', 'avrn', 'wiern', 'liqn', 'oiwn', 'iruon', 'irnhq', 'ibmrn', 'iwurn', 'irnwp', 'ivmrn', 'licrn', 'irxvn', 'grv', 'gdn', 'ilrs', 'irntk', 'iruk', 'irina', 'iinw', 'irnjp', 'icrf', 'mun', 'iwrs', 'bisrn', 'qipn', 'ivan', 'iwprn', 'iyjrn', 'iqrzn', 'mrnc', 'idrtn', 'iurnv', 'jirq', 'dirvn', 'dwn', 'livrn', 'irtbn', 'lkirn', 'nibn', 'imnr', 'irsnx', 'przn', 'iwpn', 'giry', 'brnb', 'srnt', 'irhyn', 'tlirn', 'jvrn', 'ikng', 'iqnb', 'xrsn', 'upn', 'wra', 'iccrn', 'irodn', 'uirun', 'risrn', 'xian', 'urnt', 'rirna', 'qirt', 'rren', 'iernc', 'iirh', 'brp', 'jpirn', 'irxnb', 'iclrn', 'ziyn', 'irzjn', 'nan', 'rirnl', 'icrp', 'irnmo', 'iryun', 'ireon', 'aitrn', 'irmbn', 'isrs', 'birnd', 'ikrnt', 'irntc', 'ibjrn', 'iiru', 'ntrn', 'rrq', 'ixfn', 'idq', 'iqxn', 'ilf', 'imin', 'ehn', 'qirn', 'hrh', 'bxirn', 'irjv', 'ioqn', 'izrnl', 'irnzh', 'irnoc', 'irtb', 'iire', 'irnqs', 'ircq', 'iorx', 'uinr', 'imrnt', 'crb', 'irxns', 'pirwn', 'mbirn', 'xjrn', 'ugirn', 'ilrni', 'irnzf', 'iyrrn', 'ipru', 'dvirn', 'iln', 'hicrn', 'ernl', 'nirj', 'iiwn', 'imnrn', 'yxrn', 'jirun', 'dipn', 'rimrn', 'irbh', 'rrnp', 'iworn', 'rbin', 'qnrn', 'lirq', 'lire', 'urpn', 'sirvn', 'usn', 'rf', 'krnz', 'inurn', 'iibn', 'airwn', 'imrun', 'irnny', 'cirun', 'izrm', 'yro', 'lnirn', 'iq', 'ihjn', 'ivrnz', 'irndj', 'ixen', 'iqru', 'iurd', 'iaron', 'iirs', 'piry', 'hirnf', 'irsk', 'irse', 'vrd', 'fvn', 'dirhn', 'nbrn', 'yzrn', 'eirdn', 'iycrn', 'igkn', 'igrnt', 'eir', 'iljn', 'jixn', 'mirnb', 'uirzn', 'iirjn', 'eirz', 'nrdn', 'oirno', 'ircxn', 'sirne', 'irnhw', 'irsna', 'giro', 'imon', 'iyrnf', 'ritrn', 'indrn', 'snr', 'prl', 'iwrq', 'rzirn', 'isny', 'ijrnx', 'irpmn', 'ieren', 'lifn', 'ivrnl', 'girhn', 'iunj', 'sirnr', 'irnaa', 'wivn', 'jmirn', 'pgn', 'gijn', 'kifrn', 'ezirn', 'ifyrn', 'airjn', 'iyrns', 'irmnu', 'irnaw', 'itnx', 'iic', 'irsin', 'irpnx', 'ircnj', 'iorp', 'jrqn', 'girni', 'crm', 'iznw', 'airx', 'aihrn', 'girm', 'ibrrn', 'tirnm', 'irpzn', 'iprsn', 'ixrnt', 'yron', 'wyrn', 'bin', 'oirw', 'bro', 'avn', 'riarn', 'idrnb', 'wirm', 'urfn', 'irca', 'bra', 'inrnb', 'jiln', 'bbn', 'wlirn', 'tirnz', 'ibrsn', 'qirnj', 'vilrn', 'ixrhn', 'prg', 'ijdrn', 'iuz', 'xtrn', 'iyh', 'viro', 'ilmn', 'fimrn', 'ishrn', 'idu', 'meirn', 'ixjrn', 'uign', 'iarzn', 'nihn', 'irndf', 'iyren', 'mprn', 'acrn', 'iprkn', 'udrn', 'irip', 'uir', 'ivyn', 'dirno', 'innj', 'ianv', 'vrnm', 'irnpa', 'biprn', 'uirz', 'irlqn', 'irynf', 'pirnm', 'iirnm', 'irve', 'lwn', 'ibgn', 'irnhu', 'irdnp', 'ilrnj', 'igr', 'aprn', 'xirt', 'hrirn', 'irnbb', 'inry', 'xkn', 'iuirn', 'iprnm', 'krun', 'ihran', 'irvdn', 'mirf', 'iernd', 'brq', 'urnm', 'inrdn', 'xidrn', 'jun', 'gin', 'hirvn', 'wxrn', 'birf', 'mrc', 'vkrn', 'iini', 'kvn', 'oidn', 'ihr', 'hirnq', 'fsn', 'pirw', 'xrjn', 'qivrn', 'iahrn', 'qrns', 'mirln', 'iryen', 'irngs', 'zirno', 'irdw', 'izrgn', 'ikrb', 'ixdrn', 'cirnk', 'irrnp', 'fkrn', 'igirn', 'irphn', 'irenn', 'arnr', 'srnd', 'iwcn', 'mry', 'ijnx', 'irmon', 'drjn', 'irdon', 'pwn', 'xixn', 'srx', 'ilz', 'ifrne', 'icirn', 'crno', 'ziarn', 'irntz', 'qikrn', 'irmnf', 'imlrn', 'imwn', 'cigrn', 'oirq', 'itern', 'itrx', 'irnff', 'nirsn', 'lirx', 'xicn', 'rryn', 'tizrn', 'zcrn', 'qry', 'brun', 'ryirn', 'zirnx', 'inrnq', 'lrne', 'yire', 'prne', 'ijfn', 'ibrln', 'firkn', 'ilarn', 'uiqrn', 'idtrn', 'irdzn', 'wibn', 'irnbh', 'idyn', 'pirnv', 'vrkn', 'irnbk', 'lirxn', 'tirno', 'oifn', 'ifmn', 'higrn', 'irnar', 'irhv', 'irnkz', 'irfne', 'irku', 'ihm', 'ironx', 'grnw', 'idrq', 'irrnv', 'firhn', 'srkn', 'ornc', 'isrz', 'ilrzn', 'arw', 'ist', 'srni', 'zsirn', 'gran', 'irnmw', 'lrl', 'ilrnk', 'iqnp', 'jkirn', 'frnb', 'niren', 'mira', 'drp', 'tirg', 'irfsn', 'pifn', 'isorn', 'mijn', 'ernr', 'idrni', 'irnir', 'drnh', 'vrm', 'irnv', 'irnjz', 'nicn', 'xzrn', 'iqrny', 'ibrnz', 'ilrm', 'hibrn', 'udirn', 'ixro', 'irsy', 'fern', 'mirsn', 'ijrnc', 'ijrz', 'vuirn', 'irfyn', 'iac', 'ihyn', 'xrxn', 'inrg', 'srhn', 'ikwn', 'ihin', 'ixtrn', 'iwp', 'iapn', 'fwirn', 'yqrn', 'mirnk', 'itnq', 'irsz', 'irvmn', 'eivn', 'wren', 'oirqn', 'ixu', 'irlon', 'izrnv', 'ikrnk', 'iryno', 'iv', 'ixrne', 'iyp', 'arpn', 'itj', 'wrw', 'iicn', 'itrrn', 'irrt', 'srnl', 'mibrn', 'ihlrn', 'kibn', 'airt', 'mirv', 'ihln', 'oan', 'irrk', 'iqrjn', 'irjhn', 'sirw', 'iner', 'ialn', 'mrns', 'ihfrn', 'irndx', 'ibln', 'wirnz', 'ggrn', 'irlnc', 'grirn', 'wrni', 'yrng', 'icnq', 'mirfn', 'ipq', 'ieun', 'iwrnx', 'rihrn', 'irlnw', 'icrpn', 'igv', 'irhpn', 'yiqrn', 'iro', 'crz', 'iyy', 'ixrnh', 'pirng', 'disrn', 'irgy', 'edrn', 'irenr', 'irzmn', 'isp', 'ironv', 'irag', 'hrpn', 'ianj', 'imnx', 'uirnt', 'iwgrn', 'lirhn', 'nrqn', 'ixrnd', 'ilron', 'ictn', 'idi', 'iroqn', 'ttrn', 'irnml', 'ebn', 'wjirn', 'iarr', 'litrn', 'jirqn', 'irnlh', 'sird', 'qirw', 'irly', 'ijrnj', 'wrpn', 'nijrn', 'irnbu', 'irdu', 'tivn', 'irnxb', 'pien', 'einrn', 'ihe', 'ipran', 'irgk', 'lizn', 'brnq', 'ixrqn', 'iyrnl', 'nxrn', 'hirno', 'imnk', 'irnbf', 'erd', 'ixnz', 'irtc', 'ivrt', 'wirln', 'orirn', 'izu', 'tro', 'ozrn', 'izrkn', 'irans', 'ukirn', 'eron', 'iya', 'irzwn', 'imdn', 'ifqrn', 'irfkn', 'cairn', 'oirp', 'itrnt', 'hhn', 'ihrnk', 'nijn', 'igrrn', 'rcin', 'oijn', 'xgn', 'irce', 'irunm', 'ihrni', 'wixn', 'jiyn', 'yorn', 'tinr', 'risn', 'icrn', 'irnfa', 'igrun', 'elirn', 'irnah', 'ijin', 'rrsn', 'qro', 'iofn', 'hri', 'wrp', 'lrn', 'rirc', 'idnrn', 'fimn', 'hipn', 'izrpn', 'irnta', 'igrnl', 'ikri', 'znn', 'ibtn', 'ironm', 'irna', 'ikrna', 'ilnx', 'eicrn', 'irlg', 'iriu', 'ors', 'fisrn', 'sirnj', 'igq', 'ilyn', 'airm', 'deirn', 'idern', 'iyt', 'igb', 'itrne', 'irfj', 'imrx', 'sirx', 'iahn', 'ial', 'irpon', 'itnd', 'wihrn', 'irnfq', 'girnl', 'irnro', 'srp', 'ixnw', 'ivw', 'nrwn', 'iyrne', 'yxirn', 'irvt', 'iqurn', 'brnf', 'rairn', 'nirny', 'ejrn', 'rirnp', 'irhon', 'ibrno', 'iyrnm', 'ihrcn', 'sivn', 'kirnl', 'yirzn', 'firnv', 'aircn', 'psrn', 'imrhn', 'qnr', 'rimn', 'krnc', 'ornq', 'urs', 'oimn', 'hiorn', 'iroan', 'mir', 'irgon', 'irrhn', 'xri', 'lrnc', 'irznv', 'iqg', 'izrsn', 'aibrn', 'eira', 'ixzn', 'dcirn', 'ihren', 'wirt', 'iubrn', 'wirvn', 'hrnn', 'bnn', 'iqfn', 'ijrbn', 'brjn', 'iet', 'jitrn', 'orm', 'vri', 'jrtn', 'icw', 'irnhi', 'irmfn', 'idrne', 'irnqa', 'xrk', 'iirz', 'firg', 'zirq', 'idrbn', 'iros', 'idy', 'qern', 'piren', 'wrny', 'ilru', 'ikpn', 'ihrnm', 'isbn', 'idrqn', 'iorny', 'brd', 'hird', 'tiyrn', 'iryi', 'nprn', 'ireng', 'hro', 'iuzn', 'jirnq', 'uirng', 'irntu', 'tru', 'irnul', 'diron', 'frf', 'xirm', 'ljirn', 'riwn', 'iranh', 'ierny', 'nrny', 'dirnm', 'irtkn', 'iqrne', 'irnab', 'bxn', 'imnp', 'ihgn', 'frnp', 'irfxn', 'iygn', 'lirnk', 'hirdn', 'krny', 'xdrn', 'jhn', 'izrr', 'irnwm', 'ikrnz', 'shrn', 'ixs', 'irnio', 'lrnr', 'irian', 'ikkrn', 'iriun', 'vrp', 'irfln', 'uirx', 'xrnw', 'biru', 'yirng', 'irrtn', 'idnf', 'mran', 'xiry', 'igarn', 'krrn', 'isd', 'mrbn', 'nirl', 'lijrn', 'mrzn', 'giprn', 'nirhn', 'incrn', 'nirrn', 'xrp', 'yihrn', 'ipren', 'ifrnb', 'lirnm', 'lixrn', 'hin', 'irae', 'arng', 'zizrn', 'opirn', 'irte', 'irqnx', 'irot', 'iqon', 'fircn', 'brns', 'qrd', 'iurhn', 'irmne', 'giyrn', 'qiern', 'lxrn', 'ihhrn', 'inna', 'irwnn', 'isry', 'ipqn', 'oqrn', 'irmw', 'irxj', 'iytn', 'siwn', 'tizn', 'ill', 'imrnn', 'uirkn', 'iruj', 'mird', 'irpny', 'irnfd', 'xrc', 'con', 'ionn', 'firns', 'oirz', 'ienp', 'irnba', 'ifrl', 'hgrn', 'iorbn', 'ibrnt', 'dxrn', 'nirtn', 'sairn', 'ircg', 'itnj', 'dirqn', 'ocrn', 'irznb', 'ihrv', 'tibn', 'yiri', 'biln', 'iqv', 'irvny', 'burn', 'iyrfn', 'wzrn', 'irxgn', 'irinw', 'irbnk', 'prp', 'wrrn', 'irxdn', 'girnr', 'irfqn', 'kren', 'ifgrn', 'lwrn', 'uren', 'irntg', 'iztn', 'iyrbn', 'qiln', 'rzn', 'ijro', 'ilr', 'uirc', 'mien', 'bwrn', 'giran', 'irtwn', 'ivrmn', 'ias', 'zirb', 'iwy', 'ighn', 'linn', 'firt', 'srna', 'irnob', 'zrnv', 'ibpn', 'tri', 'uuirn', 'lrg', 'iyrmn', 'ivrny', 'ihwrn', 'irnru', 'iurkn', 'xurn', 'mirzn', 'izrnh', 'nrnk', 'ijrp', 'rix', 'irkqn', 'ipurn', 'viun', 'uian', 'irnts', 'errn', 'ilrtn', 'inrd', 'iyrnc', 'zirt', 'izun', 'oiwrn', 'xirnn', 'iqy', 'iroo', 'idrkn', 'brsn', 'riy', 'cnn', 'znirn', 'ecrn', 'iib', 'isrg', 'igfn', 'itri', 'mrne', 'iyrhn', 'birny', 'irdsn', 'iwrin', 'iryn', 'imy', 'jifrn', 'irngt', 'vrns', 'ijns', 'sirnt', 'girnm', 'iyrun', 'vrnq', 'wicrn', 'iiqn', 'icrt', 'airne', 'iotn', 'iavn', 'xiprn', 'giqn', 'uirp', 'pirr', 'iox', 'rij', 'jrq', 'iane', 'wirnn', 'vrln', 'irbln', 'snirn', 'livn', 'bign', 'isrq', 'ormn', 'ienl', 'ilnq', 'irhln', 'inrr', 'rz', 'wign', 'irnok', 'fkirn', 'wrcn', 'wird', 'eirnc', 'brxn', 'ivh', 'iernx', 'ifrnh', 'sifn', 'nrf', 'iznz', 'kirw', 'ibrnk', 'irdfn', 'inrfn', 'prln', 'crcn', 'cirtn', 'ccrn', 'kirnx', 'inrs', 'qcrn', 'irkno', 'tiqrn', 'jdn', 'cira', 'ieron', 'on', 'icrnp', 'wirno', 'ipin', 'ork', 'ioe', 'irfnu', 'heirn', 'irfgn', 'iero', 'vrvn', 'ibrtn', 'cirnz', 'iwrk', 'ijnj', 'ibru', 'fiorn', 'ipmn', 'yn', 'irov', 'dirkn', 'qqrn', 'iriwn', 'irkny', 'ikrwn', 'nlirn', 'ifdrn', 'mre', 'bhrn', 'iwnp', 'nrnu', 'dirnw', 'igqn', 'niern', 'ilrj', 'ilurn', 'imnz', 'ilnv', 'ihrbn', 'iut', 'bvn', 'dzn', 'ixnc', 'lrnz', 'yirw', 'fuirn', 'iiran', 'irnrd', 'mhirn', 'trb', 'pirno', 'frkn', 'mirnr', 'zry', 'isnm', 'irq', 'ain', 'inrf', 'irvkn', 'eirne', 'imrwn', 'mron', 'ciarn', 'xrna', 'iornw', 'igcn', 'mvrn', 'imnu', 'iurnt', 'iarnp', 'kbrn', 'xiin', 'ihj', 'knr', 'ipa', 'ihro', 'airg', 'icsn', 'irana', 'abn', 'irjy', 'izpn', 'irlgn', 'misn', 'ikh', 'oyn', 'ifpn', 'ifryn', 'grne', 'glirn', 'irnlw', 'xyn', 'drf', 'idcn', 'rc', 'mizn', 'prm', 'irrzn', 'iune', 'ailrn', 'sisrn', 'icern', 'kirgn', 'lirne', 'grng', 'iyrv', 'irda', 'irinr', 'irayn', 'cirnp', 'xirgn', 'icrw', 'tirnq', 'zirnv', 'pzrn', 'yiqn', 'igrgn', 'ilrun', 'yrnn', 'ixrtn', 'icfrn', 'kfrn', 'ybirn', 'irynl', 'ihrb', 'irnjo', 'iyna', 'itbn', 'ifgn', 'zfirn', 'irmno', 'lizrn', 'idnt', 'ilrg', 'icrj', 'irncv', 'ddirn', 'vmn', 'ibran', 'drgn', 'xirj', 'rinn', 'iwwrn', 'mqn', 'diro', 'irncy', 'rio', 'inrc', 'cdrn', 'iirno', 'irjgn', 'zijrn', 'oeirn', 'afn', 'irgcn', 'ivrrn', 'dirfn', 'iodrn', 'szirn', 'tinn', 'ifre', 'rfin', 'isrzn', 'qirno', 'rnu', 'iunk', 'nrng', 'qfrn', 'iritn', 'iwnm', 'ictrn', 'zirnf', 'kjrn', 'igrnb', 'sirno', 'ibrn', 'ifrh', 'irwhn', 'wirv', 'ilrqn', 'hnr', 'ivnh', 'irkfn', 'gkrn', 'tirq', 'irlpn', 'isrnp', 'igg', 'irnud', 'irnb', 'qrcn', 'mmrn', 'eibn', 'ireno', 'purn', 'iirf', 'isjn', 'trnh', 'irtna', 'grc', 'irjnr', 'ifrk', 'ilxrn', 'idran', 'irqp', 'giern', 'iqrnu', 'yrnp', 'igra', 'min', 'irpt', 'ifrnn', 'iyv', 'irtf', 'irnlu', 'qrgn', 'iov', 'ikra', 'irnos', 'irtq', 'igre', 'irptn', 'irxnp', 'niun', 'sien', 'yirhn', 'nnirn', 'ivarn', 'irlkn', 'erirn', 'irnuk', 'riren', 'sran', 'lirm', 'pjirn', 'xrm', 'iuh', 'ivra', 'oro', 'rrk', 'krr', 'tirfn', 'hirkn', 'irine', 'irqcn', 'ixrkn', 'irxnl', 'irzpn', 'iruin', 'irntf', 'krg', 'fsirn', 'tmrn', 'drnb', 'yian', 'irvnd', 'iornq', 'szn', 'mirt', 'lrqn', 'irxk', 'irnbl', 'wirg', 'irgnd', 'wrz', 'ilrvn', 'inbr', 'ikro', 'irdnr', 'iwx', 'bjn', 'brj', 'ikfn', 'iqnl', 'ogrn', 'ireq', 'innrn', 'qigrn', 'arjn', 'iryon', 'iern', 'irqy', 'zitn', 'irbdn', 'iyrnd', 'lyrn', 'ironk', 'ikrc', 'viyrn', 'kikrn', 'ipnl', 'jirnp', 'ijnk', 'iyre', 'irnep', 'idrnf', 'qoirn', 'ivgn', 'irepn', 'tiri', 'irnea', 'ikrsn', 'cizrn', 'hhirn', 'ijre', 'iwrna', 'uirnj', 'irlln', 'irtnu', 'ziln', 'tirnn', 'iow', 'lrbn', 'irfny', 'iunn', 'ireo', 'zirvn', 'irned', 'izran', 'un', 'ifb', 'vrnb', 'otrn', 'birnv', 'dirnz', 'dirp', 'gxirn', 'iryx', 'ridn', 'irtnq', 'jxirn', 'qian', 'irhin', 'uikrn', 'wiro', 'irwx', 'iaqrn', 'rnp', 'jrpn', 'uiro', 'irnms', 'zrl', 'virnp', 'drns', 'cird', 'pwirn', 'yjirn', 'ijrq', 'zirln', 'fitrn', 'ijtn', 'irnhg', 'miarn', 'ikgrn', 'nrin', 'ibm', 'iwrnw', 'sira', 'vir', 'airn', 'bron', 'ifd', 'irniy', 'birnf', 'ircnw', 'rircn', 'dirnc', 'sirv', 'micn', 'irznf', 'iyni', 'grnk', 'kirnm', 'gpirn', 'irnnt', 'erny', 'iorfn', 'hirnz', 'rqirn', 'girmn', 'ilvrn', 'drun', 'jira', 'ixnu', 'eiyn', 'irnsw', 'xilrn', 'idrnk', 'izr', 'xzn', 'virnv', 'urnl', 'ehrn', 'rnx', 'ftrn', 'ibrgn', 'irlny', 'iwrns', 'xicrn', 'iyrm', 'dira', 'dimrn', 'nire', 'insn', 'qiorn', 'idon', 'irnib', 'irswn', 'xirh', 'zirqn', 'irrnz', 'ilnf', 'iabn', 'irui', 'iraz', 'hiarn', 'mpn', 'hirw', 'iornx', 'irhnm', 'wiwrn', 'sicrn', 'qikn', 'irel', 'irfl', 'xiru', 'iyg', 'iwi', 'ibny', 'cry', 'wrv', 'itun', 'irnfw', 'barn', 'zlrn', 'mixrn', 'irani', 'icnx', 'iert', 'ixjn', 'arn', 'firzn', 'ldirn', 'ovirn', 'iknk', 'ikprn', 'irvn', 'iarmn', 'biran', 'vnirn', 'rrx', 'ufrn', 'diun', 'irsn', 'irqv', 'nrvn', 'eirnu', 'sirni', 'iwrdn', 'irngl', 'btn', 'lrnt', 'iwhn', 'worn', 'airon', 'kqirn', 'sirnm', 'irdcn', 'irhrn', 'iirk', 'xmn', 'dhn', 'inrnu', 'prns', 'zvn', 'hirsn', 'xiren', 'izrnj', 'ixpn', 'izrnn', 'irugn', 'jirnv', 'jern', 'ili', 'ircvn', 'wrf', 'iunr', 'itrvn', 'crnm', 'hicn', 'rkrn', 'yuirn', 'isrna', 'srb', 'oimrn', 'rino', 'irpnu', 'hiro', 'ihrkn', 'frnj', 'qorn', 'cimn', 'iejrn', 'ipnh', 'irnrn', 'ziron', 'cn', 'mzrn', 'icne', 'iokn', 'ionx', 'eryn', 'uifrn', 'uiurn', 'jrgn', 'imjn', 'dirnx', 'jzirn', 'pitn', 'ditrn', 'iarfn', 'qsn', 'irhfn', 'hirtn', 'iyd', 'erm', 'kr', 'ingrn', 'irsnw', 'irsvn', 'ixf', 'orcn', 'ikny', 'jrp', 'bwirn', 'pirx', 'iuran', 'jiqrn', 'iij', 'sirp', 'xirnu', 'irxin', 'vrxn', 'itfn', 'zirnd', 'itjrn', 'irnsx', 'hran', 'imen', 'oirrn', 'inp', 'idkn', 'pan', 'vnr', 'ilzrn', 'firxn', 'ripn', 'vrirn', 'hrz', 'iizrn', 'pn', 'itrxn', 'viprn', 'iruzn', 'wiln', 'irbnl', 'ixng', 'irnxv', 'irkz', 'itno', 'irgs', 'ivrln', 'nirvn', 'trnd', 'irja', 'cirh', 'jirm', 'ipryn', 'iei', 'fiyrn', 'hrcn', 'irnic', 'irpns', 'xrny', 'orq', 'ipjrn', 'nidrn', 'yirbn', 'irryn', 'irvzn', 'gizn', 'tirmn', 'tirsn', 'ieqrn', 'zwrn', 'aiarn', 'irw', 'izrun', 'ikrns', 'ijrun', 'itryn', 'ixe', 'imzrn', 'irlnu', 'isarn', 'irnf', 'kirin', 'irbnb', 'iiry', 'airq', 'tisn', 'apn', 'syn', 'igjrn', 'gizrn', 'ilnz', 'oiry', 'qren', 'nuirn', 'idrxn', 'irlzn', 'iram', 'irbnj', 'irntx', 'pivn', 'ikarn', 'rrin', 'iipn', 'rzrn', 'cirg', 'ircnd', 'qrv', 'cirq', 'iwrxn', 'inren', 'irvnz', 'ilnd', 'iwrr', 'ixrnn', 'irhkn', 'jirf', 'trun', 'crk', 'irnfy', 'frnx', 'igrnj', 'ilna', 'irpc', 'iyrpn', 'cirv', 'icnz', 'irfnp', 'ure', 'iyrkn', 'iju', 'lern', 'ncrn', 'idrj', 'nian', 'irbng', 'rinj', 'icny', 'qinr', 'iprf', 'fun', 'ivrzn', 'onn', 'irud', 'irqi', 'irbnm', 'iunq', 'ivrv', 'imrni', 'igrh', 'irbfn', 'kirtn', 'ihron', 'icrxn', 'pron', 'oirvn', 'kir', 'inw', 'aivrn', 'pbrn', 'itf', 'jrs', 'icin', 'ibrd', 'xoirn', 'ihrxn', 'igrbn', 'imrns', 'ipx', 'ijyn', 'iuln', 'eirqn', 'irlo', 'nxn', 'zihn', 'xifn', 'iznf', 'drnj', 'ijp', 'rire', 'irnkk', 'icvrn', 'ivrf', 'jisrn', 'iyorn', 'irynm', 'irnwy', 'isrnn', 'ivmn', 'irtnf', 'iorn', 'aorn', 'ikcn', 'icxrn', 'nrnz', 'irta', 'idnx', 'irnsp', 'irvnm', 'irfnq', 'diqrn', 'urp', 'ifrnv', 'irlh', 'oin', 'irunz', 'len', 'ifrni', 'tirni', 'inyrn', 'ifrnw', 'irrnq', 'hrnx', 'itrbn', 'erjn', 'uirmn', 'irzun', 'irmnj', 'itrno', 'oirnq', 'niarn', 'lirnx', 'org', 'pvrn', 'qibn', 'irynq', 'igt', 'tiru', 'phrn', 'cvrn', 'ircp', 'sirt', 'irjun', 'hirx', 'irhen', 'wcrn', 'irys', 'mrhn', 'mra', 'grnv', 'virx', 'yirvn', 'ifrin', 'oirbn', 'iarb', 'iqyrn', 'ifrkn', 'ikwrn', 'hire', 'isrnh', 'irnfj', 'irvqn', 'ison', 'usirn', 'irfnk', 'idrnc', 'jran', 'cion', 'hrny', 'pvn', 'dirnn', 'iwra', 'irfn', 'yirp', 'irppn', 'qrp', 'imbn', 'irur', 'qirnk', 'gdirn', 'yr', 'yirnd', 'ihnb', 'grx', 'ifrf', 'iroa', 'icns', 'ypirn', 'irgnr', 'rirsn', 'girgn', 'aivn', 'firsn', 'iwern', 'izrd', 'irsny', 'irnjv', 'qgn', 'irhna', 'grnl', 'irnih', 'iranb', 'ptn', 'ixrb', 'idrns', 'riry', 'tdrn', 'ioxn', 'idj', 'iarnl', 'eyrn', 'iwrny', 'minrn', 'ildrn', 'irnmi', 'qrxn', 'xpirn', 'uiarn', 'ifo', 'igrs', 'arnh', 'twn', 'ixk', 'iprnd', 'ipz', 'zizn', 'uirpn', 'ggn', 'oixrn', 'iribn', 'vfn', 'ihxn', 'rnrn', 'ernx', 'ifrdn', 'ciun', 'iarnk', 'arnv', 'ikryn', 'izrny', 'idrpn', 'ikhn', 'lryn', 'igern', 'dyn', 'ihnt', 'hir', 'btirn', 'irpf', 'ivnt', 'trn', 'xirny', 'izrtn', 'zairn', 'ciyrn', 'eirhn', 'irinp', 'cirnx', 'irnez', 'irwgn', 'idqn', 'inrtn', 'sirh', 'frnv', 'icrns', 'intrn', 'ikgn', 'iarsn', 'irlwn', 'erg', 'jikrn', 'lhn', 'irhnd', 'tirr', 'byirn', 'iyrnr', 'icrnh', 'irnuh', 'irxyn', 'eri', 'tirb', 'iriyn', 'irif', 'iary', 'vrb', 'iwrb', 'zrwn', 'jicrn', 'xirf', 'irtfn', 'brg', 'indr', 'irwnl', 'iwnz', 'iravn', 'bsirn', 'yrs', 'irjnu', 'imrjn', 'ienv', 'bihn', 'isrnc', 'irstn', 'irrqn', 'iben', 'cirp', 'xgirn', 'iprun', 'irnyt', 'virz', 'lihn', 'irgn', 'inrrn', 'iwzn', 'irnay', 'itrgn', 'xirr', 'nirm', 'wvrn', 'iwrg', 'icrsn', 'riv', 'irccn', 'eiren', 'irtcn', 'irig', 'visrn', 'iri', 'xirnp', 'odn', 'ivnv', 'grrn', 'lirw', 'irfo', 'pirs', 'rno', 'isjrn', 'yru', 'firo', 'pirg', 'yipn', 'irjx', 'airan', 'icre', 'iiryn', 'icrk', 'irnlk', 'misrn', 'irytn', 'srs', 'ehirn', 'iijrn', 'iqrxn', 'irts', 'vdrn', 'irnew', 'iunm', 'iyrj', 'pru', 'irgnb', 'fikrn', 'trfn', 'firr', 'lrnu', 'bir', 'icrjn', 'irnc', 'xirkn', 'pirp', 'cirf', 'sivrn', 'irml', 'itrnd', 'hirjn', 'pimrn', 'nrnh', 'irpd', 'irknq', 'jirjn', 'inrnn', 'dicn', 'jron', 'irmk', 'lrzn', 'prgn', 'ijng', 'zirnh', 'nirqn', 'jry', 'ihrnd', 'irsv', 'drn', 'nirwn', 'ria', 'igrp', 'dbn', 'iian', 'fprn', 'irnlf', 'igron', 'aimn', 'qhn', 'idyrn', 'irjt', 'iprz', 'iruo', 'kru', 'iaon', 'irkon', 'iien', 'idrn', 'iwrcn', 'igrw', 'irtun', 'tiprn', 'eian', 'mirp', 'iirnc', 'irhz', 'iyan', 'qirrn', 'yrnm', 'ivnm', 'irhnt', 'niirn', 'mivn', 'irxn', 'igu', 'irzv', 'jirna', 'arnk', 'ieln', 'irarn', 'bqrn', 'iaran', 'irnhx', 'trl', 'zqirn', 'ran', 'aiwn', 'ium', 'eiun', 'mru', 'cisrn', 'drc', 'zrbn', 'dnn', 'irkni', 'cirs', 'siran', 'oairn', 'irffn', 'eiwn', 'jvn', 'hrno', 'jrnm', 'brt', 'ismrn', 'ironu', 'idrny', 'irgvn', 'iorun', 'eirvn', 'firs', 'itvrn', 'irju', 'qirni', 'isyn', 'siren', 'lirkn', 'iranl', 'ixkn', 'iirnn', 'rmin', 'itrwn', 'irxni', 'irknf', 'kirnn', 'jrnd', 'xinrn', 'irusn', 'ivrw', 'eirin', 'jbirn', 'ilgn', 'ibdrn', 'dirnp', 'iey', 'irup', 'inyr', 'iwrvn', 'iqnc', 'oir', 'irzx', 'zirnk', 'yrni', 'ilkrn', 'nran', 'iirnk', 'hrnm', 'irxln', 'zrnc', 'irnix', 'hinr', 'ilrjn', 'irvj', 'awirn', 'yirxn', 'irqg', 'vhn', 'kigrn', 'ioen', 'tren', 'iurb', 'ckn', 'ieurn', 'ijrqn', 'irnvu', 'ifwn', 'nrt', 'grt', 'qwn', 'erzn', 'irrnm', 'irnxx', 'irtyn', 'kwirn', 'iornh', 'prfn', 'srin', 'eikrn', 'icwn', 'zrmn', 'irf', 'ixrt', 'uirj', 'iksn', 'eirv', 'iroe', 'ixrm', 'icrcn', 'iil', 'jrl', 'ike', 'iwrnh', 'ijrn', 'ixnq', 'itgrn', 'iyno', 'kidn', 'zjn', 'iilrn', 'wrq', 'irnqf', 'bfrn', 'ilorn', 'ikdrn', 'qira', 'tirpn', 'gisrn', 'girjn', 'fgrn', 'frin', 'irnbq', 'brmn', 'iynr', 'orvn', 'ivirn', 'oirnt', 'hrnw', 'virw', 'bimrn', 'jirnc', 'grvn', 'cirsn', 'ioan', 'iqk', 'isgrn', 'qrun', 'srgn', 'dmn', 'jrnn', 'brhn', 'riprn', 'irzy', 'miun', 'iarnj', 'ionp', 'irmnn', 'iruqn', 'dibrn', 'rirv', 'irenc', 'biry', 'iurng', 'ziqrn', 'yrg', 'inrin', 'irvl', 'ifnq', 'irmmn', 'gilrn', 'iwrnc', 'arni', 'piqn', 'ubrn', 'irnux', 'cirnr', 'xairn', 'idnq', 'uixn', 'zilrn', 'irlmn', 'mrl', 'idln', 'irjq', 'rtn', 'iexrn', 'migrn', 'illrn', 'yitrn', 'iurtn', 'iripn', 'imrrn', 'iarp', 'hryn', 'turn', 'nrsn', 'nign', 'ijb', 'irkvn', 'krvn', 'irhl', 'qtirn', 'nirw', 'kyirn', 'iwarn', 'ibrnc', 'ieri', 'krne', 'firv', 'zcirn', 'jin', 'irvsn', 'irnoh', 'aipn', 'iktrn', 'irnbe', 'iap', 'ixnb', 'brnl', 'vrw', 'xitn', 'vikrn', 'idnj', 'ibrin', 'iznr', 'birnr', 'artn', 'xirsn', 'iairn', 'kirx', 'firnn', 'iornj', 'iirkn', 'zran', 'irocn', 'girbn', 'wirnp', 'tsrn', 'iyr', 'ari', 'sizrn', 'crwn', 'pirz', 'innb', 'nirne', 'hivrn', 'xihrn', 'irnjc', 'nrkn', 'vhirn', 'irc', 'uirnl', 'iprno', 'qiryn', 'givn', 'iirnl', 'wirmn', 'krns', 'inhrn', 'iqmrn', 'urne', 'grn', 'irdqn', 'wirc', 'iqnr', 'iwri', 'ires', 'irind', 'frnl', 'iere', 'cirm', 'irrjn', 'frni', 'giren', 'iiz', 'rirs', 'iujn', 'riern', 'drin', 'rre', 'iwnd', 'iuurn', 'iwxn', 'sirnv', 'vern', 'virgn', 'mipn', 'iornu', 'igrtn', 'imryn', 'dirnb', 'hun', 'iprln', 'jrnq', 'erv', 'igyrn', 'irft', 'ius', 'ijmn', 'ids', 'idv', 'iryr', 'irwb', 'prnp', 'immn', 'ijy', 'piwrn', 'irawn', 'irqnc', 'ivrwn', 'inmr', 'qiurn', 'ilns', 'orb', 'ixrcn', 'ijnn', 'srnc', 'jirxn', 'irmd', 'iomn', 'ilrb', 'eihn', 'torn', 'lirsn', 'iinz', 'sipn', 'firnu', 'qiwrn', 'ikry', 'iarnx', 'lrm', 'iwrno', 'hqirn', 'zrs', 'ics', 'tirnt', 'xun', 'irpn', 'zirnj', 'ayn', 'irpnj', 'mrp', 'ornz', 'uihn', 'iad', 'fin', 'aikrn', 'isq', 'imni', 'irfnt', 'gen', 'tidn', 'girxn', 'wiorn', 'iprnn', 'ikrf', 'ibb', 'irknk', 'iyi', 'irio', 'ynr', 'irnfo', 'icrv', 'urun', 'irlu', 'sirr', 'ixnh', 'ssirn', 'cprn', 'irftn', 'larn', 'lidrn', 'iernl', 'nidn', 'ikrgn', 'mxrn', 'dun', 'irvx', 'ziry', 'ivnl', 'airs', 'uirh', 'zjirn', 'iwen', 'lir', 'ifm', 'prk', 'fiurn', 'qcn', 'iurt', 'lrnq', 'strn', 'spirn', 'lirj', 'irhvn', 'iyru', 'irnsy', 'izrt', 'icrgn', 'irfnv', 'idrnd', 'irnng', 'widrn', 'tird', 'titn', 'ibne', 'irner', 'irjnv', 'igen', 'iasn', 'ieryn', 'ivryn', 'iprmn', 'viren', 'ydrn', 'rbn', 'kiri', 'qjrn', 'iugn', 'irqe', 'rirtn', 'iorh', 'ilnl', 'birzn', 'xrnh', 'ikin', 'idno', 'irpe', 'cihn', 'uira', 'wsrn', 'whn', 'iunrn', 'iors', 'igs', 'irbn', 'earn', 'rinq', 'imjrn', 'igrin', 'ihno', 'rjn', 'irohn', 'diern', 'irywn', 'cin', 'xibrn', 'iranz', 'imrnv', 'inrnz', 'vrng', 'iphn', 'incn', 'drnn', 'io', 'iin', 'irknv', 'iukrn', 'iur', 'nirni', 'lirnh', 'zirnm', 'tln', 'itnl', 'isrrn', 'oirk', 'iarc', 'irar', 'vrv', 'ish', 'iign', 'bnirn', 'irfr', 'ioarn', 'ieq', 'hrun', 'iyln', 'irer', 'irhbn', 'irpnd', 'qrbn', 'irncn', 'cirnn', 'oirnh', 'pirns', 'ivs', 'irwon', 'dxirn', 'scirn', 'airnm', 'sibn', 'cwirn', 'iyrh', 'iroj', 'yirnm', 'irdi', 'xrnf', 'icen', 'vbrn', 'iwrl', 'nirnv', 'vicn', 'irqnh', 'irkl', 'iprj', 'irntp', 'iqrnb', 'ioran', 'biyn', 'wrfn', 'izrc', 'virtn', 'egn', 'fiprn', 'pirnz', 'cren', 'irbs', 'jrsn', 'isrhn', 'isrnd', 'cqrn', 'sirg', 'ywrn', 'idn', 'nikrn', 'srdn', 'qiqn', 'wizrn', 'ulirn', 'jdrn', 'ijwn', 'irhn', 'oirnm', 'mirnj', 'ziqn', 'irdln', 'irvnu', 'adn', 'irgm', 'dpn', 'zbirn', 'orhn', 'irtxn', 'irydn', 'ibxn', 'ojn', 'jrnc', 'cimrn', 'yimrn', 'arln', 'ipo', 'isnrn', 'jrx', 'xdirn', 'idbn', 'krnq', 'iunl', 'rif', 'irwnz', 'irnbz', 'ricn', 'itrnu', 'yfn', 'ivrjn', 'ienk', 'kirnh', 'airnc', 'crnj', 'iky', 'iinr', 'nikn', 'yiren', 'pizrn', 'irgt', 'iqng', 'irnyl', 'rirz', 'uiron', 'uirns', 'enr', 'nbirn', 'oirzn', 'imrg', 'xirun', 'man', 'iona', 'irenq', 'iion', 'ysirn', 'irtnx', 'nirgn', 'irnik', 'iup', 'yrnz', 'hjn', 'ifnv', 'miern', 'frne', 'kirn', 'fpirn', 'imrnf', 'ircin', 'qbn', 'mkrn', 'ildn', 'iyrvn', 'rcirn', 'iirr', 'bvrn', 'drx', 'ribn', 'vrnr', 'tian', 'eien', 'airc', 'izry', 'mirnm', 'stn', 'fbrn', 'ihnrn', 'iecn', 'mrpn', 'irnpb', 'iwrzn', 'icrnj', 'irnwd', 'cen', 'birni', 'irde', 'yirb', 'irzj', 'xn', 'nrl', 'biron', 'jjrn', 'izrnr', 'rrns', 'iwny', 'imln', 'mmn', 'irnsz', 'ifnl', 'irqnk', 'hien', 'iitn', 'eru', 'airj', 'idd', 'irfna', 'brn', 'irnet', 'rinw', 'crng', 'ertn', 'iw', 'irnqn', 'ieran', 'urx', 'prnl', 'eiron', 'wzirn', 'cirw', 'moirn', 'ixdn', 'irnsr', 'jirb', 'rdrn', 'irxzn', 'mire', 'eicn', 'hirnh', 'njrn', 'iiyrn', 'uirnd', 'jrnt', 'urk', 'inra', 'yirl', 'pifrn', 'ra', 'irnxf', 'ionz', 'iins', 'iddn', 'ibjn', 'iqo', 'vrno', 'simn', 'irmx', 'irogn', 'oirpn', 'brnz', 'irntm', 'iuhrn', 'zn', 'irnon', 'utirn', 'ilrv', 'irxy', 'zzn', 'jirt', 'iiyn', 'irxf', 'eiarn', 'arnt', 'wrhn', 'xrnd', 'fiin', 'inryn', 'sgrn', 'iregn', 'irqb', 'nvirn', 'asrn', 'qird', 'irtu', 'ijrd', 'crne', 'xirnd', 'iree', 'ionu', 'xin', 'han', 'irvnn', 'fiwn', 'sirun', 'ibrh', 'rrn', 'ncn', 'uirnb', 'itrg', 'imrnh', 'xirnb', 'iwon', 'ginn', 'irvi', 'iord', 'rnw', 'iqrmn', 'iyrxn', 'ilra', 'iwyn', 'mirin', 'eorn', 'pirnd', 'ikln', 'zikn', 'ijk', 'doirn', 'irnpo', 'yirtn', 'idjn', 'iarns', 'firp', 'iirt', 'qirnd', 'irnrb', 'firnc', 'mirs', 'ikrbn', 'arnn', 'pcrn', 'qicn', 'grfn', 'diry', 'ilen', 'irlw', 'ierq', 'van', 'irzen', 'grz', 'iorvn', 'drnp', 'iinq', 'ibrx', 'irunh', 'iyurn', 'ipirn', 'jirw', 'arna', 'hirun', 'ikt', 'irnmt', 'irss', 'inxrn', 'urnv', 'gwrn', 'airnb', 'irvvn', 'imron', 'niprn', 'kirs', 'rina', 'hirne', 'xirnf', 'wiry', 'srnm', 'ibo', 'innq', 'wircn', 'irmjn', 'imrpn', 'itwn', 'ivx', 'oxirn', 'iorni', 'umrn', 'iwrnj', 'inrpn', 'ixxrn', 'ircsn', 'irvnh', 'hjrn', 'qron', 'crrn', 'irynh', 'uen', 'virmn', 'irnyj', 'irhun', 'qmirn', 'ztrn', 'irmkn', 'uro', 'qrne', 'rrno', 'irnp', 'ienh', 'yirs', 'nnn', 'idnp', 'iuxrn', 'iirnr', 'cvn', 'imvn', 'mimn', 'srnb', 'ivern', 'ciurn', 'izrdn', 'ikrz', 'yinn', 'diwrn', 'vrl', 'ifx', 'irnan', 'ixrj', 'yisn', 'iirun', 'iraen', 'birln', 'ircyn', 'ahirn', 'irnyb', 'limrn', 'iax', 'gign', 'binrn', 'inny', 'ipt', 'iau', 'rrp', 'snn', 'qirmn', 'ifro', 'girng', 'ibj', 'iqxrn', 'ikw', 'kitn', 'izy', 'rinb', 'ifrnt', 'nirs', 'wihn', 'iorwn', 'ikrj', 'ipr', 'iwnf', 'icj', 'irnfc', 'firj', 'frirn', 'dirr', 'irnda', 'nrno', 'kixrn', 'aeirn', 'rixn', 'mgrn', 'tirh', 'iwsrn', 'urnz', 'irwno', 'qirnc', 'icnc', 'dirg', 'irdvn', 'mikn', 'foirn', 'gan', 'vprn', 'itrng', 'tsn', 'icni', 'irnkn', 'sian', 'jirni', 'srnp', 'gru', 'wtirn', 'pern', 'prny', 'mrln', 'ivwrn', 'kirln', 'dirns', 'frx', 'irknd', 'ikf', 'irupn', 'incr', 'idrmn', 'uirvn', 'itrd', 'hivn', 'irbj', 'irnrk', 'nitn', 'srnx', 'irfnz', 'vvn', 'girnf', 'jibrn', 'irfan', 'uirl', 'airnh', 'irt', 'irqun', 'igrnv', 'irub', 'osirn', 'irnlr', 'irkkn', 'irgnz', 'ilm', 'vixn', 'irint', 'irie', 'iucn', 'drh', 'oirjn', 'zijn', 'niran', 'irknu', 'nqn', 'lirjn', 'igdn', 'rinx', 'ixrno', 'ikn', 'iwrnn', 'virh', 'aairn', 'irsl', 'iqrwn', 'oirne', 'qirfn', 'wrgn', 'ikrzn', 'ixhn', 'ifc', 'girno', 'iwe', 'mirnf', 'yrnt', 'gnr', 'rixrn', 'iacrn', 'rini', 'sinrn', 'irrsn', 'qirq', 'imf', 'cirfn', 'sirnp', 'irnzz', 'ihru', 'svrn', 'ibrnx', 'rirt', 'eirrn', 'ibhn', 'tiwrn', 'irnbc', 'jrz', 'iorin', 'irze', 'ren', 'firnt', 'qirsn', 'iroc', 'rirno', 'hgn', 'huirn', 'iwrnd', 'ihrnr', 'brgn', 'grzn', 'irynj', 'itrnj', 'ireqn', 'eiurn', 'lirc', 'wirny', 'ieorn', 'icf', 'trkn', 'irknz', 'ijren', 'irtng', 'pixn', 'ore', 'kiry', 'ivnk', 'igtn', 'igrvn', 'boirn', 'qairn', 'qin', 'hirbn', 'iornc', 'girnd', 'irkr', 'iqh', 'hijrn', 'cdirn', 'iarnz', 'girin', 'itsn', 'irenj', 'crd', 'rtrn', 'cirni', 'dirdn', 'wimn', 'nirin', 'ibnb', 'lrhn', 'isan', 'liryn', 'irpi', 'irnqd', 'irsxn', 'jsn', 'rirx', 'kiro', 'kifn', 'ifn', 'okrn', 'irnyq', 'irnnm', 'xiron', 'jhirn', 'irbu', 'ihzn', 'gry', 'uhirn', 'invrn', 'jrun', 'ylrn', 'irqz', 'irypn', 'dikrn', 'iaan', 'irnhj', 'kiqn', 'iaqn', 'airnv', 'ipnr', 'dzirn', 'nirnd', 'ibnq', 'ornv', 'igni', 'an', 'zarn', 'irnsd', 'ilni', 'bln', 'xhirn', 'zivrn', 'idsrn', 'bird', 'qirne', 'ioni', 'nrnc', 'miwn', 'ifrln', 'ikron', 'irung', 'rrkn', 'lirun', 'bkn', 'lirln', 'ilrnd', 'firu', 'iucrn', 'izrs', 'urdn', 'iwrqn', 'ianq', 'irkg', 'irrnh', 'yirv', 'iewn', 'idr', 'irix', 'urr', 'irnvd', 'iranr', 'idbrn', 'rin', 'hidn', 'irpng', 'kirzn', 'jign', 'izron', 'iurns', 'mirne', 'iprpn', 'lrnk', 'ihrx', 'qrni', 'ilu', 'isrin', 'irxnj', 'igkrn', 'irtnb', 'hrnv', 'niln', 'innx', 'qrl', 'irfe', 'irnpi', 'qirna', 'lrng', 'birsn', 'irdnj', 'irrh', 'igrg', 'grq', 'himrn', 'frnk', 'irfa', 'zrgn', 'prno', 'irncc', 'etn', 'kipn', 'jrnf', 'ifk', 'qidn', 'irntw', 'ipry', 'iifn', 'iirsn', 'sirzn', 'itrnp', 'irnim', 'iharn', 'rmrn', 'rrqn', 'ilun', 'irtnz', 'iyz', 'bicrn', 'iuvrn', 'irhns', 'yrirn', 'ixnk', 'qirhn', 'rirb', 'ivprn', 'jirs', 'irben', 'icrm', 'mrb', 'srqn', 'vnrn', 'ivrnw', 'nrun', 'hiyrn', 'xnr', 'ioro', 'irdnv', 'grnm', 'eirj', 'ifvrn', 'lirnw', 'iqb', 'ihra', 'mirbn', 'vrk', 'qyirn', 'qn', 'urvn', 'iho', 'iirnx', 'ivrnn', 'ibrc', 'birpn', 'xcn', 'irsd', 'irgnq', 'ixrnr', 'vbirn', 'kiwn', 'xirfn', 'irxz', 'arh', 'ianf', 'ernq', 'krmn', 'ornb', 'iqrnm', 'iag', 'qirnn', 'fre', 'drnk', 'ipp', 'micrn', 'fiwrn', 'oirns', 'trns', 'iqgrn', 'crnb', 'gyrn', 'isra', 'krnx', 'frna', 'iroxn', 'rnc', 'eirzn', 'irmo', 'iirnq', 'ism', 'ibrbn', 'mrx', 'irxo', 'iml', 'xirb', 'ircnz', 'wrirn', 'ido', 'tirin', 'rilrn', 'rrg', 'ircy', 'hrnl', 'iarn', 'irkln', 'wdn', 'imrc', 'srnq', 'inrnh', 'idvrn', 'ilrq', 'irfv', 'itnk', 'ihz', 'fihrn', 'xwrn', 'tirx', 'cibn', 'irlxn', 'yrnc', 'irye', 'oirng', 'irbnu', 'iksrn', 'icnt', 'rrjn', 'ijc', 'ixrnk', 'irnto', 'iws', 'uurn', 'drkn', 'ixrgn', 'jjirn', 'dinn', 'shn', 'birnx', 'buirn', 'qirng', 'izrjn', 'ifnh', 'irvs', 'icno', 'wfrn', 'irgjn', 'irtsn', 'imnl', 'lbn', 'ijrb', 'irnxy', 'izrnb', 'nrm', 'xrtn', 'ifnf', 'irjh', 'irkdn', 'ijrr', 'sirnn', 'krnf', 'ipnq', 'iriw', 'yigrn', 'ior', 'iwt', 'trmn', 'miyrn', 'irjmn', 'kira', 'irqnl', 'jzrn', 'tirqn', 'gren', 'ieu', 'iptrn', 'irksn', 'rirnt', 'ignrn', 'xrnj', 'unirn', 'aqn', 'iyc', 'iyrnp', 'qrh', 'irnpw', 'irgbn', 'irnzt', 'virnz', 'izzn', 'irtv', 'eun', 'liurn', 'irjnn', 'idzrn', 'crnq', 'iqi', 'rifn', 'jbn', 'inrnp', 'erne', 'zrx', 'eidn', 'ircnp', 'iowrn', 'irfw', 'wrna', 'iorcn', 'wirnr', 'icnl', 'airu', 'vrc', 'yrmn', 'irnwr', 'imrl', 'iynz', 'lqrn', 'lvn', 'nryn', 'lzn', 'ifan', 'irlns', 'irnwi', 'hirrn', 'yqirn', 'ezn', 'eirnf', 'iwrj', 'jan', 'iobn', 'tirv', 'iyarn', 'mjn', 'irnjx', 'fiarn', 'ircm', 'irqon', 'irmnz', 'pirnh', 'irnhs', 'idfn', 'mirh', 'irqs', 'itng', 'irsc', 'isxrn', 'erj', 'inrm', 'armn', 'igng', 'irfen', 'kirc', 'grns', 'isrf', 'qivn', 'irnqb', 'irgns', 'frng', 'igan', 'irnot', 'ornm', 'iqc', 'rirl', 'rrnx', 'cirnq', 'ijfrn', 'nirpn', 'kirh', 'iurr', 'idnu', 'iljrn', 'crnv', 'rrhn', 'irinl', 'irhni', 'crt', 'irngy', 'irnss', 'upirn', 'kirnt', 'sbirn', 'irbnq', 'picn', 'vre', 'irchn', 'iarln', 'isy', 'tiorn', 'ixrnc', 'pnr', 'irrny', 'irno', 'tirnl', 'iryw', 'siqn', 'irkp', 'irwnk', 'iuen', 'oiqn', 'dtirn', 'uru', 'jpn', 'zrnd', 'etirn', 'anrn', 'yirnb', 'ary', 'ibrl', 'iwrne', 'oirc', 'igi', 'icb', 'irsnc', 'crnr', 'uirnr', 'ibrvn', 'irkns', 'isrd', 'imirn', 'qiprn', 'ivnz', 'ddrn', 'yrny', 'eizrn', 'iruxn', 'pidrn', 'iaxrn', 'brh', 'oiorn', 'iinm', 'wiin', 'idc', 'igzn', 'iprrn', 'irfg', 'xwn', 'zlirn', 'irnvs', 'horn', 'imkrn', 'ioon', 'tibrn', 'iirni', 'irnzy', 'irenb', 'jivn', 'ygirn', 'irnsl', 'ik', 'ikrjn', 'drnu', 'iurne', 'irnjk', 'dsrn', 'ijxn', 'irinn', 'aien', 'qmn', 'ibrnh', 'dsirn', 'ivnd', 'wifn', 'icnv', 'irjn', 'airo', 'lgn', 'gion', 'ihrl', 'ijxrn', 'gisn', 'qiirn', 'jirx', 'irikn', 'irnla', 'ixqn', 'iuzrn', 'ign', 'iqrrn', 'idrln', 'idrnv', 'xirdn', 'kbirn', 'urnc', 'ibrxn', 'iraxn', 'aqirn', 'iwne', 'dbrn', 'iui', 'irnbp', 'limn', 'irnkf', 'ro', 'nsrn', 'imrnm', 'lfirn', 'wry', 'iio', 'irntb', 'nqrn', 'ibnz', 'zrnh', 'irym', 'erln', 'tzirn', 'yign', 'hirnt', 'qirf', 'if', 'isb', 'frr', 'ioo', 'frrn', 'bhirn', 'oihrn', 'irufn', 'ilrns', 'pxirn', 'iynn', 'ifrhn', 'xiirn', 'xnrn', 'irec', 'cicrn', 'den', 'ihqn', 'ilcn', 'imo', 'iurx', 'ifrfn', 'sirnq', 'irknn', 'cirna', 'dqn', 'dnrn', 'irgrn', 'irfon', 'iezrn', 'irzyn', 'wiarn', 'jnirn', 'jqrn', 'innv', 'iyirn', 'fry', 'irgnj', 'whirn', 'ikrrn', 'irnvl', 'airng', 'krn', 'iitrn', 'ery', 'dirnd', 'ihry', 'xsn', 'sirnh', 'bbrn', 'lyn', 'orn', 'srnf', 'eirnt', 'tirgn', 'airni', 'itro', 'aiorn', 'zcn', 'irnyc', 'irken', 'mirnw', 'ircx', 'isno', 'irpne', 'irld', 'nrnp', 'ion', 'zsn', 'iarnu', 'eairn', 'diyrn', 'rirnq', 'iqzn', 'isrnx', 'aixn', 'wxirn', 'ffirn', 'mdrn', 'iprwn', 'iorw', 'airnq', 'irsnd', 'gian', 'lrb', 'jirnb', 'iirnd', 'xre', 'izrj', 'vun', 'igsn', 'ayirn', 'nisrn', 'ciyn', 'iprnq', 'ixnv', 'rip', 'jrxn', 'yrc', 'vxn', 'oibrn', 'dorn', 'irzt', 'oirnd', 'irlj', 'ieern', 'ijrnb', 'irncx', 'zimn', 'yirjn', 'ikrhn', 'birw', 'izd', 'mitn', 'rpin', 'irjna', 'ifwrn', 'iwqrn', 'krb', 'iqrnn', 'iyl', 'irgxn', 'crxn', 'ilrno', 'xivn', 'aiun', 'irtns', 'qen', 'iiun', 'iefn', 'ilrnh', 'ixsrn', 'oirn', 'sirfn', 'zfrn', 'riurn', 'izzrn', 'irhnl', 'irwxn', 'lra', 'hsrn', 'inh', 'virl', 'oru', 'irlx', 'oron', 'iew', 'qrin', 'ivrnu', 'vrnn', 'ibrnb', 'ipnk', 'prnh', 'nrhn', 'ivy', 'yzn', 'vrnf', 'nirz', 'irvw', 'rrt', 'sirnd', 'kikn', 'izrv', 'krnv', 'irnw', 'iernf', 'crkn', 'irhb', 'pirnl', 'ilrcn', 'nirnj', 'tprn', 'jfirn', 'tidrn', 'wrd', 'rx', 'fipn', 'dijn', 'wkn', 'iynv', 'irmwn', 'iej', 'irngi', 'cirl', 'irnrc', 'skirn', 'irzin', 'piqrn', 'iimrn', 'irnxe', 'irxv', 'pirnt', 'birnh', 'wrun', 'ixgn', 'jru', 'grnr', 'irnrv', 'bisn', 'ijmrn', 'irwv', 'mifrn', 'irwne', 'rirng', 'tmn', 'iwno', 'jiwn', 'mirnu', 'isrnf', 'iqrw', 'rrnh', 'grgn', 'irqnf', 'phn', 'niin', 'irtl', 'uirnh', 'yiron', 'irpb', 'zirf', 'irlnq', 'jirpn', 'yicn', 'iek', 'wrnm', 'irxnq', 'irvu', 'erdn', 'eijrn', 'arfn', 'iyvrn', 'iswn', 'itron', 'jairn', 'iara', 'iprx', 'uiryn', 'iux', 'kian', 'wiwn', 'qryn', 'nrns', 'oiirn', 'irqni', 'xrnm', 'cgrn', 'rrw', 'bvirn', 'yrfn', 'grl', 'uizrn', 'jrin', 'kirna', 'iqno', 'mrt', 'irhs', 'ipbn', 'irdl', 'nxirn', 'iznh', 'jirnj', 'ilkn', 'iryqn', 'irpvn', 'hr', 'uirnz', 'vyn', 'ieo', 'oien', 'yird', 'zorn', 'litn', 'irnuo', 'ibe', 'uikn', 'ionf', 'irnrx', 'hihrn', 'irht', 'irndt', 'imrs', 'rrln', 'birwn', 'yifrn', 'wbrn', 'yrr', 'irib', 'kzirn', 'fire', 'ihbrn', 'iyzrn', 'ibnrn', 'fian', 'firqn', 'iyon', 'qrnk', 'xrfn', 'iruan', 'ixt', 'bdrn', 'bmn', 'drng', 'girv', 'irfun', 'dirb', 'blrn', 'tirj', 'jrns', 'zirnp', 'wqrn', 'iwb', 'ilnt', 'inkrn', 'mrgn', 'irhnw', 'xinr', 'irrd', 'izrf', 'isrl', 'birh', 'hrs', 'aidrn', 'fifn', 'iwran', 'oirh', 'kqrn', 'irnpq', 'iunz', 'ipnn', 'irjcn', 'ivrtn', 'ibrr', 'oinn', 'irle', 'qkn', 'idrdn', 'wiren', 'bion', 'sirjn', 'girnn', 'iprp', 'mirx', 'hwirn', 'viran', 'cern', 'hiru', 'irpy', 'icnu', 'zre', 'qrsn', 'kiren', 'iydn', 'iyfn', 'rnm', 'grm', 'ixra', 'irjpn', 'irtnd', 'ruin', 'girh', 'wwn', 'pxn', 'iqnh', 'xiyrn', 'arwn', 'irnnu', 'irfng', 'iznn', 'ikrnb', 'oprn', 'iprnr', 'irzon', 'iaj', 'zzirn', 'aitn', 'airi', 'cnirn', 'ziwrn', 'jirgn', 'rern', 'ifrun', 'rinv', 'uirnu', 'trdn', 'irjkn', 'ivrnr', 'eirnw', 'itp', 'iurbn', 'ohirn', 'iron', 'icg', 'girf', 'irsf', 'zan', 'hirnb', 'drni', 'xrb', 'uiln', 'iwfrn', 'irnap', 'mkn', 'irnwb', 'nimrn', 'virnm', 'tirhn', 'ijt', 'sirj', 'irvv', 'inrt', 'qsrn', 'gsrn', 'siry', 'mirno', 'fgirn', 'irddn', 'pirna', 'ipk', 'firjn', 'ixne', 'eiin', 'firny', 'uiri', 'itr', 'diurn', 'jgrn', 'irra', 'pirin', 'irlin', 'lrt', 'hrc', 'grg', 'birmn', 'ilnh', 'zirgn', 'iretn', 'wrnt', 'izrbn', 'igln', 'piran', 'iernp', 'ioron', 'irngu', 'izhn', 'irsnf', 'qizn', 'ofrn', 'ziran', 'yirln', 'ihmrn', 'yrtn', 'iruno', 'librn', 'isbrn', 'nirno', 'ih', 'kivn', 'irnuq', 'irpnz', 'airb', 'irnsa', 'irubn', 'ihzrn', 'zrd', 'ffn', 'kirkn', 'jimn', 'firnd', 'ihrnw', 'pri', 'zisn', 'iyrdn', 'wijn', 'xirp', 'kircn', 'kirk', 'innu', 'srng', 'iggn', 'hirl', 'viri', 'licn', 'krgn', 'ireun', 'irqbn', 'eixn', 'iiw', 'ibrnq', 'umirn', 'irnmh', 'izorn', 'srn', 'frcn', 'rrnu', 'jirhn', 'irpnf', 'irznr', 'iinn', 'bmrn', 'irnbw', 'dirh', 'digrn', 'ikz', 'irtjn', 'irkb', 'zrb', 'iybrn', 'hrvn', 'aon', 'bfn', 'firl', 'iznu', 'dirnk', 'irniq', 'yirmn', 'ilrpn', 'ciwn', 'mign', 'irnmm', 'uimrn', 'hirt', 'trnx', 'sirhn', 'vijn', 'irvon', 'ilrkn', 'khrn', 'iirnt', 'irnma', 'iroz', 'iuern', 'qpirn', 'ims', 'nitrn', 'ipkrn', 'ikrnl', 'rirwn', 'ainn', 'irapn', 'oisrn', 'frn', 'ied', 'ctn', 'iprbn', 'irbna', 'srfn', 'izc', 'hiqn', 'irkq', 'lian', 'rrng', 'izrq', 'cirzn', 'irgg', 'nrfn', 'irgng', 'ipfn', 'ixvn', 'zhrn', 'iruen', 'ijna', 'ksrn', 'trv', 'urnu', 'irnn', 'inwr', 'oign', 'drnq', 'qirs', 'kibrn', 'grqn', 'hikrn', 'qiron', 'irakn', 'irman', 'mrno', 'xirnr', 'ivrdn', 'airqn', 'iuk', 'gxn', 'irirn', 'firnj', 'yqn', 'imno', 'iumn', 'irndk', 'qirnw', 'oirt', 'zrxn', 'gire', 'icmn', 'ivrnd', 'iks', 'viin', 'irnmz', 'ciqrn', 'uirgn', 'ihrc', 'tihn', 'irmu', 'urxn', 'irnmn', 'irwzn', 'hhrn', 'trnc', 'ierne', 'il', 'cln', 'ibrb', 'piarn', 'nkn', 'yirwn', 'rni', 'kirnu', 'ifj', 'irvnf', 'izw', 'isrnm', 'irgq', 'irznk', 'iznq', 'inrv', 'isen', 'iuf', 'bicn', 'irnou', 'irxnf', 'iwrsn', 'ifrnx', 'ions', 'irwm', 'icro', 'firng', 'ifrng', 'inb', 'icrr', 'aign', 'iwrbn', 'irnde', 'brwn', 'itnf', 'lrno', 'itm', 'srtn', 'urf', 'iirqn', 'yirnt', 'itna', 'irnk', 'irpnh', 'irji', 'ibrnw', 'tifn', 'iba', 'idhrn', 'irvnq', 'iernu', 'rln', 'jiru', 'icra', 'irom', 'vzirn', 'irbr', 'aian', 'irdwn', 'jxrn', 'tmirn', 'viarn', 'vire', 'ixno', 'vmrn', 'irxkn', 'irxb', 'nrs', 'fran', 'kirwn', 'umn', 'iryjn', 'wiryn', 'irmxn', 'liern', 'wvirn', 'irnm', 'iturn', 'krzn', 'tien', 'lan', 'irndn', 'xirrn', 'lirnb', 'ircs', 'dir', 'ewirn', 'xira', 'irpk', 'irnup', 'irnwt', 'uilrn', 'crx', 'iktn', 'erw', 'yhrn', 'girna', 'dihn', 'orr', 'ireu', 'hrl', 'irkv', 'rinf', 'ivran', 'xiryn', 'dvrn', 'irab', 'rrnr', 'iknq', 'arnp', 'irnnq', 'ignr', 'virng', 'zirnl', 'irsyn', 'xir', 'irqnv', 'itrnl', 'zirnt', 'irhxn', 'iusn', 'sirkn', 'itwrn', 'ihq', 'vign', 'iznl', 'irsnn', 'riyrn', 'ihtrn', 'igrnz', 'irnjn', 'cqn', 'jrirn', 'iprnv', 'iroun', 'nron', 'ibnf', 'irknr', 'icrnn', 'ilo', 'iremn', 'tqrn', 'irhsn', 'iynx', 'bon', 'icn', 'irmvn', 'ivrnm', 'xiurn', 'itmrn', 'ilrnv', 'irmin', 'ipny', 'irnya', 'voirn', 'dircn', 'imzn', 'lpirn', 'iis', 'uirin', 'rrxn', 'wbirn', 'uoirn', 'idtn', 'irbc', 'iraq', 'urzn', 'irbb', 'zrnx', 'lign', 'irsnb', 'firnl', 'iki', 'yrnd', 'vjrn', 'brnx', 'cru', 'eirnh', 'ieqn', 'zxirn', 'irlnd', 'jnr', 'roirn', 'irznp', 'lun', 'ipvrn', 'vdirn', 'yikrn', 'airnu', 'uhn', 'iedn', 'birp', 'ivnc', 'qtn', 'airun', 'irnjt', 'irnyk', 'sron', 'rirvn', 'iarnq', 'irnhp', 'firnz', 'crnp', 'inre', 'iiorn', 'r', 'icry', 'trt', 'grpn', 'frxn', 'fhrn', 'rwrn', 'iuny', 'ifnc', 'mirnc', 'irqns', 'ibnp', 'ixfrn', 'idrvn', 'itnr', 'irbo', 'izrxn', 'igrnu', 'ihrnn', 'innl', 'ajirn', 'ixrh', 'rirnb', 'rhn', 'oifrn', 'xrne', 'itnh', 'ivi', 'fqirn', 'iornn', 'krt', 'ivrj', 'srf', 'irijn', 'irkng', 'idra', 'wrmn', 'izo', 'tiun', 'irnxk', 'ilrdn', 'idrv', 'icrin', 'ilrgn', 'ipnx', 'irwny', 'iuru', 'tirvn', 'msn', 'jirn', 'irff', 'iura', 'irnjq', 'irnzo', 'lran', 'qvrn', 'igrc', 'ktirn', 'zkirn', 'fien', 'irnl', 'jirne', 'sirq', 'lirnl', 'ifns', 'grnx', 'grun', 'ionq', 'ciwrn', 'indn', 'irqfn', 'urz', 'iyqn', 'cnr', 'iira', 'eirwn', 'hiry', 'pmn', 'surn', 'wcn', 'irldn', 'iwwn', 'virvn', 'imorn', 'ven', 'isri', 'hrnk', 'ixnx', 'dirk', 'iratn', 'eirnz', 'wwirn', 'ijrns', 'iwkn', 'irdf', 'vcn', 'zbrn', 'kun', 'imra', 'zln', 'irncq', 'err', 'ird', 'iqj', 'irunc', 'krnb', 'bibrn', 'eirx', 'cixrn', 'bry', 'iqrcn', 'ilrr', 'imrf', 'nlrn', 'iay', 'irxbn', 'rrm', 'acirn', 'rrgn', 'arrn', 'irdm', 'irnsm', 'izrwn', 'ibwrn', 'inrnx', 'rm', 'crfn', 'izm', 'jrnv', 'qrhn', 'ith', 'pnn', 'ndn', 'ibren', 'izx', 'zrvn', 'idrnp', 'ejn', 'izng', 'icrd', 'syirn', 'pilrn', 'airln', 'ino', 'oixn', 'irwni', 'ibrs', 'veirn', 'uairn', 'irkd', 'iuri', 'iorj', 'iutn', 'viqrn', 'irez', 'iirhn', 'irzcn', 'szrn', 'qrnd', 'orfn', 'iqrkn', 'yfrn', 'nivrn', 'hrns', 'iurs', 'ihrpn', 'irrdn', 'irlt', 'ioren', 'yrh', 'aizn', 'yirc', 'trqn', 'irnue', 'inrnj', 'tbirn', 'irign', 'ikrng', 'dirmn', 'ncirn', 'iarbn', 'irdbn', 'iyhrn', 'miurn', 'yisrn', 'hircn', 'ingr', 'jryn', 'iirg', 'grsn', 'qirnz', 'sibrn', 'irlrn', 'igfrn', 'irzna', 'ibd', 'irenl', 'iqrt', 'iemn', 'blirn', 'vpn', 'iywrn', 'irph', 'invn', 'bri', 'iamrn', 'mirnd', 'pigrn', 'iurnl', 'virrn', 'biin', 'wprn', 'wre', 'mrg', 'rwn', 'inri', 'irsdn', 'irndw', 'prnr', 'iunh', 'jurn', 'srm', 'grr', 'zyrn', 'icnf', 'irbzn', 'ivnu', 'irvwn', 'iril', 'irtdn', 'uirna', 'iazrn', 'jjn', 'von', 'irngq', 'iuni', 'ard', 'cfrn', 'iorv', 'crln', 'irnrz', 'wrne', 'iang', 'ibra', 'irxhn', 'idqrn', 'itrl', 'grnz', 'irnqy', 'iwnv', 'oiran', 'iwrni', 'jrm', 'irjrn', 'irecn', 'cirno', 'ixrd', 'ivqrn', 'girsn', 'krnr', 'prz', 'iabrn', 'hrnr', 'mirtn', 'wqirn', 'irka', 'yry', 'jorn', 'brfn', 'yrb', 'ilwrn', 'brk', 'zrjn', 'trz', 'eirs', 'jrzn', 'irim', 'hrqn', 'vicrn', 'neirn', 'iprjn', 'brnr', 'yrcn', 'vrdn', 'birhn', 'nrv', 'inng', 'eikn', 'ijrx', 'gmirn', 'irion', 'eirbn', 'igd', 'itrk', 'irnbx', 'ijgrn', 'iarnw', 'bixn', 'irxm', 'ionw', 'iornd', 'aru', 'iugrn', 'iurnu', 'ise', 'mrwn', 'ijjn', 'ipvn', 'firln', 'iqnu', 'irnfs', 'ispn', 'irhw', 'ilpn', 'ivrnf', 'kiun', 'irlun', 'eirns', 'iynt', 'girpn', 'ilro', 'iprv', 'sirm', 'erni', 'xrmn', 'eirun', 'grin', 'mfirn', 'cirmn', 'izsrn', 'hirng', 'frnw', 'quirn', 'kirbn', 'hidrn', 'isrsn', 'iird', 'irqgn', 'kicn', 'xirpn', 'kkrn', 'rinr', 'irnbv', 'pircn', 'puirn', 'bire', 'ijurn', 'irln', 'qijn', 'ienb', 'xirnh', 'nrnv', 'iuna', 'zprn', 'zrtn', 'irunv', 'qirwn', 'airnp', 'dfn', 'mirnz', 'xirna', 'ihrtn', 'ort', 'hrjn', 'nren', 'irmnh', 'tirrn', 'qirm', 'wnrn', 'irnti', 'aidn', 'sqn', 'oidrn', 'eirnn', 'ifs', 'ircne', 'pirxn', 'irnug', 'ifrnf', 'irjnt', 'wisrn', 'giron', 'ivrna', 'iwvrn', 'hln', 'uern', 'jrv', 'iyern', 'idurn', 'ckrn', 'nrnr', 'irni', 'piprn', 'ijhn', 'irnie', 'cirrn', 'wmrn', 'mcn', 'ornr', 'irgyn', 'ijl', 'jrrn', 'ouirn', 'iue', 'drdn', 'eirsn', 'twirn', 'urh', 'irnvo', 'irfnm', 'iewrn', 'ici', 'itl', 'unn', 'jrnl', 'qirzn', 'hyrn', 'zirs', 'filn', 'ifrnl', 'jirfn', 'ijrnm', 'jirnx', 'irgen', 'ggirn', 'ienm', 'iring', 'irvy', 'irnmj', 'ibrpn', 'virfn', 'ifln', 'ibrnv', 'yzirn', 'ihkrn', 'gln', 'itrnv', 'irnyx', 'irwjn', 'firx', 'irnxo', 'irjj', 'iwrnp', 'iaorn', 'riw', 'isnd', 'tirt', 'trne', 'jirnt', 'ghirn', 'irxt', 'hifrn', 'aro', 'wiri', 'yiyrn', 'irngw', 'igj', 'irnll', 'irtnk', 'irea', 'virin', 'oln', 'niwn', 'irznc', 'sirns', 'ernd', 'rirnf', 'lrnl', 'hcrn', 'irknp', 'irtt', 'intr', 'irtg', 'uon', 'ix', 'ing', 'udn', 'ixsn', 'zimrn', 'irfq', 'oicn', 'icrno', 'ibrj', 'ainrn', 'irqpn', 'drv', 'itni', 'zra', 'mryn', 'irol', 'irnvv', 'iryni', 'ijnz', 'xorn', 'psn', 'ierxn', 'rid', 'iraan', 'qiri', 'rxin', 'virnl', 'irnko', 'gcn', 'ebirn', 'irbhn', 'mtrn', 'irwe', 'irou', 'icrny', 'bijn', 'irbnc', 'irnhz', 'tin', 'ireb', 'zuirn', 'ihnm', 'ignv', 'rrb', 'irxh', 'iqzrn', 'iorna', 'irit', 'pian', 'ijnrn', 'irbnh', 'ixkrn', 'zrk', 'irhnf', 'gnn', 'grnj', 'rurn', 'viry', 'virnx', 'yirnl', 'grs', 'liln', 'ortn', 'ipdn', 'son', 'iprng', 'iarnv', 'frny', 'eirc', 'jirrn', 'run', 'ivvn', 'dkn', 'zru', 'iysn', 'arq', 'ifrna', 'rdin', 'wrg', 'xhrn', 'erbn', 'eidrn', 'irfnx', 'wairn', 'kro', 'qrnn', 'isryn', 'gbn', 'dirnv', 'igvrn', 'rrd', 'ibrns', 'sxrn', 'irnmx', 'iqrng', 'rrnm', 'lorn', 'hoirn', 'irdnt', 'mixn', 'siln', 'guirn', 'virna', 'prirn', 'lwirn', 'ibrnj', 'irqa', 'yiern', 'irgmn', 'igri', 'irnwx', 'diqn', 'dirgn', 'isnq', 'tirz', 'iurpn', 'ilg', 'kjirn', 'irncl', 'iypn', 'idrwn', 'gikn', 'vra', 'crdn', 'mirn', 'grf', 'ktrn', 'ireln', 'zoirn', 'jrb', 'rdirn', 'rira', 'aion', 'irnkt', 'kry', 'ikni', 'zirdn', 'irnwo', 'irnip', 'rirnd', 'nirg', 'frgn', 'owrn', 'fra', 'pen', 'imrgn', 'irgh', 'iund', 'xbirn', 'dry', 'yrns', 'wzn', 'srjn', 'irdq', 'hrnf', 'igno', 'cbrn', 'airl', 'urnd', 'irgx', 'ibh', 'aifn', 'ikqrn', 'imsn', 'jrc', 'ligrn', 'iwnc', 'ibrz', 'irnlp', 'ijrnw', 'firz', 'virnk', 'ivno', 'ivrcn', 'tzrn', 'nirf', 'iznd', 'ilrhn', 'vyrn', 'arnb', 'ycirn', 'inkn', 'hizn', 'kfirn', 'uprn', 'lirnj', 'isnu', 'irnwg', 'ero', 'irybn', 'wxn', 'irfnc', 'irndc', 'kimrn', 'dirpn', 'immrn', 'irqu', 'qiran', 'ijnl', 'wrsn', 'giin', 'xiqrn', 'fln', 'vifn', 'irfdn', 'xinn', 'ritn', 'jir', 'eirnd', 'aiqrn', 'bbirn', 'igrna', 'iein', 'xirtn', 'irenp', 'jirln', 'ziorn', 'iqarn', 'irnlb', 'iyrnj', 'pirrn', 'itnc', 'irncm', 'krv', 'gern', 'irmen', 'iznb', 'iywn', 'ivru', 'irgnf', 'imrnl', 'hyn', 'oirnk', 'viru', 'ikren', 'idwn', 'irmnv', 'pirm', 'vr', 'irmh', 'xiun', 'nimn', 'qihrn', 'irozn', 'iijn', 'ryn', 'plirn', 'iprs', 'ugrn', 'ipc', 'biri', 'girnq', 'ieno', 'tirnv', 'irncw', 'fxirn', 'irgfn', 'iiin', 'pdirn', 'prxn', 'jiran', 'irene', 'nrn', 'oirx', 'qdn', 'rrna', 'yiwrn', 'dryn', 'ilrt', 'ifnx', 'kinrn', 'iranp', 'ivo', 'irnby', 'iwre', 'ifrns', 'zrr', 'arnc', 'grny', 'iarrn', 'pvirn', 'jinn', 'eirn', 'sgn', 'tirnb', 'iurnk', 'irxnr', 'ceirn', 'igsrn', 'qrtn', 'icrq', 'zgn', 'imgrn', 'iwnt', 'firk', 'airnj', 'emirn', 'ikmn', 'ornp', 'kxrn', 'srv', 'iunv', 'irncd', 'ijnd', 'wrnc', 'qirh', 'dren', 'igvn', 'iqhn', 'diran', 'prng', 'sizn', 'sirwn', 'ierqn', 'vikn', 'fen', 'ixprn', 'ifin', 'iertn', 'zrnq', 'irhk', 'wrj', 'liirn', 'cirk', 'ixun', 'arirn', 'fon', 'izv', 'ixnt', 'trnp', 'irhnj', 'pre', 'tgrn', 'igrmn', 'eiqrn', 'iuarn', 'irwz', 'iybn', 'irx', 'irbni', 'irua', 'eirni', 'irgf', 'dirnl', 'ifq', 'hrnp', 'mwrn', 'gmrn', 'jtn', 'yurn', 'oran', 'ibnh', 'mirnx', 'sqrn', 'fhirn', 'irlsn', 'rxn', 'lirr', 'zirnu', 'srsn', 'jrd', 'ixd', 'iuyn', 'irnsb', 'sijn', 'iqdrn', 'ihrk', 'irten', 'irhf', 'irgd', 'lln', 'irnky', 'xrnt', 'mren', 'ficn', 'uyn', 'iwrng', 'iruq', 'irog', 'idri', 'irnph', 'tirjn', 'eirjn', 'iruvn', 'ibna', 'igrdn', 'xru', 'mirqn', 'qrj', 'sicn', 'infr', 'iernm', 'vrnc', 'wirnm', 'iirj', 'irngb', 'djrn', 'imrb', 'ivrin', 'ignq', 'kirns', 'iuv', 'kire', 'irndz', 'kron', 'iqvn', 'ixlrn', 'iordn', 'irgtn', 'igrnx', 'irin', 'kzn', 'iyzn', 'arz', 'cicn', 'irvnk', 'xikn', 'ibrfn', 'rirzn', 'non', 'irpnq', 'irtz', 'yidrn', 'ijrt', 'irntv', 'pirnc', 'bien', 'lrsn', 'vitn', 'trs', 'pira', 'iruun', 'xro', 'iyrsn', 'irnnd', 'vien', 'irniv', 'nyrn', 'izen', 'yjn', 'iqrv', 'iruh', 'srnz', 'fizrn', 'xiln', 'imrln', 'frv', 'oorn', 'jiarn', 'ikjn', 'rirln', 'mirgn', 'zirnr', 'ipon', 'nirh', 'ibrmn', 'viwn', 'irpx', 'irban', 'yirnz', 'izrnc', 'yiran', 'hrna', 'yrgn', 'jirnw', 'airnf', 'circ', 'ijrnn', 'qien', 'iparn', 'ikrs', 'hirni', 'urg', 'irctn', 'idfrn', 'ifxn', 'izlrn', 'iroin', 'omrn', 'virun', 'rirns', 'imtrn', 'irngx', 'irrns', 'irdh', 'icrnm', 'qrnf', 'miren', 'irlnh', 'iawn', 'evirn', 'mirnq', 'tigrn', 'hrw', 'grtn', 'olirn', 'irpan', 'jihn', 'irvng', 'ifrv', 'jrr', 'ttirn', 'wern', 'scrn', 'rirgn', 'viirn', 'ijno', 'ifrx', 'zirin', 'cire', 'oiron', 'qiry', 'irnjh', 'idrt', 'vxirn', 'jrg', 'firon', 'irend', 'qrb', 'ivfn', 'eimn', 'imrnd', 'irnqp', 'iyrnb', 'xkrn', 'iwnrn', 'igrfn', 'qru', 'ixna', 'ixrpn', 'uiru', 'nirnq', 'mrjn', 'icrg', 'kn', 'innt', 'tiarn', 'ins', 'qirnf', 'icrun', 'irzbn', 'yirun', 'iermn', 'irnol', 'eirk', 'irnht', 'erpn', 'irniz', 'uln', 'iain', 'ianb', 'ixre', 'irpkn', 'pirln', 'kion', 'iwrnv', 'nmrn', 'itrnf', 'mrnj', 'lgirn', 'irnha', 'igrnn', 'irpdn', 'pzirn', 'brf', 'zwirn', 'inqrn', 'zkn', 'ytirn', 'ixnd', 'icrx', 'ioryn', 'iph', 'irnuj', 'irnat', 'xiorn', 'liro', 'xirwn', 'ojrn', 'rrj', 'oirny', 'wiirn', 'iornf', 'ydirn', 'rp', 'ocn', 'iarno', 'irqw', 'cidn', 'iorc', 'itkn', 'irnhr', 'iann', 'vrnl', 'izyrn', 'ixirn', 'hisrn', 'ijrs', 'iersn', 'iany', 'irej', 'isrny', 'eirw', 'iarf', 'icjn', 'yiin', 'ilryn', 'vin', 'itcn', 'iricn', 'irnzm', 'jwirn', 'iod', 'ailn', 'lirnc', 'ircu', 'xirxn', 'idhn', 'kjn', 'ieprn', 'irgnm', 'icryn', 'mirkn', 'oion', 'brc', 'xryn', 'ikrni', 'ihrp', 'iyvn', 'dirc', 'iwnj', 'iee', 'iebrn', 'gidn', 'irdhn', 'irsr', 'irxen', 'eisn', 'mln', 'qiwn', 'irza', 'iriny', 'irnsq', 'irbtn', 'imnd', 'qirl', 'miwrn', 'ierh', 'rlirn', 'xzirn', 'mihn', 'ipwn', 'irgne', 'iqq', 'alirn', 'ienr', 'iqvrn', 'dirv', 'iqcn', 'xiern', 'hern', 'mrnu', 'imfrn', 'irnfm', 'yrna', 'tirdn', 'qirv', 'iryin', 'yirrn', 'grp', 'gyirn', 'itrni', 'iranc', 'sikn', 'oipn', 'xran', 'eqn', 'irrin', 'irrnj', 'irnld', 'isv', 'irnxu', 'ixny', 'xiwn', 'mirrn', 'ygn', 'irzng', 'irzn', 'ppirn', 'cirb', 'rirni', 'ixn', 'ilnrn', 'obrn', 'qirdn', 'xikrn', 'biorn', 'zihrn', 'uorn', 'irsng', 'eivrn', 'pirnq', 'prs', 'itorn', 'srpn', 'ijrh', 'urns', 'jilrn', 'euirn', 'ixyrn', 'jiirn', 'mrnx', 'irwnb', 'sirnw', 'djn', 'irob', 'ibp', 'irhnh', 'timn', 'exirn', 'xrkn', 'iruy', 'inqn', 'ircnc', 'irunp', 'iyran', 'ixrxn', 'izrzn', 'imnm', 'ict', 'ixh', 'coirn', 'irvg', 'imwrn', 'lmrn', 'idlrn', 'irznz', 'irngv', 'arsn', 'irbno', 'visn', 'lion', 'bifrn', 'inf', 'sorn', 'izwrn', 'siqrn', 'miryn', 'iana', 'irne', 'irjnz', 'rrnv', 'ihrgn', 'oyrn', 'icrmn', 'ihny', 'cikn', 'igk', 'prnc', 'zron', 'mrfn', 'ciin', 'iirc', 'zirnc', 'irnrw', 'hrng', 'yrf', 'icmrn', 'itnv', 'urnh', 'iirny', 'kirxn', 'ten', 'irsb', 'urnp', 'ilrk', 'irkj', 'irzgn', 'irnpj', 'xxrn', 'irhgn', 'irgnx', 'iont', 'trg', 'rrtn', 'iramn', 'ircna', 'oizrn', 'llirn', 'krnm', 'irwqn', 'llrn', 'dirnj', 'fyn', 'ziun', 'wirwn', 'wirnv', 'iakn', 'liyrn', 'ione', 'prcn', 'idrhn', 'ilnw', 'lirn', 'crf', 'ixrv', 'eirt', 'ibrne', 'try', 'iaru', 'ihrnf', 'grnc', 'icrs', 'wirw', 'orng', 'drno', 'iprnc', 'lirnn', 'rrdn', 'irwnd', 'ierb', 'hiern', 'cibrn', 'iyn', 'rnf', 'icbrn', 'norn', 'iwyrn', 'kivrn', 'icrbn', 'iwrw', 'pirjn', 'imp', 'inrh', 'kqn', 'rirfn', 'ilrh', 'ysrn', 'zen', 'ircni', 'kan', 'eiprn', 'inrgn', 'isyrn', 'oivrn', 'oire', 'mrrn', 'irdgn', 'isrdn', 'ikrdn', 'cirwn', 'isirn', 'xyirn', 'hrsn', 'qrnq', 'mrdn', 'mfrn', 'irpwn', 'iwru', 'grk', 'ciirn', 'irnif', 'irqvn', 'irij', 'idarn', 'irnev', 'iarny', 'jirnn', 'irmf', 'yrn', 'kirnv', 'jicn', 'jkn', 'ijrni', 'ihrqn', 'irlnr', 'rirf', 'irfno', 'ihrnc', 'idrnq', 'firne', 'iardn', 'nr', 'irrcn', 'brne', 'inrnk', 'irnjg', 'iino', 'winr', 'zdn', 'irunu', 'iqnm', 'epirn', 'evn', 'crw', 'isrw', 'isrnk', 'irg', 'yirni', 'bnrn', 'jinrn', 'fmirn', 'ihrw', 'iwrd', 'iarm', 'art', 'dmirn', 'irneh', 'woirn', 'hxirn', 'izbn', 'ezrn', 'grnn', 'krjn', 'irsnj', 'irlnn', 'yinr', 'iynw', 'ibi', 'ig', 'iyron', 'ijnw', 'ur', 'irnkw', 'ierzn', 'irfy', 'frc', 'ibns', 'ybrn', 'ivrg', 'tiirn', 'bian', 'izrvn', 'iprd', 'irlyn', 'bzn', 'htn', 'rrmn', 'lixn', 'trm', 'inrwn', 'cirt', 'gihrn', 'wrng', 'izg', 'geirn', 'iwrnm', 'irdx', 'oirkn', 'iphrn', 'irurn', 'irtnm', 'ersn', 'wrin', 'nrirn', 'wfn', 'mrf', 'iqrq', 'mxirn', 'irqnw', 'invr', 'wijrn', 'wrnr', 'irymn', 'hrd', 'srun', 'gibn', 'kirnq', 'ianc', 'gqn', 'ihqrn', 'liqrn', 'irgz', 'mirc', 'uibrn', 'ipdrn', 'ivrnv', 'igqrn', 'irzc', 'crp', 'uirbn', 'iafn', 'iarni', 'imrnx', 'ipe', 'irsh', 'inrnv', 'icqn', 'ru', 'jirnh', 'krw', 'srz', 'yirnc', 'ikrnu', 'ifrc', 'jrnj', 'icbn', 'firtn', 'ijdn', 'frsn', 'iymrn', 'ihrnu', 'ihrng', 'insr', 'erq', 'iqrnd', 'rivn', 'xrns', 'iicrn', 'vtrn', 'likrn', 'irngj', 'irnae', 'isren', 'srirn', 'lrnb', 'iernk', 'iutrn', 'jihrn', 'irnhy', 'jtrn', 'yiorn', 'tnrn', 'irnyr', 'irnzn', 'cirny', 'nirln', 'ipnj', 'ivdrn', 'uixrn', 'ifrm', 'ivns', 'irlnl', 'qxn', 'lry', 'ioyrn', 'mcirn', 'hzirn', 'prnb', 'tixn', 'mirdn', 'idzn', 'shirn', 'giurn', 'irrln', 'iaro', 'ibsrn', 'argn', 'wyn', 'iuw', 'linr', 'ccn', 'irtno', 'rlrn', 'wro', 'bairn', 'irmi', 'irqx', 'irnu', 'irqan', 'cirnw', 'ixp', 'mrq', 'lircn', 'jtirn', 'harn', 'dirx', 'zvirn', 'irnca', 'krno', 'ciro', 'irqj', 'ipnp', 'isrwn', 'zrg', 'ibcn', 'wkrn', 'rirun', 'imrcn', 'irann', 'irap', 'wimrn', 'eprn', 'ircf', 'irnka', 'ixb', 'izrh', 'ionl', 'ivrqn', 'ipfrn', 'uan', 'irdnf', 'ihyrn', 'virbn', 'tirp', 'mrng', 'itrsn', 'ivrnb', 'iex', 'iql', 'ixnrn', 'ianw', 'ircno', 'irxno', 'zrm', 'wrnl', 'eisrn', 'srh', 'pfrn', 'iawrn', 'airpn', 'iqp', 'ignn', 'qrdn', 'djirn', 'ithrn', 'frpn', 'irrnr', 'wrt', 'nipn', 'iornk', 'yir', 'diin', 'miro', 'iork', 'nfrn', 'airnk', 'irdns', 'air', 'orj', 'zirg', 'iwnl', 'irsi', 'iena', 'rarn', 'irnum', 'dinrn', 'xird', 'bikn', 'irnxw', 'irkin', 'hiryn', 'izra', 'jbrn', 'ngrn', 'ibrng', 'irmm', 'irns', 'mairn', 'irney', 'rign', 'qirz', 'vrpn', 'pln', 'irjnh', 'irll', 'ttn', 'irnyi', 'vrnk', 'inrvn', 'irmnl', 'girrn', 'ibcrn', 'goirn', 'irfnj', 'irbq', 'iogrn', 'ntirn', 'clirn', 'hirp', 'giorn', 'imxrn', 'rirjn', 'vipn', 'idin', 'lirs', 'virc', 'irnck', 'idrun', 'irzan', 'biarn', 'irfz', 'vyirn', 'oitn', 'izi', 'jrni', 'iknr', 'irnid', 'riorn', 'frvn', 'ibqn', 'fivrn', 'pgirn', 'ijkrn', 'iji', 'mro', 'qirnb', 'muirn', 'iiren', 'izru', 'ibirn', 'irwdn', 'irwh', 'uxn', 'ftirn', 'inrnf', 'ionj', 'birnt', 'birnq', 'ciorn', 'kiirn', 'irhnv', 'ynn', 'ikan', 'ikq', 'abrn', 'irlni', 'ifrbn', 'irnj', 'irnqr', 'won', 'rirnv', 'nion', 'iprm', 'uirno', 'cihrn', 'irtan', 'ftn', 'itgn', 'iyryn', 'cikrn', 'rizn', 'pinn', 'fiun', 'irinq', 'ibun', 'ipri', 'irhne', 'irxnv', 'sdrn', 'ayrn', 'iruln', 'pimn', 'vrgn', 'wrnn', 'iirnw', 'rit', 'irnvj', 'mrqn', 'qixn', 'irnpp', 'eipn', 'nairn', 'girun', 'qrz', 'urirn', 'irnrs', 'irnwq', 'kirq', 'eiran', 'iornv', 'jitn', 'dien', 'ijg', 'irp', 'brb', 'iwj', 'jibn', 'qdirn', 'irnoz', 'dirln', 'iwf', 'ilnj', 'irnhd', 'ilrny', 'drr', 'mjrn', 'siirn', 'isna', 'rirk', 'irnfh', 'irjnd', 'irngf', 'ibryn', 'gtirn', 'xirv', 'izt', 'iwrmn', 'izb', 'iranu', 'irntn', 'xrvn', 'ihpn', 'prn', 'icrzn', 'grh', 'virns', 'tre', 'rinz', 'ibnr', 'hitrn', 'obirn', 'ipxrn', 'jsrn', 'iwin', 'ihnv', 'igrnd', 'irqnn', 'irgnp', 'irhnr', 'srnj', 'uirqn', 'htirn', 'hsn', 'isrun', 'iurp', 'riru', 'iars', 'ooirn', 'irdz', 'bipn', 'bzrn', 'idnw', 'ieb', 'irzdn', 'zifn', 'cfn', 'imrz', 'irba', 'sirsn', 'dirng', 'irfd', 'ilrne', 'ldrn', 'iezn', 'ijrnl', 'rrnf', 'iqorn', 'imh', 'imnw', 'irwnh', 'hrgn', 'ivnp', 'ihsn', 'ijnb', 'arxn', 'njirn', 'iernb', 'itd', 'fnirn', 'cron', 'ijon', 'ikrmn', 'iu', 'iorns', 'ohn', 'ikzn', 'zrnu', 'girz', 'trx', 'ivf', 'irznx', 'irop', 'iynrn', 'i', 'ikrv', 'hrnh', 'lrkn', 'irpp', 'mon', 'tirnu', 'itxrn', 'irznl', 'gyn', 'nirt', 'krs', 'qihn', 'karn', 'iixrn', 'irdmn', 'xen', 'icrqn', 'etrn', 'iorb', 'eurn', 'ixnl', 'ryin', 'ry', 'givrn', 'iir', 'xirzn', 'xirnc', 'mbn', 'sirnz', 'mirhn', 'rigrn', 'hpn', 'innk', 'irznu', 'yirk', 'lcirn', 'wrnq', 'cirz', 'sitrn', 'irnds', 'pisn', 'isrno', 'siro', 'hirny', 'rirne', 'wirnl', 'niqrn', 'hxn', 'rikn', 'rirxn', 'irjsn', 'ewn', 'hkrn', 'iirtn', 'ibfrn', 're', 'iromn', 'iaarn', 'pijn', 'ircd', 'miorn', 'iriq', 'ikrm', 'itre', 'xarn', 'wryn', 'iarz', 'eign', 'iqrna', 'izn', 'ibrnn', 'irwd', 'grwn', 'zmrn', 'tun', 'imrnj', 'yirne', 'wrnz', 'irncr', 'aigrn', 'ifnz', 'dihrn', 'irnqt', 'drd', 'orln', 'ivrnj', 'irnrr', 'irncb', 'qirj', 'irr', 'iznt', 'iqry', 'ireni', 'yrnj', 'cijrn', 'wln', 'ily', 'idmn', 'ziryn', 'irnpl', 'qrnh', 'lirtn', 'irpj', 'rng', 'orno', 'iwron', 'gixrn', 'irzb', 'tfn', 'hfrn', 'zidrn', 'irqtn', 'vwrn', 'izro', 'jlrn', 'irsnm', 'imfn', 'vijrn', 'crnf', 'irnje', 'jn', 'zircn', 'siprn', 'irdg', 'yrp', 'iczrn', 'ikrqn', 'arl', 'ifon', 'irdnc', 'irnye', 'iagrn', 'csrn', 'iqrd', 'srnk', 'ihgrn', 'irnqh', 'iqpn', 'cirpn', 'girnp', 'trna', 'iprn', 'iayn', 'iraa', 'iric', 'nirmn', 'lnr', 'nzn', 'irndu', 'iwni', 'sirxn', 'irnle', 'ilrsn', 'yrxn', 'vrny', 'uwn', 'irnia', 'wrxn', 'icrnl', 'trnt', 'imsrn', 'yiln', 'ufn', 'fird', 'irund', 'iqrpn', 'mrm', 'ilrp', 'imns', 'mrz', 'swrn', 'isrnq', 'uird', 'ieen', 'ilern', 'ikern', 'icz', 'dirq', 'mrun', 'iroln', 'icc', 'idnl', 'irnkc', 'irxxn', 'ircfn', 'ifen', 'syrn', 'ity', 'ilx', 'irndb', 'iyjn', 'oinrn', 'ihnk', 'iorg', 'ekirn', 'tilrn', 'irnzv', 'iruv', 'irnju', 'ixrnz', 'prr', 'oiarn', 'hirpn', 'ikrpn', 'irnox', 'aan', 'hira', 'irrnc', 'irnqq', 'iocn', 'irsln', 'viern', 'isrqn', 'zrpn', 'ihrjn', 'isk', 'oirni', 'virnh', 'ihjrn', 'irnoy', 'idrz', 'ihrvn', 'pirpn', 'hrne', 'eiorn', 'irdn', 'pirsn', 'birx', 'nrr', 'siwrn', 'irtqn', 'arns', 'swirn', 'uvrn', 'icnp', 'jrnk', 'rru', 'irevn', 'hqn', 'noirn', 'wikrn', 'birl', 'krna', 'xirg', 'vren', 'koirn', 'ihng', 'trny', 'erx', 'hirhn', 'zqrn', 'zirhn', 'rizrn', 'irjnk', 'xibn', 'ory', 'oirnj', 'xirz', 'hirmn', 'irknx', 'icrh', 'qyn', 'dirnu', 'irok', 'birtn', 'bpirn', 'iig', 'drtn', 'oircn', 'ihrnb', 'mern', 'aun', 'vxrn', 'jidrn', 'iarx', 'ivry', 'tlrn', 'iartn', 'iqnk', 'birnn', 'ikrno', 'kirf', 'ibrk', 'mrr', 'irvnt', 'cwrn', 'ajn', 'ick', 'iraqn', 'irnow', 'ilri', 'zqn', 'brnm', 'iint', 'piri', 'yrl', 'cpn', 'iwmrn', 'iftn', 'rkn', 'imhn', 'hvrn', 'qrs', 'irnbr', 'rirh', 'oxn', 'yin', 'iwgn', 'qijrn', 'frnr', 'nirnp', 'giqrn', 'trgn', 'ijr', 'iyrnt', 'hirz', 'irngm', 'iiron', 'ornt', 'ifqn', 'phirn', 'abirn', 'igrb', 'irxan', 'qrnz', 'pirmn', 'irjz', 'itrb', 'itarn', 'irinj', 'mkirn', 'irzz', 'riu', 'innh', 'ark', 'iong', 'ifvn', 'irnhm', 'edirn', 'bitn', 'itran', 'nirr', 'ijrnt', 'sirny', 'wrnj', 'lmirn', 'pirj', 'wnn', 'irho', 'yrjn', 'erc', 'inni', 'irfh', 'jmn', 'ircnk', 'krirn', 'iwun', 'imrp', 'irrgn', 'iaern', 'idro', 'irinf', 'jrnw', 'ilirn', 'icnh', 'irrx', 'arbn', 'jwn', 'irnct', 'inin', 'dcn', 'irfvn', 'piurn', 'drb', 'irem', 'ri', 'zrnp', 'ilhrn', 'jizn', 'ril', 'irnh', 'ikrvn', 'iernr', 'iwrtn', 'irens', 'ximrn', 'wirq', 'zirkn', 'cirnc', 'qsirn', 'ixmrn', 'kird', 'ircbn', 'imm', 'igrl', 'drm', 'rry', 'trwn', 'ijrxn', 'kuirn', 'inun', 'irojn', 'wiran', 'irnqu', 'ijnu', 'yirn', 'irnmy', 'ihrnh', 'mlirn', 'ibfn', 'pijrn', 'jcirn', 'dirin', 'iwrpn', 'kien', 'irzi', 'bimn', 'irgin', 'pjn', 'riny', 'irznw', 'iwrln', 'irnxj', 'iync', 'irinv', 'uun', 'kiin', 'ikne', 'kirun', 'jirnl', 'yairn', 'irndq', 'irxmn', 'idrw', 'rinc', 'irlk', 'ikun', 'irxfn', 'grxn', 'ppn', 'irxcn', 'yiro', 'win', 'iirgn', 'birs', 'lihrn', 'itrnr', 'lrirn', 'minn', 'irnwz', 'riun', 'irfnh', 'wrr', 'kilrn', 'irnwl', 'irrng', 'irpnk', 'xrs', 'iwrt', 'irknc', 'yrd', 'rirdn', 'ixj', 'ikrl', 'lnn', 'imr', 'irnvx', 'irnqm', 'nrxn', 'urng', 'dirtn', 'lisrn', 'hrn', 'virm', 'srmn', 'aryn', 'jivrn', 'wiurn', 'sirln', 'jeirn', 'irong', 'iua', 'ibtrn', 'iekn', 'icnd', 'girnk', 'wrzn', 'ivrx', 'xgrn', 'rint', 'iqjn', 'zro', 'ixvrn', 'xvn', 'wrvn', 'hrxn', 'irvk', 'sfirn', 'xrz', 'iadn', 'trhn', 'riirn', 'niqn', 'irifn', 'irds', 'iursn', 'mnr', 'ciry', 'ijrna', 'diarn', 'igrqn', 'krqn', 'iyns', 'eihrn', 'arnj', 'onr', 'nrz', 'igne', 'irspn', 'uiprn', 'it', 'irnmg', 'isx', 'ibwn', 'ixrnf', 'izny', 'irnwh', 'irga', 'tirnr', 'cirxn', 'itrhn', 'ifrg', 'idrnx', 'xyrn', 'gvrn', 'yra', 'sbn', 'iyyn', 'xrv', 'tir', 'nwirn', 'irnjm', 'bkirn', 'ijnp', 'yrpn', 'zian', 'qzirn', 'ie', 'vrwn', 'iimn', 'irkn', 'oirmn', 'irth', 'prpn', 'fxn', 'irbnd', 'znr', 'qirxn', 'iinj', 'snrn', 'jiry', 'siarn', 'iinx', 'bfirn', 'urw', 'irnyf', 'irgnh', 'arny', 'hrni', 'hian', 'ernf', 'iqw', 'vihrn', 'eiru', 'hrmn', 'rfn', 'dirl', 'vru', 'iormn', 'ixrnp', 'iqron', 'ionrn', 'bigrn', 'firan', 'irdnl', 'yvn', 'ffrn', 'inu', 'irmni', 'drj', 'airen', 'iirq', 'qirkn', 'sirgn', 'irbmn', 'irrwn', 'ilgrn', 'rirr', 'pnirn', 'ios', 'irnkg', 'xirin', 'uiorn', 'filrn', 'liran', 'corn', 'irhnu', 'lron', 'ixrjn', 'zirfn', 'wirzn', 'imrv', 'zirn', 'nirnr', 'yibn', 'itnm', 'ired', 'ivp', 'wdrn', 'arv', 'irva', 'irwtn', 'yirfn', 'mrv', 'inc', 'ipjn', 'iibrn', 'injn', 'irma', 'irwi', 'nisn', 'aen', 'mrh', 'ikrnr', 'ilng', 'irtnh', 'irqen', 'lsirn', 'mwn', 'ifng', 'irwmn', 'irnlm', 'iyj', 'ini', 'jnrn', 'frs', 'mirnp', 'korn', 'dicrn', 'trnq', 'id', 'irus', 'ifa', 'fdrn', 'emrn', 'zirns', 'aurn', 'zri', 'tqirn', 'irotn', 'iff', 'cirx', 'ixrr', 'sion', 'izrln', 'iuan', 'irmnd', 'dirny', 'yrdn', 'crj', 'vfrn', 'ufirn', 'igrcn', 'prt', 'ipw', 'kkn', 'drwn', 'rxirn', 'itt', 'iryk', 'cran', 'wun', 'pprn', 'aiqn', 'idrnz', 'irunb', 'iswrn', 'rna', 'hlrn', 'ite', 'irfhn', 'iflrn', 'kirnk', 'irznh', 'airkn', 'irmqn', 'irnra', 'irbrn', 'tirc', 'irins', 'iruz', 'bdn', 'trnr', 'girnw', 'ijbn', 'ierr', 'airvn', 'imry', 'irvun', 'ifrrn', 'vrr', 'vgirn', 'ifjrn', 'iddrn', 'idprn', 'vrfn', 'lrj', 'eibrn', 'mrmn', 'irvm', 'ibrg', 'kirny', 'irndp', 'cirnb', 'eizn', 'dhirn', 'iprnb', 'iryl', 'itren', 'rrbn', 'irqc', 'ifrp', 'ittrn', 'jrng', 'yirqn', 'irre', 'ixnn', 'wirnq', 'prv', 'drmn', 'crsn', 'ixran', 'iryns', 'ixrnu', 'hrj', 'imrnc', 'icrnt', 'ivri', 'irwg', 'iohrn', 'crnz', 'idk', 'pirb', 'bivn', 'oiryn', 'crnn', 'imq', 'irrmn', 'virq', 'girw', 'im', 'cbn', 'ernj', 'jxn', 'jirtn', 'irhnp', 'irafn', 'vfirn', 'cirnj', 'irncf', 'iqrdn', 'idrnn', 'yryn', 'inrbn', 'vifrn', 'yirnv', 'xiyn', 'iunc', 'irnur', 'orv', 'irvr', 'irfm', 'iknv', 'ifrqn', 'ihp', 'irnit', 'urv', 'ljn', 'urnq', 'jdirn', 'ixrbn', 'jire', 'frtn', 'iiprn', 'iopn', 'ibhrn', 'zirsn', 'iris', 'iresn', 'rnk', 'niryn', 'brx', 'irpqn', 'irnhe', 'ibk', 'ifern', 'qirpn', 'drxn', 'irjln', 'drl', 'zirni', 'iixn', 'irwin', 'irnwu', 'hre', 'ianz', 'irnnb', 'iurzn', 'iqr', 'iar', 'oarn', 'irrr', 'izre', 'ivorn', 'ivfrn', 'tijn', 'zirh', 'ikg', 'sirdn', 'irttn', 'wru', 'yhirn', 'dbirn', 'birne', 'frln', 'cvirn', 'icu', 'dird', 'irunn', 'its', 'vpirn', 'izna', 'jrvn', 'ikcrn', 'irnxh', 'iknx', 'imvrn', 'inrnc', 'ixw', 'qrnt', 'ioxrn', 'icrhn', 'ura', 'pitrn', 'gron', 'girb', 'fwrn', 'imc', 'wirqn', 'prh', 'rirnc', 'ifh', 'csirn', 'irtk', 'innw', 'gitrn', 'irynt', 'pwrn', 'girzn', 'didn', 'ernu', 'ilrnl', 'nurn', 'idan', 'frg', 'ilry', 'varn', 'rtirn', 'imurn', 'zire', 'hirnx', 'dirzn', 'girqn', 'prbn', 'fhn', 'xirq', 'irnzl', 'oirnb', 'fifrn', 'ijvn', 'urnb', 'mirni', 'gicn', 'irzhn', 'irwnm', 'irnyd', 'eirng', 'ibrq', 'nsirn', 'irky', 'zivn', 'srne', 'lirni', 'prnw', 'zirnw', 'ajrn', 'ihri', 'irnpz', 'pdn', 'pikrn', 'iacn', 'firb', 'viyn', 'iujrn', 'birin', 'iarl', 'ifrtn', 'iqrno', 'irki', 'hirr', 'imprn', 'qirb', 'irobn', 'irwln', 'itz', 'iarng', 'girnz', 'xirne', 'jon', 'orc', 'osrn', 'pirf', 'ifna', 'irjtn', 'irrc', 'erwn', 'ievn', 'uigrn', 'iurf', 'ivrxn', 'inrni', 'crnd', 'ifrno', 'irern', 'lirwn', 'firnb', 'ers', 'nirn', 'irh', 'irneq', 'ipnd', 'uiin', 'ihrm', 'kcn', 'iarna', 'airzn', 'irink', 'lilrn', 'crgn', 'jion', 'diryn', 'ikrnc', 'ijan', 'iryy', 'ipnc', 'iornz', 'wrkn', 'dra', 'itrnh', 'aijn', 'pign', 'drg', 'cjn', 'irnjf', 'irhtn', 'lirnv', 'nrd', 'iwrx', 'irgwn', 'xrr', 'iuryn', 'irlhn', 'icyn', 'irk', 'irsno', 'virnb', 'frj', 'trng', 'kon', 'xign', 'irkhn', 'irnyz', 'wkirn', 'drna', 'irbk', 'hirc', 'irue', 'hixn', 'krk', 'winn', 'piyrn', 'ornd', 'irnyu', 'yre', 'irnsf', 'iwdn', 'ikrkn', 'own', 'ireh', 'hrwn', 'iwrjn', 'icrnz', 'irpu', 'trk', 'rrne', 'diorn', 'sirc', 'yrnh', 'ikvrn', 'iai', 'oirna', 'yun', 'tkrn', 'wiqn', 'iyb', 'inrnw', 'eiirn', 'zrhn', 'oiro', 'ipv', 'mdirn', 'vjn', 'brzn', 'ivlrn', 'ifrj', 'pirnb', 'irfb', 'xjirn', 'eirf', 'eigrn', 'yon', 'irvcn', 'mbrn', 'xitrn', 'uizn', 'rhrn', 'irony', 'xirc', 'iwna', 'irlnp', 'ivrng', 'lrln', 'brnv', 'iprxn', 'kmirn', 'irjzn', 'iropn', 'wirnb', 'sirnc', 'ierv', 'iwk', 'irejn', 'arkn', 'riq', 'icrnd', 'itny', 'irnoq', 'isrnz', 'chirn', 'firnr', 'rnn', 'ioun', 'frd', 'imun', 'pirnp', 'irdnm', 'ibkn', 'ixln', 'kisrn', 'cisn', 'oern', 'qjn', 'irvh', 'tiro', 'pirnn', 'wirhn', 'irvc', 'xijrn', 'irzzn', 'fitn', 'iurnn', 'rrrn', 'irlm', 'irneb', 'fron', 'wirnc', 'irnqz', 'wirnu', 'mrtn', 'brnt', 'fiirn', 'iknb', 'wsn', 'ipxn', 'idng', 'qimn', 'iruc', 'trj', 'bgn', 'irkzn', 'irnkv', 'idrs', 'cirdn', 'ukn', 'imrsn', 'iure', 'izjn', 'ikrnd', 'iirn', 'esrn', 'wirl', 'ihrny', 'ivv', 'icnm', 'izfn', 'xeirn', 'lirna', 'irqne', 'irj', 'giru', 'itrh', 'igrne', 'isrn', 'irznd', 'tyirn', 'irjjn', 'prc', 'inl', 'ipnt', 'img', 'irhq', 'irnex', 'igrk', 'ivrp', 'gzirn', 'ara', 'vqirn', 'iruna', 'drnr', 'virxn', 'ifne', 'irbbn', 'kran', 'qirx', 'vion', 'rgrn', 'hiwn', 'lrnd', 'jrno', 'xirw', 'piru', 'zvrn', 'iwng', 'izrn', 'irnui', 'ykrn', 'figrn', 'hnirn', 'xirvn', 'irlfn', 'orx', 'irac', 'jiyrn', 'vurn', 'nrbn', 'nrtn', 'trjn', 'isern', 'bifn', 'icurn', 'xbrn', 'myn', 'qrirn', 'irtr', 'jmrn', 'yirj', 'iarxn', 'itqn', 'irsun', 'hrq', 'ijen', 'trnb', 'ihnx', 'virs', 'irzfn', 'xln', 'imqrn', 'cirin', 'crni', 'urb', 'fnn', 'iwrfn', 'ixarn', 'irtp', 'firnk', 'irnxt', 'virni', 'pibn', 'rir', 'icwrn', 'ignl', 'pyirn', 'ivbn', 'nrx', 'nmn', 'fijn', 'rmirn', 'tirm', 'krnu', 'kiru', 'irau', 'irl', 'iwrv', 'wirgn', 'iqrnz', 'isrgn', 'akrn', 'ihrmn', 'irnq', 'dirrn', 'uinn', 'idne', 'irknb', 'rqrn', 'iwrh', 'hign', 'lirzn', 'ivrz', 'itrnn', 'iirdn', 'irnkl', 'inru', 'grhn', 'qrnv', 'ziwn', 'inrnm', 'iyw', 'iyrz', 'irnvr', 'iyrwn', 'pirne', 'irnjy', 'dwirn', 'irzk', 'dimn', 'iqna', 'brnj', 'crna', 'imren', 'ilxn', 'irjnw', 'eirnv', 'yirt', 'fzirn', 'uivn', 'sir', 'lin', 'tinrn', 'zbn', 'iyrny', 'yirx', 'trxn', 'irnze', 'iryq', 'ivkn', 'wrnv', 'cbirn', 'ikv', 'lirk', 'yyrn', 'bqn', 'zrzn', 'ira', 'gdrn', 'kkirn', 'iqjrn', 'irnhv', 'sryn', 'fidn', 'birng', 'hen', 'iwtrn', 'feirn', 'iaun', 'grnt', 'iwd', 'iyprn', 'irngp', 'bdirn', 'virnj', 'firbn', 'cixn', 'itqrn', 'iqd', 'yirin', 'arb', 'mrnb', 'itrnz', 'ingn', 'hijn', 'cirj', 'ipf', 'lirfn', 'isnc', 'xrj', 'mirr', 'jrn', 'mirpn', 'ivren', 'wrs', 'irbne', 'iykrn', 'irznn', 'iskrn', 'jrdn', 'wirtn', 'irng', 'idrgn', 'irxwn', 'crqn', 'irezn', 'uirne', 'uirnc', 'ugn', 'arnf', 'ikxn', 'itrfn', 'airy', 'girg', 'itrnk', 'iyrk', 'oirnr', 'iot', 'irgo', 'itnt', 'wfirn', 'igy', 'irhnq', 'iwrc', 'omn', 'frno', 'ina', 'ityrn', 'viryn', 'irnam', 'izgn', 'irrrn', 'irnrf', 'iesrn', 'infrn', 'iraun', 'inx', 'virp', 'birnc', 'iari', 'niyrn', 'uirnn', 'ixcn', 'kprn', 'qifn', 'ihrin', 'ikrg', 'ioj', 'kimn', 'icrnx', 'zwn', 'btrn', 'iridn', 'tire', 'irrv', 'kinr', 'mizrn', 'irlnb', 'ifni', 'irngc', 'irwbn', 'iekrn', 'rrnt', 'ivun', 'wrh', 'kirm', 'fiqrn', 'tarn', 'fjrn', 'mnrn', 'qiren', 'yrwn', 'inv', 'irir', 'isi', 'iryz', 'ica', 'wirj', 'iffrn', 'hdirn', 'xirl', 'lfn', 'ucrn', 'irkt', 'icrvn', 'iknw', 'irsjn', 'uwrn', 'isrnv', 'iprnl', 'ihy', 'izin', 'iuren', 'dinr', 'brr', 'rra', 'pirc', 'inm', 'kairn', 'kitrn', 'arne', 'irlnz', 'nrnl', 'cjrn', 'iryzn', 'tbrn', 'vrnx', 'qvirn', 'irnsc', 'giun', 'dirne', 'iqnq', 'irjbn', 'smn', 'irdnh', 'irnhh', 'iscrn', 'iqrhn', 'eirnq', 'miry', 'iirng', 'hrin', 'idnn', 'irgno', 'irnfe', 'icy', 'eimrn', 'irnod', 'iranv', 'yarn', 'zirl', 'oijrn', 'irvpn', 'isn', 'srnh', 'irtnt', 'rjirn', 'ptrn', 'zrt', 'eyirn', 'circn', 'uirf', 'iznj', 'irmnr', 'xvrn', 'birn', 'jrbn', 'nir', 'irci', 'jwrn', 'qrf', 'ikrcn', 'iwnh', 'ixnm', 'lro', 'tiran', 'isgn', 'itrmn', 'qirg', 'gprn', 'iean', 'ilnc', 'irxjn', 'irbnp', 'irnaf', 'ikdn', 'iwv', 'crhn', 'izl', 'iyrl', 'qnirn', 'ngn', 'trnf', 'irnuy', 'sigrn', 'mnirn', 'pixrn', 'irbp', 'ify', 'ils', 'hrr', 'ifr', 'iynh', 'sirmn', 'xirjn', 'irnnx', 'frnu', 'ijw', 'iera', 'trni', 'prvn', 'iwrkn', 'birb', 'mzn', 'tnirn', 'irkrn', 'zrqn', 'uirni', 'qon', 'irnni', 'izk', 'iqfrn', 'pirni', 'iwm', 'iuin', 'irgl', 'irinz', 'ucirn', 'izri', 'rirbn', 'iforn', 'irhzn', 'nfn', 'yrt', 'icrni', 'irgna', 'irmv', 'iernv', 'irdd', 'birj', 'kvirn', 'iaprn', 'ile', 'krln', 'imk', 'ocirn', 'ifry', 'irbin', 'imrbn', 'iprr', 'girnx', 'irnmd', 'irnco', 'ii', 'urm', 'irlan', 'irwnx', 'iqdn', 'ywirn', 'irnd', 'krhn', 'ifun', 'iryo', 'lrnf', 'or', 'pirvn', 'irv', 'irtnc', 'itrnb', 'oirnx', 'imv', 'iiln', 'iqny', 'iwnw', 'kiyn', 'rine', 'iqrnw', 'irson', 'uirhn', 'icnj', 'iknp', 'ignm', 'uhrn', 'rwin', 'iyrni', 'eqrn', 'girfn', 'pdrn', 'irnej', 'sitn', 'iranw', 'qirin', 'isz', 'iye', 'ipl', 'izmrn', 'iarqn', 'irnad', 'irvnl', 'iprq', 'rirqn', 'vitrn', 'iwsn', 'nrnt', 'firi', 'tion', 'irtvn', 'ibnj', 'firw', 'irnno', 'tfrn', 'jird', 'iurnb', 'iuu', 'iirb', 'irnem', 'nixn', 'irtm', 'jiurn', 'gcrn', 'firrn', 'uirg', 'ibyn', 'irnnv', 'prsn', 'ife', 'uinrn', 'liun', 'irfwn', 'ihb', 'pihn', 'irlq', 'ivu', 'iyu', 'tern', 'girp', 'swn', 'iwirn', 'prnq', 'iraln', 'iinh', 'ijrm', 'iznp', 'jirsn', 'iz', 'irdni', 'rein', 'irbsn', 'idw', 'brnw', 'okirn', 'iwnb', 'xien', 'iedrn', 'ipen', 'trln', 'zirne', 'wirin', 'ijrj', 'ibro', 'ivnj', 'zien', 'idsn', 'itrpn', 'iurcn', 'rrs', 'iirzn', 'ieirn', 'nun', 'girk', 'irqnq', 'irvna', 'irnge', 'firnh', 'irpnn', 'irxnc', 'nirc', 'prnd', 'qrfn', 'ironf', 'icrrn', 'izz', 'yirdn', 'ixrmn', 'qidrn', 'brin', 'gon', 'iwren', 'irwcn', 'otirn', 'gihn', 'isrcn', 'tiyn', 'brcn', 'xrd', 'girnv', 'dirnt', 'iytrn', 'lru', 'irxa', 'inrne', 'rr', 'crv', 'ivrnt', 'iqrnf', 'irtw', 'zidn', 'iaf', 'biurn', 'igryn', 'sinn', 'ienq', 'anirn', 'iyxn', 'nrw', 'igrpn', 'ijnf', 'birz', 'iifrn', 'vibn', 'isrnb', 'kre', 'zrv', 'itrnc', 'prnv', 'irwj', 'irnwa', 'ilfrn', 'ipsn', 'ibrnp', 'irat', 'hbrn', 'crin', 'iinv', 'yrqn', 'irnyg', 'imrnb', 'ixxn', 'ironl', 'irro', 'lirnf', 'irry', 'nrln', 'irmnt', 'iman', 'ircnt', 'iryln', 'ivk', 'ijorn', 'vkn', 'soirn', 'sgirn', 'iknc', 'lrnw', 'irtnv', 'iwln', 'irven', 'nhirn', 'omirn', 'xrnu', 'wiprn', 'ilk', 'imrny', 'ivrbn', 'nra', 'hjirn', 'rnl', 'ghrn', 'yvrn', 'igrny', 'rt', 'drsn', 'irxq', 'zrn', 'kiarn', 'igrt', 'nnrn', 'piirn', 'ircpn', 'ico', 'jirnz', 'gun', 'qibrn', 'inrnl', 'giri', 'fnr', 'irnvf', 'kcrn', 'ikkn', 'kijrn', 'hirnd', 'niru', 'fcn', 'innd', 'icrdn', 'krz', 'iynm', 'rirrn', 'rinl', 'iepn', 'vrrn', 'irzns', 'iqnz', 'irbt', 'pikn', 'iurq', 'cirjn', 'irndo', 'carn', 'wian', 'lirnr', 'iat', 'irefn', 'ianrn', 'inrq', 'srno', 'alrn', 'odirn', 'irabn', 'ihnq', 'yrnv', 'orrn', 'irnza', 'airr', 'mirj', 'pmrn', 'irb', 'iynp', 'riln', 'ijzn', 'irnbt', 'inxn', 'pfn', 'nirxn', 'eirny', 'jirkn', 'nirnn', 'kwrn', 'izrb', 'ulrn', 'ipng', 'hrnb', 'fdirn', 'evrn', 'irmsn', 'xsirn', 'hvn', 'erin', 'krkn', 'idrk', 'iind', 'yrkn', 'ivyrn', 'igrq', 'airns', 'irjin', 'arc', 'rnt', 'ivnw', 'virnf', 'mrin', 'qrnp', 'iirns', 'iria', 'ikmrn', 'igry', 'ivni', 'xircn', 'nirna', 'jyirn', 'zxn', 'ivrno', 'iorm', 'iryu', 'ifjn', 'piern', 'hfirn', 'irdrn', 'qwirn', 'irqnm', 'iolrn', 'tirw', 'airp', 'ginr', 'rirnx', 'nrnb', 'zicrn', 'ibrnl', 'lrq', 'iurnd', 'irnpf', 'iradn', 'ercn', 'jircn', 'isrj', 'iwzrn', 'irpno', 'irpo', 'tvrn', 'ilsn', 'irsbn', 'ibrnd', 'kizrn', 'ind', 'divrn', 'virnd', 'ierun', 'aiwrn', 'idren', 'inprn', 'itrns', 'iurqn', 'iurnr', 'jrnx', 'xirnq', 'ikrnp', 'itvn', 'zjrn', 'ycn', 'nrh', 'vvrn', 'nrgn', 'zirnq', 'sirna', 'zirw', 'oiri', 'yln', 'iken', 'imnq', 'oirxn', 'xirni', 'xrng', 'irsj', 'xrcn', 'yjrn', 'irgnc', 'irnyp', 'uyirn', 'rsn', 'ord', 'ixrrn', 'iank', 'zyirn', 'irmhn', 'brz', 'rind', 'vrtn', 'drw', 'iynj', 'iragn', 'ueirn', 'uimn', 'irany', 'ircns', 'xbn', 'ifrnp', 'irxnk', 'vian', 'xsrn', 'oirwn', 'irwy', 'irxny', 'sixn', 'ilt', 'irdb', 'krj', 'iznrn', 'rnb', 'eirtn', 'irvb', 'iukn', 'hirnm', 'ijrc', 'icr', 'dn', 'grln', 'fryn', 'hirm', 'ivxrn', 'ifnr', 'lrnj', 'iby', 'irean', 'ikjrn', 'mrkn', 'xrt', 'irbnr', 'diru', 'uidn', 'irhnk', 'irbun', 'eirpn', 'ixrna', 'mqrn', 'rrv', 'zirnz', 'gqrn', 'ijgn', 'idrb', 'kirne', 'ironz', 'idrp', 'irntq', 'dirnr', 'iltrn', 'qiqrn', 'irnoi', 'lrvn', 'ierm', 'izrcn', 'lrrn', 'vln', 'oigrn', 'yiyn', 'giln', 'iarnr', 'rjrn', 'qrvn', 'lirnp', 'ihnl', 'ibzrn', 'ahn', 'ibrw', 'mvn', 'nird', 'ixg', 'izrrn', 'sarn', 'iqlrn', 'ijd', 'ionb', 'ircr', 'izns', 'imny', 'kgn', 'ein', 'iqrm', 'ijrnu', 'ikrnx', 'lrz', 'irnsn', 'kri', 'witrn', 'icrnk', 'rhirn', 'rijrn', 'irktn', 'irprn', 'ikns', 'xuirn', 'xifrn', 'ktn', 'hon', 'iorgn', 'igo', 'dern', 'imrq', 'ipj', 'hinrn', 'irncp', 'luirn', 'irhy', 'xmrn', 'irhr', 'einr', 'ilrbn', 'irnqk', 'xcirn', 'ircdn', 'irdne', 'ziro', 'hilrn', 'prwn', 'iznv', 'isran', 'hinn', 'nrc', 'iernw', 'gryn', 'iym', 'krh', 'ahrn', 'pfirn', 'itsrn', 'trc', 'ivrnh', 'inran', 'mimrn', 'peirn', 'mirnn', 'irync', 'ihtn', 'irvnb', 'ich', 'krsn', 'lnrn', 'irnrl', 'ibnl', 'iwnk', 'vhrn', 'icran', 'ndrn', 'mrnz', 'vrh', 'bpn', 'irnwc', 'irzm', 'lrnh', 'lmn', 'durn', 'ihnw', 'imrmn', 'bkrn', 'irls', 'zir', 'eiro', 'irbi', 'iii', 'irqhn', 'thn', 'igrx', 'vlirn', 'rzin', 'uisn', 'ijrtn', 'irnrh', 'iqrnp', 'imrnu', 'iodn', 'mrnp', 'inrcn', 'dan', 'irnmf', 'ztirn', 'itrw', 'irekn', 'efirn', 'irinh', 'itk', 'isrnu', 'qiin', 'qnn', 'ikk', 'hiqrn', 'siru', 'inrkn', 'dirnf', 'riran', 'irtzn', 'iprw', 'oiurn', 'ijcrn', 'ijcn', 'irjg', 'tcrn', 'efn', 'irnal', 'frp', 'ipni', 'wien', 'icvn', 'uirn', 'iuo', 'titrn', 'ubirn', 'ipan', 'xrno', 'zirxn', 'irpin', 'irynk', 'pirnj', 'lrtn', 'iryc', 'grnb', 'irnku', 'rien', 'iknt', 'jinr', 'rrl', 'zicn', 'fion', 'ignf', 'irunx', 'iorjn', 'kirsn', 'iip', 'iiro', 'iirl', 'irnja', 'vrsn', 'txirn', 'lirng', 'frb', 'firq', 'zirc', 'gien', 'isrh', 'viwrn', 'irkm', 'irhjn', 'irzr', 'irsqn', 'izni', 'iqhrn', 'hrnt', 'inrxn', 'wdirn', 'yitn', 'mirl', 'iknrn', 'igrln', 'ernc', 'yilrn', 'oiln', 'irpm', 'yfirn', 'kmrn', 'nrp', 'irknt', 'rvirn', 'irnkb', 'qlirn', 'ienz', 'irinu', 'liprn', 'qirnq', 'ijrpn', 'irnzs', 'kxn', 'imrt', 'oirsn', 'oxrn', 'zurn', 'yirkn', 'ifru', 'nirq', 'zrdn', 'nyn', 'irnax', 'irvd', 'wipn', 'irjm', 'oirv', 'imdrn', 'irjnj', 'ivkrn', 'ibrt', 'cyirn', 'ijrnp', 'iiny', 'inirn', 'irnqe', 'irhnb', 'bidn', 'irunf', 'irjnb', 'irnps', 'bqirn', 'lirrn', 'ijrrn', 'fbn', 'pirgn', 'mirun', 'ihh', 'irfni', 'zirnn', 'dixn', 'irux', 'ipd', 'trcn', 'drrn', 'ijrnz', 'xrnc', 'ivbrn', 'irnsh', 'iof', 'hiprn', 'iknh', 'cifn', 'iztrn', 'hrv', 'brnh', 'irnhb', 'crns', 'zrna', 'ijvrn', 'irmns', 'ihre', 'drbn', 'igrnp', 'ibu', 'aira', 'irxng', 'vircn', 'irnz', 'ipyrn', 'iprb', 'dre', 'kiqrn', 'apirn', 'orny', 'iqrg', 'iizn', 'mlrn', 'iyrd', 'rri', 'yirnh', 'ivin', 'ijrf', 'oirin', 'lrnn', 'iinu', 'vinrn', 'rdn', 'irnry', 'iurnf', 'ijbrn', 'aarn', 'hiun', 'sxirn', 'dqirn', 'ivwn', 'ruirn', 'irke', 'uirb', 'ixl', 'igrkn', 'dprn', 'iwns', 'vrnt', 'ijrnr', 'ifrd', 'wirne', 'oikn', 'rsirn', 'ihne', 'erb', 'irnfz', 'lairn', 'irwu', 'birv', 'ibt', 'rirp', 'irtnl', 'ipno', 'trbn', 'zpirn', 'pra', 'irmtn', 'zirmn', 'irpbn', 'igun', 'irbx', 'ibw', 'iwcrn', 'krc', 'zign', 'irntr', 'itrln', 'irynz', 'qrrn', 'qirny', 'ifv', 'iwnx', 'bru', 'rrnk', 'idrjn', 'zirz', 'hihn', 'irnzb', 'ihryn', 'rirny', 'ihrna', 'vrx', 'jln', 'isrb', 'irnns', 'hrb', 'ipna', 'ifnu', 'jfn', 'nwrn', 'brnu', 'gvirn', 'jcn', 'iqrnq', 'iaz', 'ibdn', 'iqrin', 'irnvh', 'hirnk', 'zirzn', 'ilrnp', 'ihc', 'irnzc', 'jr', 'istn', 'jiron', 'arj', 'prnz', 'pirl', 'irsfn', 'iyra', 'acn', 'ians', 'ijwrn', 'winrn', 'glrn', 'irpfn', 'irenm', 'ifrcn', 'uihrn', 'icrtn', 'ipgrn', 'qirtn', 'irjnm', 'iqnj', 'aiern', 'irnpc', 'jirbn', 'irnls', 'irsns', 'arnx', 'igf', 'trpn', 'ihrwn', 'iuwrn', 'ihs', 'osn', 'irnvn', 'irgnn', 'irngn', 'gipn', 'qirnv', 'n', 'irnqo', 'irznj', 'pun', 'zdrn', 'idrd', 'ipnrn', 'zikrn', 'imqn', 'urq', 'kiurn', 'irvp', 'iyrcn', 'wrx', 'irnks', 'grni', 'iyrzn', 'cirnf', 'ztn', 'iqcrn', 'vimrn', 'arno', 'irnww', 'xra', 'ivrnc', 'irnnl', 'pirnk', 'diyn', 'cifrn', 'mrj', 'qtrn', 'ijrsn', 'urna', 'ipnb', 'ircon', 'izrnx', 'iqtrn', 'itne', 'dirnh', 'vinr', 'iegn', 'irano', 'ltrn', 'irnfi', 'irnga', 'ikre', 'pisrn', 'igrf', 'irzqn', 'crnu', 'igrr', 'nrnw', 'virg', 'kiprn', 'rrnw', 'agirn', 'izrl', 'hdrn', 'iasrn', 'iidn', 'ihrh', 'oirun', 'yirnf', 'mrnr', 'irtnr', 'yiry', 'piron', 'krng', 'ctrn', 'uidrn', 'lrs', 'vkirn', 'iqbn', 'irqsn', 'ircnn', 'irqqn', 'idns', 'yiarn', 'tnr', 'irqng', 'iwrm', 'erh', 'eirr', 'hirln', 'ditn', 'aiurn', 'irwnt', 'ori', 'irgc', 'irnsk', 'urnw', 'imnv', 'htrn', 'zrirn', 'airxn', 'lkn', 'fibrn', 'eqirn', 'ikrh', 'xirnj', 'ivrnq', 'ipmrn', 'ilmrn', 'iranj', 'irnpr', 'iqrnh', 'irpyn', 'imrnp', 'ierdn', 'ikrr', 'irehn', 'nrcn', 'wpn', 'irwnw', 'irqyn', 'xrnp', 'irqno', 'icnb', 'iryd', 'virnt', 'irsx', 'irjan', 'iexn', 'zion', 'ozirn', 'cirnt', 'ihrnq', 'iwa', 'ikp', 'ipm', 'ovrn', 'irkun', 'miru', 'ticn', 'trh', 'eitn', 'ihrnv', 'ibrf', 'bwn', 'eiqn', 'khirn', 'ivrr', 'tan', 'irxnh', 'ikno', 'ryrn', 'mijrn', 'zirwn', 'itrtn', 'itg', 'idf', 'rirnw', 'iurg', 'ijz', 'vidrn', 'irnli', 'wtrn', 'irane', 'ilrf', 'dnr', 'gjn', 'iwnu', 'ikyn', 'irnpu', 'aisn', 'oirnv', 'viron', 'rns', 'irjno', 'ivrl', 'marn', 'niyn', 'ziurn', 'ytrn', 'ynirn', 'kirb', 'irdnb', 'ianl', 'rivrn', 'men', 'ircjn', 'ric', 'ecirn', 'birdn', 'kra', 'iqrnt', 'ixnp', 'frk', 'xrnv', 'yiwn', 'kyn', 'ilhn', 'iazn', 'ornn', 'ierng', 'joirn', 'irimn', 'rd', 'rrnb', 'ssrn', 'vizn', 'srd', 'irdnu', 'garn', 'dirj', 'grna', 'pizn', 'qrln', 'irmg', 'sign', 'isrnr', 'ien', 'ijyrn', 'uirnf', 'iirm', 'wirkn', 'vrnu', 'kiran', 'iygrn', 'irdnk', 'iajn', 'dibn', 'iqqn', 'isrnw', 'inhn', 'hzrn', 'orkn', 'mrn', 'pry', 'irnqi', 'kpirn', 'irnub', 'imj', 'rnq', 'yiryn', 'wirna', 'hrnj', 'irgnv', 'iurnc', 'hrnd', 'qirnm', 'irren', 'irsm', 'trr', 'irnzu', 'iwr', 'zrun', 'ixrnq', 'ury', 'grnu', 'ylirn', 'riron', 'ittn', 'irzrn', 'wrnp', 'ixni', 'qinn', 'igm', 'itfrn', 'imrj', 'iort', 'ioqrn', 'dzrn', 'irpnw', 'zrln', 'virb', 'ilnp', 'iufn', 'fir', 'gikrn', 'iqsrn', 'ijrln', 'hirg', 'irvo', 'iao', 'irnfv', 'imkn', 'yrin', 'olrn', 'qirnu', 'irknm', 'irbm', 'iden', 'ifkn', 'ivre', 'iprnu', 'urln', 'cfirn', 'sdirn', 'injr', 'qrm', 'izjrn', 'cmn', 'crpn', 'wirni', 'irtin', 'irbnt', 'kirnw', 'iruf', 'ijne', 'icun', 'isnl', 'in', 'iurna', 'iyny', 'iwjn', 'irazn', 'ifnrn', 'rvrn', 'iprl', 'dfrn', 'ircz', 'idrnm', 'irjp', 'mrvn', 'kirz', 'ihrrn', 'iant', 'xirn', 'irjfn', 'irnao', 'ircun', 'finrn', 'ernw', 'icnn', 'uqirn', 'idrrn', 'brnc', 'igin', 'igrng', 'irexn', 'nsn', 'ixrf', 'prhn', 'airgn', 'irvfn', 'irxun', 'yirnp', 'zrrn', 'yijrn', 'fign', 'jcrn', 'irnne', 'irwen', 'ibzn', 'nirnz', 'irwun', 'igorn', 'iyf', 'ierj', 'irnjw', 'rirnz', 'ibv', 'ivrkn', 'lirf', 'zon', 'dirsn', 'irzny', 'iton', 'irncu', 'irnfn', 'itrq', 'itzrn', 'vtirn', 'crq', 'zrne', 'hirh', 'igz', 'brni', 'wilrn', 'irnrj', 'birnl', 'igp', 'trnk', 'iia', 'ziren', 'yiirn', 'izj', 'irwnv', 'cgirn', 'rrvn', 'gra', 'timrn', 'fmrn', 'iwrnt', 'iozn', 'iprni', 'itrny', 'izrin', 'iqrgn', 'yibrn', 'iprh', 'ironj', 'irqn', 'irrnu', 'irnbd', 'iqrns', 'irnlt', 'pbn', 'yirnq', 'irzkn', 'ifw', 'cra', 'irwc', 'awrn', 'firnw', 'irwnu', 'uarn', 'cyn', 'fren', 'irmzn', 'icd', 'iarwn', 'ars', 'ilrz', 'xrirn', 'vbn', 'mrnq', 'ikhrn', 'yirm', 'urnn', 'xivrn', 'irrg', 'minr', 'vrz', 'crnk', 'ierjn', 'jiorn', 'inrzn', 'ijv', 'cmirn', 'irbd', 'ihbn', 'wan', 'ift', 'jvirn', 'ixrn', 'igrzn', 'jidn', 'srk', 'iocrn', 'rq', 'virkn', 'miqn', 'issrn', 'ikr', 'lxn', 'ziprn', 'iond', 'ibvn', 'gifrn', 'isf', 'brtn', 'igxrn', 'idrnw', 'iwnr', 'rirn', 'ysn', 'isnk', 'drcn', 'imrzn', 'irqnp', 'iery', 'ioi', 'iqrnc', 'imnn', 'rrh', 'lzrn', 'vgrn', 'iqnd', 'ixri', 'ririn', 'oian', 'ironb', 'rinh', 'iznk', 'zsrn', 'idg', 'liarn', 'irenw', 'irnfp', 'itpn', 'ignh', 'irhno', 'gimrn', 'wbn', 'zirna', 'ixi', 'wirnd', 'ixrzn', 'fyrn', 'qqirn', 'wrnk', 'miran', 'iuqn', 'irnrq', 'ijarn', 'irqnu', 'qeirn', 'irnki', 'libn', 'irof', 'ixern', 'brs', 'zgirn', 'irtn', 'icfn', 'itxn', 'ervn', 'ilre', 'irbz', 'cirln', 'srnu', 'drzn', 'tiqn', 'nrnm', 'ibl', 'pren', 'qxrn', 'ivr', 'iev', 'itcrn', 'rqin', 'sirbn', 'ixrwn', 'irant', 'irynn', 'ihwn', 'icrnc', 'sro', 'mrnv', 'iyq', 'iprny', 'rinm', 'gre', 'ierx', 'qirnr', 'iiv', 'hfn', 'irkx', 'dran', 'crny', 'eiry', 'iret', 'rnirn', 'sre', 'iarhn', 'grkn', 'iyxrn', 'kgirn', 'vrg', 'iecrn', 'xrq', 'isnb', 'awn', 'igrsn', 'jrnp', 'aird', 'ijrhn', 'vinn', 'irdnq', 'irnpy', 'bn', 'lqn', 'drpn', 'izyn', 'irnpn', 'irxnu', 'irnlo', 'irxnz', 'irfk', 'iprfn', 'irnxm', 'igrm', 'zr', 'kirt', 'ijrmn', 'atrn', 'lifrn', 'irnse', 'iprnh', 'urcn', 'irnqc', 'ixrnm', 'ninrn', 'ovn', 'kirnb', 'tran', 'ihsrn', 'hirqn', 'xirnw', 'iraf', 'iirne', 'lfrn', 'nrpn', 'irzw', 'yrw', 'irjen', 'iuon', 'irjf', 'orxn', 'iyng', 'irnyv', 'birvn', 'ardn', 'witn', 'ianx', 'ujn', 'ilb', 'virf', 'ifrwn', 'yiun', 'irm', 'yxn', 'irndd', 'hitn', 'iif', 'wgirn', 'ean', 'iqn', 'ibnn', 'inrw', 'wirpn', 'irpln', 'pbirn', 'yirnr', 'nnr', 'iqt', 'obn', 'irnxc', 'iynl', 'jre', 'tbn', 'iqro', 'vrnd', 'isni', 'itrin', 'iirrn', 'irton', 'eifrn', 'pin', 'ircnv', 'krd', 'ijrjn', 'hirnu', 'vsrn', 'imrnr', 'inrmn', 'hnn', 'trf', 'iry', 'irnog', 'iourn', 'airv', 'miln', 'pirzn', 'oon', 'irvrn', 'ikxrn', 'irxr', 'irutn', 'ilrnm', 'iggrn', 'ribrn', 'jirin', 'irvnw', 'imtn', 'qirr', 'jyrn', 'irhd', 'cpirn', 'ijry', 'irxp', 'irniu', 'xlrn', 'imrng', 'ironq', 'icp', 'bhn', 'tirn', 'irct', 'igro', 'qhirn', 'irnlc', 'ixzrn', 'igmrn', 'imrnk', 'iiq', 'ifrjn', 'igl', 'irnyo', 'hrzn', 'iyfrn', 'civn', 'zzrn', 'isrc', 'inrl', 'xirx', 'frqn', 'ilrxn', 'qrnm', 'ivrun', 'irrw', 'tdn', 'qrn', 'sun', 'irlnf', 'iou', 'airfn', 'ern', 'krnp', 'izq', 'lvrn', 'qiun', 'eiern', 'oiin', 'jirl', 'bira', 'eirnk', 'virjn', 'hrtn', 'irnvp', 'wiron', 'ifnj', 'itrzn', 'nre', 'zkrn', 'ikirn', 'birkn', 'liorn', 'idrnr', 'irgw', 'qlrn', 'tirnc', 'zrng', 'idnd', 'wirxn', 'knrn', 'irgnt', 'dri', 'ikm', 'grno', 'izcn', 'isqrn', 'tirf', 'wizn', 'ircv', 'irko', 'nirv', 'itn', 'iyrnv', 'idryn', 'hurn', 'ijern', 'wnirn', 'iyrgn', 'azn', 'rirnn', 'girr', 'itw', 'irpnp', 'ikrd', 'brqn', 'iurno', 'kirmn', 'irnwn', 'irmj', 'een', 'ierin', 'irsw', 'wrk', 'porn', 'lisn', 'rirnj', 'ipnz', 'dnirn', 'ihrnp', 'tirun', 'ine', 'aihn', 'igzrn', 'inmrn', 'eiln', 'scn', 'rj', 'aijrn', 'dirbn', 'bryn', 'icl', 'irnqw', 'iernh', 'uitrn', 'wirb', 'ilyrn', 'rihn', 'ilsrn', 'isrnl', 'arnq', 'ieon', 'yion', 'irlf', 'prtn', 'dire', 'ivrn', 'finn', 'irs', 'nrg', 'wixrn', 'itln', 'irjon', 'isrpn', 'ihk', 'irnmb', 'irneu', 'gmn', 'irhan', 'irhm', 'lirnd', 'tiren', 'ofirn', 'xirnx', 'iranm', 'irmt', 'ilj', 'lrp', 'erun', 'ilv', 'icsrn', 'vlrn', 'kixn', 'irvyn', 'esn', 'prnn', 'ybn', 'urhn', 'iah', 'irnpv', 'ixry', 'eren', 'birgn', 'irnme', 'fiern', 'ciqn', 'pidn', 'irsnt', 'isne', 'isl', 'itrnx', 'kihn', 'ivhrn', 'pirk', 'ihrln', 'birc', 'irmnc', 'aiin', 'uirs', 'erxn', 'iyk', 'irqm', 'ilran', 'irynb', 'tign', 'irlz', 'wiun', 'irixn', 'trirn', 'ioorn', 'irlne', 'sirnu', 'mrnn', 'ierrn', 'mircn', 'xtirn', 'tirbn', 'wirnh', 'iarnt', 'crirn', 'irron', 'imri', 'dilrn', 'idrl', 'tjrn', 'ietn', 'fivn', 'irlnm', 'iirmn', 'tiin', 'biwrn', 'crun', 'ilrnt', 'silrn', 'irndm', 'iorl', 'wwrn', 'ipro', 'ikon', 'iornr', 'isg', 'ibrnf', 'nirng', 'ifnp', 'arzn', 'iubn', 'sr', 'isrng', 'vvirn', 'jrt', 'dirun', 'ijx', 'gitn', 'ivnr', 'fri', 'irfzn', 'irhmn', 'irlnv', 'irngo', 'qirnp', 'zrny', 'irnin', 'icv', 'ihnz', 'miron', 'vrnv', 'iryt', 'tirnf', 'ilnu', 'izvrn', 'vigrn', 'rfrn', 'ihxrn', 'eixrn', 'irnke', 'fro', 'wgrn', 'wirh', 'poirn', 'iirin', 'insrn', 'ipcrn', 'irnva', 'imi', 'arun', 'ijron', 'mrnf', 'erk', 'hrnz', 'aiyn', 'qurn', 'iqni', 'ivvrn', 'irnfl', 'airz', 'qrc', 'atn', 'irnxa', 'inrnt', 'yhn', 'qirln', 'isnp', 'pro', 'irdng', 'kirvn', 'ironi', 'irnor', 'urc', 'drln', 'ixrk', 'jrw', 'aiyrn', 'gro', 'ilqrn', 'irnci', 'warn', 'ornu', 'imrn', 'ikrnj', 'irndg', 'firmn', 'sirpn', 'irfnf', 'eirp', 'irrne', 'mxn', 'iel', 'niwrn', 'zrnr', 'iqsn', 'ris', 'ihrns', 'irsrn', 'mgirn', 'irjyn', 'irnrg', 'igrnq', 'grw', 'irand', 'irdnn', 'kirno', 'irnkp', 'isnw', 'gfirn', 'iurxn', 'ihan', 'iivrn', 'cirnu', 'ciru', 'crnx', 'idrm', 'krfn', 'irgun', 'iuhn', 'ild', 'hrp', 'arhn', 'irmyn', 'ihnf', 'ivl', 'irgnw', 'irpnb', 'ibnx', 'ivrfn', 'ivn', 'idrfn', 'amrn', 'ijm', 'irnxq', 'biryn', 'hgirn', 'ironh', 'iok', 'izrnq', 'itnu', 'ioa', 'izon', 'urmn', 'iran', 'ifrnc', 'iwjrn', 'izrnk', 'idwrn', 'zrnw', 'dro', 'wrno', 'irino', 'iwmn', 'bren', 'igrj', 'darn', 'irmln', 'fyirn', 'ixrnx', 'irdo', 'isrv', 'krwn', 'iyyrn', 'pinrn', 'iqen', 'gnirn', 'uiyn', 'urqn', 'iwan', 'lirz', 'ijh', 'ibrwn', 'idron', 'irmr', 'irtnj', 'irzvn', 'elrn', 'ide', 'vrt', 'rbirn', 'vibrn', 'igon', 'kern', 'irdin', 'ihirn', 'jiro', 'kirjn', 'inyn', 'ciran', 'itru', 'ircwn', 'irnmq', 'ibrni', 'iwrhn', 'irynp', 'oivn', 'iobrn', 'ironr', 'vidn', 'ije', 'ijrl', 'izno', 'uicn', 'ipgn', 'ifno', 'jirnd', 'irjvn', 'tirna', 'itrz', 'iku', 'irrnb', 'ikurn', 'cilrn', 'irpg', 'biirn', 'nin', 'sirqn', 'inrsn', 'virnn', 'ixy', 'sirnf', 'iurdn', 'ilne', 'hnrn', 'irvnc', 'gri', 'irsen', 'iwrnq', 'irnql', 'inrp', 'erkn', 'inhr', 'iorln', 'virqn', 'uiern', 'liron', 'nzrn', 'irrnx', 'krx', 'ban', 'prkn', 'cirnd', 'vron', 'iokrn', 'ihrj', 'orsn', 'ikrne', 'idrnj', 'rxrn', 'iirpn', 'irnnk', 'cign', 'itv', 'ihun', 'xiarn', 'irokn', 'iyne', 'irsne', 'iqx', 'irhwn', 'ianp', 'qr', 'firyn', 'xqirn', 'iref', 'frnh', 'birnb', 'ihrt', 'icm', 'idnc', 'irond', 'yivn', 'ioern', 'nirdn', 'irden', 'irfs', 'inorn', 'birt', 'ubn', 'tiryn', 'ticrn', 'bjirn', 'inern', 'giryn', 'ibin', 'igrz', 'iurn', 'girx', 'fiqn', 'irnth', 'fiyn', 'irlbn', 'irep', 'itrs', 'nro', 'isnf', 'irnsg', 'virne', 'innz', 'iqkrn', 'ifrs', 'kirrn', 'xrnk', 'ire', 'ivrb', 'cijn', 'frzn', 'iroon', 'trp', 'uiran', 'msrn', 'lsrn', 'iyrnk', 'ipprn', 'lirin', 'mirq', 'mhn', 'rpn', 'irms', 'rnj', 'mnn', 'airtn', 'eirl', 'miyn', 'irnpt', 'bizrn', 'kisn', 'irxon', 'irhnc', 'uxirn', 'krp', 'kirni', 'lre', 'iltn', 'gxrn', 'ornj', 'stirn', 'rrnq', 'ifurn', 'irqt', 'airno', 'isru', 'fijrn', 'idrsn', 'cirns', 'rrfn', 'kirj', 'virno', 'irkne', 'ikl', 'ilrnw', 'urno', 'irvln', 'irqwn', 'itnp', 'irrkn', 'tfirn', 'tijrn', 'einn', 'irai', 'rvin', 'gigrn', 'dwrn', 'ivurn', 'lrx', 'irqxn', 'irrno', 'irnji', 'iorhn', 'irnhc', 'bxrn', 'irby', 'irck', 'iqrun', 'irasn', 'iirnp', 'nizn', 'irfnl', 'iurnz', 'yirnu', 'niorn', 'tyn', 'qirbn', 'edn', 'zrnm', 'mivrn', 'ifra', 'wrnd', 'orin', 'jirz', 'ernb', 'kiern', 'xrhn', 'ihrun', 'lirv', 'xrnq', 'tiurn', 'aiirn', 'irfpn', 'wiyrn', 'qiyn', 'ierpn', 'irbon', 'irdyn', 'ken', 'tkirn', 'irnym', 'irrb', 'irien', 'cirbn', 'kiln', 'ihrr', 'uirr', 'igrno', 'nicrn', 'iten', 'ixrnl', 'iarun', 'ikfrn', 'iwz', 'mirnt', 'wirp', 'inen', 'ciron', 'piyn', 'jrne', 'ibnw', 'fqn', 'irbjn', 'ilren', 'irbgn', 'fzrn', 'firnp', 'irmnx', 'brna', 'miqrn', 'airny', 'iyrng', 'irxx', 'ighrn', 'khn', 'isnr', 'wrjn', 'virk', 'zirx', 'yrm', 'cre', 'irvnv', 'imrxn', 'imre', 'yirna', 'sirin', 'ixrnj', 'irnly', 'jrkn', 'wyirn', 'irik', 'hrln', 'lirnt', 'irniw', 'xfrn', 'ihna', 'gwn', 'irao', 'inrjn', 'arf', 'ir', 'iaxn', 'ircw', 'dikn', 'pir', 'iorkn', 'nilrn', 'ier', 'ni', 'ijrv', 'irrj', 'hrnc', 'nibrn', 'ivrnk', 'wiyn', 'iernn', 'hirnn', 'idl', 'jirnf', 'pyn', 'itrc', 'ixnf', 'irnst', 'mian', 'yirny', 'irmc', 'jisn', 'irneg', 'vira', 'prun', 'idrin', 'irnyw', 'iprcn', 'ihcrn', 'diren', 'qre', 'eirmn', 'irdna', 'irws', 'orne', 'ida', 'hyirn', 'irtd', 'erno', 'irnjr', 'izwn', 'irvq', 'wirng', 'ivnb', 'iinp', 'iejn', 'irwyn', 'czirn', 'uqrn', 'icdn', 'iftrn', 'isrns', 'gn', 'xirnv', 'oirf', 'ljrn', 'isrln', 'ivrk', 'irnjj', 'simrn', 'rirq', 'mrcn', 'jirvn', 'iqnf', 'iorq', 'imt', 'isrtn', 'irun', 'pirv', 'iwrf', 'mr', 'ihrzn', 'bgrn', 'vird', 'iaw', 'erf', 'jiprn', 'airdn', 'wrbn', 'jiin', 'brvn', 'lrv', 'wikn', 'gzrn', 'hirb', 'iqm', 'oirnu', 'wirx', 'reirn', 'izrhn', 'ierni', 'iryna', 'iroen', 'virdn', 'ikrn', 'isxn', 'wirfn', 'yinrn', 'irnce', 'ircnb', 'czrn', 'akn', 'vzn', 'irjni', 'uzn', 'xjn', 'irmnb', 'isns', 'aren', 'uvn', 'irdun', 'arnw', 'iren', 'irsmn', 'ierna', 'lrna', 'yrnx', 'eirnb', 'iwl', 'gijrn', 'mrirn', 'iknu', 'iryny', 'icdrn', 'iav', 'birxn', 'frun', 'ibno', 'irjnp', 'rprn', 'ianh', 'ilnr', 'rb', 'dkrn', 'irihn', 'iivn', 'urnf', 'zrz', 'girkn', 'itmn', 'zira', 'irkna', 'ixx', 'ixurn', 'iti', 'unr', 'crnw', 'qrmn', 'vrna', 'irunk', 'imrno', 'ihi', 'irnas', 'irhhn', 'irsnv', 'ifbn', 'isrr', 'krnn', 'rian', 'rny', 'ioz', 'ifrnr', 'irtln', 'fibn', 'wion', 'uirw', 'pqirn', 'trnv', 'dtn', 'iccn', 'lirnq', 'pirnx', 'irngk', 'firnm', 'yrnw', 'irbl', 'crnc', 'icrne', 'irmun', 'tirwn', 'grnf', 'iprg', 'hirzn', 'iryp', 'drnf', 'irzp', 'iirbn', 'brny', 'irune', 'ixrnv', 'ivna', 'ixrw', 'irjl', 'irndv', 'ivnf', 'ihnd', 'ivrnp', 'ipln', 'yrnu', 'iurgn', 'airf', 'iehrn', 'egirn', 'ilfn', 'iqnv', 'sen', 'pcn', 'oryn', 'irnre', 'iqprn', 'irgv', 'irnhf', 'ixcrn', 'irqln', 'kirnr', 'irdt', 'iog', 'iyhn', 'irgdn', 'firno', 'irnbn', 'iqran', 'irynw', 'ivrnx', 'ilrin', 'irncs', 'irxc', 'sidrn', 'iburn', 'kiryn', 'ilrn', 'fbirn', 'ieng', 'zrcn', 'rne', 'iryne', 'dirn', 'srln', 'innr', 'wirf', 'crr', 'vimn', 'wrtn', 'irxu', 'qhrn', 'irev', 'irnnz', 'bun', 'krni', 'ixbrn', 'ijrw', 'mtn', 'idrnu', 'ipy', 'irnwe', 'nirnu', 'jiun', 'mmirn', 'irrni', 'iid', 'iiarn', 'irczn', 'srr', 'urnr', 'irmpn', 'irvbn', 'irks', 'ngirn', 'ixan', 'oirm', 'ourn', 'hmn', 'birfn', 'uirnw', 'hiirn', 'qiro', 'irxnm', 'trq', 'giirn', 'izdn', 'siin', 'iene', 'prna', 'svn', 'idm', 'isrni', 'kinn', 'opn', 'irrnl', 'irdk', 'kirl', 'xirbn', 'srl', 'irnxz', 'rain', 'hsirn', 'iynb', 'ibry', 'idmrn', 'firdn', 'iunb', 'sru', 'ifrnd', 'iep', 'iprnk', 'airsn', 'siun', 'siorn', 'ioc', 'ibrnu', 'yikn', 'ogirn', 'isrbn', 'irqd', 'pkirn', 'gwirn', 'ptirn', 'irwng', 'ixrp', 'itnz', 'iirnv', 'zrnk', 'ikru', 'ircnh', 'isro', 'iogn', 'jijn', 'iarv', 'tcirn', 'iug', 'irey', 'iyo', 'dirw', 'icrnf', 'izp', 'oirr', 'qrkn', 'vryn', 'fzn', 'irorn', 'dirf', 'grnq', 'irdr', 'urjn', 'yixrn', 'uran', 'imrdn', 'irnaz', 'girne', 'lrcn', 'idrc', 'wrb', 'trnw', 'ifnm', 'lrnm', 'irmn', 'jfrn', 'icjrn', 'irwpn', 'ibrv', 'ihrfn', 'rrnc', 'iesn', 'hirnp', 'ifg', 'hron', 'icqrn', 'nen', 'igrn', 'txrn', 'ieyn', 'bilrn', 'biren', 'ilrnz', 'icprn', 'ireny', 'uron', 'izmn', 'xern', 'ihrq', 'sry', 'jlirn', 'iwrwn', 'isprn', 'miri', 'sln', 'tjirn', 'xwirn', 'bihrn', 'irvan', 'irqnz', 'sirf', 'vrbn', 'zixrn', 'sra', 'girny', 'oirtn', 'nrnn', 'irqdn', 'iurny', 'iryfn', 'ivb', 'crtn', 'ixren', 'igrnh', 'ierc', 'irlp', 'oiprn', 'irisn', 'ixrz', 'rrnd', 'idxn', 'dyirn', 'iisn', 'jzn', 'jrnr', 'irlnk', 'xirhn', 'yien', 'igrd', 'eitrn', 'atirn', 'iront', 'tiron', 'iuun', 'ijru', 'afrn', 'xxirn', 'iurni', 'ient', 'izsn', 'uijrn', 'jirno', 'irzln', 'icyrn', 'wiru', 'igru', 'ijran', 'kirnj', 'irrnt', 'yrnf', 'ere', 'idre', 'mgn', 'ilrrn', 'inrun', 'irbw', 'irtnp', 'iem', 'uirny', 'slirn', 'iervn', 'ifrvn', 'eire', 'rnr', 'ierk', 'hry', 'mirng', 'irone', 'virln', 'yrun', 'kryn', 'irfx', 'tirns', 'irwfn', 'irnt', 'lipn', 'fan', 'orna', 'yri', 'iuprn', 'hwrn', 'icron', 'sprn', 'girtn', 'irso', 'iono', 'sfn', 'iiqrn', 'ioru', 'irnvz', 'ink', 'ivrpn', 'igrhn', 'oikrn', 'girnj', 'irwvn', 'irjne', 'ring', 'hirnw', 'giwn', 'irbwn', 'wibrn', 'iown', 'irqh', 'qrnx', 'irein', 'irgnu', 'imd', 'ofn', 'agrn', 'hmirn', 'ijrdn', 'qirnl', 'irbqn', 'sixrn', 'crn', 'lrk', 'irxe', 'hiran', 'chrn', 'nrj', 'ilnk', 'ucn', 'iuyrn', 'airnw', 'xirng', 'arm', 'xihn', 'inbrn', 'irovn', 'rrf', 'yidn', 'iqryn', 'iqrx', 'midn', 'irnlq', 'idrng', 'rw', 'isvn', 'irrbn', 'wmirn', 'yrnq', 'uibn', 'irnwj', 'ficrn', 'iornt', 'ihfn', 'iqrs', 'firnq', 'lrnx', 'xrh', 'inj', 'iqf', 'iinl', 'ilrng', 'xrnz', 'irfi', 'wirnj', 'irewn', 'irukn', 'izfrn', 'iadrn', 'jirzn', 'fjn', 'iez', 'asirn', 'iprnw', 'uircn', 'gfn', 'iosrn', 'iral', 'zirrn', 'aicn', 'prd', 'ioln', 'idrr', 'binr', 'riwrn', 'irnuc', 'vro', 'ienc', 'ifron', 'fru', 'gr', 'idrno', 'iuy', 'irxg', 'txn', 'imrh', 'jirnm', 'nirnh', 'ionm', 'ixrq', 'kmn', 'jqn', 'jarn', 'irek', 'girt', 'irgkn', 'irkbn', 'iprt', 'hirnc', 'igh', 'lcrn', 'iyx', 'ipron', 'irnua', 'yrx', 'ivne', 'imhrn', 'dpirn', 'xipn', 'mitrn', 'exn', 'ln', 'lcn', 'iix', 'irnvm', 'ibrp', 'yrno', 'iehn', 'imru', 'ihu', 'irkyn', 'krcn', 'iyrt', 'iprnx', 'izrng', 'irrf', 'birnm', 'aimrn', 'born', 'inro', 'wlrn', 'ibyrn', 'mirg', 'izrp', 'bprn', 'iwrz', 'iknl', 'irqmn', 'parn', 'iriz', 'binn', 'qrnl', 'zmn', 'qrq', 'iqrnk', 'zmirn', 'dcrn', 'orbn', 'gairn', 'krin', 'xirnk', 'hikn', 'idrnl', 'ib', 'pryn', 'imnc', 'irnvg', 'irwsn', 'ilrfn', 'linrn', 'ikrnq', 'iirnh', 'jqirn', 'ciern', 'iwrnf', 'itrun', 'zrnt', 'irzxn', 'imrtn', 'fmn', 'iqrnj', 'ivcrn', 'kijn', 'imrne', 'uitn', 'iqrnl', 'irad', 'ozn', 'wirr', 'rg', 'tirny', 'csn', 'iarvn', 'iwrnk', 'dfirn', 'yizrn', 'tsirn', 'idh', 'airnd', 'iurl', 'ilrnf', 'ikzrn', 'hirgn', 'qirnt', 'irwo', 'irvno', 'rrnl', 'eirnm', 'zinrn', 'nirx', 'irjny', 'ipne', 'prnk', 'gpn', 'iruns', 'prx', 'irmz', 'iung', 'pjrn', 'wuirn', 'rirnk', 'uirjn', 'ar', 'frm', 'idkrn', 'irjs', 'cirng', 'wir', 'ycrn', 'iec', 'eiyrn', 'trw', 'inron', 'irbnn', 'fixrn', 'irnzi', 'prb', 'icrnw', 'irnoe', 'ikbrn', 'ignz', 'irut', 'lrw', 'qrnu', 'irunt', 'irxl', 'ijtrn', 'qfn', 'xdn', 'kirv', 'wn', 'irgr', 'cxirn', 'irow', 'irex', 'iriqn', 'iwrnb', 'iit', 'kidrn', 'iornm', 'sren', 'igc', 'igtrn', 'ilrna', 'izrni', 'drqn', 'hrg', 'lirnz', 'jrnu', 'irbyn', 'tirl', 'nirzn', 'irnoa', 'yan', 'irnxp', 'irnes', 'irnhn', 'qirk', 'iunf', 'yyn', 'ifzrn', 'mibn', 'ikna', 'ihprn', 'yrbn', 'ifrxn', 'miprn', 'rii', 'inns', 'nirnf', 'dirnq', 'ilrln', 'irinx', 'hrk', 'iajrn', 'loirn', 'iqa', 'qixrn', 'inrz', 'cyrn', 'ikrnm', 'ogn', 'iqs', 'firfn', 'jirwn', 'ibqrn', 'trno', 'jkrn', 'iorrn', 'izrqn', 'irzh', 'inpn', 'ijnv', 'grmn', 'iranq', 'uiirn', 'vairn', 'iyrna', 'irdj', 'zirj', 'irunj', 'qiyrn', 'rgn', 'yrln', 'ernp', 'nirfn', 'irvgn', 'wrns', 'sirk', 'eirkn', 'drnm', 'klrn', 'tvn', 'ilw', 'iroi', 'ilp', 'iqtn', 'xrx', 'dirjn', 'airnn', 'wrc', 'izan', 'nrk', 'tifrn', 'imu', 'imrm', 'itrj', 'eln', 'irmna', 'lrny', 'irnvc', 'pon', 'itrm', 'arp', 'trnl', 'xirnl', 'girvn', 'ijnc', 'sirb', 'iaurn', 'ivnx', 'urnj', 'piln', 'zren', 'uiyrn', 'iuj', 'cizn', 'idnz', 'gimn', 'ccirn', 'sirn', 'jrny', 'ieni', 'iqrf', 'irenf', 'ierw', 'ilqn', 'ordn', 'zinn', 'iqnt', 'jirny', 'isrne', 'iprns', 'gtrn', 'lsn', 'isron', 'iinb', 'oirnf', 'ixrni', 'virj', 'birqn', 'ilrnr', 'ifkrn', 'iyrnn', 'inr', 'sirs', 'iqun', 'lirb', 'eirnx', 'ilh', 'irwl', 'ijq', 'irnsi', 'firf', 'tpn', 'lpn', 'irxd', 'orl', 'ivrgn', 'iurm', 'irnij', 'iqre', 'yijn', 'ita', 'ninn', 'girnc', 'tgirn', 'gbrn', 'rlin', 'riqn', 'idnh', 'iudn', 'itprn', 'tirnw', 'kwn', 'lira', 'irgzn', 'irzno', 'ilrmn', 'fidrn', 'ialrn', 'oirln', 'pirhn', 'idp', 'nern', 'ipyn', 'innf', 'rcn', 'ijpn', 'jixrn', 'himn', 'irtne', 'qirp', 'eeirn', 'ziri', 'mdn', 'gbirn', 'xprn', 'azrn', 'ytn', 'iqrr', 'bitrn', 'iwlrn', 'orh', 'ircan', 'nrni', 'yircn', 'qfirn', 'ijlrn', 'iiu', 'ierwn', 'myrn', 'qimrn', 'irnxi', 'siurn', 'idgrn', 'irme', 'brnk', 'ijrnk', 'iegrn', 'ifcn', 'irzni', 'ifi', 'isj', 'eirxn', 'iwhrn', 'lirh', 'ijnh', 'uiry', 'kirnz', 'eirgn', 'ikvn', 'ivgrn', 'iyen', 'xirno', 'ernz', 'xcrn', 'mikrn', 'idru', 'hmrn', 'irebn', 'prq', 'sihrn', 'ifrnk', 'aln', 'irrl', 'irztn', 'igbn', 'qqn', 'niry', 'wirn', 'ivtn', 'ixc', 'ircnu', 'irlen', 'nln', 'ciryn', 'sinr', 'iihn', 'iurnx', 'siryn', 'ixrng', 'vrq', 'hrm', 'cun', 'irnve', 'flirn', 'pirqn', 'grdn', 'irngz', 'ijri', 'ibmn', 'irnom', 'morn', 'uicrn', 'irnty', 'irjc', 'riro', 'irnis', 'enn', 'ifrgn', 'gjrn', 'tirnk', 'inon', 'tiry', 'iznc', 'iqrn', 'rim', 'iyri', 'uisrn', 'niurn', 'rirm', 'liwrn', 'irhnx', 'iunp', 'wirjn', 'ibre', 'fvrn', 'zrh', 'irmb', 'irfc', 'irahn', 'tairn', 'irshn', 'girln', 'ignx', 'irkh', 'dvn', 'ksn', 'ihrs', 'ips', 'midrn', 'iwbrn', 'ijrcn', 'iruhn', 'irwk', 'imnj', 'idirn', 'firwn', 'birg', 'inqr', 'epn', 'jirg', 'ionk', 'irjns', 'ijrnq', 'uirq', 'irnsu', 'frnn', 'ifrz', 'oiern', 'iirna', 'gibrn', 'hirf', 'ipns', 'rikrn', 'sirnx', 'ioh', 'ijrwn', 'irnak', 'nivn', 'xrnx', 'irunl', 'ibrun', 'mihrn', 'lirpn', 'nrnf', 'xnirn', 'ivrd', 'iraon', 'iqrk', 'vixrn', 'ifmrn', 'irnlj', 'irfrn', 'ifnw', 'grnp', 'iwo', 'ihdn', 'inwrn', 'iwg', 'tr', 'ixrc', 'izf', 'xren', 'sqirn', 'ieru', 'tkn', 'irwnq', 'jren', 'isrt', 'igurn', 'ann', 'bnr', 'ihnc', 'iprnz', 'diln', 'ifren', 'irav', 'lidn', 'ora', 'imrvn', 'oirdn', 'oird', 'irpnm', 'ia', 'sn', 'lirp', 'iurfn', 'iru', 'difrn', 'iknd', 'fsrn', 'yirgn', 'msirn', 'ifrn', 'cr', 'iynk', 'yimn', 'ircnl', 'icri', 'rirhn', 'xirnt', 'itdrn', 'imrqn', 'yern', 'oirb', 'irrpn', 'irnei', 'qrnb', 'irumn', 'tira', 'yirf', 'ihrdn', 'firvn', 'virv', 'vgn', 'imxn', 'irtnw', 'urni', 'cipn', 'bjrn', 'plrn', 'fira', 'irlng', 'ijryn', 'girs', 'yrsn', 'xijn', 'irlno', 'rrzn', 'irmnk', 'skn', 'sifrn', 'ibern', 'seirn', 'iray', 'irum', 'liwn', 'iga', 'roin', 'ilnn', 'yirh', 'drnl', 'ierfn', 'ivd', 'izqrn', 'yirnw', 'uirv', 'qjirn', 'iulrn', 'en', 'ilrwn', 'enirn', 'srnn', 'trnz', 'iza', 'girn', 'irdc', 'jirk', 'ipbrn', 'urbn', 'iyrg', 'irhcn', 'irgp', 'urtn', 'iwrnz', 'oyirn', 'trvn', 'mirk', 'ivron', 'wron', 'tirln', 'rirj', 'oirnz', 'birnj', 'ixnj', 'ifrnq', 'dlrn', 'irnnf', 'oirnl', 'is', 'giyn', 'yen', 'izrfn', 'irsgn', 'eirh', 'krtn', 'ircnf', 'iwnq', 'iwro', 'iqrfn', 'drnc', 'uirfn', 'ixrny', 'irew', 'ikrin', 'iwry', 'irkcn', 'frnq', 'iorno', 'ifnd', 'zpn', 'ekrn', 'ihen', 'pirq', 'mirnl', 'inrns', 'iortn', 'nirbn', 'orjn', 'fixn', 'crmn', 'istrn', 'uirm', 'irckn', 'inn', 'irenx', 'lrin', 'irizn', 'irrs', 'keirn', 'oun', 'ickrn', 'thirn', 'inrb', 'npirn', 'wqn', 'nri', 'diri', 'ijsrn', 'dixrn', 'xrg', 'irssn', 'trsn', 'fikn', 'dairn', 'ijny', 'imne', 'iano', 'mirb', 'irucn', 'zirny', 'izbrn', 'jirnk', 'iikn', 'igxn', 'oirnn', 'iihrn', 'irnjs', 'ikrln', 'firy', 'irhng', 'ert', 'enrn', 'amirn', 'virnr', 'tirng', 'zrnl', 'iglrn', 'iqe', 'inne', 'iikrn', 'irnkx', 'izurn', 'frnz', 'urd', 'zrin', 'izryn', 'iffn', 'ivrsn', 'jro', 'vwn', 'iarnn', 'ierg', 'ipun', 'inrnd', 'tdirn', 'irnjb', 'birq', 'airnt', 'wpirn', 'irlc', 'iranf', 'rnz', 'irlv', 'ixmn', 'ixin', 'irjd', 'iun', 'br', 'irjnx', 'rkin', 'trtn', 'icren', 'irena', 'qicrn', 'irgi', 'ricrn', 'irnvt', 'irxw', 'zrkn', 'ziru', 'ifbrn', 'irnjl', 'tuirn', 'citn', 'irfnn', 'idrnt', 'iayrn', 'iqnw', 'itrn', 'kirdn', 'trrn', 'inzrn', 'rirw', 'iosn', 'xqn', 'lqirn', 'sirrn', 'iprne', 'cgn', 'mrnt', 'iigrn', 'ijnq', 'crjn', 'jrk', 'iumrn', 'itu', 'brl', 'wri', 'ojirn', 'irdjn', 'irnzd', 'mirnv', 'uirwn', 'krnl', 'ikb', 'irnso', 'iuro', 'ctirn', 'yren', 'virhn', 'irdpn', 'jen', 'dhrn', 'irnnc', 'ies', 'emn', 'nifrn', 'xrl', 'xiqn', 'idz', 'spn', 'gjirn', 'pgrn', 'pirdn', 'diirn', 'ikrny', 'irlb', 'irynv', 'izrk', 'ivrns', 'irnnn', 'dru', 'ibnv', 'irggn', 'crh', 'isnv', 'idrf', 'jgirn', 'wirun', 'imb', 'hirk', 'uirnk', 'idry', 'lirnu', 'irkpn', 'pcirn', 'biyrn', 'ibnd', 'hirfn', 'wrln', 'ihrnl', 'jikn', 'icru', 'ixrx', 'irfmn', 'rcrn', 'liri', 'imrnw', 'ipu', 'irnuf', 'pinr', 'znrn', 'pirnu', 'iard', 'frz', 'iprin', 'byrn', 'hrt', 'niron', 'ircrn', 'erl', 'icrnb', 'irznm', 'iriy', 'cjirn', 'nwn', 'trzn', 'erng', 'mirvn', 'iqrp', 'ivsrn', 'ihw', 'ergn', 'irxne', 'irnuz', 'ioy', 'cirgn', 'ionr', 'crl', 'iotrn', 'vdn', 'crnt', 'irrvn', 'utn', 'ijs', 'rfirn', 'isvrn', 'ijrk', 'yirg', 'farn', 'iryv', 'irnjd', 'lhirn', 'lrf', 'iie', 'prnt', 'milrn', 'virpn', 'ixo', 'firna', 'gzn', 'ilcrn', 'sjn', 'lurn', 'ikj', 'ixrg', 'xrnb', 'irnhk', 'zyn', 'iqnx', 'hrx', 'irnef', 'rn', 'tzn', 'irncj', 'ixrns', 'zird', 'irpnt', 'zrnf', 'mrnl', 'icrng', 'ibkrn', 'jiern', 'irug', 'kirr', 'iroyn', 'lbirn', 'cwn', 'yirno', 'wmn', 'yran', 'irgan', 'iurw', 'qarn', 'jrnz', 'wrn', 'irrq', 'iirnj', 'iuwn', 'frq', 'irvxn', 'ivsn', 'mpirn', 'imrnz', 'ienj', 'iyrnz', 'iafrn', 'eoirn', 'sfrn', 'bsn', 'iranx', 'ilprn', 'ierz', 'birnk', 'mhrn', 'ipqrn', 'irown', 'uirnq', 'drnd', 'jrfn', 'ijrne', 'dirs', 'orns', 'wrdn', 'mrny', 'yrnr', 'itnb', 'qilrn', 'orz', 'icrfn', 'irmgn', 'xisn', 'ikrx', 'svirn', 'irncz', 'ikrxn', 'izern', 'irhnn', 'rirg', 'birnz', 'ionc', 'hrkn', 'wifrn', 'ibron', 'ipcn', 'krnh', 'zixn', 'disn', 'dizrn', 'flrn', 'izrx', 'ifnk', 'innn', 'bcn', 'ixnr', 'virny', 'pr', 'ijnr', 'wisn', 'ifny', 'gicrn', 'izrnp', 'ibng', 'ijrng', 'jirh', 'irzs', 'jrnb', 'suirn', 'rv', 'irpq', 'grjn', 'irgni', 'xiro', 'ron', 'crnl', 'irran', 'inno', 'ifirn', 'ixgrn', 'brdn', 'irnvq', 'fqrn', 'hrfn', 'irqf', 'iwryn', 'ika', 'iarw', 'irnvy', 'izqn', 'odrn', 'drny', 'imrw', 'mrd', 'ifrmn', 'irtgn', 'iy', 'irrnn', 'irosn', 'firc', 'iakrn', 'oirl', 'iznm', 'whrn', 'irbnv', 'dqrn', 'uion', 'itbrn', 'ilzn', 'nihrn', 'irrn', 'iohn', 'xirs', 'frjn', 'yirz', 'jrnh', 'iysrn', 'pire', 'inrhn', 'irgj', 'fjirn', 'irkmn', 'itc', 'irnmk', 'zrf', 'ihns', 'iurz', 'iprnt', 'uire', 'erfn', 'ivg', 'iborn', 'ibn', 'ihorn', 'airhn', 'mrnk', 'irnyh', 'iefrn', 'teirn', 'iwqn', 'ixwrn', 'iornb', 'kign', 'lrfn', 'islrn', 'itrnq', 'zryn', 'irnlx', 'isre', 'iirp', 'izne', 'xrf', 'nrmn', 'frns', 'irih', 'itnn', 'lon', 'iyrr', 'twrn', 'kiyrn', 'xxn', 'ikc', 'vrqn', 'iht', 'girdn', 'icon', 'mirm', 'oiqrn', 'xrzn', 'ixrs', 'ievrn', 'irltn', 'hbirn', 'oen', 'oirs', 'ilvn', 'irla', 'qrr', 'ioyn', 'czn', 'zrnj', 'irvf', 'gifn', 'ircn', 'ujirn', 'inrqn', 'xiran', 'uzrn', 'iuq', 'ignd', 'ijun', 'iyrp', 'ziern', 'ixyn', 'zrnn', 'qrnw', 'isnt', 'onrn', 'iqrsn', 'urnx', 'imro', 'iha', 'oirnp', 'cro', 'hrf', 'iss', 'pirn', 'irtj', 'irsnr', 'srj', 'qbrn', 'irunq', 'civrn', 'iwrn', 'hirn', 'icgn', 'ixq', 'irnvk', 'imw', 'kirng', 'ibbrn', 'qrna', 'iyrnx', 'tirs', 'iunx', 'igrns', 'irzo', 'xr', 'iqu', 'didrn', 'ichrn', 'krnd', 'irmnw', 'irnho', 'virnc', 'nira', 'qrng', 'giarn', 'iqrvn', 'ivrni', 'yiprn', 'srq', 'imx', 'irww', 'irpni', 'ignc', 'jsirn', 'irfin', 'virzn', 'sirz', 'oizn', 'ismn', 'virn', 'ilan', 'birrn', 'irykn', 'vivrn', 'hpirn', 'uyrn', 'itrnm', 'xnn', 'irpnc', 'ifarn', 'ipkn', 'nhrn', 'piwn', 'ibon', 'ijkn', 'iruni', 'igwn', 'zrc', 'iryg', 'irjb', 'ydn', 'birno', 'ndirn', 'sirtn', 'pirnw', 'eifn', 'ito', 'irny', 'birna', 'mrna', 'airh', 'imnh', 'anr', 'iraj', 'orun', 'irxnn', 'irgnk', 'irnzk', 'igrni', 'iom', 'irhj', 'sdn', 'iarnm', 'ntn', 'igrjn', 'ksirn', 'ilc', 'isin', 'itrf', 'frfn', 'ihrnj', 'dkirn', 'hirnr', 'grcn', 'iriv', 'irnoj', 'srg', 'idnm', 'prin', 'ecn', 'iatn', 'ionv', 'irjng', 'ijrg', 'bgirn', 'irul', 'mri', 'tnn', 'frh', 'ignb', 'ivtrn', 'cirqn', 'uirnm', 'otn', 'iror', 'qirun', 'cxn', 'uiwn', 'wran', 'yiru', 'ivnrn', 'iriln', 'ircgn', 'ierf', 'iozrn', 'src', 'uirsn', 'aire', 'rih', 'irwnc', 'biqrn', 'iplrn', 'iwvn', 'siri', 'birjn', 'ciprn', 'oicrn', 'irsan', 'ijrnf', 'irujn', 'yrv', 'iarg', 'hrdn', 'irnau', 'ilbrn', 'izgrn', 'iam', 'qrx', 'isurn', 'prnm', 'iko', 'ixr', 'inrk', 'iptn', 'orgn', 'hra', 'zirun', 'irdnz', 'qiarn', 'iqrb', 'prf', 'lirl', 'irmny', 'isfrn', 'ilin', 'biwn', 'pmirn', 'erqn', 'irskn', 'inrj', 'gkn', 'irvnj', 'irhu', 'irqnd', 'ierp', 'ixorn', 'iprvn', 'rrc', 'ifnb', 'eirq', 'ifran', 'ityn', 'firnf', 'iers', 'pipn', 'eirnr', 'iercn', 'iony', 'idvn', 'iqyn', 'trd', 'iyrjn', 'irzsn', 'mrxn', 'wirs', 'hiyn', 'ijln', 'erp', 'iudrn', 'ibz', 'iop', 'ciren', 'ilrnu', 'irfnw', 'irxtn', 'oisn', 'ioq', 'iyrnh', 'xizn', 'wirz', 'yrhn', 'xrdn', 'tirnj', 'xrin', 'iirnz', 'zhirn', 'jri', 'irnxd', 'iqne', 'iirln', 'iernj', 'ipwrn', 'ibnm', 'brng', 'iknn', 'girc', 'wrnf', 'irox', 'irmy', 'ifl', 'viln', 'cirnl', 'vnn', 'ihrsn', 'isrmn', 'ixrun', 'jirns', 'icnrn', 'wirnk', 'jien', 'imrd', 'dirxn', 'iwxrn', 'imrkn', 'izren', 'ymirn', 'srzn', 'thrn', 'mirw', 'knirn', 'irah', 'ikran', 'gfrn', 'zipn', 'nyirn', 'ime', 'izvn', 'wjrn', 'zrq', 'irrm', 'vivn', 'frl', 'lirqn', 'irnzp', 'irnfx', 'irqr', 'irnai', 'fizn', 'iynu', 'ldn', 'ipzn', 'vcrn', 'ziin', 'ifsn', 'ben', 'brw', 'kiorn', 'iurwn', 'cirkn', 'rwirn', 'dion', 'irxsn', 'sire', 'inrnr', 'erna', 'irsnh', 'ipre', 'brnn', 'irkk', 'divn', 'iarnd', 'era', 'frdn', 'ernm', 'egrn', 'irnpe', 'axirn', 'aron', 'irneo', 'iqin', 'irwwn', 'oirfn', 'afirn', 'leirn', 'irvnr', 'irygn', 'pivrn', 'virt', 'fr', 'lird', 'xirqn', 'sircn', 'vqn', 'zirbn', 'kirg', 'zin', 'brkn', 'iyrc', 'aqrn', 'lirno', 'wivrn', 'jirng', 'iirxn', 'yrne', 'iqz', 'imz', 'iovrn', 'ifrny', 'birbn', 'tra', 'irhp', 'irudn', 'citrn', 'iprtn', 'iqnn', 'iusrn', 'tirnh', 'zrno', 'irnof', 'wigrn', 'vcirn', 'iqwn', 'iak', 'irkjn', 'yrz', 'irthn', 'igrnw', 'igrnm', 'icpn', 'yiurn', 'bikrn', 'ihrnt', 'zun', 'iurh', 'izirn', 'aibn', 'airna', 'piin', 'ilrnb', 'zirnb', 'ltirn', 'eircn', 'jigrn', 'zeirn', 'tgn', 'ukrn', 'tcn', 'iargn', 'ihrn', 'ihrnx', 'krl', 'ilrnq', 'xirnz', 'furn', 'ymrn', 'iyun', 'ihon', 'uri', 'icrl', 'inir', 'irbpn', 'qdrn', 'kurn', 'irxnd', 'hiri', 'ewrn', 'jyn', 'lgrn', 'frhn', 'dian', 'inmn', 'irbns', 'imgn', 'irpa', 'irnvi', 'vrzn', 'irtnn', 'yira', 'vorn', 'inlrn', 'imyrn', 'ifrpn', 'ifyn', 'ximn', 'uirnx', 'wrwn', 'jiwrn', 'ibri', 'yihn', 'iknj', 'irfp', 'irnpx', 'srt', 'idrnh', 'drz', 'krq', 'krnj', 'iornp', 'zisrn', 'iarj', 'jrna', 'weirn', 'irngr', 'nien', 'iirnb', 'irkxn', 'inrn', 'bijrn', 'rirnu', 'xixrn', 'iyro', 'icrb', 'ilnb', 'dirna', 'qgirn', 'irpw', 'lijn', 'airyn', 'eirg', 'birk', 'lr', 'vrj', 'ijrny', 'isr', 'irhqn', 'xrun', 'ikrk', 'rrr', 'hiin', 'liru', 'igrv', 'srvn', 'igbrn', 'yirnx', 'ipzrn', 'iirv', 'mwirn', 'ibrm', 'itrqn', 'ircln', 'iircn', 'uirnp', 'arnu', 'virnw', 'airrn', 'iorqn', 'uiren', 'ilno', 'iqrj', 'oiru', 'irwn', 'lxirn', 'irnqj', 'trnn', 'irnft', 'orpn', 'iaen', 'akirn', 'gurn', 'ihrnz', 'kdn', 'ixhrn', 'mn', 'fdn', 'iink', 'gidrn', 'irnrp', 'ienx', 'irtni', 'iryrn', 'ivqn', 'xmirn', 'riri', 'irsa', 'ienw', 'irnys', 'icnw', 'urj', 'ihrno', 'izrnf', 'wirdn', 'eirnp', 'ifrsn', 'icq', 'iae', 'irbf', 'lirny', 'irgnl', 'yirr', 'ivq', 'riqrn', 'ikd', 'iiern', 'ihnn', 'ifrt', 'kyrn', 'qitrn', 'iurk', 'ixrin', 'zrp', 'miirn', 'girnu', 'iora', 'irjo', 'iurin', 'wirk', 'qln', 'ziyrn', 'irbvn', 'ifcrn', 'gqirn', 'irzu', 'ilon', 'irsnu', 'iqrz', 'siyrn', 'iurln', 'hvirn', 'rion', 'iprk', 'vrcn', 'irknj', 'wrnx', 'ijrno', 'fkn', 'pkn', 'iryb', 'izrg', 'irnmv', 'ilnm', 'xpn', 'xrqn', 'itx', 'innc', 'ibrzn', 'biro', 'isrjn', 'irzd', 'ibrcn', 'irbkn', 'ixqrn', 'xon', 'vizrn', 'ijo', 'ipsrn', 'eiri', 'nirk', 'irrnf', 'rink', 'gorn', 'brnd', 'pyrn', 'vqrn', 'ciri', 'srwn', 'ilrw', 'ivnq', 'iqbrn', 'klirn', 'iskn', 'qisrn', 'lbrn', 'qrzn', 'cian', 'jimrn', 'cryn', 'riryn', 'ienn', 'iqrh', 'irnee', 'jifn', 'uirln', 'iisrn', 'kiron', 'rirnr', 'ernt', 'irnvb', 'fpn', 'pirun', 'jiryn', 'vrnz', 'okn', 'irak', 'rhin', 'idnb', 'izkn', 'gird', 'virnu', 'irge', 'ifnt', 'izhrn', 'irjnl', 'ivrne', 'isdn', 'pion', 'irpgn', 'irwt', 'irbnz', 'ghn', 'iryf', 'iprnp', 'yixn', 'hren', 'vihn', 'lhrn', 'rrni', 'qrt', 'qrqn', 'xrni', 'gira', 'irnkj', 'itrv', 'sirnk', 'irvnp', 'iojn', 'igjn', 'hifn', 'hibn', 'irqkn', 'irnnr', 'iso', 'dtrn', 'imrr', 'ifsrn', 'srw', 'icrna', 'mqirn', 'imrk', 'srnv', 'jirnr', 'narn', 'iinc', 'irqnr', 'irnmc', 'ixrsn', 'pran', 'irnxg', 'orw', 'drk', 'uxrn', 'ijhrn', 'ienf', 'arnz', 'eirb', 'ihx', 'ixbn', 'iqra', 'irnwf', 'liren', 'airbn', 'iyrq', 'irqq', 'irnmp', 'iryh', 'tryn', 'irsu', 'irxna', 'irnus', 'bibn', 'cirr', 'ircl', 'hkn', 'irvjn', 'iarin', 'riin', 'irlcn', 'xirnm', 'ilrnc', 'irghn', 'yirsn', 'iyrnu', 'irgu', 'irwna', 'iqrln', 'iore', 'drnz', 'orf', 'kiwrn', 'tirnp', 'tqn', 'ironn', 'irto', 'izrno', 'ibrny', 'lirvn', 'eon', 'jirv', 'zrnb', 'iprqn', 'oren', 'ircen', 'irnpd', 'tikrn', 'ioin', 'isln', 'irnzw', 'tiwn', 'cnrn', 'irei', 'urt', 'lrmn', 'orp', 'ircb', 'iqgn', 'inxr', 'ornf', 'irqzn', 'irmp', 'iyrs', 'tron', 'irnec', 'ivdn', 'iqrnv', 'irzg', 'itirn', 'irgb', 'mirxn', 'itdn', 'rro', 'ikx', 'trin', 'igrwn', 'ircnm', 'iyin', 'aikn', 'iuns', 'icarn', 'siyn', 'sirng', 'bcirn', 'ireyn', 'niro', 'izrns', 'izrmn', 'wsirn', 'oitrn', 'irmnp', 'irncg', 'irdno', 'vsn', 'birnu', 'irsnl', 'kirnc', 'sjrn', 'irnkh', 'rrun', 'virsn', 'irid', 'iatrn', 'ircmn', 'irvz', 'dirt', 'nirnw', 'irnlv', 'murn', 'iarcn', 'ienu', 'imrfn', 'izarn', 'ipnu', 'nqirn', 'irznq', 'irnel', 'irsnk', 'iuc', 'crnh', 'aifrn', 'ifrnz', 'uryn', 'iand', 'irbny', 'piun', 'irpv', 'firm', 'irpjn', 'ifrzn', 'irfcn', 'iqmn', 'ivpn', 'irnhl', 'xrgn', 'mrnw', 'itjn', 'vrhn', 'isnx', 'iarnb', 'vrs', 'unrn', 'hiln', 'ivln', 'ihnj', 'qxirn', 'irrnk', 'irmnq', 'airnx', 'xrrn', 'erhn', 'irknl', 'irco', 'iurc', 'isng', 'irnch', 'iurmn', 'idnr', 'izrw', 'iani', 'iaq', 'ip', 'mirmn', 'ibr', 'ilrl', 'vmirn', 'irmng', 'igny', 'ddn', 'srxn', 'ironp', 'irnsv', 'irmdn', 'jipn', 'irkwn', 'crzn', 'irvnx', 'ienrn', 'krxn', 'irrfn', 'nrjn', 'rrwn', 'ipnv', 'lrd', 'hcn', 'trnj', 'nirb', 'irnfk', 'orni', 'irrna'}\n"
          ]
        }
      ]
    },
    {
      "cell_type": "markdown",
      "source": [
        "### Candidate tokens\n",
        "\n",
        "The two `generate_edits*` functions produce lots of possible tokens, but we know only a few are actually known tokens. And by known tokens, we mean tokens that we have seen in our Reddit post dataset.\n",
        "\n",
        "**Exercise:** Using the `generate_edits*` functions above, write a function `get_candidate_tokens` that given a token and the unigram counts, returns a **set** of candidate tokens that are within two edit distance and appear in the corpus.\n",
        "\n",
        "Specifically the candidate tokens should be:\n",
        "- Only the input token if it is in our corpus\n",
        "- All the tokens that are 1 or 2 edits away **and** are in our corpus\n",
        "- Only the input token if there are no other candidate tokens\n",
        "\n",
        "**Note:** If the input token is in the corpus, it should only return that token so that we don't try to correct it to something else. And if there are no tokens within two edit distances and appear , it should still return the token so that a spelling corrector is given one option to use."
      ],
      "metadata": {
        "id": "MwSJiVJBMhI6"
      }
    },
    {
      "cell_type": "code",
      "source": [
        "def get_candidate_tokens(token, unigram_counts):\n",
        "  if token in unigram_counts:\n",
        "    return set([token])\n",
        "\n",
        "  token1 = generate_edits1(token)\n",
        "  token2 = generate_edits2(token)\n",
        "  candidates = token1.union(token2)\n",
        "  result = set()\n",
        "  for candidate in candidates:\n",
        "    if candidate in unigram_counts:\n",
        "      result.add(candidate)\n",
        "\n",
        "  if len(result) == 0:\n",
        "    return set([token])\n",
        "  return result\n",
        "  # your code!\n",
        "\n",
        "get_candidate_tokens('hellp', {'hello':1,'hi':1,'bye':1,'ahoy':1})"
      ],
      "metadata": {
        "id": "bd4jNiSDZb_h",
        "colab": {
          "base_uri": "https://localhost:8080/"
        },
        "outputId": "6bb088f6-1bda-46fe-f94f-e116742d7d08"
      },
      "execution_count": 53,
      "outputs": [
        {
          "output_type": "execute_result",
          "data": {
            "text/plain": [
              "{'hello'}"
            ]
          },
          "metadata": {},
          "execution_count": 53
        }
      ]
    },
    {
      "cell_type": "code",
      "source": [
        "labtest(get_candidate_tokens)"
      ],
      "metadata": {
        "id": "bmFHfJxLML86",
        "colab": {
          "base_uri": "https://localhost:8080/"
        },
        "outputId": "ac4d1524-5c92-4251-c900-f12db3432bec"
      },
      "execution_count": 54,
      "outputs": [
        {
          "output_type": "stream",
          "name": "stdout",
          "text": [
            "----------------------------\n",
            "LABTEST: Running 6 testcases\n",
            "----------------------------\n",
            "Input: ('tey', {'me': 1, 'sun': 3, 'heavy': 1, 'sea': 2, 'her': 1}). Running... \n",
            "OK.\n",
            "Input: ('cofee', {'typical': 2, 'will': 2, 'come': 3, 'codes': 1}). Running... \n",
            "OK.\n",
            "Input: ('coffee', {'spent': 3, 'coffee': 1, 'offer': 1, 'coffees': 2, 'color': 2}). Running... \n",
            "OK.\n",
            "Input: ('spda', {'pc': 2, 'spin': 1, 'pad': 1}). Running... \n",
            "OK.\n",
            "Input: ('brw', {'arm': 1, 'mystery': 2, 'dew': 3, 'filled': 2}). Running... \n",
            "OK.\n",
            "Input: ('cofee', {}). Running... \n",
            "OK.\n",
            "----------------------------\n",
            "6 testcases PASSED\n",
            "----------------------------\n"
          ]
        }
      ]
    },
    {
      "cell_type": "markdown",
      "source": [
        "Let's see what the candidates are for 'brp' using the Reddit data"
      ],
      "metadata": {
        "id": "LMuZg9X1N2TV"
      }
    },
    {
      "cell_type": "code",
      "source": [
        "get_candidate_tokens('brp', posts_unigram_counts)"
      ],
      "metadata": {
        "id": "BFol2PBWjEH6",
        "colab": {
          "base_uri": "https://localhost:8080/"
        },
        "outputId": "469428b8-3480-4094-9793-52ca228613cc"
      },
      "execution_count": 55,
      "outputs": [
        {
          "output_type": "execute_result",
          "data": {
            "text/plain": [
              "{'amp',\n",
              " 'ap',\n",
              " 'app',\n",
              " 'are',\n",
              " 'arm',\n",
              " 'art',\n",
              " 'b',\n",
              " 'bad',\n",
              " 'bag',\n",
              " 'ban',\n",
              " 'bao',\n",
              " 'bar',\n",
              " 'bare',\n",
              " 'bark',\n",
              " 'barq',\n",
              " 'bars',\n",
              " 'bat',\n",
              " 'bay',\n",
              " 'bbc',\n",
              " 'bc',\n",
              " 'bd',\n",
              " 'be',\n",
              " 'bed',\n",
              " 'beg',\n",
              " 'bet',\n",
              " 'bf',\n",
              " 'bg',\n",
              " 'big',\n",
              " 'bin',\n",
              " 'bird',\n",
              " 'bit',\n",
              " 'biz',\n",
              " 'bkf',\n",
              " 'bl',\n",
              " 'blu',\n",
              " 'bob',\n",
              " 'bog',\n",
              " 'boo',\n",
              " 'born',\n",
              " 'bot',\n",
              " 'box',\n",
              " 'boy',\n",
              " 'bpm',\n",
              " 'br',\n",
              " 'brew',\n",
              " 'brim',\n",
              " 'brit',\n",
              " 'bros',\n",
              " 'brow',\n",
              " 'bru',\n",
              " 'bs',\n",
              " 'btw',\n",
              " 'bud',\n",
              " 'bug',\n",
              " 'burn',\n",
              " 'burr',\n",
              " 'bury',\n",
              " 'bus',\n",
              " 'but',\n",
              " 'buy',\n",
              " 'bw',\n",
              " 'bww',\n",
              " 'by',\n",
              " 'cap',\n",
              " 'cp',\n",
              " 'crop',\n",
              " 'cry',\n",
              " 'cup',\n",
              " 'dr',\n",
              " 'drip',\n",
              " 'drm',\n",
              " 'drop',\n",
              " 'drs',\n",
              " 'dry',\n",
              " 'earp',\n",
              " 'edp',\n",
              " 'era',\n",
              " 'erh',\n",
              " 'erm',\n",
              " 'fp',\n",
              " 'frc',\n",
              " 'fro',\n",
              " 'fry',\n",
              " 'gr',\n",
              " 'grd',\n",
              " 'grip',\n",
              " 'hop',\n",
              " 'hr',\n",
              " 'hrs',\n",
              " 'ip',\n",
              " 'ir',\n",
              " 'irc',\n",
              " 'irn',\n",
              " 'isp',\n",
              " 'jp',\n",
              " 'lp',\n",
              " 'map',\n",
              " 'mbp',\n",
              " 'mp',\n",
              " 'mr',\n",
              " 'ncp',\n",
              " 'nrs',\n",
              " 'op',\n",
              " 'or',\n",
              " 'ori',\n",
              " 'p',\n",
              " 'pb',\n",
              " 'pbr',\n",
              " 'pop',\n",
              " 'pre',\n",
              " 'pro',\n",
              " 'pry',\n",
              " 'psp',\n",
              " 'pvp',\n",
              " 'qr',\n",
              " 'r',\n",
              " 'rc',\n",
              " 're',\n",
              " 'rep',\n",
              " 'rf',\n",
              " 'rm',\n",
              " 'rn',\n",
              " 'rpg',\n",
              " 'rt',\n",
              " 'rx',\n",
              " 'sip',\n",
              " 'sp',\n",
              " 'sup',\n",
              " 'tap',\n",
              " 'tbsp',\n",
              " 'tip',\n",
              " 'top',\n",
              " 'tp',\n",
              " 'tpp',\n",
              " 'tr',\n",
              " 'trap',\n",
              " 'tri',\n",
              " 'trip',\n",
              " 'try',\n",
              " 'up',\n",
              " 'ur',\n",
              " 'ura',\n",
              " 'vip',\n",
              " 'vr',\n",
              " 'vrr',\n",
              " 'xr',\n",
              " 'yep',\n",
              " 'yr',\n",
              " 'yrs'}"
            ]
          },
          "metadata": {},
          "execution_count": 55
        }
      ]
    },
    {
      "cell_type": "markdown",
      "source": [
        "### Using a language model for ranking candidates\n",
        "\n",
        "For a given misspelt token, we can now get a list of plausible tokens. We need to rank them to choose the likeliest.\n",
        "\n",
        "Enter the language model! It can give us the probability of a token, potentially taking the context into account. In the case of the unigram model, it ignores previous tokens but we know that a language model can factor in previous tokens. Let's try with the unigram model first.\n",
        "\n",
        "**Exercise:** Write a function `unigram_spelling_correct` that given a misspelled token (and unigram information), gets a list of candidate tokens, calculates their unigram probabilities and returns the candidate with the highest likelihood.\n",
        "\n",
        "You will want to use `get_candidate_tokens` and `unigram_token_prob` from before."
      ],
      "metadata": {
        "id": "rWMyslE2OALs"
      }
    },
    {
      "cell_type": "code",
      "source": [
        "def unigram_spelling_correct(token, unigram_counts, unigram_N):\n",
        "  candidates = get_candidate_tokens(token, unigram_counts)\n",
        "  candidates_values = [unigram_token_prob(candidate, unigram_counts, unigram_N) for candidate in candidates]\n",
        "  max_idx = candidates_values.index(max(candidates_values))\n",
        "  return list(candidates)[max_idx]\n",
        "  # your code!\n",
        "\n",
        "unigram_spelling_correct('gmaig', posts_unigram_counts, posts_unigram_N)"
      ],
      "metadata": {
        "id": "qzdW5CUBauxi",
        "colab": {
          "base_uri": "https://localhost:8080/",
          "height": 35
        },
        "outputId": "38011af2-6bb4-4c5d-d9d6-a83ee21bf582"
      },
      "execution_count": 59,
      "outputs": [
        {
          "output_type": "execute_result",
          "data": {
            "text/plain": [
              "'gaming'"
            ],
            "application/vnd.google.colaboratory.intrinsic+json": {
              "type": "string"
            }
          },
          "metadata": {},
          "execution_count": 59
        }
      ]
    },
    {
      "cell_type": "code",
      "source": [
        "labtest(unigram_spelling_correct)"
      ],
      "metadata": {
        "id": "Mtl0LTwlkwC-",
        "colab": {
          "base_uri": "https://localhost:8080/"
        },
        "outputId": "7accd74a-2a59-4f47-afb1-e95c84979ca7"
      },
      "execution_count": 60,
      "outputs": [
        {
          "output_type": "stream",
          "name": "stdout",
          "text": [
            "----------------------------\n",
            "LABTEST: Running 5 testcases\n",
            "----------------------------\n",
            "Input: ('tey', {'heavy': 1, 'sun': 3, 'her': 1, 'sea': 2, 'me': 1}, 8). Running... \n",
            "OK.\n",
            "Input: ('cofee', {'will': 2, 'codes': 2, 'come': 3, 'typical': 1}, 8). Running... \n",
            "OK.\n",
            "Input: ('coffee', {'offer': 3, 'coffee': 1, 'coffees': 1, 'spent': 2, 'color': 2}, 9). Running... \n",
            "OK.\n",
            "Input: ('spda', {'spin': 2, 'pad': 1, 'pc': 1}, 4). Running... \n",
            "OK.\n",
            "Input: ('brw', {'mystery': 1, 'filled': 2, 'dew': 3, 'arm': 2}, 8). Running... \n",
            "OK.\n",
            "----------------------------\n",
            "5 testcases PASSED\n",
            "----------------------------\n"
          ]
        }
      ]
    },
    {
      "cell_type": "markdown",
      "metadata": {
        "id": "vnLb1hI4cyYi"
      },
      "source": [
        "Excellent, now let's step through how the spelling correction is being done for an example token."
      ]
    },
    {
      "cell_type": "code",
      "metadata": {
        "id": "cRV-SUcO6DJH",
        "colab": {
          "base_uri": "https://localhost:8080/"
        },
        "outputId": "08baaabf-35f0-4ab1-8350-568e70eb4678"
      },
      "source": [
        "token = \"gmaig\"\n",
        "#token = TRY YOUR WORD\n",
        "\n",
        "candidates = get_candidate_tokens(token, posts_unigram_counts)\n",
        "print(\"Spelling candidates for:\", token)\n",
        "for candidate in candidates:\n",
        "  p = unigram_token_prob(candidate, posts_unigram_counts, posts_unigram_N)\n",
        "  print(f\"{candidate}\\t{p:.7f}\")\n",
        "\n",
        "# The correction takes the token that has the highest probability (occurs most often).\n",
        "correction = unigram_spelling_correct(token, posts_unigram_counts, posts_unigram_N)\n",
        "print(f\"\\nSelected correction: {correction}\")"
      ],
      "execution_count": 61,
      "outputs": [
        {
          "output_type": "stream",
          "name": "stdout",
          "text": [
            "Spelling candidates for: gmaig\n",
            "main\t0.0002376\n",
            "gaming\t0.0005015\n",
            "gain\t0.0000211\n",
            "gang\t0.0000053\n",
            "gtaiv\t0.0000106\n",
            "grain\t0.0000053\n",
            "email\t0.0000686\n",
            "mail\t0.0001214\n",
            "\n",
            "Selected correction: gaming\n"
          ]
        }
      ]
    },
    {
      "cell_type": "markdown",
      "metadata": {
        "id": "7rrpbrcXecGz"
      },
      "source": [
        "Woohoo! We have a very basic reddit spelling corrector.\n",
        "Try it yourself on other words.\n",
        "\n",
        "However, as we'll see it's not perfect.  Let's look at a few sequences below and see what it does to each token."
      ]
    },
    {
      "cell_type": "code",
      "metadata": {
        "id": "V6fMOvSyCJL6",
        "colab": {
          "base_uri": "https://localhost:8080/"
        },
        "outputId": "8459239f-ece8-4d0f-a126-c4285491848c"
      },
      "source": [
        "strings = [\"it is amazon\", \"http www amazin\"]\n",
        "for s in strings:\n",
        "  tokens = text_pipeline_spacy_special(s)\n",
        "  corrections = []\n",
        "  for t in tokens:\n",
        "    correction = unigram_spelling_correct(t, posts_unigram_counts, posts_unigram_N)\n",
        "    corrections.append(correction)\n",
        "  print(s, corrections)\n"
      ],
      "execution_count": 62,
      "outputs": [
        {
          "output_type": "stream",
          "name": "stdout",
          "text": [
            "it is amazon ['it', 'is', 'amazon']\n",
            "http www amazin ['help', 'was', 'again']\n"
          ]
        }
      ]
    },
    {
      "cell_type": "markdown",
      "metadata": {
        "id": "OKbC0-w0et6F"
      },
      "source": [
        "Not so 'amazing'. In both of these cases, we estimated the likelihood of spelling correcting each word on its own,  independently.  This fails in obvious cases where the correct word should be apparent given the sequence.\n",
        "\n",
        "We can do better by taking two factors into account:\n",
        "\n",
        "1. Computing the probability of the whole sequence of token (in case there are multiple spelling mistakes)\n",
        "2. Using token context (bi-grams and trigrams) to improve the token probability estimate\n",
        "\n",
        "We'll look at the second idea in the following sections."
      ]
    },
    {
      "cell_type": "markdown",
      "metadata": {
        "id": "dRslwUFqDn_t"
      },
      "source": [
        "## N-Gram Language Models\n",
        "\n",
        "The unigram model isn't a very good one - it doesn't model any previous context. On the other hand, we can't model _all_ of the preceding tokens, because that history will get prohibitively long and extremely sparse. As a compromise, we make a _Markov assumption_ and limit ourselves to a finite history of $n$ tokens.\n"
      ]
    },
    {
      "cell_type": "markdown",
      "metadata": {
        "id": "25Uw9ei-F7ZS"
      },
      "source": [
        "### The memory costs of n-grams\n",
        "\n",
        "**Exercise:**\n",
        "\n",
        "- For a corpus of 1 million tokens and a vocabulary size of 10,000:\n",
        " - What is the maximum number of bigrams that could theoretically exist?\n",
        " - How many possible trigrams?\n",
        "\n",
        "Think about this process as drawing a token, then another from the collection in order. You can assume that choosing a token is completely independent of other neighbouring tokens (which is certainly false).\n",
        "\n",
        "Complete the definition of `bigram_count` and `trigram_count` in the code below."
      ]
    },
    {
      "cell_type": "code",
      "metadata": {
        "id": "KPIBm9zAGMCI",
        "colab": {
          "base_uri": "https://localhost:8080/"
        },
        "outputId": "f928c934-2cbf-427f-9d3d-99d6c39a06c3"
      },
      "source": [
        "N = 1000000 # Number of tokens in corpus\n",
        "V = 10000 # Number of unique tokens\n",
        "\n",
        "# Number of possible bigrams\n",
        "bigram_count = V ** 2 # Complete this\n",
        "print(\"Number of possible bigrams:\", bigram_count)\n",
        "\n",
        "# Number of possible trigrams\n",
        "trigram_count = V ** 3 # Complete this\n",
        "print(\"Number of possible trigrams:\", trigram_count)\n",
        "\n",
        "# Technically, the practical limit is also limited by size of the collection, N.\n",
        "# Bigrams would be limited by N-1\n",
        "# Trigrams would be limited by N-2\n",
        "print(\"Number of possible bigrams (limited by the size of our corpus):\", min(N-1, bigram_count))\n",
        "print(\"Number of possible bigrams (limited by the size of our corpus):\", min(N-2, trigram_count))"
      ],
      "execution_count": 67,
      "outputs": [
        {
          "output_type": "stream",
          "name": "stdout",
          "text": [
            "Number of possible bigrams: 100000000\n",
            "Number of possible trigrams: 1000000000000\n",
            "Number of possible bigrams (limited by the size of our corpus): 999999\n",
            "Number of possible bigrams (limited by the size of our corpus): 999998\n",
            "Counter({'i': 8204, 'the': 6198, 'to': 5138, 'a': 4759, 'and': 4427, 'it': 3237, 'of': 2774, 'for': 2270, 'is': 2170, 'my': 2005, '<START>': 2000, 'that': 1957, 'in': 1933, 'but': 1576, 'on': 1575, 'you': 1440, 'have': 1440, 'this': 1405, 'with': 1364, 'do': 1158, 'was': 1135, 'so': 1120, \"n't\": 978, 'be': 967, 'or': 961, \"'s\": 934, 'if': 919, 'like': 912, 'just': 885, 'are': 873, 'not': 864, 'me': 863, 'what': 828, 'can': 805, \"'m\": 744, 'game': 722, 'tea': 698, 'from': 683, 'get': 666, 'at': 665, 'about': 665, 'as': 659, 'any': 653, 'all': 651, 'would': 647, 'they': 646, 'one': 633, 'some': 624, 'there': 622, 'games': 604, 'how': 582, 'out': 554, 'she': 552, 'an': 539, 'know': 534, 'water': 528, 'has': 512, '’s': 499, 'up': 494, 'n’t': 490, 'coffee': 463, 'been': 441, 'anyone': 439, \"'ve\": 439, 'does': 439, 'when': 419, 'we': 419, 'your': 406, 'more': 397, 'really': 389, 'them': 387, 'her': 383, 'had': 382, 'good': 377, 'now': 373, 'time': 371, 'will': 365, 'switch': 362, '’m': 357, 'want': 354, 'new': 336, 'play': 336, 'only': 330, 'no': 325, 'got': 322, 'xbox': 320, 'people': 316, 'could': 315, 'am': 313, 'also': 310, 'because': 290, 'make': 289, 'much': 287, 'other': 284, 'looking': 282, 'here': 281, 'did': 281, 'which': 279, 'should': 277, 'even': 276, 'think': 271, 'use': 270, 'something': 266, 'find': 261, 'ca': 258, 'help': 256, 'into': 255, 'their': 253, 'where': 250, '2': 249, 'who': 242, 'drink': 236, 'buy': 235, 'first': 235, 'after': 233, 'still': 232, 'then': 225, 'by': 224, 'see': 224, 'too': 223, 'mlm': 222, 'series': 221, 'way': 219, 'these': 216, 'day': 211, 'back': 207, 'very': 206, 'go': 204, 'love': 203, 'need': 203, 'over': 203, 'ps4': 203, 'best': 200, 'why': 199, 'tried': 197, 'thanks': 197, 'off': 194, 'going': 193, '$': 193, 'soda': 192, 'getting': 190, 'before': 189, 'since': 187, 'than': 183, 'x': 182, 'lot': 182, 'well': 182, 'try': 180, 'he': 179, 'trying': 179, 'work': 178, 'better': 178, '’ve': 177, 'sure': 174, 'few': 169, 'being': 165, 'feel': 165, 'never': 164, \"'d\": 163, 'every': 161, 'playing': 159, 'most': 156, 'pc': 155, 'else': 155, 'while': 153, 'right': 150, 'anything': 148, 'made': 147, 'bought': 147, 'same': 146, '4': 145, 'post': 145, 'guys': 145, 'using': 144, 'used': 143, '3': 143, 'years': 142, 'two': 142, 'friend': 142, 'thing': 140, 'were': 139, 'many': 137, 'recently': 136, 'around': 135, 'thought': 134, 'found': 133, 'nintendo': 133, 'controller': 131, 'great': 128, 'seems': 128, 'taste': 126, 'cup': 126, 'edit': 126, 'our': 125, 'pretty': 125, 'r': 125, 'money': 125, 'different': 125, 's': 124, 'last': 124, 'its': 124, 'old': 122, 'us': 121, 'without': 121, 'e': 121, 'console': 120, 'someone': 119, 'long': 119, 'through': 119, 'online': 118, 'please': 118, 'own': 118, 'wondering': 116, 'say': 116, 'started': 116, 'having': 115, 'again': 115, 'v': 114, 'question': 112, 'already': 112, 'things': 112, 'store': 111, 'able': 110, 'maybe': 109, 'both': 109, 'down': 109, \"'ll\": 109, 'said': 107, 'little': 107, '\\u200b': 105, '5': 105, 'year': 105, 'might': 105, 'let': 104, 'start': 104, 'always': 103, 'teas': 103, 'drinking': 103, 'played': 102, 'everyone': 102, '1': 101, 'etc': 101, 'another': 100, \"'re\": 100, 'look': 99, 'those': 98, 'making': 98, 'bad': 98, 'actually': 98, 'give': 97, 'wanted': 97, 'enough': 97, 'friends': 97, 'bit': 97, 'free': 95, 'doing': 95, 'gaming': 95, 'u': 95, 'black': 94, 'super': 94, 'hey': 94, 'hi': 93, 'home': 93, 'take': 93, 'world': 93, 'today': 92, 'nt': 92, '/r': 91, 'come': 91, 'ever': 90, 'order': 90, 'ago': 89, 'c': 89, 'experience': 87, 'problem': 87, 'yet': 86, 'sub': 86, 'grinder': 86, 'hard': 86, 'suggestions': 85, 'tell': 85, 'put': 84, 'settings': 84, 'keep': 84, 'thinking': 83, 'pro': 83, 'point': 82, 'stuff': 82, 'brewing': 82, 'big': 81, 'however': 81, 'account': 81, 'months': 81, 'next': 81, 'full': 81, 'kind': 81, 'usb': 81, 'company': 81, 'thank': 80, 'recommendations': 80, 'days': 80, 'working': 80, 'heard': 79, 'worth': 79, 'shop': 79, 'far': 79, 'noticed': 79, 'seen': 79, 'screen': 79, 'times': 78, 'sugar': 77, 'once': 77, '10': 77, 'espresso': 77, 'until': 76, 'brew': 76, 'idea': 76, 'life': 75, 'similar': 75, 'week': 74, 'enjoy': 74, 'nice': 73, 'advice': 73, 'version': 73, 'quality': 73, 'though': 73, 'wo': 73, 'mlms': 73, 'less': 72, 'ask': 72, 'remember': 71, 'local': 71, 'end': 71, 'says': 71, 'single': 71, 'probably': 71, 'story': 71, 'mario': 71, 'flavor': 71, 'interested': 70, '’d': 69, 'ones': 69, 'least': 69, 'seem': 69, 'run': 69, 'high': 69, 'steam': 69, 'makes': 69, 'check': 69, 'place': 69, 'may': 69, 'k': 69, 'usually': 68, '|': 68, 'small': 67, 'business': 67, 'went': 67, 'fun': 67, 'buying': 67, 'everything': 67, 'currently': 67, 'such': 67, 'his': 67, 'beans': 67, 'quite': 66, 'live': 66, 'possible': 66, 'type': 66, 'open': 66, 'curious': 66, 'away': 65, 'set': 65, 'family': 65, 'sale': 65, 'name': 64, 'machine': 64, 'read': 64, 'him': 64, 'wii': 64, 'each': 63, 'issue': 63, 'add': 63, 'update': 63, 'hun': 62, 'myself': 62, 'instead': 62, 'nothing': 62, 'told': 62, 'g': 62, 'between': 62, 'part': 62, 'mode': 62, 'night': 62, 'person': 61, 'reason': 61, 'milk': 61, 'm': 61, 'appreciated': 61, 'works': 61, 'system': 60, 'almost': 60, 'favorite': 60, 'video': 60, 'selling': 60, 'real': 60, 'fine': 60, 'cold': 59, 'saying': 59, 'questions': 59, 'available': 58, 'share': 58, '+': 58, 'posts': 58, 'came': 58, 'grind': 58, 'couple': 58, 'mom': 58, 'bottle': 57, 'looks': 57, 'hope': 57, 'players': 57, 'products': 57, 'monitor': 57, 'either': 56, 'done': 56, 'decided': 56, 'option': 56, 'recommend': 55, 'call': 55, 'price': 55, 'sell': 55, 'called': 55, 'second': 55, 'lido': 55, 'based': 54, 'brand': 54, 'coming': 54, 'cups': 54, 'code': 54, 'job': 54, 'wrong': 54, 'support': 54, 'sodas': 53, 'community': 53, 'subreddit': 53, 'product': 53, 'school': 52, 'original': 52, 'pour': 52, 'release': 51, 'month': 51, 'link': 51, 'gta': 51, 'download': 51, 'power': 51, 'sweet': 51, 'turn': 50, 'issues': 50, 'amount': 50, 'talking': 50, 'leaf': 50, 'list': 50, 'happy': 50, 'side': 50, 'caffeine': 49, 'pick': 49, 'save': 49, '7': 49, 'hours': 49, 'guess': 49, 'example': 49, '6': 49, 'case': 48, 'purchased': 48, 'loose': 48, 'mind': 48, 'card': 48, 'tastes': 48, 'later': 48, 'fix': 48, 'others': 48, 'green': 48, 'seeing': 47, '8': 47, 'saw': 47, 'felt': 47, 'gb': 47, 'party': 46, 'amazon': 46, '30': 46, 'ideas': 46, 'sorry': 46, 'sync': 46, 'anymore': 46, 'minutes': 46, 'app': 46, 'looked': 45, 'upgrade': 45, 'mean': 45, 'whole': 45, 'main': 45, 'asked': 45, 'normal': 44, 'basically': 44, 'difference': 44, 'finally': 44, 'light': 44, 'took': 44, 'pot': 44, '’re': 44, 'close': 43, 'sales': 43, 'fps': 43, 'group': 43, 'left': 43, 'morning': 43, 'ps': 43, 'thread': 43, 'thoughts': 43, 'during': 43, 'believe': 42, '12': 42, 'website': 42, 'cheap': 42, '100': 42, 'bottles': 42, 'top': 42, 'hot': 42, 'soon': 42, 'headset': 42, 'zero': 42, 'amazing': 41, 'diet': 41, 'info': 41, \"y'\": 41, 'graphics': 41, '20': 41, 'ok': 41, 'added': 41, 'house': 41, 'anybody': 41, 'information': 41, 'setting': 41, 'absolutely': 41, 'mine': 40, 'tips': 40, 'change': 40, 'options': 40, 'method': 40, 'aeropress': 40, 'several': 39, 'yesterday': 39, 'starting': 39, 'knows': 39, 'anyway': 39, 'level': 39, 'excited': 39, 'lost': 39, 'course': 39, 'easy': 39, 'low': 39, 'apparently': 38, 'companies': 38, 'show': 38, '360': 38, 'plus': 38, 'w/': 38, 'fan': 38, 'number': 38, 'leave': 38, 'edition': 38, 'digital': 38, 'message': 38, 'tv': 38, 'past': 38, 'sometimes': 38, 'multiplayer': 38, 'pyramid': 37, 'leaves': 37, 'missing': 37, 'comes': 37, 'advance': 37, 'scheme': 37, 'y’': 37, 'answer': 37, 'expensive': 37, 'prefer': 37, 'chemex': 37, 'due': 37, '’ll': 37, 'supposed': 36, 'under': 36, 'weird': 36, 'cool': 36, 'cable': 36, 'mostly': 36, 'join': 36, 'size': 36, 'hand': 36, 'must': 36, 'general': 36, 'vs': 36, 'gameplay': 36, 'flavors': 35, 'brands': 35, 'asking': 35, 'posted': 35, 'performance': 35, 'pay': 35, 'stay': 35, 'pre': 35, 'rather': 35, 'microsoft': 35, 'v60': 35, 'half': 35, 'released': 34, 'especially': 34, 'player': 34, 'anywhere': 34, 'filter': 34, 'cause': 34, 'completely': 34, 'oz': 34, 'city': 33, 'goes': 33, 'definitely': 33, 'certain': 33, 'dark': 33, 'shipping': 33, 'together': 33, 'avoid': 33, 'launch': 33, 'lol': 33, 'hear': 33, 'phone': 33, 'talk': 33, 'grounds': 33, 'press': 33, 'true': 33, 'non': 33, 'stop': 33, 'gets': 33, 'wants': 33, 'blue': 33, 'reddit': 33, 'bag': 33, 'happen': 33, 'white': 33, 'specific': 32, 'fact': 32, 'longer': 32, 'figured': 32, 'na': 32, 'red': 32, 'reviews': 32, 'matter': 32, 'site': 32, 'hydro': 32, 'christmas': 32, 'become': 32, 'sense': 32, 'market': 32, 'three': 32, 'bitter': 32, 'worked': 32, 'finding': 32, 'y': 32, 'ground': 32, 'loved': 31, 'head': 31, 'health': 31, 'ordered': 31, 'purchase': 31, 'opinion': 31, 'hoping': 31, 'short': 31, 'current': 31, 'input': 31, '15': 31, 'room': 31, 'team': 31, 'spend': 31, 'strong': 31, 'considering': 31, 'speed': 31, 'controllers': 31, 'feeling': 31, 'sign': 31, 'problems': 31, 'amway': 31, 'box': 30, 'uk': 30, 'tasted': 30, 'pack': 30, 'forward': 30, 'style': 30, 'youtube': 30, 'sent': 30, 'awesome': 30, 'color': 30, 'itself': 30, 'marketing': 30, 'area': 30, 'google': 30, 'windows': 30, 'future': 30, 'gotten': 30, 'send': 30, 'kinda': 30, 'wait': 30, 'honestly': 30, 'double': 30, 'port': 30, 'weeks': 30, 'herbalife': 30, 'perfect': 30, 'against': 30, 'hate': 29, 'joined': 29, 'gon': 29, 'access': 29, 'knew': 29, 'interesting': 29, 'consoles': 29, 'halo': 29, 'man': 29, 'process': 29, 'okay': 29, 'discussion': 29, 'comment': 29, 'gift': 29, 'needs': 29, 'situation': 29, 'ps5': 29, 'early': 28, 'drinks': 28, 'official': 28, 'homies': 28, 'boss': 28, 'higher': 28, 'stick': 28, 'videos': 28, 'known': 28, 'oh': 28, 'physical': 28, 'guy': 28, 'multiple': 28, 'received': 28, 'easier': 28, 'via': 28, 'within': 28, 'hour': 28, 'shot': 28, 'internet': 28, 'final': 28, 'clear': 28, 'control': 28, 'yes': 28, 'checked': 28, 'posting': 28, 'ended': 28, 'rate': 28, 'tomorrow': 28, 'drive': 28, 'keyboard': 28, 'appreciate': 28, 'taking': 28, 'pepsi': 27, 'chai': 27, 'page': 27, 'older': 27, 'playstation': 27, 'fast': 27, 'audio': 27, 'line': 27, 'obviously': 27, 'clean': 27, 'error': 27, 'sort': 27, 'french': 27, 'crazy': 27, 'wish': 27, 'luck': 27, 'break': 27, 'involved': 27, 'jump': 27, 'stores': 26, 'bunch': 26, 'dew': 26, 'oolong': 26, 'q': 26, 'sold': 26, 'tap': 26, 'actual': 26, 'content': 26, 'oils': 26, 'moment': 26, 'feels': 26, 'deal': 26, 'sleep': 26, 'review': 26, 'literally': 26, 'large': 26, 'popular': 26, 'steep': 26, 'p.t.': 26, 'understand': 26, 'roast': 26, 'often': 26, 'care': 26, 'important': 26, 'needed': 26, 'orange': 26, 'along': 25, 'running': 25, 'syrup': 25, 'given': 25, 're': 25, '60': 25, 'dlc': 25, 'library': 25, 'compared': 25, 'seconds': 25, 'huge': 25, 'sound': 25, 'kettle': 25, 'move': 25, 'key': 25, 'search': 25, 'ginger': 25, 'giving': 25, 'd': 25, 'l': 25, '40': 25, 'regular': 25, 'choice': 25, 'op': 25, 'daily': 25, 'copy': 25, 'connect': 25, 'woman': 25, 'kid': 24, 'wanna': 24, 'r+f': 24, 'gen': 24, 'whatever': 24, 'z': 24, 'pm': 24, 'notes': 24, '50': 24, 'cost': 24, 'figure': 24, 'model': 24, 'connection': 24, 'frame': 24, 'sister': 24, 'decent': 24, 'chat': 24, 'college': 24, 'living': 24, 'wife': 24, 'below': 24, 'downloaded': 24, 'means': 23, 'setup': 23, 'comments': 23, 'realized': 23, 'cheaper': 23, 'willing': 23, 'specifically': 23, 'further': 23, 'experienced': 23, 'telling': 23, 'personally': 23, 'grey': 23, 'feature': 23, 'wanting': 23, 'totally': 23, '4k': 23, 'facebook': 23, 'co': 23, 'mail': 23, 'battlefield': 23, 've': 22, 'happened': 22, 'mountain': 22, 'fruit': 22, 'opinions': 22, 'watch': 22, 'nvidia': 22, 'english': 22, 'dead': 22, 'users': 22, 'coffees': 22, 'n': 22, 'random': 22, 'scam': 22, 'crash': 22, 'connected': 22, 'hydrated': 22, 'root': 22, 'pad': 22, 'ways': 22, 'extra': 22, 'mic': 22, 'worse': 22, 'yourself': 22, 'directly': 22, 'monat': 22, 'putting': 22, 'chance': 22, 'pokemon': 22, 'outside': 22, 'zelda': 22, 'o': 22, 'shops': 22, 'load': 22, 'adding': 22, 'reading': 22, 'bags': 22, 'state': 21, 'scale': 21, 'characters': 21, 'stock': 21, 'miss': 21, 'mods': 21, 'research': 21, 'gives': 21, 'text': 21, 'pepper': 21, 'cream': 21, 'x.': 21, 'picture': 21, 'homie': 21, 'filters': 21, 'solution': 21, 'earl': 21, 'mentioned': 21, 'waste': 21, 'exactly': 21, 'moved': 21, 'starbucks': 21, 'drop': 21, 'budget': 21, 'grams': 21, 'gpu': 21, 'computer': 21, 'maker': 21, 'keeps': 21, 'keurig': 21, 'drip': 21, 'puerh': 21, 'worst': 20, 'hit': 20, 'hydrohomies': 20, 'interest': 20, 'terrible': 20, 'immediately': 20, 'max': 20, 'smooth': 20, 'wonder': 20, 'tasting': 20, 'stuck': 20, 'common': 20, 'rocket': 20, 'solid': 20, 'brother': 20, 'eventually': 20, 'plan': 20, 'war': 20, 'exchange': 20, 'mouse': 20, 'simple': 20, 'lose': 20, 'worried': 20, 'b': 20, 'spent': 20, 'car': 20, 'fit': 20, 'enjoyed': 20, 'date': 20, 'beer': 20, 'hopefully': 20, 'bed': 20, 'updates': 20, 'handheld': 20, 'fresh': 20, 'w': 20, 'above': 20, 'installed': 20, 'drank': 20, 'sony': 20, 'food': 20, 'details': 20, 'charge': 20, 'per': 20, 'energy': 20, 'note': 20, 'thirsty': 20, '3d': 20, 'despite': 19, '90': 19, 'lots': 19, 'broken': 19, 'gsync': 19, 'bring': 19, '60fps': 19, 'watching': 19, 'u.s.': 19, 'lemon': 19, 'somewhere': 19, 'expect': 19, 'discount': 19, 'gave': 19, 'jack': 19, 'except': 19, 'quick': 19, 'normally': 19, 'special': 19, 'choose': 19, 'turns': 19, 'laptop': 19, 'knight': 19, '16': 19, 'install': 19, 'unfortunately': 19, 'replacement': 19, 'mug': 19, 'profile': 19, 'previous': 19, 'interview': 19, 'complete': 19, 'trade': 19, 'slow': 19, 'taken': 19, 'device': 19, 'suggest': 19, 'social': 19, 'third': 19, 'yeah': 19, 't': 19, 'offer': 19, 'personal': 19, 'themselves': 19, 'face': 19, 'gold': 19, 'alone': 19, 'talked': 19, 'ton': 19, 'rest': 19, 'blend': 19, 'near': 19, 'young': 19, 'changed': 19, 'threads': 19, 'baratza': 19, 'quickly': 18, 'fanta': 18, 'source': 18, 'grocery': 18, 'ratio': 18, 'straight': 18, 'matcha': 18, 'specs': 18, 'mm': 18, 'character': 18, 'results': 18, 'learn': 18, 'tired': 18, 'places': 18, 'kids': 18, 'mix': 18, 'weekend': 18, 'following': 18, 'sells': 18, 'happening': 18, 'smart': 18, 'mention': 18, 'awful': 18, 'adventure': 18, 'finished': 18, 'aside': 18, 'difficult': 18, 'anti': 18, 'brewed': 18, 'slightly': 18, 'canada': 18, 'effects': 18, '144hz': 18, 'plastic': 18, 'flat': 18, 'limited': 18, 'remote': 18, 'stardew': 18, 'picked': 18, 'takes': 18, 'triple': 18, 'giveaway': 18, 'safe': 18, 'husband': 18, 'monthly': 18, 'skin': 18, 'generally': 18, 'joy': 18, 'return': 18, 'hdr': 18, 'patch': 18, 'blood': 18, 'arbonne': 18, 'unique': 17, 'smaller': 17, 'girl': 17, 'breakfast': 17, 'doctor': 17, 'minecraft': 17, 'word': 17, 'display': 17, 'overall': 17, 'seemed': 17, 'girlfriend': 17, 'wiki': 17, 'sounds': 17, 'brews': 17, 'enjoying': 17, 'office': 17, 'barista': 17, 'weight': 17, 'including': 17, 'waiting': 17, 'art': 17, 'mini': 17, 'result': 17, 'wireless': 17, 'fairly': 17, 'loving': 17, 'hair': 17, 'asus': 17, 'huns': 17, 'explain': 17, 'moka': 17, 'fellow': 17, 'gone': 17, 'hdmi': 17, 'lately': 17, 'cola': 17, 'uses': 17, 'likely': 17, 'disc': 17, 'combat': 17, 'adapter': 17, 'psn': 17, 'roaster': 17, 'kept': 16, 'unless': 16, 'ship': 16, 'trouble': 16, 'sparkling': 16, 'design': 16, 'poor': 16, 'regarding': 16, 'medium': 16, 'income': 16, 'major': 16, 'roasted': 16, 'idk': 16, 'burr': 16, 'dog': 16, 'across': 16, 'death': 16, 'service': 16, 'unable': 16, 'temp': 16, 'software': 16, 'rpg': 16, 'decide': 16, 'star': 16, 'wars': 16, 'cards': 16, 'turned': 16, 'somehow': 16, 'ice': 16, 'street': 16, 'confused': 16, 'fall': 16, 'shows': 16, 'range': 16, 'disappointed': 16, 'build': 16, 'cha': 16, 'handle': 16, 'helps': 16, 'created': 16, 'finish': 16, 'juice': 16, 'headphones': 16, 'heavy': 16, 'sharing': 16, 'rtx': 16, 'discovered': 16, 'cut': 16, 'create': 16, 'herbal': 16, 'self': 16, 'click': 16, 'beyond': 16, 'botw': 16, 'hold': 16, 'grinders': 16, 'menu': 16, 'owner': 16, 'pop': 16, 'rooibos': 16, 'smell': 16, 'spin': 16, 'cat': 16, 'animal': 16, 'encore': 16, 'network': 16, 'happens': 15, 'notice': 15, 'potential': 15, 'auto': 15, 'cpu': 15, 'numbers': 15, 'paying': 15, 'possibly': 15, 'splatoon': 15, 'runs': 15, 'answers': 15, 'changing': 15, 'recommended': 15, 'touch': 15, 'controls': 15, 'fully': 15, 'direction': 15, 'gear': 15, 'lite': 15, 'easily': 15, 'drinker': 15, 'adjustment': 15, 'grinding': 15, 'lower': 15, 'parts': 15, 'various': 15, 'article': 15, 'four': 15, 'genuinely': 15, 'none': 15, '3rd': 15, 'quest': 15, 'sad': 15, 'media': 15, 'barely': 15, 'related': 15, 'considered': 15, 'test': 15, 'states': 15, 'mobile': 15, 'whether': 15, 'late': 15, 'showed': 15, 'greatly': 15, 'indie': 15, 'types': 15, 'response': 15, 'collection': 15, 'stopped': 15, 'son': 15, 'pitch': 15, 'alcohol': 15, 'infinite': 15, 'listen': 15, 'building': 15, 'fantasy': 15, 'stupid': 15, 'terms': 15, 'dock': 15, 'chocolate': 15, 'teavana': 15, 'aware': 15, 'behind': 15, 'body': 15, 'convince': 15, 'recent': 15, 'sprite': 15, 'metroid': 15, 'mother': 15, 'benefits': 15, '9': 15, 'recipe': 15, 'meet': 15, 'crossing': 15, 'doterra': 15, 'spray': 15, 'banned': 14, 'management': 14, 'supply': 14, 'profit': 14, 'kinds': 14, 'recommendation': 14, 'request': 14, 'and/or': 14, 'welcome': 14, 'obvious': 14, 'visit': 14, 'event': 14, 'summer': 14, '3.5': 14, 'plug': 14, 'built': 14, 'requires': 14, 'sd': 14, 'technology': 14, 'stand': 14, 'mod': 14, 'project': 14, 'checking': 14, 'particularly': 14, 'base': 14, 'typically': 14, 'reach': 14, 'reusable': 14, 'reasons': 14, 'direct': 14, 'golf': 14, 'shots': 14, 'exist': 14, 'desk': 14, ':d': 14, 'liked': 14, '25': 14, 'removed': 14, 'daughter': 14, 'ring': 14, 'grip': 14, 'healthy': 14, 'die': 14, 'map': 14, 'lead': 14, 'moving': 14, 'effect': 14, 'r&f': 14, 'legit': 14, 'offered': 14, 'simply': 14, 'books': 14, 'losing': 14, 'struggling': 14, 'thinks': 14, 'allow': 14, 'sitting': 14, 'instagram': 14, 'versions': 14, 'systems': 14, 'heat': 14, 'battery': 14, 'teapot': 14, 'netflix': 14, 'searching': 14, 'pee': 14, 'f': 14, 'gamestop': 14, 'vr': 14, 'entire': 14, 'ingredients': 14, 'deals': 14, 'retro': 14, 'hype': 14, 'docked': 14, 'caught': 14, 'twice': 14, 'theanine': 14, 'data': 14, 'biggest': 14, 'covid': 14, 'owned': 14, 'town': 14, 'force': 13, 'present': 13, 'helpful': 13, 'opened': 13, 'flavour': 13, 'gallon': 13, 'blown': 13, 'counter': 13, 'orders': 13, 'eshop': 13, '£': 13, 'cafe': 13, 'dr': 13, 'grand': 13, 'form': 13, 'refund': 13, 'fallen': 13, 'platform': 13, 'starts': 13, 'select': 13, 'noire': 13, 'plays': 13, 'folks': 13, 'beginning': 13, 'section': 13, 'tl;dr': 13, '32': 13, 'costs': 13, 'everywhere': 13, 'email': 13, 'financial': 13, 'holding': 13, 'temperature': 13, 'ahead': 13, 'blends': 13, 'country': 13, 'required': 13, 'tons': 13, 'hunter': 13, 'spring': 13, 'cake': 13, 'favourite': 13, 'properly': 13, 'steeping': 13, 'bottled': 13, 'allowed': 13, 'tested': 13, 'bucks': 13, 'history': 13, 'surprised': 13, 'lack': 13, 'services': 13, 'locked': 13, 'hardware': 13, '/u': 13, 'salt': 13, 'missed': 13, '1080p': 13, 'sucked': 13, 'amd': 13, 'action': 13, 'upline': 13, 'theme': 13, 'gtx': 13, '2018': 13, 'constantly': 13, 'middle': 13, 'shut': 13, 'meaning': 13, 'ps3': 13, 'opportunity': 13, 'require': 13, 'refresh': 13, 'conversation': 13, 'learned': 13, '200': 13, 'ti': 13, 'prices': 13, 'particular': 13, 'realize': 13, 'relatively': 13, 'experiences': 13, 'improve': 13, 'hrs': 13, 'remove': 13, 'planning': 13, 'pressure': 13, 'season': 13, 'reply': 13, 'turning': 13, 'showing': 13, 'natural': 13, 'modern': 13, 'i.e.': 13, 'pull': 13, 'cons': 13, 'skyrim': 13, 'bottom': 13, 'iris': 13, 'previously': 12, 'battle': 12, 'rich': 12, 'stream': 12, 'cherry': 12, 'preferably': 12, 'members': 12, 'ran': 12, 'memory': 12, 'zoom': 12, 'door': 12, 'paper': 12, 'flavored': 12, 'apart': 12, 'king': 12, 'trailer': 12, 'essential': 12, 'friday': 12, 'variable': 12, 'dose': 12, 'electric': 12, 'ready': 12, 'fans': 12, 'era': 12, 'bonus': 12, 'dad': 12, 'stronger': 12, 'dripper': 12, 'broke': 12, 'wild': 12, 'mechanics': 12, 'master': 12, 'golden': 12, 'tend': 12, 'sources': 12, 'brain': 12, 'blast': 12, 'preference': 12, 'niche': 12, 'target': 12, 'et': 12, 'sick': 12, 'monster': 12, 'solutions': 12, 'couch': 12, 'yunnan': 12, '22': 12, 'wonderful': 12, 'attention': 12, 'ale': 12, 'affect': 12, 'charges': 12, 'craft': 12, 'roasters': 12, 'air': 12, 'although': 12, 'nut': 12, 'addition': 12, '18': 12, 'factory': 12, 'compatible': 12, 'weak': 12, 'dollars': 12, 'owns': 12, 'psa': 12, 'features': 12, 'met': 12, 'valley': 12, 'points': 12, 'f.lux': 12, 'ability': 12, 'truly': 12, 'friendly': 12, 'switched': 12, 'upgrading': 12, 'slowly': 12, 'news': 12, 'racing': 12, 'reps': 12, 'recruit': 12, '120hz': 12, 'ex': 12, 'ta': 12, 'steel': 12, 'discuss': 12, 'ai': 12, 'oil': 12, 'bluetooth': 12, 'e.g.': 12, 'smash': 12, 'bigger': 12, 'apple': 12, 'fight': 12, 'front': 12, 'accessories': 12, 'focus': 12, 'escape': 12, 'act': 12, 'sweetness': 12, 'deluxe': 12, 'alright': 12, 'demo': 12, 'likes': 12, 'extremely': 12, 'servers': 12, '2015': 12, 'spot': 12, 'horizon': 12, 'loss': 12, 'mlmer': 12, 'pcgaming': 12, 'organization': 12, 'trust': 11, 'cans': 11, 'parents': 11, 'separate': 11, 'beach': 11, 'fundraiser': 11, 'levels': 11, 'jobs': 11, 'onto': 11, 'fell': 11, 'seriously': 11, 'shared': 11, '11': 11, 'listed': 11, 'premium': 11, 'allows': 11, 'og': 11, 'dragon': 11, 'sports': 11, '2016': 11, 'enemies': 11, 'eyes': 11, 'impressed': 11, 'hd': 11, 'jedi': 11, '3ds': 11, 'dr.': 11, '24': 11, 'annoying': 11, 'cheers': 11, 'standard': 11, 'pain': 11, 'exclusive': 11, 'music': 11, 'consistent': 11, 'channel': 11, '=': 11, 'table': 11, 'portafilter': 11, 'imagine': 11, 'correct': 11, 'age': 11, 'compare': 11, 'hits': 11, 'expected': 11, 'guessing': 11, \"pu'erh\": 11, 'became': 11, 'enjoyable': 11, 'streaming': 11, 'cables': 11, 'roasting': 11, 'fruity': 11, 'customers': 11, 'lucky': 11, 'extraction': 11, 'transfer': 11, 'student': 11, 'potentially': 11, 'evidence': 11, 'hurt': 11, 'hands': 11, 'occasionally': 11, 'intake': 11, 'devs': 11, 'apps': 11, 'dogs': 11, 'trilogy': 11, 'guide': 11, 'custom': 11, 'follow': 11, 'suggested': 11, 'ports': 11, 'wide': 11, 'variety': 11, 'damage': 11, '60hz': 11, 'dying': 11, 'releases': 11, 'usual': 11, 'remake': 11, 'evil': 11, 'fallout': 11, 'concerned': 11, 'progress': 11, 'minimum': 11, 'server': 11, 'whenever': 11, 'megaman': 11, 'subscription': 11, 'december': 11, 'period': 11, 'coworker': 11, 'alternative': 11, 'plenty': 11, 'joycons': 11, 'shooter': 11, 'motion': 11, 'gamers': 11, 'knowing': 11, 'tearing': 11, 'according': 11, 'rpgs': 11, 'aged': 11, 'brought': 11, 'accidentally': 11, 'legend': 11, '1440p': 11, 'lie': 11, 'honest': 11, 'latte': 11, 'women': 11, 'traditional': 11, 'floral': 11, 'plain': 11, 'gamer': 11, 'nyc': 11, '2020': 11, 'randomly': 11, '35': 11, 'exists': 11, 'quit': 11, 'examples': 11, 'loud': 11, 'book': 11, 'managed': 11, 'charger': 11, 'bagged': 11, 'lapsang': 11, 'irn': 10, 'bru': 10, 'forget': 10, 'include': 10, 'contact': 10, '70': 10, 'holiday': 10, 'keeping': 10, 'proper': 10, 'concerns': 10, 'customer': 10, 'prior': 10, 'mistake': 10, 'garbage': 10, 'teeth': 10, 'owners': 10, '2017': 10, 'fb': 10, 'speak': 10, 'sun': 10, 'eye': 10, 'league': 10, 'digitally': 10, 'la': 10, 'otherwise': 10, 'basic': 10, 'theory': 10, 'fill': 10, 'mess': 10, 'delicious': 10, 'user': 10, 'powerful': 10, 'consider': 10, 'odyssey': 10, 'peach': 10, 'necessary': 10, 'warm': 10, 'basket': 10, 'breville': 10, 'blog': 10, 'breath': 10, 'hydrate': 10, 'afraid': 10, 'ripe': 10, 'china': 10, 'suddenly': 10, 'dry': 10, 'ms': 10, 'journey': 10, 'pure': 10, 'birthday': 10, 'equipment': 10, 'mid': 10, 'hollow': 10, 'lemonade': 10, 'antimlm': 10, 'somebody': 10, 'warning': 10, 'entirely': 10, 'ends': 10, 'developed': 10, 'wired': 10, 'rumble': 10, 'updated': 10, 'enabled': 10, 'approach': 10, 'developers': 10, 'upset': 10, 'harney': 10, 'begin': 10, 'searched': 10, 'trading': 10, 'decision': 10, 'busy': 10, 'staying': 10, 'region': 10, 'effort': 10, 'becoming': 10, 'anyways': 10, 'deep': 10, 'storage': 10, 'advantage': 10, 'america': 10, 'epic': 10, 'browsing': 10, 'alot': 10, 'p.t': 10, 'mad': 10, 'upon': 10, 'dm': 10, 'fire': 10, 'items': 10, 'provide': 10, 'sensitive': 10, 'hdd': 10, 'messed': 10, 'growing': 10, '500': 10, 'rules': 10, 'iced': 10, 'complex': 10, 'oled': 10, 'increase': 10, 'boiling': 10, 'skills': 10, 'bored': 10, 'logo': 10, '°': 10, 'followed': 10, 'overs': 10, 'helped': 10, 'reached': 10, 'favor': 10, 'infuser': 10, 'cover': 10, 'continue': 10, 'ultra': 10, 'cyberpunk': 10, 'coupon': 10, 'metal': 10, 'heart': 10, 'suck': 10, 'signed': 10, 'clearly': 10, 'downloads': 10, 'database': 10, 'external': 10, 'address': 10, 'mission': 10, 'themes': 10, 'keys': 10, 'forgot': 10, 'grinds': 10, 'preferred': 10, 'inside': 10, 'fighting': 10, '1000': 10, 'kart': 10, 'pictures': 10, 'exotic': 10, '120fps': 10, 'cash': 10, 'perfectly': 10, 'uninstall': 10, 'decaf': 10, 'lines': 9, 'report': 9, 'walmart': 9, 'paid': 9, 'proud': 9, 'million': 9, 'ac': 9, 'changes': 9, 'position': 9, 'contacted': 9, 'license': 9, 'statement': 9, 'doubt': 9, 'chamomile': 9, 'confirm': 9, 'burrs': 9, 'invited': 9, 'theft': 9, 'lattes': 9, 'vanilla': 9, 'meant': 9, 'serious': 9, 'rep': 9, 'primerica': 9, 'l.a.': 9, 'bundle': 9, 'sit': 9, 'everybody': 9, 'adaptive': 9, 'cooler': 9, 'primary': 9, 'copies': 9, 'purchases': 9, 'dawn': 9, 'overly': 9, 'ordering': 9, 'codes': 9, 'subreddits': 9, 'discord': 9, 'command': 9, 'kitchen': 9, 'ideal': 9, 'polish': 9, 'soft': 9, 'roasts': 9, 'maintain': 9, 'beat': 9, 'replace': 9, 'rock': 9, '1st': 9, 'lighter': 9, 'sadly': 9, 'neither': 9, 'gate': 9, 'package': 9, 'con': 9, 'useful': 9, 'parties': 9, 'board': 9, 'pic': 9, 'shipped': 9, 'bar': 9, 'metroidvania': 9, 'switching': 9, 'lag': 9, 'joining': 9, 'deleted': 9, 'shame': 9, 'aunt': 9, 'noticeable': 9, 'beta': 9, 'alive': 9, 'speeds': 9, 'treat': 9, 'announced': 9, 'pair': 9, 'unreal': 9, 'releasing': 9, 'enhanced': 9, 'drift': 9, 'challenge': 9, 'iv': 9, 'tonight': 9, 'cult': 9, 'majority': 9, 'rodan': 9, 'intel': 9, 'ultimate': 9, 'googling': 9, 'vita': 9, 'frequently': 9, 'fixed': 9, 'bf': 9, 'frustrating': 9, 'lets': 9, 'ps+': 9, 'minute': 9, 'elite': 9, 'rare': 9, 'fault': 9, 'doom': 9, 'claim': 9, 'methods': 9, 'cap': 9, 'essentially': 9, 'processing': 9, 'white2tea': 9, 'coin': 9, 'feedback': 9, 'noise': 9, 'origin': 9, 'spending': 9, 'medical': 9, 'opening': 9, 'brothers': 9, 'file': 9, 'machines': 9, 'cod': 9, 'playable': 9, 'legal': 9, 'multi': 9, 'horrible': 9, 'franchise': 9, 'count': 9, 'router': 9, 'mixed': 9, 'sourcing': 9, 'beautiful': 9, 'boxes': 9, 'hydration': 9, 'ssd': 9, 'files': 9, 'rendering': 9, 'sip': 9, 'nowhere': 9, 'amounts': 9, 'military': 9, 'axis': 9, 'trick': 9, 'island': 9, 'colors': 9, 'a&w': 9, 'explore': 9, 'pu': 9, 'vario': 9, 'shower': 9, 'dropped': 9, 'north': 9, 'roots': 9, 'generation': 9, 'pineapple': 9, 'amped': 9, 'ray': 9, 'linux': 9, 'drunk': 8, 'mystery': 8, 'empty': 8, 'monitors': 8, 'kit': 8, 'retailers': 8, 'trial': 8, 'towards': 8, 'ultrawide': 8, 'insurance': 8, 'flag': 8, 'american': 8, 'promised': 8, 'u.k.': 8, 'gifted': 8, 'episode': 8, 'btw': 8, 'preorder': 8, 'tldr': 8, '2013': 8, 'marked': 8, 'liquid': 8, 'perhaps': 8, 'websites': 8, 'apply': 8, 'meeting': 8, 'purchasing': 8, 'strategy': 8, 'aim': 8, 'saves': 8, 'initially': 8, 'comparable': 8, 'screw': 8, 'switches': 8, 'nes': 8, 'snes': 8, 'accounts': 8, '`': 8, 'stated': 8, 'prepare': 8, 'w/o': 8, 'gaiwan': 8, 'cleaning': 8, 'nail': 8, 'write': 8, 'farm': 8, 'view': 8, 'horribly': 8, 'movie': 8, 'steeps': 8, 'scared': 8, 'smells': 8, '14': 8, 'description': 8, 'reminded': 8, 'cancel': 8, 'carbonated': 8, 'baby': 8, 'shakes': 8, 'expecting': 8, 's&w': 8, 'included': 8, 'acidic': 8, 'tricks': 8, 'burnt': 8, 'piece': 8, 'replaced': 8, 'honey': 8, 'appropriate': 8, 'predatory': 8, 'label': 8, 'core': 8, 'chinese': 8, 'died': 8, 'nope': 8, 'drops': 8, 'comparison': 8, 'leaving': 8, 'witcher': 8, 'favorites': 8, '>': 8, 'odd': 8, '3.0': 8, 'relaxing': 8, 'bloodstained': 8, 'ritual': 8, 'san': 8, 'fixes': 8, 'travel': 8, 'walk': 8, 'proof': 8, 'match': 8, 'aaa': 8, 'sea': 8, 'fair': 8, 'win': 8, 'route': 8, 'stories': 8, 'moms': 8, 'familiar': 8, 'fields': 8, 'generic': 8, 'samsung': 8, 'tb': 8, 'geforce': 8, 'nearly': 8, '1zpresso': 8, 'everyday': 8, 'habit': 8, 'breaking': 8, 'difficulty': 8, 'scentsy': 8, 'boot': 8, 'rechargeable': 8, 'messages': 8, 'clay': 8, 'stomach': 8, 'electrolytes': 8, 'explaining': 8, 'dream': 8, 'closed': 8, 'tank': 8, 'guns': 8, 'claims': 8, 'consistently': 8, 'steeped': 8, 'tech': 8, 'loves': 8, 'words': 8, 'five': 8, 'fantastic': 8, 'carry': 8, 'trigger': 8, 'signing': 8, 'survival': 8, 'puzzle': 8, 'genre': 8, 'false': 8, 'alternatives': 8, 'catch': 8, 'v.': 8, 'tiny': 8, 'urge': 8, 'launcher': 8, 'wall': 8, 'understanding': 8, 'pibb': 8, 'january': 8, 'cats': 8, 'crystal': 8, 'links': 8, 'tells': 8, 'hydrohomie': 8, 'eating': 8, 'offline': 8, 'bros': 8, '13': 8, 'spice': 8, 'cinnamon': 8, '2019': 8, 'e3': 8, 'creating': 8, 'bandicoot': 8, 'helping': 8, 'aroma': 8, 'sunday': 8, 'promote': 8, 'bean': 8, 'director': 8, 'discontinued': 8, 'driving': 8, 'clothing': 8, 'horror': 8, 'debt': 8, 'monday': 8, 'impression': 8, 'atm': 8, 'batch': 8, 'id': 8, 'drinkers': 8, 'screenshots': 8, 'fu': 8, 'forza': 8, 'credit': 8, 'souls': 8, 'enter': 8, 'mtn': 8, 'insane': 8, 'began': 8, 'member': 8, 'ventures': 8, 'events': 8, 'gray': 8, 'restaurant': 8, 'souchong': 8, '2d': 8, 'partner': 8, 'impossible': 8, '🚩': 8, 'dolby': 8, 'answering': 8, 'manager': 8, 'desolatium': 8, 'countries': 7, 'exact': 7, 'dehydrated': 7, 'grown': 7, 'lime': 7, 'lady': 7, 'purple': 7, 'charity': 7, 'caused': 7, 'responses': 7, 'purpose': 7, 'resolution': 7, 'receive': 7, 'logged': 7, 'commission': 7, 'gongfu': 7, 'oolongs': 7, 'stored': 7, 'bowl': 7, 'xsx': 7, 'tag': 7, 'stages': 7, 'led': 7, 'unlike': 7, 'fortnite': 7, 'commercial': 7, 'europe': 7, 'appealing': 7, 'perspective': 7, 'calls': 7, 'depending': 7, 'babes': 7, 'advanced': 7, 'ram': 7, 'wow': 7, 'holidays': 7, 'truth': 7, 'ebay': 7, 'ml': 7, 'forever': 7, 'usd': 7, 'ii': 7, 'fi': 7, 'nintendoswitch': 7, 'sessions': 7, 'comfortable': 7, 'contain': 7, 'sucks': 7, 'latest': 7, 'fancy': 7, 'wasting': 7, 'satisfying': 7, 'average': 7, '99': 7, 'modes': 7, 'mins': 7, 'originally': 7, 'november': 7, 'installing': 7, 'session': 7, '0': 7, 'wine': 7, 'tasty': 7, 'raw': 7, 'tin': 7, 'markets': 7, 'hospital': 7, 'hated': 7, 'tooth': 7, 'stumbled': 7, 'confirmed': 7, 'charging': 7, 'step': 7, 'category': 7, 'learning': 7, 'somewhat': 7, 'instant': 7, 'bodum': 7, 'attached': 7, 'borderlands': 7, 'herself': 7, 'oc': 7, 'technically': 7, 'processor': 7, 'businesses': 7, 'active': 7, 'sons': 7, 'smelled': 7, '80': 7, 'picking': 7, '1l': 7, '150': 7, 'window': 7, 'program': 7, 'slower': 7, 'devices': 7, 'trip': 7, 'attempt': 7, 'ama': 7, 'output': 7, 'technical': 7, 'hopes': 7, 'fake': 7, 'saving': 7, 'tia': 7, 'bothered': 7, 'law': 7, 'studios': 7, 'winner': 7, 'addiction': 7, 'coca': 7, 'rant': 7, 'among': 7, 'grade': 7, 'reputable': 7, 'total': 7, 'park': 7, 'six': 7, 'certainly': 7, '780': 7, 'cd': 7, 'visual': 7, 'replies': 7, 'choices': 7, 'mint': 7, '45': 7, 'names': 7, 'micro': 7, 'profiles': 7, 'investment': 7, 'eat': 7, 'significantly': 7, 'researching': 7, 'afford': 7, 'throw': 7, 'falling': 7, 'resources': 7, 'shaped': 7, 'joycon': 7, 'announcement': 7, 'extract': 7, 'loading': 7, 'endless': 7, 'forgotten': 7, '30fps': 7, 'constant': 7, 'framerate': 7, 'experiment': 7, 'manage': 7, 'background': 7, 'consultant': 7, '2012': 7, 'ftc': 7, 'topic': 7, 'incredible': 7, 'gut': 7, 'sending': 7, 'suggestion': 7, 'manual': 7, 'caffeinated': 7, '😂': 7, 'highly': 7, 'alliance': 7, 'european': 7, 'bathroom': 7, 'glitch': 7, '300': 7, 'lan': 7, 'forced': 7, 'hydrating': 7, 'corporate': 7, 'spoilers': 7, 'aspect': 7, 'ridiculous': 7, 'donate': 7, 'status': 7, 'rush': 7, 'nutrition': 7, 'joke': 7, 'ideally': 7, 'finer': 7, 'placed': 7, 'evening': 7, 'sodium': 7, 'tax': 7, 'fifa': 7, 'succeed': 7, 'faster': 7, 'bloom': 7, 'pattern': 7, 'talks': 7, 'commented': 7, 'meme': 7, 'hyped': 7, 'dedicated': 7, 'ported': 7, 'circle': 7, 'depth': 7, 'bonavita': 7, 'nearby': 7, 'culture': 7, 'nestlé': 7, 'blueberry': 7, 'artificial': 7, 'agree': 7, 'security': 7, 'pandemic': 7, 'disgusting': 7, 'earlier': 7, 'silly': 7, 'memes': 7, 'failed': 7, 'notification': 7, 'imo': 7, 'nestle': 7, 'nabbit': 7, 'popped': 7, 'strange': 7, 'grape': 7, 'blind': 7, 'stars': 7, 'shift': 7, 'instructions': 7, 'thermos': 7, 'seltzer': 7, 'lipton': 7, 'connecting': 7, 'cbd': 7, 'adagio': 7, 'colour': 7, 'd&d': 7, 'monica': 7, 'nioh': 7, 'named': 6, 'leader': 6, 'sites': 6, 'hibiscus': 6, 'convenience': 6, 'varieties': 6, 'rid': 6, 'fountain': 6, 'announce': 6, 'initial': 6, 'i7': 6, 'pulled': 6, 'alarm': 6, 'rewards': 6, 'promise': 6, 'recruited': 6, 'india': 6, 'models': 6, 'tempted': 6, 'yours': 6, '17': 6, 'corner': 6, 'bringing': 6, 'delivered': 6, 'chrome': 6, 'radeon': 6, 'exploration': 6, 'builders': 6, 'smoother': 6, 'language': 6, 'invest': 6, 'powered': 6, 'hario': 6, 'adult': 6, 'theirs': 6, 'supported': 6, 'replay': 6, 'arm': 6, 'ending': 6, 'wedding': 6, 'porcelain': 6, 'grab': 6, 'knock': 6, 'pricey': 6, 'excuse': 6, 'liking': 6, 'wake': 6, 'wet': 6, 'insight': 6, 'incredibly': 6, '4th': 6, '28': 6, 'gong': 6, 'flash': 6, '95': 6, 'bitterness': 6, 'astringent': 6, 'vendors': 6, 'hole': 6, 'germany': 6, 'filtered': 6, 'correctly': 6, 'ui': 6, 'ad': 6, 'saved': 6, 'wifi': 6, '600': 6, 'hearing': 6, 'kill': 6, 'brings': 6, 'samples': 6, 'value': 6, 'moves': 6, 'benefit': 6, 'lives': 6, 'bulk': 6, 'carafe': 6, 'selected': 6, 'msaa': 6, 'teach': 6, 'gpus': 6, 'stack': 6, 'testing': 6, 'blocked': 6, 'pampered': 6, 'chef': 6, 'concern': 6, 'ruin': 6, 'planet': 6, 'february': 6, 'plum': 6, 'father': 6, 'obscure': 6, 'writing': 6, 'gamertag': 6, 'q&a': 6, 'flow': 6, 'makeup': 6, 'bandwidth': 6, 'figures': 6, 'thirst': 6, 'mentions': 6, 'worry': 6, 'road': 6, 'engine': 6, 'minimal': 6, 'tool': 6, 'gently': 6, 'roll': 6, 'acid': 6, 'application': 6, 'risk': 6, 'sleeping': 6, 'sky': 6, 'dishonored': 6, 'fail': 6, 'secret': 6, 'dev': 6, 'studio': 6, 'mainly': 6, 'fizz': 6, 'packaging': 6, 'typical': 6, 'cane': 6, 'lovely': 6, 'beachbody': 6, 'giant': 6, 'funny': 6, 'scams': 6, 'awhile': 6, 'dual': 6, 'brown': 6, 'kingdom': 6, 'batman': 6, 'haha': 6, 'disable': 6, 'filled': 6, 'downloading': 6, 'rally': 6, 'sensitivity': 6, 'crashing': 6, 'starter': 6, 'degrees': 6, 'wtf': 6, 'spicy': 6, 'drivers': 6, 'luckily': 6, '2l': 6, 'dragonball': 6, 'washington': 6, 'mg': 6, 'seller': 6, 'figuring': 6, 'wash': 6, 'brewer': 6, 'powder': 6, 'discussed': 6, 'exclusives': 6, 'rumors': 6, 'portable': 6, 'minor': 6, 'garden': 6, 'iphone': 6, 'wins': 6, 'tough': 6, 'distributor': 6, 'compatibility': 6, 'surprise': 6, 'encountered': 6, 'watched': 6, 'hyper': 6, 'cloud': 6, 'adjust': 6, 'buffering': 6, 'rule': 6, 'childhood': 6, 'differences': 6, 'cousin': 6, 'vitamins': 6, '1500': 6, 'material': 6, '100ml': 6, 'static': 6, 'supports': 6, 'noticing': 6, 'stress': 6, 'challenging': 6, 'driver': 6, 'development': 6, 'remembered': 6, 'split': 6, 'remastered': 6, 'stretch': 6, 'designed': 6, 'tvs': 6, 'upgraded': 6, 'negative': 6, 'dread': 6, 'pouring': 6, 'thieves': 6, 'effective': 6, 'delete': 6, 'decides': 6, 'instantly': 6, '2080': 6, 'stating': 6, 'solo': 6, 'encourage': 6, 'cache': 6, 'finishing': 6, 'harmful': 6, 'promoting': 6, 'coop': 6, 'platformer': 6, 'cute': 6, 'lovers': 6, 'newer': 6, 'prime': 6, 'darjeeling': 6, '🤣': 6, 'police': 6, 'shoot': 6, 'washer': 6, 'flair': 6, 'alternate': 6, 'n.': 6, 'sane': 6, 'chosen': 6, 'winners': 6, 'describe': 6, 'traveling': 6, 'freshly': 6, 'pourover': 6, 'balance': 6, 'factor': 6, 'ip': 6, 'uncomfortable': 6, 'repair': 6, 'south': 6, 'bl': 6, 'blah': 6, 'glad': 6, 'closer': 6, 'distance': 6, 'hoffman': 6, 'lego': 6, 'schedule': 6, 'nba': 6, 'zombies': 6, 'improvement': 6, 'former': 6, 'supermarket': 6, 'forest': 6, 'produce': 6, 'environmental': 6, 'knowledge': 6, 'mac': 6, 'spider': 6, 'yixing': 6, 'automatic': 6, '😭': 6, \"y'all\": 6, 'semi': 6, 'preferences': 6, 'erh': 6, 'strength': 6, 'texas': 6, 'destiny': 6, 'stainless': 6, 'animals': 6, 'worlds': 6, 'lifestyle': 6, 'valid': 6, 'bright': 6, 'buys': 6, 'employees': 6, 'payment': 6, 'tsushima': 6, 'h2o': 6, 'liters': 6, 'sarsaparilla': 6, 'mbps': 6, 'chill': 6, 'shadow': 6, 'crashes': 6, 'equivalent': 6, 'identifying': 6, 'identify': 6, 'mirror': 6, 'iron': 6, 'wirelessly': 6, 'i.e': 6, 'gba': 6, 'england': 6, 'coach': 6, 'web': 6, 'j': 6, 'concept': 6, 'ethiopian': 6, 'ghost': 6, 'dandelions': 6, 'invert': 6, 'aftertaste': 6, 'ea': 6, 'texted': 6, 'ears': 6, 'girls': 6, 'cases': 6, 'volume': 6, 'stewart': 6, 'tracing': 6, 'absolute': 5, 'tango': 5, 'kicked': 5, 'flavours': 5, 'inventory': 5, 'gallons': 5, 'july': 5, 'stuttering': 5, 'detail': 5, 'licensed': 5, 'applied': 5, 'schemes': 5, 'deeper': 5, 'recruitment': 5, 'western': 5, 'sample': 5, 'dried': 5, 'roughly': 5, 'strawberry': 5, 'asap': 5, 'teacups': 5, 'sidebar': 5, 'ips': 5, 'posters': 5, 'nephew': 5, 'includes': 5, 'reveal': 5, 'environment': 5, 'entry': 5, 'hunt': 5, 'throwing': 5, 'greater': 5, 'ff': 5, 'obsessed': 5, 'civilization': 5, 'solved': 5, 'skill': 5, 'l.a': 5, 'dumb': 5, 'native': 5, 'lazy': 5, 'combination': 5, 'skerton': 5, 'clunky': 5, 'garage': 5, 'containing': 5, 'reference': 5, 'hearts': 5, 'invested': 5, 'selection': 5, 'primarily': 5, 'frustrated': 5, 'icon': 5, 'h': 5, 'purposes': 5, 'prevent': 5, 'nails': 5, 'criteria': 5, 'measure': 5, 'preface': 5, 'boring': 5, 'sooner': 5, 'plz': 5, 'prix': 5, 'guilt': 5, '2014': 5, '2nd': 5, 'pieces': 5, '6th': 5, 'expectations': 5, 'boiled': 5, 'spices': 5, 'australia': 5, 'simulator': 5, 'plastik': 5, 'retail': 5, 'beverages': 5, 'joystick': 5, 'dashboard': 5, 'term': 5, 'therefore': 5, 'reviewed': 5, 'plans': 5, 'costa': 5, 'drinkable': 5, 'refuse': 5, 'numerous': 5, 'thick': 5, 'fits': 5, 'public': 5, 'leninade': 5, 'stops': 5, 'floor': 5, 'students': 5, 'skeptical': 5, 'insert': 5, 'motherboard': 5, 'redditor': 5, 'widely': 5, 'horse': 5, 'career': 5, 'pics': 5, 'acquaintance': 5, 'tries': 5, 'lunch': 5, 'strongly': 5, 'prepared': 5, 'context': 5, 'convinced': 5, 'remains': 5, 'ekg': 5, 'panel': 5, '970': 5, 'slot': 5, 'frustration': 5, 'occasional': 5, 'grabbed': 5, 'redditgifts': 5, 'intention': 5, 'brick': 5, 'human': 5, 'poorly': 5, 'march': 5, 'sodaswap': 5, 'redditors': 5, 'sorts': 5, 'sudden': 5, 'presets': 5, 'automatically': 5, 'asleep': 5, 'allowing': 5, 'mcc': 5, 'nature': 5, 'flask': 5, 'da': 5, 'matches': 5, 'highest': 5, '2/3': 5, 'eg': 5, 'british': 5, 'capable': 5, 'pregnant': 5, 'hers': 5, 'beauty': 5, 'fees': 5, 'plugged': 5, 'approached': 5, 'track': 5, 'corsair': 5, 'hero': 5, '250': 5, 'optical': 5, '64': 5, 'informed': 5, 'drives': 5, 'uncharted': 5, 'deleting': 5, 'translation': 5, 'steps': 5, 'child': 5, 'dust': 5, 'handful': 5, 'focused': 5, 'desperately': 5, 'bother': 5, 'generations': 5, 'stats': 5, 'octopath': 5, 'forum': 5, 'kalita': 5, 'nasty': 5, 'funds': 5, 'cents': 5, 'c.': 5, 'quarantine': 5, 'tip': 5, 'tho': 5, 'reliable': 5, 'reset': 5, 'leads': 5, 'subscribers': 5, 'anytime': 5, 'thus': 5, 'bars': 5, 'd.c.': 5, 'plant': 5, 'photos': 5, 'regularly': 5, 'science': 5, 'determine': 5, 'lists': 5, 'remakes': 5, '90s': 5, '2021': 5, 'significant': 5, 'gun': 5, 'googled': 5, '900': 5, 'warzone': 5, 'humble': 5, 'united': 5, 'backwards': 5, 'shampoo': 5, 'subject': 5, 'folgers': 5, 'boil': 5, 'ratios': 5, 'confusing': 5, 'client': 5, 'younger': 5, 'vram': 5, 'ncp': 5, 'frames': 5, 'consensus': 5, 'logic': 5, 'neighborhood': 5, 'complaining': 5, 'sketchy': 5, 'answered': 5, 'mouth': 5, 'pushed': 5, 'excellent': 5, 'honor': 5, 'introduce': 5, 'capture': 5, 'cutting': 5, 'cuts': 5, 'pointed': 5, 'record': 5, 'reaction': 5, 'walking': 5, 'regions': 5, 'fury': 5, 'optimization': 5, 'whereas': 5, 'basis': 5, 'throat': 5, 'august': 5, 'experts': 5, 'rf': 5, 'sounded': 5, 'unavailable': 5, 'location': 5, 'rarely': 5, 'rockstar': 5, 'virtual': 5, 'immersion': 5, 'claimed': 5, 'increases': 5, 'sellers': 5, 'winter': 5, '😁': 5, 'corn': 5, 'partially': 5, 'sometime': 5, 'push': 5, 'develop': 5, 'heck': 5, 'claiming': 5, 'tests': 5, 'pvp': 5, 'xt': 5, 'florida': 5, 'pixel': 5, 'noob': 5, 'bros.': 5, 'blowing': 5, 'kay': 5, 'outer': 5, 'provided': 5, 'located': 5, 'practices': 5, 'campaign': 5, 'heads': 5, 'alien': 5, 'west': 5, 'dash': 5, 'apex': 5, 'twitch': 5, 'hardly': 5, 'genuine': 5, 'contains': 5, 'pages': 5, 'leak': 5, 'u.': 5, 's.': 5, 'twitter': 5, 'whoever': 5, 'est': 5, 'clips': 5, 'genmaicha': 5, 'wallet': 5, '<3': 5, 'barq': 5, '400': 5, 'punch': 5, 'combined': 5, 'symptoms': 5, 'clients': 5, 'ease': 5, 'deciding': 5, 'defensive': 5, 'replacing': 5, 'recipes': 5, 'checkerboard': 5, 'pixels': 5, 'subscribe': 5, 'savings': 5, 'walked': 5, 'club': 5, 'nespresso': 5, 'logitech': 5, 'nalgene': 5, 'hobby': 5, 'rdr2': 5, 'convo': 5, 'toothpaste': 5, 'treatment': 5, 'jewelry': 5, 'branch': 5, 'sodastream': 5, 'voice': 5, 'mate': 5, 'race': 5, 'dance': 5, 'possibility': 5, 'sequel': 5, 'advertising': 5, 'debating': 5, 'stove': 5, 'cranberry': 5, 'unplayable': 5, 'slim': 5, 'asian': 5, 'responded': 5, 'spread': 5, 'linked': 5, 'launched': 5, 'fructose': 5, 'mazzer': 5, 'private': 5, 'simon': 5, 'speech': 5, '36': 5, 'respond': 5, 'novice': 5, 'international': 5, 'thousands': 5, 'demand': 5, 'packs': 5, 'bungie': 5, 'california': 5, 'becomes': 5, 'transition': 5, 'narrative': 5, 'chatting': 5, 'lavender': 5, 'farmer': 5, 'farming': 5, 'anxiety': 5, 'fridge': 5, 'attempting': 5, 'reduce': 5, 'ippodo': 5, 'inverted': 5, 'parameters': 5, 'overwhelming': 5, 'acne': 5, 'cheapest': 5, 'reasonable': 5, 'rolling': 5, 'username': 5, 'sweden': 5, 'ratchet': 5, 'clank': 5, 'kyani': 5, 'retailer': 5, 'luigi': 5, 'stressed': 5, 'ya': 5, 'refuses': 5, 'mr': 5, 'psv': 5, 'arms': 5, 'grandma': 5, 'ohio': 5, 'burst': 5, 'stale': 5, 'picky': 5, 'sets': 5, 'vet': 5, 'duty': 5, 'dmc': 5, 'headphone': 5, 'ds': 5, 'gas': 5, 'domed': 5, 'ps2': 5, 'clothes': 5, 'ruined': 5, 'units': 5, 'yield': 5, 'metallic': 5, 'affected': 5, 'developer': 5, 'psvr': 5, '19': 5, 'jamie': 5, 'corrupted': 5, 'flip': 5, 'deferred': 5, 'f.e.a.r': 5, 'virtuoso': 5, 'pours': 5, 'feelings': 5, 'simulation': 5, 'nat': 5, 'ori': 5, 'dollar': 5, 'yadda': 5, 'outlet': 5, 'clever': 5, 'dosbox': 5, 'barrel': 5, 'university': 5, 'aergrind': 5, 'depot': 5, 'mango': 4, 'xtra': 4, 'nor': 4, 'surely': 4, '54': 4, 'tapping': 4, 'artwork': 4, 'killed': 4, 'nos': 4, 'visiting': 4, 'turbo': 4, 'slots': 4, 'chain': 4, 'dates': 4, 'waited': 4, 'liter': 4, 'survey': 4, 'raised': 4, 'incase': 4, 'actively': 4, 'indeed': 4, 'bells': 4, 'accident': 4, 'flags': 4, 'shocked': 4, 'tactics': 4, 'infusion': 4, 'infusions': 4, 'optimal': 4, ':p': 4, 'whose': 4, 'heavily': 4, 'promoted': 4, 'coconut': 4, 'poster': 4, 'converter': 4, 'tags': 4, 'lularoe': 4, 'p.s': 4, 'pushing': 4, 'appeal': 4, 'zone': 4, 'fishy': 4, 'dialing': 4, 'wing': 4, 'shooters': 4, 'ball': 4, 'displays': 4, 'dense': 4, 'brazil': 4, 'guilty': 4, 'mexico': 4, 'drippers': 4, 'holy': 4, 'soundtrack': 4, 'aggressive': 4, 'unflavored': 4, 'regional': 4, 'here](https://www.reddit.com': 4, 'bowser': 4, 'central': 4, 'canadian': 4, 'recognize': 4, 'nights': 4, 'returning': 4, 'm&k': 4, 'clue': 4, 'swap': 4, 'hanging': 4, 'neat': 4, 'superior': 4, 'improving': 4, 'judge': 4, 'subtle': 4, 'leaning': 4, 'lift': 4, '75': 4, 'score': 4, 'accurate': 4, 'land': 4, 'arcade': 4, 'oe': 4, 'disk': 4, 'quests': 4, 'rise': 4, 'pops': 4, 'watery': 4, 'syrah': 4, 'astringency': 4, 'image': 4, 'mei': 4, 'rabbit': 4, 'elsewhere': 4, 'hung': 4, '58': 4, 'credits': 4, 'dispenser': 4, 'af': 4, 'complicated': 4, 'functional': 4, 'diagnosed': 4, 'remaster': 4, 'suffer': 4, 'measured': 4, '700': 4, 'damaged': 4, 'reality': 4, 'ignore': 4, 'til': 4, 'gourmet': 4, 'sampler': 4, 'rn': 4, 'achieve': 4, 'hub': 4, 'successful': 4, 'wire': 4, 'van': 4, 'splash': 4, 'immensely': 4, 'offering': 4, 'restart': 4, 'stays': 4, 'regardless': 4, 'paths': 4, 'scenes': 4, 'teacher': 4, \"oc'd\": 4, 'grabbing': 4, '1k': 4, 'quad': 4, 'industry': 4, 'resulting': 4, 'ish': 4, 'destroyed': 4, 'sencha': 4, 'buds': 4, 'tutorial': 4, 'vague': 4, 'capacity': 4, 'pci': 4, 'x2': 4, 'sli': 4, 'remaining': 4, 'consumed': 4, 'avatar': 4, 'yooka': 4, 'laylee': 4, 'cancelled': 4, 'installation': 4, 'upwards': 4, 'acquired': 4, 'repeatedly': 4, 'deadzone': 4, 'warranty': 4, 'implement': 4, 'android': 4, 'children': 4, 'hotel': 4, 'legendary': 4, 'slayer': 4, 'sunset': 4, 'intended': 4, 'experimenting': 4, 'ds4': 4, 'wen': 4, 'collecting': 4, 'item': 4, 'preordered': 4, 'rodan+fields': 4, 'lurker': 4, 'approved': 4, 'avoiding': 4, 'hollywood': 4, 'evolve': 4, 'evo': 4, '2.5': 4, 'lg': 4, '7.1': 4, 'warn': 4, 'harder': 4, 'occurred': 4, 'podcast': 4, 'phased': 4, 'resident': 4, 'arkham': 4, 'length': 4, 'steins': 4, 'smashed': 4, 'vehicle': 4, 'ten': 4, 'itch': 4, 'closest': 4, 'customization': 4, 'cars': 4, 'manually': 4, 'kickstarter': 4, 'cooper': 4, 'poll': 4, 'headache': 4, 'tools': 4, 'politely': 4, 'bc': 4, 'fighter': 4, 'champion': 4, 'log': 4, 'percent': 4, 'shutting': 4, 'forgive': 4, 'clarify': 4, 'scoop': 4, 'kidneys': 4, 'universe': 4, 'bravo': 4, 'wega': 4, 'italy': 4, 'ounce': 4, 'peace': 4, 'math': 4, 'puts': 4, 'controlled': 4, 'leggings': 4, 'shopping': 4, 'worthwhile': 4, 'existence': 4, 'smoking': 4, 'programs': 4, 'pros': 4, 'goals': 4, 'reminder': 4, 'mask': 4, 'pressurized': 4, 'distributors': 4, 'cells': 4, 'draw': 4, 'silent': 4, 'l’ange': 4, 'palate': 4, 'enthusiast': 4, 'temperatures': 4, 'extracted': 4, 'technique': 4, 'unsweetened': 4, 'pulling': 4, 'discussions': 4, 'stinger': 4, 'apologize': 4, '980': 4, 'principle': 4, 'metroidvanias': 4, 'buggy': 4, 'le': 4, 'arrive': 4, 'overnight': 4, 'existed': 4, 'baristas': 4, 'redhead': 4, 'pressed': 4, 'earthy': 4, 'citrus': 4, 'glazed': 4, 'rinse': 4, 'liquor': 4, 'hints': 4, 'saturated': 4, 'apartment': 4, 'cakes': 4, 'male': 4, 'entering': 4, 'crushed': 4, 'swears': 4, 'swear': 4, 'boyfriend': 4, 'relationship': 4, 'jp': 4, 'declined': 4, 'survive': 4, '1.5': 4, 'bet': 4, 'cleaner': 4, 'paparazzi': 4, 'calling': 4, 'roommate': 4, 'equal': 4, 'hates': 4, 'magic': 4, 'border': 4, 'reduction': 4, 'wished': 4, 'marketed': 4, 'hybrid': 4, 'round': 4, 'convenient': 4, 'carrying': 4, 'carries': 4, 'combo': 4, 'articles': 4, 'u.k': 4, 'specialty': 4, 'bedroom': 4, 'hardcore': 4, 'replied': 4, 'bowls': 4, 'dirty': 4, 'chug': 4, 'protective': 4, 'caramel': 4, 'production': 4, 'held': 4, 'leading': 4, 'slide': 4, 'awakening': 4, 'fish': 4, 'trash': 4, 'bubbles': 4, 'whilst': 4, 'submitted': 4, 'picks': 4, 'boy': 4, 'binding': 4, 'sticky': 4, 'appear': 4, '8.03': 4, 'rebuilt': 4, 'boots': 4, 'appears': 4, 'aid': 4, 'tears': 4, 'vs.': 4, 'aka': 4, 'mary': 4, 'wilds': 4, 'suggesting': 4, 'buzz': 4, 'mood': 4, 'explains': 4, 'spam': 4, 'requests': 4, 'individual': 4, 'practice': 4, 'complaints': 4, 'complaint': 4, 'tbh': 4, 'annoyed': 4, 'fills': 4, 'wsgf': 4, 'computers': 4, 'wholesale': 4, 'entrepreneur': 4, 'capped': 4, 'consumer': 4, 'shake': 4, 'wi': 4, 'protect': 4, 'lock': 4, 'marks': 4, 'congrats': 4, 'sheng': 4, 'korean': 4, 'pods': 4, 'returned': 4, 'gain': 4, '-checked': 4, 'licenses': 4, 'stealth': 4, 'hidden': 4, 'gem': 4, 'maintenance': 4, 'waters': 4, 'remembers': 4, 'm47': 4, 'sweetener': 4, 'icarus': 4, 'awards': 4, 'fond': 4, 'doc': 4, 'causing': 4, 'uncle': 4, 'supporting': 4, 'jittery': 4, 'anxious': 4, '4:6': 4, 'recommending': 4, 'optimized': 4, 'm.2': 4, 'ssds': 4, 'fizzy': 4, 'voices': 4, '55': 4, 'referred': 4, 'fee': 4, 'investing': 4, 'italian': 4, 'headsets': 4, 'steer': 4, 'female': 4, 'mortal': 4, 'kombat': 4, 'swaps': 4, 'modest': 4, 'explanation': 4, 'mindset': 4, 'trap': 4, 'chit': 4, 'afternoon': 4, 'supportive': 4, 'paranoid': 4, 'houses': 4, 'maps': 4, 'boys': 4, 'cyber': 4, 'plot': 4, 'silvia': 4, 'frother': 4, 'promising': 4, 'lurking': 4, 'colours': 4, 'backstory': 4, 'stands': 4, 'imported': 4, 'bat': 4, 'pushy': 4, 'swapped': 4, 'rune': 4, 'lil': 4, 'bird': 4, 'aukey': 4, 'cart': 4, 'success': 4, 'relatives': 4, 'republic': 4, 'hopper': 4, 'brush': 4, 'necessarily': 4, 'rain': 4, 'gopro': 4, 'pots': 4, 'antique': 4, 'fines': 4, 'costco': 4, 'cubes': 4, 'meta': 4, 'scrolling': 4, 'movies': 4, 'mixture': 4, 'sends': 4, 'refunds': 4, 'accept': 4, '101': 4, 'moccamaster': 4, 'speciality': 4, 'comfort': 4, 'southern': 4, 'fear': 4, 'baja': 4, 'listening': 4, 'ear': 4, 'dram': 4, 'dig': 4, 'transaction': 4, 'i´m': 4, 'tournament': 4, 'maxed': 4, 'aa': 4, 'toward': 4, 'imgur': 4, 'hoped': 4, 'overpriced': 4, 'downline': 4, 'stash': 4, 'responsible': 4, 'screens': 4, 'gyokuro': 4, 'submit': 4, 'fails': 4, 'shown': 4, 'mylar': 4, 'sweeteners': 4, 'fat': 4, 'desperate': 4, 'parent': 4, 'quake': 4, 'unpleasant': 4, 'acnh': 4, 'vibes': 4, 'platinum': 4, 'reminds': 4, 'wishlist': 4, 'toadette': 4, '™': 4, 'additional': 4, 'boost': 4, 'letting': 4, 'ipad': 4, 'breaks': 4, 'smartphone': 4, 'detect': 4, 'tennis': 4, 'gamepad': 4, 'secure': 4, 'blaster': 4, 'yep': 4, 'grandmother': 4, 'crush': 4, 'toxic': 4, 'catalog': 4, 'improved': 4, 'feed': 4, 'earning': 4, 'shovel': 4, 'booted': 4, 'midnight': 4, 'faygo': 4, 'cacao': 4, 'rewind': 4, 'elaborate': 4, 'nicest': 4, 'workout': 4, 'plugging': 4, 'periods': 4, 'bethesda': 4, 'fortunate': 4, 'fiber': 4, 'larger': 4, 'conquer': 4, 'gtav': 4, 'tacos': 4, 'zac': 4, 'sims': 4, 'listing': 4, '💧': 4, 'hurricane': 4, 'recon': 4, 'bragging': 4, 'cook': 4, 'settlement': 4, 'percolator': 4, 'hades': 4, 'variables': 4, 'ezone.com': 4, 'puzzles': 4, 'cardamom': 4, 'ops': 4, 'activision': 4, 'besides': 4, 'sunshine': 4, 'cc': 4, 'copper': 4, 'victory': 4, 'rude': 4, 'kickstand': 4, 'resource': 4, 'holds': 4, 'eight': 4, 'blu': 4, 'vizio': 4, 'speakers': 4, 'stranger': 4, 'maximum': 4, 'alt': 4, 'recruiter': 4, 'meetings': 4, 'pcos': 4, 'awareness': 4, 'refused': 4, 'xpost': 4, 'flavoring': 4, 'heroes': 4, 'mainstream': 4, 'dimensions': 4, 'tiles': 4, 'masala': 4, 'spiced': 4, 'hang': 4, 'capabilities': 4, 'dlcs': 4, 'đezva': 4, 'arrives': 4, 'overworld': 4, 'baffled': 4, 'mark': 4, 'unglazed': 4, 'exterior': 4, 'chances': 4, 'preview': 4, 'spirit': 4, 'taiwanese': 4, 'secs': 4, 'q-': 4, 'bonuses': 4, 'techniques': 4, 'steamworld': 4, 'cereal': 4, 'k.': 4, 'functionality': 4, 'loaded': 4, 'expand': 4, 'draft': 4, 'seasons': 4, 'producing': 4, 'induction': 4, 'safeway': 4, 'cooling': 4, 'stamp': 4, 'gooseneck': 4, 'reshade': 4, 'stole': 4, 'houston': 4, 'leaking': 4, '1:2': 4, '60ml': 4, 'rool': 4, '℥': 4, 'reed': 4, 'welch': 4, 'housewives': 4, 'nextdoor': 4, 'scottish': 3, 'scary': 3, 'anniversary': 3, 'tapir': 3, 'shortage': 3, 'royal': 3, 'granted': 3, 'symptom': 3, '1/2': 3, 'merch': 3, '15th': 3, 'goal': 3, 'valhalla': 3, 'producer': 3, 'applying': 3, 'accepting': 3, 'overview': 3, 'vacations': 3, 'wholeheartedly': 3, 'believed': 3, 'sunk': 3, 'tgy': 3, 'lasted': 3, 'lined': 3, 'flairs': 3, '19.99': 3, 'café': 3, 'inspiration': 3, 'browse': 3, 'bunn': 3, 'sticker': 3, 'unit': 3, 'avid': 3, 'egg': 3, 'teacup': 3, 'complained': 3, 'forth': 3, 'ons': 3, 'almond': 3, 'stevia': 3, 'promo': 3, 'ssbu': 3, 'combos': 3, 'lacks': 3, 'possibilities': 3, 'positive': 3, 'neighbor': 3, 'mmo': 3, 'civ': 3, 'vi': 3, 'discover': 3, 'ireland': 3, 'menus': 3, 'mornings': 3, 'sdcard': 3, 'enforcement': 3, 'capresso': 3, 'container': 3, 'secondary': 3, 'lites': 3, 'portal': 3, 'tl': 3, 'bot': 3, 'david': 3, 'remotely': 3, 'intro': 3, 'applications': 3, 'agency': 3, 'unlock': 3, 'refreshing': 3, 'wrench': 3, 'ads': 3, 'ig': 3, 'conflicting': 3, 'painting': 3, 'vegan': 3, 'conical': 3, '15:1': 3, 'spare': 3, 'burned': 3, 'novel': 3, 'timing': 3, 'visuals': 3, 'insanely': 3, 'tedious': 3, 'severely': 3, 'touched': 3, 'sim': 3, 'tray': 3, 'cincinnati': 3, 'booths': 3, 'norway': 3, 'addictive': 3, 'addicted': 3, '11th': 3, 'nose': 3, '100c': 3, 'upload': 3, 'fragrance': 3, 'sept': 3, 'cancelling': 3, 'restarting': 3, 'emotions': 3, 'pokémon': 3, 'diamond': 3, '2022': 3, 'avengers': 3, 'visited': 3, 'bland': 3, 'halloween': 3, 'platforms': 3, 'band': 3, 'preground': 3, 'employee': 3, 'benson': 3, 'priced': 3, 'rapid': 3, 'chronic': 3, 'ill': 3, 'jumped': 3, 'consultants': 3, 'el': 3, 'disclaimer': 3, 'spreading': 3, 'commenting': 3, 'ceramic': 3, 'stovetop': 3, 'lid': 3, 'cord': 3, 'disconnects': 3, 'thorough': 3, 'thin': 3, 'decade': 3, 'square': 3, 'opposed': 3, 'sleepy': 3, 'delivery': 3, 'darker': 3, 'disabled': 3, 'sanctuary': 3, 'trend': 3, 'taa': 3, 'cutscenes': 3, 'killing': 3, 'critical': 3, 'pcmasterrace': 3, 'suppose': 3, 'desktop': 3, 'relevant': 3, 'begging': 3, 'venture': 3, 'path': 3, 'professionals': 3, 'disappointing': 3, 'younique': 3, 'camera': 3, 'spiel': 3, 'shady': 3, 'soooo': 3, 'teaspoon': 3, 'boo': 3, 'closing': 3, 'metro': 3, 'hesitant': 3, 'dynamic': 3, 'animations': 3, 'footage': 3, 'advantages': 3, 'linear': 3, 'field': 3, 'x16': 3, 'laser': 3, 'gauge': 3, 'ourselves': 3, 'squeeze': 3, 'dudes': 3, 'hundreds': 3, 'edited': 3, 'expanded': 3, 'definitive': 3, 'requesting': 3, 'mixamp': 3, 'astro': 3, 'humans': 3, 'sunlight': 3, 'cycles': 3, 'ios': 3, 'unhealthy': 3, 'opt': 3, 'tablet': 3, 'eli5': 3, 'prove': 3, 'yu': 3, 'lin': 3, 'closely': 3, 'adjusting': 3, 'finds': 3, 'llr': 3, '️': 3, 'ds3': 3, 'shortly': 3, 'shares': 3, 'degree': 3, 'spiderman': 3, '85': 3, 'watcheranon': 3, 'silver': 3, 'moist': 3, 'jug': 3, 'steaming': 3, 'homeless': 3, 'shaming': 3, 'married': 3, 'vast': 3, 'disguised': 3, 'fda': 3, 'cosmetics': 3, 'acer': 3, 'uhd': 3, 'mentorship': 3, 'strangers': 3, 'freedom': 3, 'pitched': 3, 'suspicious': 3, 'cafes': 3, 'interactions': 3, 'shiny': 3, 'soul': 3, 'stayed': 3, 'atx': 3, '149.99': 3, 'internal': 3, 'writer': 3, 'quiet': 3, 'discounts': 3, 'schools': 3, 'overcome': 3, 'resist': 3, 'uncertain': 3, 'torn': 3, 'function': 3, 'condition': 3, 'contents': 3, 'gog': 3, 'subnautica': 3, 'durability': 3, 'vision': 3, 'barqs': 3, 'creme': 3, 'alcoholic': 3, 'tressa': 3, 'guests': 3, 'electricity': 3, 'paypal': 3, 'angle': 3, 'won': 3, 'generator': 3, 'greens': 3, 'movement': 3, 'handles': 3, 'reinstalling': 3, 'approaching': 3, '😊': 3, 'redeemed': 3, 'expired': 3, 'redeem': 3, 'expires': 3, 'minerals': 3, 'grow': 3, 'opens': 3, 'researched': 3, 'hemp': 3, 'develops': 3, 'arguments': 3, 'nuclear': 3, 'tomb': 3, 'raider': 3, 'struggled': 3, 'manufacturing': 3, 'steady': 3, 'accomplish': 3, 'covid-19': 3, 'colleagues': 3, 'melitta': 3, 'tannins': 3, 'runner': 3, 'regards': 3, 'upcoming': 3, 'curiosity': 3, 'contacting': 3, 'attended': 3, 'bite': 3, 'catching': 3, 'hustle': 3, 'solely': 3, 'moral': 3, 'cleaned': 3, 'espressos': 3, 'sour': 3, 'repeated': 3, 'chip': 3, 'f@h': 3, 'distributed': 3, 'bodies': 3, 'informative': 3, 'sticking': 3, 'global': 3, 'sluggish': 3, 'patience': 3, 'booting': 3, 'song': 3, 'previews': 3, 'persistent': 3, 'neighbors': 3, 'thrive': 3, 'ban': 3, 'supplements': 3, 'n64': 3, 'mp': 3, 'unsure': 3, 'gram': 3, 'intense': 3, 'mineral': 3, 'aging': 3, '9/10': 3, 'vibe': 3, 'newb': 3, 'texture': 3, 'melaleuca': 3, 'earned': 3, 'gel': 3, 'vulnerable': 3, 'thankful': 3, 'foods': 3, 'pitches': 3, 'nicely': 3, 'topics': 3, 'increasingly': 3, 'supplies': 3, 'simulating': 3, 'sized': 3, 'colorful': 3, 'motivated': 3, 'maturity': 3, 'clock': 3, '290x': 3, 'tends': 3, 'paint': 3, 'wave': 3, 'nauseous': 3, 'applies': 3, 'secrets': 3, 'oddly': 3, 'ceo': 3, 'marvel': 3, 'iii': 3, 'celestial': 3, 'u.s': 3, 'everytime': 3, 'images': 3, 'nostalgia': 3, 'sank': 3, 'fingers': 3, 'september': 3, 'june': 3, 'bank': 3, 'household': 3, 'gatorade': 3, 'caps': 3, 'discovering': 3, 'zyia': 3, 'extend': 3, 'nuskin': 3, 'confusion': 3, 'smelling': 3, 'import': 3, 'dockable': 3, 'bits': 3, 'melt': 3, 'extracting': 3, 'celeste': 3, 'completed': 3, 'shilling': 3, 'consuming': 3, 'letter': 3, 'aromas': 3, 'braces': 3, 'encouraged': 3, 'keen': 3, 'beginner': 3, 'userbenchmark': 3, 'acting': 3, 'speculation': 3, '+18': 3, 'reinstalled': 3, 'min': 3, 'tie': 3, 'flame': 3, 'tflop': 3, '5700': 3, '26': 3, 'rdna': 3, 'isaac': 3, 'ladies': 3, 'atmosphere': 3, 'em': 3, '🙄': 3, 'longjing': 3, 'toad': 3, 'doctors': 3, 'kool': 3, 'wondered': 3, 'twinings': 3, 'recommends': 3, 'tablespoon': 3, 'statistic': 3, 'pyramids': 3, 'chipped': 3, 'patients': 3, 'filling': 3, 'mild': 3, 'prompted': 3, 'campaigns': 3, 'reduces': 3, 'expo': 3, 'emails': 3, 'mlmers': 3, 'header': 3, 'communication': 3, 'reporting': 3, 'blazing': 3, 'resort': 3, 'cords': 3, 'phenomenal': 3, 'tuesday': 3, 'quitting': 3, 'exciting': 3, 'axiom': 3, 'verge': 3, 'fulfill': 3, 'spoiler': 3, 'teachat.com': 3, 'completing': 3, 'avail': 3, 'legends': 3, 'brita': 3, 'goodness': 3, 'lesson': 3, 'popularity': 3, 'hiring': 3, 'advisory': 3, 'tale': 3, 'fyi': 3, 'flush': 3, 'oldest': 3, 'bubble': 3, 'bf1': 3, \"don't\": 3, 'peoples': 3, 'nylon': 3, 'guides': 3, 'paste': 3, 'subjective': 3, 'pcs': 3, 'prebuilt': 3, 'ans': 3, 'dive': 3, 'shelf': 3, 'visible': 3, 'knowledgeable': 3, 'ignored': 3, 'a.': 3, 'haul': 3, 'puerhs': 3, 'orlando': 3, 'reported': 3, 'romance': 3, 'adventures': 3, 'gamecube': 3, 'firm': 3, 'c40': 3, 'equally': 3, 'founded': 3, 'realistic': 3, 'values': 3, 'cave': 3, 'appeared': 3, 'praise': 3, 'kong': 3, 'rated': 3, 'programmable': 3, 'enjoys': 3, 'hurting': 3, 'justify': 3, 'nvme': 3, 'afterwards': 3, 'recorded': 3, 'recording': 3, 'yellow': 3, 'papers': 3, 'fold': 3, 'packing': 3, 'loads': 3, 'reverse': 3, 'rendered': 3, 'sunkist': 3, '2006': 3, 'membership': 3, 'tape': 3, 'hook': 3, 'descaling': 3, 'cancer': 3, 'national': 3, 'cheerwine': 3, 'mart': 3, 'intelligent': 3, 'raising': 3, 'memories': 3, 'plannet': 3, 'mason': 3, 'react': 3, 'viewing': 3, 'jrpgs': 3, 'stolen': 3, 'specify': 3, 'broth': 3, 'prediction': 3, 'jackbox': 3, 'amiibo': 3, 'continued': 3, 'graphic': 3, 'leaders': 3, 'deliberately': 3, 'charged': 3, 'excitement': 3, 'shooting': 3, 'missions': 3, 'pleased': 3, 'bitcoin': 3, 'hill': 3, 'pointing': 3, 'pid': 3, 'estore': 3, 'laugh': 3, 'gifting': 3, 'boredom': 3, 'diablo': 3, 'atomy': 3, 'agreed': 3, 'calibrate': 3, 'fiance': 3, 'availability': 3, 'foundry': 3, 'chunk': 3, 'invitation': 3, 'vanquish': 3, 'yakuza': 3, 'worries': 3, 'committed': 3, 'policy': 3, 'limit': 3, 'nindies': 3, 'idiot': 3, 'milky': 3, '12.99': 3, 'coupons': 3, 'provides': 3, 'warfare': 3, 'bomb': 3, 'raspberry': 3, 'hitting': 3, 'acidity': 3, 'virgil': 3, '128': 3, 'hooked': 3, 'resemble': 3, 'convert': 3, 'printed': 3, 'craigslist': 3, 'swing': 3, 'dial': 3, 'dull': 3, 'brushing': 3, 'motivation': 3, '2k': 3, 'pourovers': 3, 'funnel': 3, 'outcome': 3, 'rog': 3, 'driven': 3, 'studying': 3, 'refer': 3, 'akrafo': 3, 'department': 3, 'naturally': 3, 'wage': 3, '14th': 3, 'restarted': 3, 'temps': 3, 'co.': 3, 'inc.': 3, 'areas': 3, '<': 3, 'satisfied': 3, 'explained': 3, 'president': 3, 'strictly': 3, 'ties': 3, 'buddy': 3, 'throwback': 3, 'rough': 3, 'financially': 3, 'choosing': 3, 'unpopular': 3, '2.0': 3, 'panties': 3, 'covered': 3, 'jones': 3, 'oxenfree': 3, 'combine': 3, 'boom': 3, 'stellar': 3, 'dinner': 3, 'karma': 3, 'calm': 3, 'xd': 3, 'fxaa': 3, 'adderall': 3, 'angry': 3, 'lover': 3, 'additives': 3, 'delivering': 3, '500ml': 3, 'individually': 3, 'hr': 3, 'rub': 3, 'cartridge': 3, 'center': 3, 'ghosts': 3, 'eliminate': 3, 'remind': 3, 'travels': 3, 'connector': 3, 'transmitter': 3, 't.': 3, 'boveda': 3, 'storing': 3, 'revolution': 3, 'clarified': 3, 'turtle': 3, 'timer': 3, 'pitcher': 3, 'toronto': 3, 'individuals': 3, 'amacha': 3, 'hive': 3, 'fermentation': 3, 'halfway': 3, 'minded': 3, 'born': 3, 'sioux': 3, 'ridiculously': 3, 'gullible': 3, 'devos': 3, 'rican': 3, 'feeding': 3, '2.1': 3, 'freesync': 3, 'keeper': 3, 'amazingly': 3, 'trophy': 3, 'accessibility': 3, 'defend': 3, 'sipping': 3, 'com': 3, 'booth': 3, 'upgrades': 3, 'decisions': 3, 'skittles': 3, 'creative': 3, 'baseball': 3, 'mirrors': 3, 'scene': 3, 'megathread': 3, 'roped': 3, 'insurgency': 3, 'sandstorm': 3, 'immersive': 3, 'vietnamese': 3, 'decently': 3, 'lying': 3, 'gross': 3, 'blame': 3, 'enhance': 3, 'creepy': 3, 'blending': 3, 'bold': 3, 'eta': 3, 'itworks': 3, 'collectible': 3, 'saints': 3, 'psp': 3, 'closes': 3, 'sly': 3, 'deficiency': 3, 'pleasure': 3, 'counteract': 3, 'livid': 3, 'ps1': 3, 'sore': 3, 'tac': 3, 'disappeared': 3, 'patient': 3, 'depressed': 3, 'fuel': 3, 'encouraging': 3, 'rayman': 3, 'qualified': 3, 'paced': 3, 'demon': 3, 'slaying': 3, 'dante': 3, 'eastern': 3, 'hurts': 3, 'careful': 3, 'tall': 3, 'nz': 3, 'naturals': 3, 'origins': 3, 'thrown': 3, 'surround': 3, 'admit': 3, 'crisis': 3, 'wind': 3, 'norwex': 3, 'eu': 3, 'q.u.b.e.': 3, 'ect': 3, 'insider': 3, 'staff': 3, 'longest': 3, 'offers': 3, 'breeder': 3, 'adopt': 3, 'bioshock': 3, 'creamy': 3, 'practically': 3, 'register': 3, 'inputs': 3, 'recruiting': 3, 'browser': 3, 'ins': 3, 'estate': 3, 'wiiu': 3, 'ounces': 3, 'usage': 3, 'inform': 3, 'efron': 3, 'dungeons': 3, 'docx': 3, 'killer': 3, 'grew': 3, 'independent': 3, 'fitness': 3, 'sweeter': 3, 'forgetting': 3, 'backup': 3, 'socom': 3, 'confrontational': 3, 'masters': 3, 'handed': 3, 'sin': 3, 'snap': 3, 'blooming': 3, 'verification': 3, 'ambit': 3, 'frequent': 3, 'humid': 3, 'repeat': 3, 'pg': 3, 'storyline': 3, 'meanwhile': 3, 'exclusively': 3, 'reconnect': 3, 'spout': 3, 'elements': 3, 'salty': 3, 'lights': 3, 'overcooked': 3, 'wand': 3, 'kick': 3, 'salary': 3, 'graphical': 3, 'ugly': 3, 'playtime': 3, 'complimented': 3, 'yoshi': 3, 'airborne': 3, 'drains': 3, 'jumps': 3, 'customize': 3, 'contribute': 3, 'howdy': 3, 'macbook': 3, 'sf': 3, 'diagnostic': 3, 'sticks': 3, 'tweak': 3, 'lagging': 3, 'wasd': 3, 'solve': 3, 'weapons': 3, 'freezing': 3, 'delight': 3, 'stereo': 3, 'p': 3, 'detected': 3, 'scalpers': 3, 'lobby': 3, 'increasing': 3, 'exploring': 3, 'supervisor': 3, 'illegal': 3, 'stressful': 3, 'thankfully': 3, 'booklet': 3, 'lend': 3, 'conferences': 3, 'irish': 3, 'appartamento': 3, 'upvote': 3, 'gasket': 3, 'nu': 3, 'disclose': 3, 'crosspost': 3, 'marukyu': 3, 'insights': 3, 'managing': 3, 'twist': 3, 'emulators': 3, 'hint': 3, '340': 3, 'pulp': 3, 'hosting': 3, 'matching': 3, 'london': 3, 'admittedly': 3, 'rootbeer': 3, 'straw': 3, 'harbor': 3, 'sirena': 3, 'warcraft': 3, 'launchers': 3, 'france': 3, 'karaoke': 3, 'minority': 3, 'usa': 3, 'stir': 3, 'victim': 3, 'sensor': 3, 'indicate': 3, 'meh': 3, 'leaked': 3, 'tops': 3, 'modere': 3, 'dilemma': 3, 'ages': 3, '180': 3, 'row': 3, 'interior': 3, 'discusses': 3, '7up': 3, 'marzocco': 3, 'surprisingly': 3, 'suggests': 3, 'mk8': 3, 'creditcard': 3, 'inferior': 3, 'dilute': 3, 'e.g': 3, 'gems': 3, 'cabi': 3, 'polite': 3, 'dunno': 3, 'hacked': 3, 'disgust': 3, 'kona': 3, '65': 3, 'mkl-': 3, 'nightmares': 3, 'l.': 3, '1300': 3, 'timemore': 3, 'scaling': 3, 'peak': 3, 'steal': 3, 'hzd': 3, 'valve': 3, 'vibrates': 3, 'batteries': 3, 'fictional': 3, 'contamination': 3, 'cooled': 3, 'premade': 3, 'guarda': 3, 'dos': 3, 'coelhos': 3, 'xboxfriend': 3, 'mistakes': 3, 'screamer': 3, 'speaker': 3, 'kinect': 3, 'disconnect': 3, 'frothers': 3, 'beverage': 3, 'ucb': 3, 'korea': 3, 'bergamot': 3, 'muscovado': 3, '●': 3, 'tactile': 3, 'skincare': 3, 'hori': 3, 'tetsubin': 3, 'script': 3, 'robusta': 3, 'fenyx': 3, 'tins': 3, 'clip': 3, 'liberty': 3, 'situations': 3, 'ergonomics': 3, 'lovecraft': 3, 'prologue': 3, 'grd': 3, 'cloves': 3, 'calibration': 3, 'wegmans': 3, 'outcast': 3, 'organic': 3, 'mariokart': 3, 'sunsetscreen': 3, 'modify': 3, 'brightness': 3, 'achievement': 3, 'coz': 3, 'slice': 3, 'breakpoint': 3, 'hawaii': 3, 'egcg': 3, 'souvenir': 3, 'hunts': 3, 'repurchase': 2, 'comply': 2, \"pu'er\": 2, 'processed': 2, '1991': 2, 'flower': 2, 'shelves': 2, 'refrigerator': 2, 'distribution': 2, 'locally': 2, 'leftover': 2, 'syrups': 2, 'yuck': 2, 'queue': 2, 'boba': 2, 'launching': 2, '1,000': 2, 'removing': 2, 'ubisoft': 2, '8700k': 2, 'uncommon': 2, 'pertaining': 2, 'roles': 2, 'alert': 2, 'maximize': 2, 'jin': 2, 'xuan': 2, 'unhappy': 2, 'advertise': 2, 'designing': 2, 'wh': 2, 'correlate': 2, 'ek43': 2, '2x': 2, 'yl': 2, 'pennsylvania': 2, 'monoprice': 2, 'backlit': 2, 'steamed': 2, 'packet': 2, 'rotation': 2, 'mua3': 2, 'consignment': 2, 'rack': 2, 'shape': 2, 'refunded': 2, 'bond': 2, 'sport': 2, 'tournaments': 2, 'focusing': 2, 'countless': 2, 'growth': 2, 'wary': 2, 'negatives': 2, 'croix': 2, 'polar': 2, 'cosmetic': 2, 'overwatch': 2, 'prioritized': 2, 'attacked': 2, 'warriors': 2, 'fend': 2, 'citizens': 2, 'texts': 2, '👍': 2, 'kotor': 2, 'gyro': 2, 'suspension': 2, 'polycystic': 2, 'kidney': 2, 'filtering': 2, 'drill': 2, 'infinity': 2, 'los': 2, 'angeles': 2, 'guest': 2, 'exclusivity': 2, 'hostile': 2, 'oblivion': 2, 'blew': 2, 'lo': 2, 'beats': 2, 'diving': 2, 'relatedsubs': 2, 'moderators](https://www.reddit.com': 2, 'compose?to=%2fr%2fnintendoswitch': 2, 'nintendofriends': 2, 'switchfcswap': 2, 'exchanging': 2, 'mecha': 2, 'server](https://discord.gg': 2, 'search?q': 2, 'friend+request+weekend&restrict_sr': 2, 'on&sort': 2, 'new&t': 2, 'inconsistent': 2, 'dozen': 2, 'k&m': 2, 'positions': 2, 'suits': 2, 'moons': 2, 'chewing': 2, 'ys': 2, 'cleanse': 2, 'trapped': 2, 'dump': 2, 'targeted': 2, 'sleeve': 2, 'inevitably': 2, 'cruelty': 2, 'faint': 2, 'toluene': 2, 'grammar': 2, 'stationary': 2, 'integrated': 2, 'oxo': 2, 'weigh': 2, 'judging': 2, 'amazed': 2, 'globe': 2, 'clarification': 2, 'demographic': 2, 'advised': 2, 'speaking': 2, 'consistency': 2, 'profession': 2, 'hobbies': 2, 'economics': 2, 'guild': 2, 'f.e.a.r.': 2, 'aces': 2, 'generous': 2, 'feet': 2, 'pan': 2, 'sorely': 2, 'comic': 2, 'convention': 2, 'pinchcliffe': 2, 'beloved': 2, 'translated': 2, '2000': 2, 'atleast': 2, 'gather': 2, 'teaser': 2, 'eyeing': 2, 'pillars': 2, 'loathing': 2, 'heist': 2, 'juan': 2, 'rinses': 2, 'rinsing': 2, 'surprising': 2, 'diluted': 2, 'amber': 2, 'remain': 2, 'gui': 2, 'vendor': 2, 'chasing': 2, 'pump': 2, 'xi': 2, 'flight': 2, 'unheard': 2, 'rolled': 2, 'consists': 2, 'shlt': 2, 'inlay': 2, 'fvckin': 2, 'duh': 2, 'locations': 2, 'wisdom': 2, 'waterni**as': 2, 'vloggersupdates': 2, 'influencer': 2, 'scandals': 2, 'youtubers': 2, 'influencers': 2, 'reliability': 2, 'approximately': 2, 'performs': 2, 'braided': 2, 'reasonably': 2, 'education': 2, 'outright': 2, 'train': 2, 'recognized': 2, 'charm': 2, 'affordable': 2, 'cascara': 2, 'rica': 2, 'outstanding': 2, 'reads': 2, 'shill': 2, 'postings': 2, 'exaggerating': 2, 'bbc': 2, 'thx': 2, 'locking': 2, 'ancient': 2, 'flawlessly': 2, 'periodically': 2, 'causes': 2, 'stroke': 2, 'surgery': 2, 'occasion': 2, 'beaten': 2, 'detachable': 2, 'mcdonalds': 2, 'grove': 2, 'sleepytime': 2, 'minus': 2, 'brim': 2, 'suareasy': 2, 'generosity': 2, 'branching': 2, 'completion': 2, 'downright': 2, 'struggle': 2, 'pve': 2, 'spilled': 2, 'facts': 2, 'reports': 2, 'variants': 2, 'binning': 2, 'editions': 2, 'latter': 2, 'gigabyte': 2, '3.6': 2, 'psu': 2, 'reconsider': 2, 'downer': 2, 'dreams': 2, 'dealing': 2, 'stance': 2, 'ago-': 2, 'hired': 2, 'catalogue': 2, 'cider': 2, 'squeezed': 2, 'struggles': 2, 'needing': 2, 'tutorials': 2, 'drastic': 2, 'yay': 2, 'contemplating': 2, 'ed': 2, '100hrs': 2, 'kettles': 2, 'goosenecks': 2, 'kandi': 2, 'bus': 2, 'interface': 2, 'incorrectly': 2, 'doubts': 2, 'z.': 2, 'x8': 2, '1.0': 2, 'reboot': 2, 'elementary': 2, 'needless': 2, 'underrated': 2, 'b-': 2, 'chose': 2, 'interests': 2, 'pairing': 2, 'bustelo': 2, 'architecture': 2, 'optimize': 2, 'nowadays': 2, 'emotional': 2, 'promotion': 2, 'andreas': 2, 'detection': 2, 'blow': 2, 'sennheiser': 2, 'preset': 2, 'whoring': 2, 'bo3': 2, 'rely': 2, 'electronics': 2, 'unlocking': 2, 'proprietary': 2, 'cradle': 2, 'challenges': 2, 'caffiene': 2, 'scenario': 2, 'productive': 2, 'pricing': 2, 'clueless': 2, 'fool': 2, '330ml': 2, 'thai': 2, 'indian': 2, 'disappear': 2, 'santa': 2, 'signups': 2, 'docuseries': 2, 'babe': 2, 'purely': 2, 'balanced': 2, 'teamplay': 2, 'strategies': 2, 'sixaxis': 2, 'emulate': 2, 'repackaged': 2, 'finance': 2, 'r&c': 2, 'metacritic': 2, 'kicker': 2, 'lies': 2, '800': 2, 'immediate': 2, 'evga': 2, 'sig': 2, 'teaware': 2, 'ensure': 2, 'boils': 2, 'gasoline': 2, 'mexican': 2, 'scroll': 2, 'phones': 2, 'daycare': 2, 'conventional': 2, 'hypothetically': 2, 'strain': 2, 'redout': 2, 'futuristic': 2, 'grandfather': 2, 'r&f.': 2, 'labels': 2, 'regulation': 2, 'youtuber': 2, 'syndrome': 2, 'booster': 2, 'dangerous': 2, 'regimen': 2, 'permanent': 2, 'displaying': 2, 'struck': 2, 'mentored': 2, 'dude': 2, 'deliverance': 2, 'referring': 2, 'slight': 2, 'revised': 2, 'incentive': 2, 'vg248qe': 2, 'perform': 2, 'adds': 2, 'beastly': 2, 'rig': 2, 'breakdown': 2, 'merchant': 2, 'i5': 2, 'cfm': 2, '124.99': 2, 'vii': 2, 'vengeance': 2, 'certified': 2, 'oem': 2, '99.99': 2, '120': 2, 'taxes': 2, 'cemu': 2, 'conference': 2, 'legitimate': 2, 'internship': 2, 'textbooks': 2, 'misleading': 2, 'bs': 2, 'podcasts': 2, 'york': 2, 'pink': 2, 'aesthetic': 2, '2.50': 2, 'jugs': 2, 'robotics;notes': 2, 'novels': 2, 'vns': 2, 'collect': 2, 'autosave': 2, 'crashed': 2, 'genki': 2, 'wise': 2, 'bricking': 2, 'steering': 2, 'saturation': 2, 'easiest': 2, 'aiming': 2, 'phoenix': 2, 'ahold': 2, 'f.': 2, 'unlucky': 2, '2.09': 2, 'zx': 2, 'v2': 2, 'firmly': 2, 'dehua': 2, 'smoky': 2, 'returns': 2, 'owning': 2, 'wether': 2, 'muted': 2, 'soo': 2, 'mails': 2, 'foreseeable': 2, 'eligible': 2, 'litre': 2, 'protein': 2, 'camomile': 2, 'absorb': 2, '6l': 2, 'dbz': 2, 'kits': 2, 'monkey': 2, 'vacuum': 2, 'rust': 2, '31': 2, 'cheaply': 2, 'plex': 2, 'x1': 2, 'gears': 2, 'furious': 2, 'incremental': 2, 'disclosure': 2, 'conspiracy': 2, 'officially': 2, 'waves': 2, 'brighter': 2, 'vein': 2, 'kills': 2, 'meets': 2, 'brutal': 2, 'destruction': 2, 'dangers': 2, 'tactic': 2, 'taikoo': 2, 'drum': 2, 'wear': 2, 'elses': 2, 'buildings': 2, 'lomonosov': 2, 'apologies': 2, 'seeking': 2, 'russian': 2, 'piqued': 2, 'mgs': 2, 'reception': 2, 'crowd': 2, 'inevitable': 2, 'confrontation': 2, 'tongue': 2, 'scarce': 2, 'fulfilling': 2, 'christian': 2, 'promos': 2, 'spectacular': 2, 'tamper': 2, 'honing': 2, 'specialist': 2, 'heading': 2, 'foul': 2, 'citric': 2, 'acrid': 2, 'liklihood': 2, 'computing': 2, 'tweeted': 2, 'hyperx': 2, 'geared': 2, 'kidding': 2, 'stinging': 2, 'nettle': 2, 'activates': 2, 'forbidden': 2, 'interferes': 2, 'clash': 2, 'technologies': 2, 'weirdly': 2, 'interacting': 2, 'universal': 2, 'complexity': 2, 'anecdotal': 2, 'meth': 2, 'mmos': 2, 'charts': 2, 'blades': 2, 'ignoring': 2, 'instance': 2, 'gaining': 2, 'thumbnail': 2, 'scrolls': 2, 'smoothly': 2, 'homepage': 2, 'swipe': 2, 'touchscreen': 2, 'ecoshield': 2, 'boards': 2, 'superstars': 2, 'recall': 2, 'featured': 2, 'unanswered': 2, 'heated': 2, 'humorous': 2, 'serving': 2, 'minerally': 2, 'gongmei': 2, 'drying': 2, 'qi': 2, 'surge': 2, 'men': 2, 'leveling': 2, 'magnificent': 2, 'elder': 2, 's’well': 2, 'slip': 2, 'golds': 2, 'skips': 2, 'interference': 2, 'pushes': 2, 'ailments': 2, 'snake': 2, 'criticism': 2, 'de': 2, 'partake': 2, 'unrelated': 2, 'severe': 2, 'abnormal': 2, 'neutralize': 2, 'allergic': 2, 'decline': 2, 'understood': 2, 'abandoned': 2, 'colony': 2, 'diamonds': 2, 'ur': 2, 'dewmocracy': 2, 'stutter': 2, '650': 2, 'recycling': 2, 'seven': 2, 'infuse': 2, 'leafs': 2, 'sits': 2, 'hundred': 2, 'smoke': 2, 'engagement': 2, 'tisanes': 2, 'zeal': 2, 'targeting': 2, 'avon': 2, 'trusts': 2, 'angles': 2, 'baldur': 2, 'cutco': 2, 'affiliate': 2, 'floating': 2, 'nso': 2, 'shrink': 2, 'disservice': 2, 'styles': 2, 'farthest': 2, 'benchmarks': 2, 'accompanied': 2, 'narrow': 2, 'crossed': 2, '2077': 2, 'docks': 2, 'americans': 2, 'hopeful': 2, 'successes': 2, 'void': 2, 'nearest': 2, 'microplastic': 2, 'leaks': 2, 'fortune': 2, 'penny': 2, 'reuse': 2, 'shine': 2, 'clicking': 2, 'uplines': 2, 'tagging': 2, 'tinker': 2, 'furry': 2, 'pets': 2, 'mumba': 2, 'orzly': 2, 'protector': 2, 'fortunately': 2, 'sanitizer': 2, 'misinformation': 2, 'bullying': 2, 'blocking': 2, 'tense': 2, 'divorced': 2, 'confronted': 2, 'legaladvice': 2, 'fishing': 2, 'nonpolar': 2, 'substances': 2, 'invention': 2, 'peppermint': 2, 'staining': 2, 'salesperson': 2, 'planting': 2, 'seed': 2, 'litterally': 2, 'noone': 2, 'paused': 2, 'supposedly': 2, 'cores': 2, 'fewer': 2, 'influence': 2, 'satisfaction': 2, 'cappuccino': 2, 'c&c': 2, 'merry': 2, 'wulong': 2, 'efficient': 2, 'meat': 2, 'connections': 2, 'nagging': 2, '80s': 2, 'soulslike': 2, 'hack': 2, 'slay': 2, 'drifter': 2, 'hdtv': 2, 'anaheim': 2, 'ff14': 2, 'cycled': 2, 'loop': 2, 'lived': 2, 'mediocre': 2, 'proven': 2, 'illnesses': 2, 'ctc': 2, 'askreddit': 2, 'commonly': 2, 'respective': 2, 'temporary': 2, 'clover': 2, 'startup': 2, 'headed': 2, 'edit-': 2, 'reduced': 2, 'jitters': 2, 'studies': 2, 'aforementioned': 2, 'quicker': 2, 'nighttime': 2, 'deceptive': 2, 'interpretation': 2, 'suit': 2, 'muscle': 2, 'skip': 2, 'sicily': 2, 'wrapped': 2, 'gifts': 2, 'detailed': 2, 'unplug': 2, 'francisco': 2, 'coast': 2, 'ikea': 2, 'gato': 2, 'roboto': 2, 'platformers': 2, 'aspects': 2, 'polished': 2, 'destroy': 2, 'presentation': 2, 'activated': 2, 'inquiry': 2, 'admin': 2, 'lurk': 2, 'maxwell': 2, 'wintery': 2, 'mixes': 2, 'pathfinder': 2, 'mama': 2, 'signs': 2, 'enthusiastically': 2, 'philadelphia': 2, 'widescreen': 2, 'http://www.wsgf.org/forums/viewtopic.php?f=95&t=33144': 2, 'unwanted': 2, 'problematic': 2, 'plague': 2, 'framerates': 2, 'rental': 2, 'notion': 2, 'wpa': 2, 'wpa2': 2, 'brief': 2, 'groups': 2, 'modded': 2, 'drawback': 2, 'evenly': 2, 'adjustments': 2, 'ditch': 2, 'nylock': 2, 'gamerscore': 2, 'digging': 2, 'ate': 2, 'crisp': 2, 'panels': 2, 'advise': 2, 'cocoa': 2, 'spyro': 2, 'reignited': 2, 'microsd': 2, 'rift': 2, 'controversy': 2, '2.4ghz': 2, 'throws': 2, 'curated': 2, 'pekoe': 2, 'shou': 2, 'b.': 2, 'preparing': 2, 'americano': 2, 'vividly': 2, 'teabags': 2, 'cousins': 2, 'waternwords': 2, 'shasta': 2, 'kroger': 2, 'hunbots': 2, 'religion': 2, 'ce-38605': 2, 'explicitly': 2, 'infected': 2, 'peanut': 2, 'glory': 2, 'excessive': 2, 'dehydration': 2, 'enthusiasts': 2, 'electrolyte': 2, 'hyponatremia': 2, 'throughout': 2, 'traveller': 2, 'doubting': 2, 'undecided': 2, 'dayz.': 2, 'dayz': 2, 'bash': 2, 'ps4s': 2, '115': 2, 'chocolatey': 2, 'developing': 2, 'enormous': 2, 'creators': 2, 'famous': 2, 'donkey': 2, '27': 2, 'convoluted': 2, 'gravity': 2, 'fed': 2, 'freshness': 2, 'nervous': 2, 'suspect': 2, 'leadership': 2, 'tetsu': 2, 'kasuya': 2, 'origami': 2, 'sata': 2, 'flavoured': 2, 'briefly': 2, 'teammates': 2, 'cafec': 2, 't-92': 2, 'labeled': 2, 'edge': 2, 'clogging': 2, 'phase': 2, 'injection': 2, 'bare': 2, '1080': 2, 'jokes': 2, '2009': 2, 'hibernationhomies': 2, 'deprived': 2, 'numerically': 2, 'heathen': 2, 'mysterious': 2, 'certification': 2, 'renting': 2, 'drainage': 2, 'radiation': 2, 'peg': 2, 'tube': 2, 'overloaded': 2, 'failure': 2, 'exercises': 2, 'exercise': 2, 'cracked': 2, 'faves': 2, 'wal': 2, 'spoiled': 2, 'tx': 2, 'achieved': 2, 'continues': 2, 'treating': 2, 'trained': 2, 'nc': 2, 's.o.s.': 2, 'ringing': 2, 'wander': 2, 'acceptable': 2, 'batches': 2, 'straightforward': 2, 'postmix': 2, 'hears': 2, 'dodgy': 2, 'sum': 2, 'gathered': 2, 'rent': 2, 'spends': 2, 'magical': 2, 'abilities': 2, 'counting': 2, 'absorbed': 2, 'existing': 2, 'goo': 2, 'sm4sh': 2, 'scratch': 2, 'ironic': 2, 'opposite': 2, 'objective': 2, 'format': 2, 'constraint': 2, 'bind': 2, 'lengthy': 2, 'flexships': 2, 'csr': 2, 'contract': 2, 'penalty': 2, 'korra': 2, 'edit2': 2, 'midwest_wonder': 2, 'moderate': 2, 'populated': 2, 'teasales': 2, 'replaces': 2, 'playgrounds': 2, 'finishes': 2, 'urine': 2, 'pickle': 2, 'spoken': 2, 'depravity': 2, 'sodahomies': 2, 'rancilio': 2, 'pat': 2, 'grateful': 2, '1.7': 2, 'salesman': 2, 'fibre': 2, 'inviting': 2, 'listened': 2, 'registered': 2, 'heap': 2, 'mice': 2, '6.0.1': 2, '6.0.0': 2, 'drifting': 2, 'vary': 2, 'requiring': 2, 'elden': 2, 'bob': 2, 'smallbusiness': 2, 'payments': 2, 'jungle': 2, 'jim': 2, 'intend': 2, 'clicked': 2, 'weekends': 2, 'l’brie': 2, 'block': 2, 'h1z1': 2, 'contributing': 2, 'trainer': 2, 'blogs': 2, 'alongside': 2, 'slumbersavants': 2, 'tekken': 2, 'extent': 2, 'impressions': 2, 'tweet': 2, 'cited': 2, 'citations': 2, 'senior': 2, 'publicly': 2, 'rmx': 2, 'glorious': 2, 'spicey': 2, 'teaspoons': 2, 'steeper': 2, 'hahaha': 2, 'shirt': 2, 'xl': 2, 'fighterz': 2, 'bombs': 2, 'blackberry': 2, 'berry': 2, 'concentrate': 2, 'amazon.com': 2, 'shaken': 2, 'sinensis': 2, 'flexibility': 2, 'forte': 2, 'dosing': 2, 'bg': 2, 'substance': 2, 'formula': 2, 'mafia': 2, 'mmorpgs': 2, 'jarritos': 2, 'lingering': 2, '~~i': 2, 'deactivation': 2, 'stranding': 2, 'rope': 2, 'fetco': 2, 'ek': 2, 'reaching': 2, 'colombian': 2, 'xcom': 2, '€': 2, 'calendars': 2, 'mu': 2, 'sieve': 2, 'buffs': 2, '3080': 2, 'notified': 2, 'pst': 2, 'canister': 2, 'providing': 2, 'experiencing': 2, 'drpepper': 2, 'dec': 2, 'guidance': 2, 'weekly': 2, 'jon': 2, 'danish': 2, 'svoboda': 2, 'marketplace': 2, 'taco': 2, 'downside': 2, 'cheat': 2, 'agreement': 2, 'expansions': 2, 'embrace': 2, 'st.': 2, 'louis': 2, 'interviews': 2, 'climb': 2, 'burn': 2, 'praised': 2, 'definition': 2, 'confident': 2, 'baked': 2, 'argue': 2, 'trailers': 2, 'animation': 2, 'debate': 2, 'rings': 2, 'hinting': 2, 'dramless': 2, 'meaningful': 2, 'branded': 2, 'enjoyment': 2, 'youth': 2, 'written': 2, 'woods': 2, 'thimbleweed': 2, 'largest': 2, 'i´ve': 2, 'shock': 2, 'fires': 2, 'brutality': 2, 'mute': 2, 'moda': 2, 'amp': 2, 'hypers': 2, 'diego': 2, 'positivity': 2, 'exhausted': 2, 'inducing': 2, 'healthier': 2, 'dependency': 2, 'afternoons': 2, 'noticeably': 2, 'programmer': 2, 'peeing': 2, 'relative': 2, '29': 2, 'safari': 2, 'shocker': 2, 'bear': 2, 'fledged': 2, 'fujian': 2, 'arrived': 2, 'realignment': 2, 'uploaded': 2, 'finest': 2, 'continuously': 2, 'packages': 2, 'n++': 2, 'scores': 2, 'mcdonald': 2, 'kicks': 2, 'default': 2, 'pray': 2, 'aw': 2, 'beers': 2, 'recs': 2, 'climate': 2, 'humidity': 2, 'hei': 2, 'flowers': 2, 'tou': 2, 'concentrated': 2, 'capcom': 2, 'rising': 2, 'frank': 2, 'outrageous': 2, 'spelled': 2, 'unite': 2, 'sodanibbas': 2, 'fortebg': 2, 'lcd': 2, 'spike': 2, 'ie': 2, 'wpm': 2, 'stoked': 2, 'heres': 2, 'signal': 2, 'heartburn': 2, 'minimize': 2, 'hashtag': 2, 'healthyu': 2, 'asks': 2, 'harvesting': 2, 'october': 2, 'thru': 2, '375': 2, 'hence': 2, 'brewers': 2, 'v60s': 2, '1893': 2, 'hk': 2, 'clinic': 2, 'banner': 2, 'sight': 2, 'scattered': 2, 'cs': 2, 'nutty': 2, 'terror': 2, 'peruvian': 2, 'placing': 2, 'opportunities': 2, 'editing': 2, 'traveled': 2, 'denmark': 2, 'attempted': 2, 'wishing': 2, 'pumpkin': 2, 'decorating': 2, '7.99': 2, 'pleasant': 2, 'font': 2, 'considerations': 2, 'behold': 2, 'newcomer': 2, 'incoming': 2, 'wilfa': 2, 'svart': 2, 'shin': 2, 'megami': 2, 'tensei': 2, 'smt': 2, 'refillable': 2, 'dawned': 2, 'shadows': 2, 'killzone': 2, 'neumorphism': 2, 'gentle': 2, 'violent': 2, 'battlefront': 2, 'captured': 2, 'wealth': 2, 'platforming': 2, 'courses': 2, '80/100': 2, 'predict': 2, 'stubborn': 2, 'drama': 2, 'span': 2, 'feasible': 2, 'somethin': 2, 'deliberate': 2, 'counts': 2, 'gunplay': 2, 'bugs': 2, 'lookin': 2, 'al': 2, 'shwepps': 2, 'c+': 2, 'dasani': 2, 'robust': 2, 'tracking': 2, 'subscriptions': 2, 'breach': 2, '5th': 2, 'moxie': 2, 'hat': 2, 'tab': 2, 'pokken': 2, 'spits': 2, 'pairs': 2, 'tabletop': 2, 'es1': 2, 'glitches': 2, 'facing': 2, 'standing': 2, 'storytelling': 2, '1970s': 2, 'tight': 2, 'apparent': 2, 'chick': 2, 'woke': 2, 'dm’d': 2, 'attracted': 2, 'pinch': 2, 'inhaler': 2, 'nft': 2, 'sinners': 2, 'daxter': 2, 'screwed': 2, 'cross': 2, 'absorbing': 2, 'weaker': 2, 'politeness': 2, 'ethics': 2, 'worker': 2, 'ffx': 2, '27.5': 2, 'bullet': 2, 'sandisk': 2, 'wherever': 2, 'commander': 2, 'mt': 2, 'cf': 2, 'virus': 2, 'freaking': 2, 'grad': 2, 'dangerously': 2, 'betraying': 2, 'elderberry': 2, 'edith': 2, 'finch': 2, 'deeply': 2, 'cry': 2, 'approaches': 2, '350': 2, 'motorstorm': 2, 'offroad': 2, 'optional': 2, 'pirate': 2, 'reducing': 2, 'elderly': 2, 'diffuser': 2, 'audacity': 2, 'training': 2, 'dramatic': 2, 'jamberry': 2, 'officer': 2, 'eternal': 2, 'tougher': 2, 'bosses': 2, 'spotlight': 2, 'station': 2, 'michigan': 2, 'largely': 2, 'digimon': 2, 'dogurai': 2, 'deserves': 2, 'mega': 2, 'sword': 2, 'enemy': 2, 'stage': 2, 'battles': 2, 'husks': 2, 'containers': 2, 'spearmint': 2, 'lawn': 2, 'promises': 2, 'tolerate': 2, 'outsell': 2, 'dino': 2, 'whistling': 2, 'legs': 2, 'fav': 2, 'therapeutic': 2, 'highlights': 2, 'worldventures': 2, 'goblins': 2, 'fiancee': 2, 'coached': 2, 'sees': 2, 'inc': 2, 'tradition': 2, 'puppy': 2, 'ween': 2, 'downlines': 2, 'poodle': 2, 'bedtime': 2, 'medication': 2, 'routine': 2, 'mold': 2, 'bistro': 2, 'poke': 2, 'giotto': 2, 'puzzlers': 2, 'sink': 2, 'denied': 2, 'marcus': 2, 'jarring': 2, 'enable': 2, 'faxe': 2, 'kondi': 2, 'stateside': 2, 'produced': 2, 'pads': 2, 'aldi': 2, 'preorders': 2, 'ymmv': 2, 'airtight': 2, 'australian': 2, 'arakai': 2, 'stall': 2, 'restaurants': 2, 'danidev': 2, 'raises': 2, 'monetarily': 2, 'incentivized': 2, 'terribly': 2, 'hud': 2, '@60hz': 2, 'miles': 2, 'deletes': 2, 'earth': 2, 'scales': 2, 'pearl': 2, 'rosali': 2, 'colossus': 2, 'unopened': 2, 'drawing': 2, 'explored': 2, 'sachets': 2, 'palette': 2, 'variations': 2, 'littlewood': 2, 'pixelated': 2, 'nabbits': 2, 'finder': 2, '43': 2, 'sweating': 2, 'ida': 2, 'nascar': 2, 'secondhand': 2, 'april': 2, 'finely': 2, 'blacks': 2, 'backing': 2, 'cleared': 2, 'stone': 2, 'aromatherapist': 2, 'fairs': 2, 'dipped': 2, 'organizer': 2, 'naive': 2, 'economically': 2, 'cone': 2, 'defending': 2, 'takeaway': 2, 'kirkland': 2, 'thoroughly': 2, 'oven': 2, 'chocolaty': 2, 'dandelion': 2, 'watermelon': 2, 'tidal': 2, '2042': 2, 'overlooked': 2, 'flipping': 2, 'afaik': 2, '38': 2, 'renewable': 2, 'supplier': 2, 'obtain': 2, 'faq': 2, 'concerning': 2, 'deer': 2, 'cooking': 2, 'fusion': 2, 'mansion': 2, 'franchises': 2, 'communicating': 2, 'subs': 2, 'withdrawals': 2, \"g'day\": 2, 'sunny': 2, 'pit': 2, 'disney': 2, 'fox': 2, 'typing': 2, 'circleoftrust': 2, 'attila': 2, 'hunbot': 2, 'mouthfeel': 2, 'rusty': 2, 'unplugging': 2, 'distinct': 2, 'patent': 2, 'happier': 2, 'realism': 2, 'scott': 2, 'pilgrim': 2, 'mordhau': 2, 'tarkov': 2, 'instanced': 2, 'loot': 2, '1.33': 2, 'comparing': 2, 'happiness': 2, 'bo2': 2, 'lobbies': 2, 'hijacked': 2, 'sacrificing': 2, 'gripes': 2, 'invasion': 2, 'grayswood': 2, 'sherman': 2, 'attack': 2, 'photo': 2, 'pinpoint': 2, 'materials': 2, '1ms': 2, 'indefinitely': 2, 'tim': 2, 'hortons': 2, '🔺': 2, 'casual': 2, 'chase': 2, '23': 2, 'guacamelee': 2, '21': 2, 'unravel': 2, 'gore': 2, 'wargroove': 2, 'dizzy': 2, 'discomfort': 2, 'cycle': 2, 'chatted': 2, 'dislike': 2, 'operations': 2, 'profits': 2, 'inexpensive': 2, 'downgrade': 2, 'tweaks': 2, 'whom': 2, 'discussing': 2, 'pores': 2, 'rights': 2, 'mercenaries': 2, 'manta': 2, 'storm': 2, 'backflip': 2, 'successfully': 2, 'reminiscent': 2, 'antisnakeoil': 2, 'r/': 2, 'retina': 2, 'gt': 2, '3570k': 2, 'vs+': 2, 'dislikes': 2, 'indifference': 2, 'laws': 2, 'discourage': 2, 'chart': 2, 'freezes': 2, 'useless': 2, 'proceeds': 2, 'deliver': 2, 'printable': 2, 'tempting': 2, 'wholelattelove.com': 2, 'shoprite': 2, '82': 2, '125': 2, 'rt': 2, 'rind': 2, 'recruits': 2, 'gevalia': 2, 'jasmine': 2, 'buddies': 2, 'drag': 2, 'keybinds': 2, 'singleplayer': 2, 'guard': 2, 'ugh': 2, 'tune': 2, 'exhausting': 2, 'insightful': 2, 'flummoxed': 2, 'compelling': 2, 'expiration': 2, 'shading': 2, 'extended': 2, 'sci': 2, 'darklightgame': 2, 'reverts': 2, 'dts': 2, 'rays': 2, 'bitstream': 2, 'quarter': 2, 'freeze': 2, 'leg': 2, 'xb1': 2, 'treated': 2, 'holes': 2, 'walls': 2, 'g1': 2, 'sizes': 2, 'effectively': 2, 'increased': 2, 'advertised': 2, 'lifted': 2, 'darn': 2, 'nightlife': 2, 'jersey': 2, 'rocketfizz': 2, 'preying': 2, 'ophelia': 2, 'cyrus': 2, 'olberic': 2, 'primrose': 2, 'alfyn': 2, 'therion': 2, 'rolls': 2, 'paul': 2, 'john': 2, 'victims': 2, 'descaled': 2, 'probability': 2, '😐': 2, 'paragraph': 2, 'drove': 2, 'twinnings': 2, 'upvotes': 2, 'karmawhoring': 2, \"l'bri\": 2, 'peddler': 2, 'stumptown': 2, 'bf3': 2, 'treats': 2, 'educating': 2, 'whitening': 2, 'fluoride': 2, '2010': 2, 'ummon': 2, 'aoarashi': 2, 'isuzu': 2, 'koyamaen': 2, 'follows': 2, 'sayaka': 2, 'realizing': 2, 'addict': 2, 'regulations': 2, 'issuing': 2, 'refunding': 2, 'warehouse': 2, 'spiritfarer': 2, 'invisible': 2, 'apologise': 2, 'stealthy': 2, 'generated': 2, 'tangerine': 2, 'synced': 2, 'uninstalled': 2, 'troubleshooting': 2, 'bd': 2, 'connects': 2, '13.6': 2, '28.3': 2, 'divided': 2, 'frothy': 2, 'pu’erh': 2, 'resetting': 2, 'originalxbox': 2, 'prohibited': 2, 'sponsorship': 2, 'narrater': 2, 'roobios': 2, 'loost': 2, '-african': 2, 'pride': 2, 'tanzania': 2, 'wisps': 2, 'mauritius': 2, 'ssid': 2, 'greatest': 2, 'uncompressed': 2, 'retired': 2, '🙏': 2, 'bay': 2, 'village': 2, 'professional': 2, 'reforged': 2, 'joysound': 2, 'simulate': 2, 'workload': 2, 'porting': 2, 'turkish': 2, 'bosnian': 2, 'unfiltered': 2, 'serve': 2, 'craving': 2, 'knitting': 2, 'coward': 2, 'https://www.ign.com/articles/ghost-of-tsushima-devs-discuss-challenging-combat-incredibly-difficult-samurai-fights': 2, 'délonghi': 2, 'ecam': 2, 'suited': 2, 'quota': 2, 'respect': 2, 'deserve': 2, 'xmas': 2, 'darkest': 2, 'mentally': 2, 'spiritual': 2, 'coaster': 2, 'skylines': 2, 'hop': 2, 'stutters': 2, 'warframe': 2, 'hiccups': 2, 'kb5005539': 2, 'kb5006670': 2, 'uninstalling': 2, '3090': 2, 'dipping': 2, 'kb': 2, 'thermometer': 2, 'remembering': 2, 'sinking': 2, 'bang': 2, 'buck': 2, 'trials': 2, 'photorealistic': 2, 'unlimited': 2, 'yt': 2, 'glaze': 2, 'draining': 2, 'nana': 2, 'wendelboe': 2, 'downwell': 2, 'tate': 2, 'involves': 2, 'fifa18': 2, 'disliked': 2, 'checkup': 2, 'positioning': 2, 'eco': 2, 'yunomius': 2, 'monsters': 2, 'downgrades': 2, 'costume': 2, 'engineer': 2, 'rabbids': 2, 'bestbuy': 2, 'yardstick': 2, 'undertones': 2, 'buildapc': 2, 'circular': 2, 'workouts': 2, 'supernova': 2, 'mugs': 2, '1:15': 2, 'sediment': 2, 'joe': 2, 'enhances': 2, 'concentrations': 2, 'perception': 2, 'r+f.': 2, 'drifts': 2, 'arrange': 2, 'camelot': 2, 'drinkdudes': 2, 'miraculously': 2, 'sku': 2, 'rumour': 2, 'frankly': 2, 'gta5': 2, 'censorship': 2, 'censored': 2, 'comp': 2, 'tf2': 2, '96': 2, 'interval': 2, 'makeovers': 2, 'saga': 2, 'soda4u': 2, 'birch': 2, 'microfoam': 2, 'midway': 2, 'divinity': 2, 'attempts': 2, 'x-2': 2, 'yirgacheffe': 2, 'gesha': 2, 'blade': 2, 'earthiness': 2, 'shattered': 2, '57': 2, 'rambling': 2, 'sourness': 2, 'fios': 2, 'dropping': 2, '2080ti': 2, 'benchmark': 2, 'tweaking': 2, 'dlss': 2, 'blurry': 2, 'lighting': 2, 'dayton': 2, 'glance': 2, 'blonding': 2, 'sette': 2, '270': 2, 'pounds': 2, 'dancong': 2, 'cdkeys': 2, 'seemingly': 2, 'bpm': 2, 'chatpad': 2, 'teenager': 2, 'hfcs': 2, 'historical': 2, 'shuts': 2, 'tone': 2, 'euro': 2, '720p/60fps': 2, 'bitrate': 2, 'stations': 2, 'skillet': 2, 'puer': 2, 'homework': 2, 'peel': 2, 'yo': 2, 'brazilian': 2, 'videogames': 2, 'bunnies': 2, 'binge': 2, 'latency': 2, 'voltage': 2, 'ace': 2, 'horizons': 2, 'gf': 2, 'cried': 2, 'emotionally': 2, 'pale': 2, 'powerade': 2, 'vitamin': 2, 'pope': 2, 'protecting': 2, 'extension': 2, 'strip': 2, 'rac': 2, 'joypad': 2, 'river': 2, 'prey': 2, 'wives': 2, 'cattails': 2, 'fiji': 2, 'reward': 2, 'proxy': 2, 'anthem': 2, '19:00': 2, 'globally': 2, 'cling': 2, 'hz': 2, 'eurolux': 2, 'till': 2, 'cloudy': 2, 'ogame': 2, 'swedish': 2, 'vimto': 2, 'earbuds': 2, 'vacation': 2, 'mile': 2, 'radius': 2, 'floored': 2, 'lawsuits': 2, 'suwon': 2, 'pouch': 2, 'matched': 2, 'fang': 2, 'bridge': 2, 'corrosion': 2, 'neverbrokeabone': 2, 'sting': 2, 'vest': 2, 'r&d': 2, 'chipping': 2, 'coping': 2, 'mechanism': 2, 'gtaiv': 2, 'colored': 2, 'cartridges': 2, 'ir': 2, 'conversations': 2, 'redirect': 2, 'calories': 2, 'valentine': 2, 'bww': 2, 'literature': 2, 'daemon': 2, 'machina': 2, 'k250': 2, 'roaches': 2, 'enb': 2, '1.04': 2, 'popping': 2, 'larian': 2, '3pm': 2, 'realms': 2, 'ashes': 2, 'stocked': 2, 'slavery': 2, 'campaigner': 2, 'phantom': 2, 'hourly': 2, 'backup.bat': 2, 'exit': 2, 'pen': 2, 'attending': 2, 'engineering': 2, 'spy': 2, 'g1s': 2, 'wallstreetbets': 2, 'vivent': 2, 'tf': 2, 'confirmation': 2, 'repairs': 2, 'repairing': 2, 'elusive': 2, 'mk11': 2, 'recruiters': 2, 'presenting': 2, '10th': 2, 'hometown': 2, 'hilarious': 2, 'captures': 2, \"o'clock\": 2, 'vile': 2, 'ps4deals': 2, 'taiping': 2, 'houkui': 2, 'explode': 2, 'starfield': 2, 'teredo': 2, '-which': 2, 'trainings': 2, 'y’all': 2, 'bloated': 2, 'buyer': 2, 'refers': 2, 'https://www.instagram.com/p/b7ygpoqhsiv/': 2, 'madebystudiojq': 2, 'p.': 2, 'tarheel': 2, 'cramps': 2, 'thumb': 2, 'ifruit': 2, 'preserve': 2, 'accepted': 2, 'screeching': 2, '7.26': 2, 'scotland': 2, 'retention': 2, 'consideration': 2, '2oz/60ml': 2, 'hacker': 2, 'ultimately': 2, 'fate': 2, 'delonghi': 2, 'fastest': 2, 'tree': 2, 'intelligentsia': 2, 'noted': 2, 'authorised': 2, 'huang': 2, 'shan': 2, 'mao': 2, 'feng': 2, 'geisha': 2, 'misses': 2, 'jet': 2, 'argentinian': 2, 'zs': 2, '.if': 2, 'mythos': 2, 'imagery': 2, 'dk64': 2, 'dk': 2, 'ura': 2, 'indies': 2, 'fraction': 2, 'crater': 2, 'dribbles': 2, 'pepsin': 2, 'bark': 2, 'ij': 2, 'cong': 2, 'glycerin': 2, 'thesis': 2, 'husk': 2, 'simultaneously': 2, 'faulty': 2, 'geoff': 2, 'keighley': 2, '2060': 2, 'par': 2, 'specially': 2, 'bury': 2, 'syncing': 2, 'stocks': 2, 'string': 2, 'teabag': 2, 'tropical': 2, 'sober': 2, 'funcom': 2, 'denuvo': 2, 'ups': 2, 'flyers': 2, 'biz': 2, 'recreate': 2, 'exiting': 2, 'cringe': 2, 'suicide': 2, 'implying': 2, 'portability': 2, 'cabinet': 2, 'refacing': 2, 'roofing': 2, 'estimate': 2, 'bragged': 2, 'ceylon': 2, 'tours': 2, 'bes870xl': 2, 'steamer': 2, 'fh5': 2, 'tulsi': 2, 'basil': 2, 'g7': 2, 'bialetti': 2, 'repeatable': 2, 'probaly': 1, 'watermelon+strawberry': 1, 'coke': 1, 'highland': 1, \"ddos'd\": 1, 'kicking': 1, 'recourse': 1, 'gdpr': 1, 'stipulated': 1, 'fet': 1, 'specialized': 1, 'royale': 1, 'contestants': 1, 'prize': 1, 'naked': 1, 'penguin': 1, 'eugene': 1, 'labor': 1, 'farms': 1, 'peninsula': 1, 'chalked': 1, 'rows': 1, 'sheetz': 1, 'scored': 1, 'sierra': 1, 'mist': 1, '3/4': 1, 'queues': 1, 'unreleastic': 1, 'water.org': 1, 'gtx1080': 1, 'legion': 1, '3440x1440': 1, 'bottleneck': 1, 'tail': 1, 'medicare': 1, 'annual': 1, 'enrollment': 1, 'hart': 1, 'dug': 1, 'perplexed': 1, 'outbound': 1, 'contacts': 1, 'agencies': 1, '80k+': 1, 'sock': 1, 'textbook': 1, 'defeated': 1, 'foot': 1, 'staunch': 1, 'diff': 1, 'leftovers': 1, 'towels': 1, 'begun': 1, 'xss': 1, 'echinachea': 1, 'omit': 1, 'designs': 1, 'gladly': 1, 'electrical': 1, 'serial': 1, 'stickers': 1, 'refurbished': 1, '1117': 1, 'nov': 1, 'ditting': 1, '430': 1, 'discerning': 1, 'plate': 1, 'dooo': 1, 'gosh': 1, 'hater': 1, 'shiller': 1, 'workaholics': 1, 'distracted': 1, 'revenue': 1, 'coders': 1, 'contests': 1, 'giveaways': 1, 'reveals': 1, 'discontinuing': 1, 'http://www.monoprice.com/product?c_id=113&cp_id=11307&cs_id=1130703&p_id=10734&seq=1&format=2': 1, 'promotional': 1, 'mall': 1, 'pluck': 1, 'dac': 1, 'skirts': 1, 'cheesy': 1, 'hauling': 1, 'ph': 1, 'overlook': 1, 'refugee': 1, 'watern': 1, 'sacred': 1, 'dominant': 1, 'hosted': 1, 'candy': 1, 'referencing': 1, 'splatting': 1, 'surroundings': 1, 'premise': 1, 'covering': 1, 'managegement': 1, 'positives': 1, 'luggage': 1, 'whatnot': 1, 'bubbly': 1, 'sheep': 1, 'saver': 1, 'hd6950': 1, 'terabyte': 1, 'harddrive': 1, 'lemmie': 1, 'splitgate': 1, 'xiv': 1, 'uncover': 1, 'defenseless': 1, 'barbarians': 1, 'crowded': 1, 'prioritize': 1, 'oops': 1, 'rebel': 1, 'object': 1, 'budokai': 1, 'http://www.pcper.com/reviews/graphics-cards/mobile-g-sync-confirmed-and-tested-leaked-alpha-driver': 1, 'https://www.youtube.com/watch?v=k7syvgb6sz4': 1, 'edp': 1, 'archaic': 1, 'streamline': 1, '~28': 1, 'avaliable': 1, 'erase': 1, 'manageable': 1, 'becker': 1, 'pkd': 1, 'disease': 1, 'religiously': 1, '3.5ml': 1, 'britta': 1, 'diy': 1, 'http://imgur.com/a/xm1oq': 1, 'belonged': 1, 'decommissioned': 1, 'simpler': 1, 'construction': 1, 'drm': 1, 'philosophy': 1, 'runup': 1, 'contra': 1, 'mandates': 1, 'versus': 1, 'generate': 1, 'loan': 1, 'physicals': 1, 'decanter': 1, 'buyers': 1, 'remorse': 1, 'game(doesn’t': 1, 'sayonara': 1, 'soundtracks': 1, 'whim': 1, 'rhythm': 1, 'synthpop': 1, 'electronic': 1, 'hallucinogen': 1, 'accidently': 1, 'irrelevant': 1, '01/07/2022': 1, 'toooo': 1, 'http://www.davidstea.com': 1, 'cthulhu': 1, 'va': 1, 'discovery': 1, 'gal': 1, 'symmetry': 1, 'mortgage': 1, 'layed': 1, 'elbow': 1, 'avatars': 1, '999': 1, 'hugely': 1, 'crunch': 1, '920xl': 1, 'hg-1': 1, 'purge': 1, 'excess': 1, 'manufacturer': 1, 'allen': 1, 'hydrojug': 1, 'chilled': 1, 'strips': 1, 'traces': 1, 'brebcg820bssxl': 1, 'nil': 1, 'omg': 1, \"cruis'n\": 1, 'https://www.nintendo.com/games/detail/cruisn-blast-switch/': 1, 'affecting': 1, 'affects': 1, 'impart': 1, 'phenomenon': 1, 'all-': 1, 'temper': 1, 'tare': 1, 'moronic': 1, 'gender': 1, 'http://www.baristaguildofeurope.com/thelearningproject/2015/3/31/coffee-farm-economics': 1, 'skimmed': 1, 'masterpiece': 1, 'meter': 1, 'guaranteed': 1, 'visually': 1, 'unappealing': 1, 'layouts': 1, 'uninspired': 1, 'horrendous': 1, 'lacking': 1, 'overhead': 1, 'inserted': 1, 'unrecognized': 1, 'halp': 1, 'overhydrating': 1, '😔': 1, 'responsibly': 1, 'yelling': 1, 'nerds': 1, 'flåklypa': 1, '1975': 1, 'norwegian': 1, 'adults': 1, 'basicly': 1, 'https://www.youtube.com/watch?v=6vtuegfnwde': 1, 'eternity': 1, 'expertly': 1, 'cocaine': 1, 'disgaea': 1, 'reinstall': 1, 'cayo': 1, 'perico': 1, \"i'm\": 1, 'dispelled': 1, 'chair': 1, 'sofa': 1, 'seat': 1, 'chairs': 1, 'ting': 1, 'zi': 1, 'bulang': 1, 'gaiwans': 1, 'unstuck': 1, 'dryness': 1, \"pu'erhs\": 1, 'gaba': 1, 'ot': 1, 'fei': 1, '0.3': 1, '0.4': 1, 'fruitness': 1, 'berries': 1, 'entered': 1, 'backyard': 1, 'spigot': 1, 'clocked': 1, 'taps': 1, 'begins': 1, 'pga': 1, 'tour': 1, '2k21': 1, 'https://m.media-amazon.com/images/i/816oajpj+8l._ac_ss350_.jpg': 1, 'sodatalk': 1, 'diedrated': 1, 'resturant': 1, 'operation': 1, 'facility': 1, 'dept': 1, 'agriculure': 1, 'snapple': 1, 'kiwi': 1, 'tyia': 1, 'cluttered': 1, 'chops': 1, 'concepts': 1, 'y’know': 1, 'itch.io': 1, 'pike': 1, '64ish': 1, 'ml.': 1, 'leung': 1, 'http://www.theverge.com/2015/11/5/9674462/usb-type-c-google-engineer-third-party-cables': 1, 'https://www.amazon.com/gp/product/b010vuqen0/ref=oh_aui_search_detailpage?ie=utf8&psc=1': 1, 'https://www.amazon.com/gp/profile/amzn1.account.aflicgqrf6brjgh2rrd4vgmb47za?ie=utf8&ref_=cm_cr_rdp_pdp': 1, 'withstand': 1, 'fatigue': 1, 'cfs': 1, 'sufferers': 1, 'hateful': 1, 'quietly': 1, 'sugarcane': 1, 'huawei': 1, 'brisk': 1, 'sing': 1, 'praises': 1, 'finca': 1, 'hailcorporate': 1, '1/': 1, '2/': 1, 'earnings': 1, 'films': 1, 'iplayer': 1, 'jealous': 1, 'cooler/': 1, 'purifier': 1, 'nuvo': 1, 'zenroast': 1, 'bottomed': 1, 'saucepan': 1, 'poppers': 1, 'glaring': 1, 'survived': 1, 'drunken': 1, 'soldered': 1, 'motors': 1, 'interestingly': 1, 'keurigs': 1, 'timothy': 1, 'houtte': 1, 'crucify': 1, 'calming': 1, 'portifilter': 1, 'pressurised': 1, 'grinded': 1, 'philistine': 1, 'expresso': 1, 'cookworks': 1, 'expreso': 1, 'shoutout': 1, 'strings': 1, 'chambord': 1, 'plunger': 1, 'mn': 1, 'minnesota': 1, 'imaginable': 1, 'rates': 1, 'payday': 1, 'left4dead2': 1, 'merchandise': 1, 'disheartening': 1, 'families': 1, 'overstepping': 1, 'bounds': 1, 'reprimanded': 1, 'bins': 1, 'testimony': 1, 'ongoing': 1, 'jury': 1, 'posing': 1, 'minimums': 1, 'slapping': 1, 'reserve': 1, 'ga-78lmt': 1, 's2p': 1, 'haf922': 1, 'fx(tm)-4100': 1, 'ghz': 1, 'ati': 1, '4800': 1, '190': 1, '99.3': 1, 'profitable': 1, 'pursuing': 1, 'fluent': 1, 'dedication': 1, 'outweighed': 1, 'interaction': 1, 'crop': 1, 'https://preview.redd.it/je2yshc2k5f21.png?width=452&format=png&auto=webp&s=e04c7de1d00fd27addac211c9b38bf280ade7db4': 1, 'https://preview.redd.it/e6g4tp13k5f21.png?width=450&format=png&auto=webp&s=a857f2a842b5d25d96697107bb616098948038db': 1, 'disclaimer-': 1, 'grandpa': 1, 'responded-': 1, 'actions': 1, 'condolence': 1, 'blocks': 1, 'astounded': 1, 'thoughtfulness': 1, 'https://imgur.com/a/o0kacia': 1, 'https://imgur.com/gallery/volqbnh': 1, 'similarly': 1, 'mulled': 1, 'nevertheless': 1, 'rose': 1, 'seeped': 1, 'heavenly': 1, 'unsurprisingly': 1, '170f.': 1, 'sixties': 1, 'insists': 1, 'exodus': 1, 'davidstea': 1, 'honeydew': 1, 'nay': 1, 'synonymous': 1, 'n.e.r.o.': 1, 'n.e.r.o': 1, 'adv': 1, 'daniel': 1, 'bloodworth(he': 1, 'gametrailers.com': 1, 'http://www.twitch.tv/gametrailers/v/4972732': 1, '0.8l-1l': 1, 'xiaomi': 1, 'rhoa': 1, 'toys': 1, 'furthered': 1, 'empire': 1, 'https://www.kandikoated.com/': 1, 'suspected': 1, 'performing': 1, 'http://img.techpowerup.org/140811/gpuz.png': 1, 'screenshot': 1, 'http://users.wfu.edu/yipcw/atg/3d/sony/vegaspro11/images/vegas11-3d-nvidia-control-panel-system_info-1.gif': 1, 'hosts': 1, \"free'd\": 1, 'cp': 1, 'dramatically': 1, 'chilly': 1, 'satisfy': 1, 'infrequently': 1, 'ogden': 1, 'rannygazoo': 1, 'ranked': 1, 'c-': 1, 'splatnet': 1, 'bounced': 1, 'rainmaker': 1, 'dunked': 1, 'casualty': 1, 'nostalgic': 1, 'candidate': 1, 'exchanges': 1, 'replying': 1, 'addresses': 1, 'counterpart': 1, 'developments': 1, 'pilon': 1, 'aquila': 1, 'medaglia': 1, \"d'oro\": 1, 'architectures': 1, 'normies': 1, 'proffesional': 1, 'unoptimizations': 1, 'cpus': 1, 'lonely': 1, 'hostel': 1, 'inspired': 1, 'https://www.youtube.com/watch?v=689cfpk8ed8': 1, 'monetize': 1, 'koji': 1, 'igarashi': 1, 'backlash': 1, 'waits': 1, 'playtonic': 1, 'gameswap': 1, 'thumbstick': 1, 'config': 1, 'daystrike': 1, 'camo': 1, 'upward': 1, 'flick': 1, 'registers': 1, 'reluctant': 1, 'migraine': 1, 'tr': 1, 'eq': 1, 'unware': 1, 'hue': 1, 'offensive': 1, 'regulate': 1, 'awake': 1, 'arises': 1, 'emitting': 1, 'messes': 1, 'flux': 1, 'adapt': 1, 'clone': 1, 'plea': 1, 'safer': 1, 'patterns': 1, 'intermediary': 1, 'nintnedo': 1, 'p.c.': 1, 'p.c': 1, 'beating': 1, '.8': 1, 'kd': 1, '1.6': 1, 'rebuying': 1, 'overdrive': 1, 'locker': 1, 'emergency': 1, 'facetime': 1, 'usd/': 1, 'taiwan': 1, 'sandybridge': 1, 'ivybridge': 1, 'lido3/2': 1, 'prima': 1, 'equate': 1, 'aero': 1, '-e': 1, 'flows': 1, '450ml': 1, 'teenagers': 1, 'weirdos': 1, 'asaam': 1, 'https://givin.gifts': 1, 'poonique': 1, '💅': 1, '💄': 1, '❤': 1, '😍': 1, '✨': 1, 'bothers': 1, 'graduation': 1, 'equitable': 1, 'advisors': 1, 'fin': 1, 'drain': 1, 'overdrive+': 1, 'lineup': 1, '770': 1, 'arma': 1, 'wasteland': 1, 'predicament': 1, '660ti': 1, 'ftw': 1, 'habitat': 1, 'waterbottle': 1, '20l': 1, '2.6l': 1, 'gambling': 1, 'pepsico': 1, '27inch': 1, 'dell': 1, 's2719dgf': 1, 'l’occitane': 1, 'limelight': 1, 'alcone': 1, 'ignorant': 1, 'outrage': 1, 'rampage': 1, 'selfless': 1, 'danger': 1, 'streets': 1, 'homelessness': 1, 'unfollow': 1, 'entertaining': 1, 'theater': 1, 'agonizing': 1, 'nel': 1, 'racers': 1, 'joins': 1, 'dissuade': 1, 'caution': 1, 'enthusiasm': 1, 'infectious': 1, 'thinly': 1, 'hazardous': 1, 'pharmacy': 1, 'medications': 1, 'droopy': 1, 'eyelid': 1, 'lash': 1, 'disaster': 1, 'salespeople': 1, 'oversaturated': 1, 'operates': 1, 'summarize': 1, 'predator': 1, 'xb3': 1, 'independence': 1, 'sizing': 1, 'mw3': 1, 'tyler': 1, 'mw2wv': 1, 'dawg': 1, 'distraction': 1, 'dinosaur': 1, 'east': 1, 'simultaneous': 1, 'roster': 1, 'encourages': 1, 'hunting': 1, 'http://www.asus.com/monitors_projectors/vg248qe/': 1, 'http://www.geforce.com/hardware/technology/g-sync/diy': 1, 'cad': 1, 'overpaid': 1, 'pcpartpicker': 1, 'type|item|price': 1, '----|:----|:----': 1, '4690': 1, '3.5ghz': 1, '229.99': 1, 'h100i': 1, '77.0': 1, 'maximus': 1, 'lga1150': 1, '249.00': 1, 'g.skill': 1, 'ripjaws': 1, 'ddr3': 1, '1866': 1, '101.99': 1, '840': 1, 'seagate': 1, 'barracuda': 1, '7200rpm': 1, '84.99': 1, 'directcu': 1, '809.00': 1, 'c70': 1, 'tower': 1, 'rm': 1, '750w': 1, 'modular': 1, 'gh24nsb0': 1, 'dvd': 1, 'operating': 1, '8.1': 1, '24.0': 1, '299.00': 1, 'sp120': 1, '37.9': 1, '34.99': 1, 'k70': 1, '129.99': 1, 'razer': 1, 'deathadder': 1, '49.99': 1, 'a40': 1, '249.99': 1, '2908.87': 1, 'oddisey': 1, 'lookout': 1, 'southwestern': 1, 'incorrect': 1, 'conveniently': 1, 'mentioning': 1, 'integrity': 1, 'troublesome': 1, 'latin': 1, 'm&b': 1, 'warband': 1, 'winding': 1, 'colouring': 1, '1-': 1, '2-': 1, '3-': 1, '4-': 1, '5-': 1, '6-': 1, 'redemption': 1, '7-': 1, 'infamous': 1, '8-': 1, '9-': 1, '10-': 1, '11-': 1, '12-': 1, 'ths': 1, 'https://preview.redd.it/cg0nzl8wjd181.jpg?width=2322&format=pjpg&auto=webp&s=780ff887e7155318442a2e769e4e40b4120dd9be': 1, 'https://preview.redd.it/29622p8wjd181.jpg?width=4128&format=pjpg&auto=webp&s=0c6c083f770ef1fe56e62445811573c521f06096': 1, 'https://preview.redd.it/agca589wjd181.jpg?width=2322&format=pjpg&auto=webp&s=9a513f70bff6f5f2fff9a44a8c9c52b911f1987d': 1, 'interrelated': 1, 'chaos': 1, 'murky': 1, 'localization': 1, 'plasma': 1, 'custody': 1, 'unscathed': 1, 'stresses': 1, 'belongings': 1, 'athlon': 1, '3800': 1, 'statements': 1, 'sandbox': 1, 'avalanche': 1, 'unsatisfied': 1, 'mental': 1, 'zomboid': 1, 'vehicles': 1, 'percentage': 1, 'wheeled': 1, 'steed': 1, '/-15': 1, 'headway': 1, 'adopters': 1, 'covert': 1, 'travelling': 1, 'mergethesubreddits': 1, 'barriers': 1, 'xboxone': 1, 'consolidated': 1, 'autocorrect': 1, 'handled': 1, '66': 1, 'practiced': 1, 'offroading': 1, 'fry': 1, 'traveler': 1, 'protagonists': 1, 'reveled': 1, \"h'aanit\": 1, 'strawpoll': 1, 'http://www.strawpoll.me/15702944': 1, 'ocha': 1, 'https://www.ochaandco.com/': 1, 'host': 1, 'pressing': 1, 'texans': 1, 'blizzard': 1, 'candles': 1, '2.99': 1, 'a.c.': 1, 'newly': 1, 'mbp': 1, 'powerbank': 1, 'https://www.amazon.com/gp/product/b01h3cof62/ref=oh_aui_search_detailpage?ie=utf8&psc=1': 1, 'https://www.amazon.com/gp/product/b01esx3g50/ref=oh_aui_search_detailpage?ie=utf8&psc=1': 1, 'https://www.amazon.com/gp/product/b0194x4mso/ref=oh_aui_search_detailpage?ie=utf8&psc=1': 1, 'https://www.amazon.com/gp/product/b01iqulvzi/ref=oh_aui_search_detailpage?ie=utf8&psc=1': 1, 'https://www.amazon.com/apple-mll82am-usb-c-charge-cable/dp/b01mq5z080/ref=pd_sim_147_1?_encoding=utf8&psc=1&refrid=55c5z28zrj01anfeb9ym': 1, 'powerbanks': 1, 'https://www.amazon.com/gp/product/b0176hq1o8/ref=oh_aui_detailpage_o03_s00?ie=utf8&psc=1': 1, 'https://www.amazon.com/gp/product/b00ydnsh7i/ref=oh_aui_search_detailpage?ie=utf8&psc=1': 1, 'https://www.amazon.com/gp/product/b00vh84l5e/ref=oh_aui_detailpage_o00_s00?ie=utf8&psc=1': 1, 'https://www.amazon.com/apple-mnf82ll-usb-c-power-adapter/dp/b01m8o7w40/ref=sr_1_1?ie=utf8&qid=1489458622&sr=8-1&keywords=apple+87w+usb-c+power+adapter': 1, 'craziness': 1, 'sfv': 1, 'shareable': 1, 'pottery': 1, '100$-150': 1, 'diminishing': 1, 'usable': 1, 'floppy': 1, 'cdrom': 1, 'rgh': 1, '1.2': 1, 'jasper': 1, 'etsy': 1, 'echo': 1, 'a50': 1, 'formulate': 1, 'whisked': 1, 'https://preview.redd.it/bkj8rcpjaad21.jpg?width=845&format=pjpg&auto=webp&s=c294b4c25d426da1f78d8f72beafef5d55cb18ab': 1, 'accessible': 1, 'pointless': 1, 'reminding': 1, '29th': 1, 'nesquik': 1, 'yk': 1, 'hammering': 1, 'multivitamins': 1, 'xenoverse': 1, 'intern': 1, 'reccomendations': 1, 'seeds': 1, 'zones': 1, 'marker': 1, 'https://imgur.com/a/wd37b': 1, 'emailed': 1, 'https://bravo-systems.com/product/mini-junior-evd/': 1, 'http://www.wegausa.com/products/mininova/mininova-evd/': 1, 'tincture': 1, 'riddle': 1, '🐒': 1, '👋': 1, '🏻': 1, '🙈': 1, '☺': 1, 'scooted': 1, 'carwash': 1, 'insulation': 1, 'recommendations‽': 1, 'konami': 1, 'lasts': 1, 'xcloud': 1, '~anywhere~': 1, 'nx': 1, 'believing': 1, 'dominating': 1, 'bleed': 1, 'packaged': 1, 'piracy': 1, 'dominated': 1, 'competes': 1, 'winning': 1, 'unibody': 1, 'ethernet': 1, 'exponentially': 1, 'incrementing': 1, 'm1': 1, 'abrams': 1, 'tanks': 1, 'ak-47': 1, 'akm': 1, 'portfolio': 1, 'iphones': 1, 'ipads': 1, 'se': 1, '12s': 1, 'news+': 1, 'nukes': 1, 'stringent': 1, 'budgets': 1, 'tactically': 1, 'advantageous': 1, 'avert': 1, 'labo': 1, 'guncon': 1, 'whith': 1, 'lining': 1, 'v60!the': 1, 'folded': 1, 'jd': 1, 'corrected': 1, 'whipper': 1, 'nitrogen': 1, 'herbs': 1, 'iphoned': 1, 'runners': 1, 'https://www.humblebundle.com/g/treasuregoblin': 1, 'mentalbard': 1, 'validating': 1, 'authenticity': 1, 'distributor(s': 1, 'certificates': 1, 'differ': 1, 'issued': 1, 'manufactory': 1, 'stpgoods.com': 1, 'ipm': 1, 'jsc': 1, '1996': 1, 'validate': 1, 'splinter': 1, 'sighs': 1, 'uneven': 1, 'trendy': 1, 'mildy': 1, 'crema': 1, 'scent': 1, 'lemony': 1, 'sourmix': 1, 'lemoncello': 1, 'defense': 1, 'chemically': 1, 'polen': 1, 'samll': 1, 'folding@home': 1, 'contributed': 1, 'f@h.': 1, 'http://en.wikipedia.org/wiki/folding@home#playstation_3': 1, 'likelihood': 1, 'redevelopedf@h': 1, 'planned': 1, 'functioning': 1, 'oddities': 1, 'talos': 1, 'funnily': 1, '90fps': 1, 'witness': 1, 'limiter': 1, 'limiting': 1, 'explanations': 1, 'xc2': 1, 'affinity': 1, 'arrow': 1, 'backround': 1, 'choppy': 1, 'hug': 1, 'ick': 1, 'vel': 1, 'tik': 1, 'tok': 1, 'probs': 1, 'characteristics': 1, 'gamble': 1, 'supplement': 1, 'toddler': 1, 'https://preview.redd.it/h8ilo1w2k4581.png?width=1210&format=png&auto=webp&s=2944f6f97976c39e5a53b40203a8a6f9be63c91b': 1, 'mailman': 1, 'hid': 1, '10/29/2021': 1, '5000': 1, 'hs': 1, 'afters': 1, 'adamantly': 1, 'defends': 1, 'sliding': 1, 'question]vr': 1, 'xv': 1, 'citanul': 1, 'annoy': 1, 'antioxidants': 1, 'lectures': 1, 'offense': 1, 'reviewing': 1, 'dianhong': 1, 'varietal': 1, 'ness': 1, 'cedar': 1, 'giawan': 1, 'celsius': 1, 'fruits': 1, 'commonality': 1, 'rushing': 1, 'approachable': 1, 't.j.': 1, 'kc': 1, 'cracking': 1, 'joints': 1, 'curve': 1, 'payoff': 1, 'vortex': 1, 'viruses': 1, 'wack': 1, 'playerbase': 1, 'slighter': 1, 'gym': 1, 'errands': 1, 'gripped': 1, 'fades': 1, 'geek': 1, 'proggress': 1, 'lexus': 1, 'sendoutcards': 1, 'handwritten': 1, 'infuriates': 1, 'reversed': 1, 'hgh': 1, 'homeopathic': 1, 'topical': 1, 'relies': 1, 'placebo': 1, 'translates': 1, 'surly': 1, 'flaws': 1, 'upsets': 1, 'harms': 1, '2160pyuv420': 1, 'belongs': 1, '2160': 1, 'yuv420': 1, 'configuration': 1, 'juice+': 1, 'respecting': 1, 'antacids': 1, 'gi': 1, 'shpeel': 1, 'cured': 1, 'conditions': 1, 'webinars': 1, 'abdominal': 1, 'bloating': 1, 'smoothies': 1, 'involve': 1, 'sensing': 1, 'disinterest': 1, 'deflections': 1, 'offend': 1, 'boundaries': 1, 'uninterested': 1, 'crew': 1, 'bejeweled': 1, 'stimulation': 1, 'game(sorry': 1, '2000s': 1, 'explosives': 1, 'puzzling': 1, 'loser': 1, 'votes': 1, 'losers': 1, 'ya’ll': 1, '100mhz': 1, 'matured': 1, 'stagnant': 1, 'abandons': 1, 'n-1': 1, 'outperforms': 1, 'equals': 1, '390x/390': 1, '290': 1, 'twins': 1, '2~3': 1, '450~$550': 1, 'sustain': 1, 'sentiment': 1, '02:08': 1, 'meds': 1, 'hunger': 1, 'prof$t': 1, 'emote': 1, 'algorithm': 1, 'seo': 1, 'dontcha': 1, 'chuckle': 1, 'papa': 1, 'vaguely': 1, 'incestuous': 1, 'https://preview.redd.it/ohbdanjpxwj71.png?width=1370&format=png&auto=webp&s=a409d1ad9830d5305554e28c472b7a52b0137ab1': 1, 'nitpicks': 1, 'grilled': 1, 'microwaving': 1, 'wonky': 1, 'housemate': 1, 'shorten': 1, 'coronavirus': 1, 'pamphlets': 1, 'soaps': 1, 'lotion': 1, 'perfumes': 1, 'skinsosoft': 1, 'dies': 1, 'completes': 1, 'sequels': 1, 'getti': 1, 'guardian': 1, 'scheherazade': 1, 'calypso': 1, 'supermarkets': 1, 'knives': 1, 'marketer': 1, 'coagulate': 1, 'blobs': 1, '1/4': 1, 'kinguin': 1, 'os': 1, 'swung': 1, 'datamine': 1, 'https://twitter.com/videotech_/status/1445411336729530370': 1, 'https://twitter.com/gtanet/status/1445412405861834755': 1, 'vice': 1, 'mimics': 1, 'disagree': 1, '4:3': 1, 'viewable': 1, 'readable': 1, '980tis': 1, '6gbs': 1, '3.7': 1, 'gigs': 1, 'overclocking': 1, 'realm': 1, '4001': 1, 'mhz': 1, '980ti': 1, 'mem': 1, 'loophole': 1, 'clocks': 1, 'afterburner': 1, 'mh4': 1, 'picross': 1, 'mh': 1, 'kotaku': 1, 'thrid': 1, 'unlicensed': 1, 'undergo': 1, 'evaluation': 1, 'peripherals': 1, 'https://kotaku.com/switch-owners-say-third-party-docks-are-bricking-their-1824122777': 1, 'blinks': 1, '-50': 1, 'ff7r': 1, 'securing': 1, 'goto': 1, 'tracker': 1, 'markup': 1, 'conclusive': 1, 'refilled': 1, 'backpacking': 1, 'bangslamtime': 1, 'ceral': 1, 'waaaaaaaay': 1, 'decorative': 1, 'argument': 1, 'https://www.amazon.co.uk/dp/b097c44xpt/ref=cm_sw_r_cp_awdb_imm_gk7cg970w6m6g3kzr418': 1, 'greenest': 1, 'manufactured': 1, 'repurposing': 1, 'discarded': 1, 'funky': 1, 'nightstand': 1, 'tossing': 1, 'bin': 1, 'dozens': 1, 'nye': 1, 'trump': 1, 'supporter': 1, 'slammed': 1, 'https://www.reddit.com/r/antimlm/comments/l9rycy/added_three_days_into_a_ziya_popup_party/': 1, 'reminders': 1, 'deadling': 1, 'exceptions': 1, 'inauguration': 1, 'moon': 1, 'elle': 1, 'beau': 1, 'cautionary': 1, 'tale--': 1, 'commending': 1, 'teamies': 1, 'rocking': 1, 'her--': 1, 'crates': 1, 'immediately--': 1, 'disclaimed': 1, 'https://preview.redd.it/d20rkc04d5f61.jpg?width=865&format=pjpg&auto=webp&s=01a7a67f5d1484f575288ebc7d37c9e04db0819a': 1, 'hmmmmmm': 1, 'https://preview.redd.it/4g40ln1ad5f61.jpg?width=272&format=pjpg&auto=webp&s=15aaf46cf0f500d12495af6f90411be65eb654bc': 1, 'salts': 1, 'evolutionary': 1, 'trait': 1, 'wan': 1, 'nibs': 1, 'stirring': 1, 'meltables': 1, 'avoided': 1, 'surpprisingly': 1, 'delayed': 1, 'cdpr': 1, 'albeit': 1, 'delisted': 1, 'babies': 1, '9/11': 1, 'marginally': 1, 'germs': 1, 'challenged': 1, 'debunking': 1, 'detailing': 1, 'divorcing': 1, 'differing': 1, 'miserable': 1, 'homemade': 1, 'https://www.reddit.com/r/legaladvice/comments/81rsdo/i_received_a_c_d_am_i_in_trouble': 1, 'mb': 1, 'implementing': 1, 'deffinelty': 1, 'soogy': 1, 'newspapers': 1, 'seaweed': 1, 'compounds': 1, 'questions-': 1, 'solvent': 1, 'hiya': 1, 'dyeing': 1, 'yarn': 1, 'conditioning': 1, 'firmware': 1, 'ditched': 1, 'ganertag': 1, '2,7': 1, 'activate': 1, 'photomode': 1, 'accesible': 1, 'proposing': 1, 'biased': 1, 'substantiated': 1, 'inappropriate': 1, 'insignificant': 1, 'masks': 1, 'cappuccinos': 1, 'rts': 1, 'openra': 1, 'cncnet': 1, 'onboard': 1, 'candies': 1, 'uhh': 1, '~~but': 1, 'life.~~': 1, 'goten': 1, 'suprised': 1, 'dong': 1, 'ding': 1, 'luo': 1, 'han': 1, 'greener': 1, 'wulongs': 1, 'techpowerup.com': 1, '13.4': 1, 'rx': 1, '9.7': 1, 'techpowerup': 1, '12.15': 1, 'dictate': 1, 'hech': 1, 'flights': 1, 'programming': 1, 'roping': 1, 'spoted': 1, 'hdtvs': 1, 'sift': 1, 'uber': 1, 'surrounding': 1, 'tiger': 1, 'tripping': 1, '🤷': 1, '🏽\\u200d': 1, '♂': 1, '20bar': 1, '850w': 1, 'elitist': 1, 'redownloading': 1, 'wwii': 1, 'redownloaded': 1, 'wv-33898': 1, 'installs': 1, 'matters': 1, 'hangzhou': 1, 'ctrl+v': 1, 'koolaid': 1, 'chugged': 1, 'bigelow(bags': 1, 'infuriating': 1, 'entice': 1, 'olds': 1, 'dental': 1, 'responsibility': 1, 'triaging': 1, 'toothache': 1, 'abscesses': 1, 'daughter‘s': 1, 'triage': 1, 'orajel': 1, 'ibuprofen': 1, 'listens': 1, 'boggling': 1, 'troubles': 1, 'clearing': 1, 'rural': 1, 'farcry': 1, 'mindustry': 1, 'rejoin': 1, 'ryzen': 1, '3700': 1, 'rx5700': 1, 'cabin': 1, 'mountains': 1, 'blackout': 1, 'nootropics': 1, 'combining': 1, 'clearer': 1, 'decrease': 1, 'liver': 1, 'metabolizes': 1, 'cites': 1, 'wakeful': 1, 'bridal': 1, 'enforced': 1, 'protections': 1, 'compliant': 1, 'guidelines': 1, 'recipients': 1, 'mailing': 1, 'identified': 1, 'receiving': 1, 'violation': 1, '41,000': 1, 'violated': 1, '82,000': 1, 'lawyer': 1, 'affiliated': 1, 'flooding': 1, 'flood': 1, 'offices': 1, 'attacking': 1, 'filing': 1, 'y.o': 1, '60gps': 1, 'utilize': 1, 'marios': 1, 'hardest': 1, 'tanuki': 1, 'cheese': 1, 'crown': 1, 'piranha': 1, 'creeper': 1, 'creek': 1, 'f&m': 1, 'hamper': 1, 'folk': 1, 'introducing': 1, 'gmgs': 1, 'sale20': 1, 'grogre': 1, 'greenmangaming.com': 1, 'isolation': 1, 'wooo': 1, 'specified': 1, 'soldier': 1, 'scientist': 1, 'stylish': 1, 'monochromatic': 1, 'floaty': 1, 'mech': 1, 'immense': 1, 'annoyances': 1, 'excusable': 1, 'rooms': 1, 'unexplored': 1, 'appreciaters': 1, 'sparked': 1, 'teachat': 1, 'registrations': 1, 'signup': 1, 'spotted': 1, 'recognition': 1, 'warming': 1, 'floods': 1, 'https://preview.redd.it/5xh35kpeb3u51.jpg?width=3024&format=pjpg&auto=webp&s=eb82fd5e9200a28cc273d3e4e60fa1b565770165': 1, 'shakota': 1, 'moisturizer': 1, 'sunscreen': 1, 'yummy': 1, 'presents': 1, 'type\"+twitch_prime_linked': 1, 'lootboxes': 1, 'worms': 1, 'w.m.d.': 1, 'sweaty': 1, 'philly': 1, 'h.h': 1, 'homi': 1, 'flagged': 1, 'greeted': 1, 'unsafe': 1, 'malicious': 1, 'visitors': 1, 'implemented': 1, 'https': 1, 'pcgamingwiki': 1, 'innocence': 1, 'http://www.wsgf.org/forums/viewtopic.php?p=176452#p176452': 1, 'fov': 1, 'casually': 1, 'sandwitch': 1, 'civilzation': 1, 'margaret': 1, 'tgfop': 1, 'finalizing': 1, 'agreements': 1, 'kakarot': 1, 'enchanced': 1, 'render': 1, 'latino': 1, 'heritage': 1, 'stalls': 1, 'synthetic': 1, 'prison': 1, '0.000000000000000000000000000001': 1, 'discrepancy': 1, 'annihilated': 1, 'scarred': 1, 'adagio.com': 1, 'samplers': 1, 'stepless': 1, 'm6': 1, 'fender': 1, 'nubs': 1, 'm6x1.0': 1, 'pliers': 1, 'engages': 1, 'axle': 1, 'holder': 1, 'voilà': 1, 'infinitely': 1, 'unevenness': 1, 'dialled': 1, 'seated': 1, 'flats': 1, 'stiff': 1, 'follower': 1, 'nsfw': 1, 'kyu': 1, 'publicity': 1, 'junk': 1, 'burger': 1, 'coolest': 1, 'smoothest': 1, 'rear': 1, 'continents': 1, 'whichever': 1, 'i_screen_peek': 1, 'dont_believe_me_ever': 1, 'shortcut': 1, 'https://www.icloud.com/shortcuts/cbf4f6fe0b9843449d74a410361b7c56': 1, 'https://www.reddit.com/r/nintendoswitch/comments/99x4jh/i_made_an_app_to_quickly_download_and_share/?st=jn4so8ua&sh=803ee717': 1, 'vive': 1, 'fad': 1, 'r3qdm': 1, 'vggyc': 1, 'yd42d-9mtv6': 1, '4ggrz': 1, 'collapsed': 1, '2’5': 1, 'splitfish': 1, '🤬': 1, 'disgrace': 1, 'years+': 1, 'mothers': 1, 'indicated': 1, 'tea(i': 1, 'educated': 1, 'ning’er': 1, 'jing': 1, 'gu': 1, 'needles': 1, 'fuding': 1, 'pig': 1, 'ruifen': 1, 'https://preview.redd.it/tngcvc9nohj41.png?width=1706&format=png&auto=webp&s=fb6e5d47f1d56597dd1910b15cf0c5f550f76d4f': 1, 'ummm': 1, 'pe': 1, 'prepaid': 1, 'yea': 1, 'ofc': 1, 'boston': 1, 'aesthetically': 1, 'pleasing': 1, 'presses': 1, '5)40ct': 1, '🍀': 1, 'eleven': 1, 'refills': 1, 'slurpee': 1, 'https://www.7-elevenshop.com/': 1, 'waterbros': 1, 'unnatural': 1, 'byzantium': 1, 'rome': 1, 'klatch': 1, 'hawaiian': 1, \"ka'u\": 1, 'typica': 1, 'http://www.klatchroasting.com/ka_u_typica_p/haw_kau_typ.htm': 1, 'sealed': 1, 'kroeger': 1, 'tiki': 1, 'fentiman': 1, 'faith': 1, 'heavily(amway': 1, 'mk,31,etc': 1, 'dsa': 1, '18.6': 1, 'capital': 1, 'dreading': 1, 'morbidly': 1, 'deets': 1, 'dare': 1, '😱': 1, '-deactivated': 1, 'reactivated': 1, '-restored': 1, '-defragged': 1, 'terrific': 1, 'anosmia': 1, 'paranosmia': 1, 'interpreted': 1, 'damp': 1, 'vaccinations': 1, 'recover': 1, 'mean?(speculation': 1, 'vc': 1, 'mascot': 1, 'thee': 1, 'beebee890': 1, 'http://www.youtube.com/user/beebee890': 1, 'credentials': 1, 'admirable': 1, 'blasphemy': 1, 'heresy': 1, 'safely': 1, 'infused': 1, 'delicate': 1, 'strives': 1, 'imbalance': 1, 'relates': 1, 'credible': 1, 'https://www.mayoclinic.org/diseases-conditions/hyponatremia/symptoms-causes/syc-20373711': 1, 'https://www.latimes.com/archives/la-xpm-2007-jan-14-me-water14-story.html': 1, 'preparer': 1, 'cliente': 1, 'cpa': 1, '/s': 1, 'kinu': 1, 'comandante': 1, 'bashing': 1, '~~people~~': 1, 'rocketwerkz': 1, 'bohemia': 1, 'interactive': 1, 'chest': 1, 'degenerates': 1, 'noticably': 1, 'y’alls': 1, 'controll': 1, 'nicks': 1, 'dents': 1, 'represents': 1, 'palates': 1, 'esque': 1, 'oriental': 1, 'mushroomy': 1, 'maltiest': 1, 'whatchas': 1, 'wui': 1, 'indonesia': 1, 'uncannily': 1, 'orchids': 1, 'sheer': 1, 'revolutionizing': 1, 'cooked': 1, 'with?(possibly': 1, 'experience?(i.e': 1, 'hammer': 1, 'vegas': 1, 'll': 1, '4years': 1, 'makers': 1, 'compartment': 1, 'aide': 1, 'chute': 1, 'rube': 1, 'goldberg': 1, 'subpar': 1, 'sacrifices': 1, 'accommodate': 1, 'snippy': 1, 'unethical': 1, 'rhetoric': 1, 'defensiveness': 1, 'rubbish': 1, 'ppl': 1, 'transference': 1, 'optmimized': 1, '5x': 1, 'tinny': 1, '5gb': 1, 'recordings': 1, 'reordered': 1, 'mustard': 1, '92': 1, 'c/197': 1, 'pine': 1, 'needle': 1, 'tea-': 1, 'incident': 1, 'health-': 1, 'stroke-': 1, 'sinned': 1, 'temporal': 1, 'foux': 1, 'lile': 1, 'interlacing': 1, 'invetween': 1, 'checkerpattern': 1, 'fourth': 1, 'distinguish': 1, 'upclose': 1, 'interlaced': 1, '1080i': 1, 'reminisce': 1, 'laughs': 1, 'trinity': 1, 'propose': 1, 'hungryhomies': 1, 'p.s.': 1, 'personalfinance': 1, 'pf': 1, 'richness': 1, 'clouded': 1, 'persuasively': 1, 'login': 1, 'youthberry': 1, 'heinously': 1, 'sydney': 1, 'gained': 1, 'https://preview.redd.it/qdlvgttk6ac71.jpg?width=2564&format=pjpg&auto=webp&s=9f38cd383c3725b2c72c8ef637f653f7802564fc': 1, 'evident': 1, 'duct': 1, 'plumber': 1, 'laryngectomy': 1, 'chemo': 1, 'heal': 1, 'heals': 1, 'sooo': 1, 'quench': 1, 'fret': 1, 'verifying': 1, 'grace': 1, 'swtich': 1, 'repulsive': 1, 'grandson': 1, 'bloodborne': 1, 'dupe': 1, 'multimillion': 1, 'marriage': 1, 'adulthood': 1, 'adopting': 1, 'basking': 1, 'glow': 1, 'greatness': 1, 'delvolves': 1, 'feb.': 1, 'plexsus': 1, 'niece': 1, 'medumbfounded': 1, 'erm': 1, 'holistics': 1, 'medicines': 1, 'drs': 1, 'everthi': 1, 'plexus': 1, 'ailment': 1, 'legacy': 1, 'it/': 1, 'predownloaded': 1, 'x4': 1, 'blockbuster': 1, 'shoving': 1, 'gobstoppers': 1, 'havnt': 1, 'injustice': 1, 'dissapoint': 1, 'apologizes': 1, 'spooked': 1, 'screamed': 1, 'creamsicles': 1, 'hatteras': 1, 'inert': 1, 'dresses': 1, 'diversify': 1, 'freaked': 1, 'smarter': 1, 'diabetes': 1, 'decay': 1, '42': 1, 'considerably': 1, 'recognizing': 1, 'james': 1, 'stirs': 1, '1:17': 1, 'stirred': 1, 'stsrt': 1, 'stsyed': 1, 'whoch': 1, 't.v': 1, 'sup': 1, 'hiw': 1, '1500$.': 1, 'furloughed': 1, 'miraclously': 1, 'healed': 1, 'slighly': 1, 'tourism': 1, 'litters': 1, 'tracks': 1, 'songs': 1, 'undercover': 1, 'inferno': 1, 'ports-': 1, 'prequels': 1, 'hd/4': 1, 'ww': 1, 'tp': 1, 'ss': 1, 'slanting': 1, 'costumes': 1, 'prediction-': 1, 'pikmin': 1, 'spotting': 1, 'theirtrapping': 1, 'trapping': 1, 'differentiy': 1, 'entrepreneurs': 1, 'reframes': 1, 'retract': 1, 'engaged': 1, 'trench': 1, 'retreat': 1, 'conform': 1, 'chitchat': 1, 'complied': 1, 'wherein': 1, 'booked': 1, 'vigilant': 1, '^_^': 1, 'equaled': 1, 'flex': 1, 'owe': 1, 'termination': 1, 'symbols': 1, 'labeling': 1, 'uptake': 1, 'fountains': 1, 'www.findtap.com': 1, 'pretending': 1, 'use-': 1, 'https://imgur.com/a/vb0n6ue': 1, 'luke': 1, 'pinned': 1, 'aggressively': 1, 'texan': 1, 'whistles': 1, 'nbaplaygrounds': 1, 'http://imgur.com/a/8mskv': 1, 'goose': 1, 'wario': 1, 'doors': 1, 'rounds': 1, 'tasks': 1, 'eats': 1, 'fence': 1, 'overindulge': 1, 'pretzels': 1, 'pickles': 1, 'cryptocurrency': 1, 'bretheren': 1, 'unleash': 1, 'righteous': 1, 'ascaso': 1, 'cortados': 1, 'macchiatos': 1, 'denver': 1, 'colorado': 1, 'doubtful': 1, 'maiden': 1, 'cloud9': 1, 'seasonings': 1, 'wonderland': 1, 'applaud': 1, '70,000': 1, '12,000': 1, 'righting': 1, 'wrongs': 1, 'triumphing': 1, 'minds': 1, 'coloured': 1, 'purchasable': 1, 'ganes': 1, 'staving': 1, 'favourites': 1, 'kettle-': 1, 'introduction': 1, \"18y'o\": 1, 'carefully': 1, 'identification': 1, 'http://imgur.com/ifhstfz': 1, 'wrist': 1, 'y.': 1, 'updating': 1, 'win10': 1, 'creator': 1, 'removes': 1, 'ds2': 1, 'aficionados': 1, 'bust': 1, 'mr.': 1, 'expose': 1, 'nigh': 1, 'patiently': 1, 'grest': 1, 'unpatched': 1, 'videogame': 1, 'burman': 1, 'trusted': 1, 'infiltrate': 1, 'hempworx': 1, 'hawk': 1, 'https://www.reddit.com/r/smallbusiness/comments/8uu8s5/help/': 1, 'scarlet': 1, 'grocers': 1, 'tri': 1, '404': 1, 'avenues': 1, 'permission': 1, 'invite': 1, 'https://teatrotter.substack.com/welcome': 1, 'permit': 1, 'shout': 1, '3:52': 1, '5:14': 1, 'https://youtu.be/ymrbcxk9xu8?t=232': 1, 'avg': 1, 'magazines': 1, 'overboard': 1, '1440p/60fps': 1, 'dragons': 1, 'dogma': 1, 'skullgirls': 1, 'umvc3': 1, 'calibur': 1, '30/60': 1, 'adress': 1, 'atrocities': 1, 'wrote': 1, 'b.s.': 1, 'undergrad': 1, '\\\\~30': 1, 'clickable': 1, 'https://imgur.com/gallery/owxruo8': 1, 'm.s.': 1, 'ensuring': 1, 'commodity': 1, 'taxonomy': 1, 'wheher': 1, 'http://www.reddit.com/r/tea/comments/1e2obf/amazing_tea_taxonomy/': 1, 'http://jameskennedymonash.wordpress.com/2013/02/13/how-i-brew-tea/': 1, 'n)indies': 1, 'supermario': 1, 'umpteenth': 1, 'issac': 1, 'heros': 1, 'snipperclips': 1, 'kirby': 1, 'lightly': 1, 'heaped': 1, 'instructed': 1, 'salted': 1, 'lebukchen': 1, 'gingery': 1, 'overthinking': 1, 'polo': 1, 'poland': 1, 'freebie': 1, 'https://preview.redd.it/gwrisjahmg771.jpg?width=3648&format=pjpg&auto=webp&s=d1b644f027d037293d577eff74b8fcc90cdd9f78': 1, 'qc': 1, 'x3': 1, '5v/3a': 1, 'daq7ew5d.': 1, '9.00': 1, 'laggy': 1, '4.naruto': 1, 'storm4': 1, 'fnaf': 1, 'readers': 1, 'banko': 1, 'fuafuate': 1, 'qualifies': 1, 'shifted': 1, 'partial': 1, 'portland': 1, 'concentrates': 1, '8.62': 1, 'bigthanks': 1, 'obsidian': 1, 'creation': 1, 'occupation': 1, 'sith': 1, 'lightsaber': 1, '970s': 1, 'compensation': 1, 'tjenword': 1, 'discusseed': 1, 'a&w.': 1, 'repaclaged': 1, 'cange': 1, 'doet': 1, 'de(definitive': 1, \"~~i'll\": 1, 'advice.~~': 1, '~~on': 1, 'wednesday': 1, '258': 1, 'authorize': 1, 'motions': 1, 'perseveration.~~': 1, 'results.~~': 1, '~~this': 1, 'deactivated': 1, 'ether.~~': 1, 'reinstate': 1, 'deactivate': 1, 'themselves.~~': 1, '~~wonderful': 1, 'it.~~': 1, 'mercedes': 1, 'fb80': 1, 'lm': 1, 'unbalanced': 1, '1:5': 1, '92c': 1, 'channeling': 1, 'bottomless': 1, 'dirt': 1, 'brushingbuddies': 1, 'communities': 1, '2.69': 1, 'https://imgur.com/a/qghr6gm': 1, 'advent': 1, 'alkaline': 1, 'vapor': 1, 'distilled': 1, 'collected': 1, 'calendar': 1, '12w': 1, '5v': 1, '2.4a': 1, 'anker': 1, 'discharges': 1, 'inconvenient': 1, 'emphasis': 1, 'sourced': 1, 'translate': 1, 'https://www.teapotandtea.com/blog/': 1, 'https://terebess.hu/english/yixing1.html': 1, 'https://www.teachat.com/viewtopic.php?t=21881': 1, 'clogged': 1, 'exchange+shipping': 1, 'weekday': 1, 'overdone': 1, 'vessel': 1, 'apparatuses': 1, 'dripped': 1, 'adjustable': 1, 'inquisition': 1, 'digit': 1, 'https://i.imgur.com/jsf66vp.png': 1, '^(p.s.': 1, 'strix': 1, 'https://rog.gg/meta.r': 1, 'unveiled': 1, '1:00': 1, \"point'n'click\": 1, 'sorcerer': 1, 'syberia': 1, 'dictionary': 1, 'african': 1, 'dji': 1, 'snack': 1, 'marula': 1, 'bets': 1, '28th': 1, 'schoolers': 1, 'junior': 1, 'dabbling': 1, '🥲': 1, '67': 1, '55,but': 1, '03': 1, 'alpha': 1, 'deal/': 1, 'parent(s': 1, 'mlm/': 1, 'retirement': 1, 'expiring': 1, 'submission': 1, 'askhistorians': 1, 'fertility': 1, 'http://www.reddit.com/r/askhistorians/comments/21ub8v/why_the_trade_of_spices_and_silk_was_so_important/cggn5': 1, 'nm': 1, 'rdr1': 1, 'vroomy': 1, 'indicating': 1, '120/144hrtz': 1, '24/27': 1, 'pricy': 1, 'q&as': 1, 'amas': 1, 'stepping': 1, 'toes': 1, 'gurus': 1, 'invalidating': 1, 'novices': 1, 'journeys': 1, 'biweekly': 1, 'doe': 1, 'sake': 1, 'friendliness': 1, 'constructive': 1, 'asktea': 1, 'technivorm': 1, 'alternatively': 1, 'forté': 1, 'predefined': 1, 'fuzzing': 1, 'daz': 1, 'bog': 1, 'http://store.dazbog.com/svoboda-blend--12-oz-bag.html': 1, 'celebrating': 1, 'celebrate': 1, 'canceled': 1, 'festivals': 1, 'mariage': 1, 'freres': 1, 'mines': 1, 'wood': 1, 'expectation': 1, 'motorsport': 1, 'sha': 1, '240': 1, 'wildwood': 1, 'strangely': 1, 'withholding': 1, 'bell': 1, 'rc': 1, 'slider': 1, 'layout': 1, 'diagonal': 1, 'mock': 1, 'c&d': 1, 'perfectaim': 1, 'provider': 1, 'https://perfectaim.io/cheats/destiny-2/': 1, 'violates': 1, 'furthermore': 1, 'cease': 1, 'desist': 1, 'justified': 1, 'inconvenience': 1, 'unlocked': 1, 'diameter': 1, 'height': 1, 'onoard': 1, 'swapping': 1, 'dialog': 1, 'expertise': 1, 'hierarchy': 1, 'ladder': 1, 'expenses': 1, 'newcomers': 1, 'wastefull': 1, 'tom': 1, 'guru': 1, 'binged': 1, 'striped': 1, 'locate': 1, 'sought': 1, 'nationally': 1, 'glucose': 1, 'populace': 1, 'scandal': 1, 'dieing': 1, 'onwards': 1, 'flopped': 1, 'denying': 1, 'upstream': 1, 'bf2042': 1, 'shambles': 1, 'realistically': 1, 'costing': 1, 'stumps': 1, 'knowingly': 1, 'billions': 1, 'nonsense': 1, 'cliché': 1, 'differentiate': 1, 'animated': 1, 'cartoon': 1, 'maya': 1, 'organise': 1, 'streamer': 1, 'eth': 1, 'sixth': 1, 'rrod': 1, 'resub': 1, 'significance': 1, 'cares': 1, 'neverbrokenabone': 1, 'print': 1, 'putty': 1, 'sided': 1, 'uncheck': 1, '1140p': 1, 'bellame': 1, 'lacy': 1, 'thong': 1, 'victor': 1, 'victoria': 1, 'secretive': 1, 'chemicalish': 1, '870': 1, 'suffered': 1, 'epi': 1, 'seasures': 1, 'caffein': 1, 'far(granted': 1, 'genres': 1, 'sparkle': 1, 'qol': 1, 'rifle': 1, 'explosion': 1, 'ut': 1, 'shp9500s': 1, 'fidelio': 1, 'x2s': 1, 'meetup': 1, 'perks': 1, 'favvvvooooorrrite': 1, 'tear': 1, 'nod': 1, 'repost': 1, 'atlanta': 1, 'shavings': 1, 'glorification': 1, 'trauma': 1, 'angst': 1, 'messing': 1, 'relax': 1, 'wreaking': 1, 'havoc': 1, 'h&s': 1, 'thrashing': 1, 'waking': 1, 'consequence': 1, 'clarity': 1, 'flutter': 1, 'fatigued': 1, 'sluggishness': 1, 'asuh': 1, 'bladder': 1, 'brethren': 1, 'sistren': 1, 'profitec': 1, 'expobar': 1, 'brewtus': 1, '1400': 1, 'e61': 1, 'grouphead': 1, 'disadvantages': 1, '980s': 1, '78': 1, '~5': 1, '9xx': 1, 'medicinally': 1, 'impeccable': 1, 'hesitation': 1, 'slippery': 1, 'unreasonable': 1, 'redacted': 1, 'complacent': 1, 'dreaded': 1, 'i’ve': 1, 'xr': 1, 'narcolepsy': 1, 'attest': 1, 'caption': 1, 'stung': 1, 'fog-': 1, 'prescribed': 1, 'vyvanse': 1, 'orangey': 1, 'raspberries': 1, 'imperial': 1, 'guan': 1, 'yin': 1, 'anxi': 1, '300ml': 1, 'masquerading': 1, 's’mores': 1, 'cheesecake': 1, 'aloe': 1, 'unaware': 1, 'grapevine': 1, '2,000': 1, 'commissioned': 1, 'indebted': 1, 'pays': 1, 'contractors': 1, 'unboxing': 1, 'aligned': 1, 'loosening': 1, 'tightened': 1, 'worrying': 1, 'magnitudes': 1, 'kanro': 1, 'gyokuros': 1, 'retry': 1, 'submitting': 1, 'stable': 1, 'blessed': 1, 'h2(n)o': 1, 'asd': 1, 'adhd': 1, 'abs': 1, 'diluting': 1, 'squash': 1, 'sugary': 1, 'cutscene': 1, 'alllll': 1, 'lanayru': 1, 'calamity': 1, 'tropico': 1, 'allkeyshop': 1, 'euros': 1, 'http://www.allkeyshop.com/blog/compare-and-buy-cd-key-for-digital-download-tropico-4/': 1, 'transmitters': 1, 'recharge': 1, 'connectors': 1, 'unwieldy': 1, 'buckells': 1, 'smirk': 1, 'https://preview.redd.it/xwzxarktjww61.jpg?width=1024&format=pjpg&auto=webp&s=54b98dff530cc18b79954572c69c70a67283c630': 1, 'connoiseur': 1, 'chicago': 1, 'sh': 1, 'biology': 1, 'desert': 1, '62': 1, 'cardboard': 1, 'directions': 1, 'stacked': 1, '10s': 1, '+5': 1, 'liu': 1, 'bao': 1, 'nugs': 1, 'budge': 1, 'colorbag': 1, 'yalls': 1, 'bann': 1, 'acceptablenby': 1, 'sega': 1, 'valkyria': 1, 'mas': 1, '^^^^^in': 1, '^^^^^action': 1, 'roommates': 1, 'oof': 1, '104': 1, 'unblemish': 1, 'comprehension': 1, 'sufficient': 1, 'truce': 1, 'gr': 1, 'traffic': 1, '77': 1, '41': 1, 'firefox': 1, '47': 1, 'pitchers': 1, 'slowpoursupply': 1, 'currency': 1, 'suppliers': 1, 'pickup': 1, 'hotstock': 1, 'hashtagged': 1, 'lovethisprogram': 1, 'verbatim': 1, 'partnership': 1, 'ymca': 1, 'https://www.nytimes.com/2021/02/17/style/motivational-water-bottle.html?action=click&module=features&pgtype=homepage': 1, 'sugukcha': 1, 'hydrangea': 1, 'contained': 1, 'logical': 1, 'withering': 1, 'fermented': 1, 'harvested': 1, 'writes': 1, 'tk': 1, 'jan': 1, 'destructive': 1, 'birthdate': 1, 'jt': 1, 'birth': 1, 'oct': 1, '10/12': 1, 'route+upgrade': 1, 'accessory': 1, 'http://www.gulikit.com/index.php?ac=article&at=read&did=199': 1, 'microphone': 1, 'gadget': 1, 'thie': 1, '4.0': 1, 'robot': 1, 'alike': 1, 'ranges': 1, 'blueray': 1, 'sneezed': 1, 'indescribable': 1, 'shards': 1, 'nasal': 1, 'pasage': 1, 'pod': 1, 'lattissima': 1, 'waycap': 1, '16th': 1, 'orphan': 1, '3/8': 1, 'kevin': 1, 'https://preview.redd.it/eonyk1m4mqo51.jpg?width=748&format=pjpg&auto=webp&s=73ad6cec265fecf32b4825bf5dafda898ffb878d': 1, 'https://preview.redd.it/316n99l4mqo51.jpg?width=745&format=pjpg&auto=webp&s=4d99dfa23868feb586ce890aeae0f5186570dc13': 1, 'painted': 1, 'kbps': 1, 'thanksgiving': 1, 'uncles': 1, 'flashy': 1, 'drew': 1, 'hypotheticals': 1, 'taints': 1, 'swayed': 1, 'siblings': 1, 'goods': 1, 'bads': 1, 'organize': 1, 'arena': 1, 'hitman': 1, 'withe': 1, 'rdr': 1, 'advices': 1, 'spiciest': 1, 'goya': 1, 'cough': 1, 'disliking': 1, 'betsy': 1, 'experience\\\\opinions': 1, 'w\\\\these': 1, 'offerings': 1, 'freshcoffeeroasters': 1, 'bolder': 1, 'fuller': 1, 'freshcoffeeroasters.com': 1, 'narrowed': 1, 'peru': 1, 'sol': 1, 'caf': 1, 'tarrazu': 1, 'frc': 1, 'pocket': 1, 'transcription': 1, 'voiceover': 1, 'tutoring': 1, 'sewing': 1, 'alterations': 1, 'baking': 1, 'bake': 1, 'cookies': 1, 'figher': 1, 'https://www.youtube.com/watch?v=7lh7pylwndi': 1, 'peaceful': 1, 'stardewand': 1, 'blocky': 1, 'consequences': 1, 'vrr': 1, 'hunters': 1, 'americas': 1, 'sa': 1, 'c-00000a01': 1, 'emblem': 1, 'fe': 1, 'coolaid': 1, 'arguing': 1, 'jagged': 1, 'comicon': 1, 'bucharest': 1, 'urban': 1, 'strife': 1, 'ol': 1, 'physics': 1, 'https://steamcommunity.com/sharedfiles/filedetails/?id=772335854': 1, 'reeeally': 1, 'reinvigorate': 1, 'https://www.reddit.com/r/megaten/comments/bituxf/shin_megami_tensei_is_the_dark_souls_of_dragon/?utm_medium=android_app&utm_source=share': 1, 'implies': 1, 'hyping': 1, 'voo': 1, 'undeniably': 1, 'colorless': 1, 'focal': 1, 'dissolving': 1, 'edgy': 1, 'bloodbourne': 1, 'wolfenstein': 1, 'mordor': 1, 'mlb': 1, 'rivals': 1, 'sniper': 1, 'heyy': 1, 'attach': 1, 'https://dribbble.com/shots/11202391-fitness-neumorphism': 1, 'https://dribbble.com/shots/9527558-freebie-neumorphic-ux-ui-elements': 1, 'https://dribbble.com/shots/10538859-freebie-neumorphic-skeuomorphic-light-elements-figma': 1, 'abrasives': 1, 'headlights': 1, 'https://preview.redd.it/1p9vno5sahs21.jpg?width=506&format=pjpg&auto=webp&s=a448dd117bd2de38f752d2211f88bbd19fae4729': 1, 'mechanic': 1, 'm/11': 1, 'f/13': 1, 'altho': 1, 'mx350': 1, 'haves': 1, 'jan-2019': 1, 'genre(s': 1, 'publisher': 1, 'https://newsupermariobrosu.nintendo.com/': 1, 'pals': 1, 'mushroom': 1, 'gallery': 1, 'videos**—make': 1, 'tackle': 1, '164': 1, 'replayability': 1, 'mii': 1, 'aggregators': 1, 'opencritic': 1, 'https://discord.gg/switch': 1, 'coursework': 1, 'conduct': 1, 'peer': 1, 'https://docs.google.com/forms/d/e/1faipqlsfv3meklsnkgdwk0q-gnhfwjniug7osz37xvpkfidb-8iztja/viewform?usp=sf_link': 1, 'buffalo': 1, 'informing': 1, 'divorce': 1, 'bkf': 1, 'chrysanthemum': 1, 'worded': 1, 'buzzwords': 1, 'chipset': 1, 'royales': 1, 'scratched': 1, 'fantastically': 1, 'proximity': 1, 'corners': 1, 'rewarded': 1, 'dismemberment': 1, 'workin': 1, 'dente': 1, 'noodles': 1, 'creaminess': 1, 'explores': 1, 'captain': 1, 'falcon': 1, 'races': 1, 'fleshed': 1, 'bounties': 1, 'planets': 1, 'pills': 1, 'formerly': 1, 'screams': 1, 'https://www.bepic.com/0/index.php?page=opportunity': 1, 'playlists': 1, 'reopened': 1, 'pcgamer': 1, 'helpers': 1, 'syphon': 1, 'ridden': 1, 'thw': 1, '87w': 1, 'highschool': 1, '2011': 1, 'tastier': 1, 'experimented': 1, 'borrowing': 1, 'buddys': 1, 'unhelpful': 1, 'rookie': 1, 'ancestry': 1, 'laid': 1, '199': 1, '110': 1, 'functioned': 1, 'brilliant': 1, 'clicky': 1, 'dpad': 1, 'es2': 1, 'quieter': 1, 're2': 1, 'expressed': 1, 'glitched': 1, 'laughter': 1, 'reflection': 1, 'moaning': 1, 'occurs': 1, 'jesusss': 1, 'bathtub': 1, 'curtains': 1, 'undisturbed': 1, 'tlou2': 1, 'hatred': 1, 'saddening': 1, 'appeals': 1, 'rejected': 1, 'purists': 1, 'https://teforia.com/blog/tea-blending-101': 1, 'donut': 1, 'midsection': 1, 'ridiculousness': 1, 'eta2': 1, 'illy': 1, 'itx': 1, 'sciences': 1, 'quintessential': 1, 'biosciences': 1, 'cures': 1, 'qhat': 1, 'wires': 1, 'v/1': 1, 'abyss': 1, 'bucket': 1, 'xenogears': 1, 'hurry': 1, 'deadline': 1, 'improves': 1, 'scammed': 1, 'mo': 1, 'sociopath': 1, 'behavior': 1, 'fraud': 1, 'abuse': 1, 'skinny': 1, '2005': 1, '0140': 1, 'reoccurred': 1, 'reformatted': 1, 'formatted': 1, 'microsdxc': 1, 'uhs': 1, '100mb': 1, 'u1': 1, 'a1': 1, 'sdsquar-200g': 1, 'gn6ma': 1, 'cycling': 1, 'modem': 1, 'rejecting': 1, 'hunphones': 1, 'netnanny': 1, 'haters': 1, 'suffering': 1, 'sinuses': 1, 'pulls': 1, 'terra': 1, 'representative': 1, 'perused': 1, 'bless': 1, '118': 1, 'seizures': 1, 'restrict': 1, 'underlying': 1, 'shokata': 1, 'ambrosia': 1, 'berlin': 1, 'akin': 1, 'ballpark': 1, 'complain': 1, 'commenters': 1, 'disturbed': 1, 'unsettled': 1, 'unfulfilled': 1, 'heavens': 1, 'therapist': 1, 'parasail': 1, 'hyrule': 1, 'cunning': 1, 'detective': 1, 'paradise': 1, 'creatures': 1, 'matsu': 1, 'junkie': 1, 'scientists': 1, 'coworkers': 1, 'grimace': 1, 'dissatisfying': 1, 'americanos': 1, 'vivint': 1, 'modder': 1, 'cuphead': 1, 'legends(but': 1, 'ride': 1, 'bikes': 1, 'foundation': 1, 'lbs': 1, '1.37': 1, 'blank': 1, 'ahoy': 1, 'potcmemes': 1, 'https://preview.redd.it/hq1lueb7y7x41.jpg?width=999&format=pjpg&auto=webp&s=611eb1496255ca2cba454cb855003e24201380ef': 1, 'tints': 1, 'blinding': 1, 'unusable': 1, 'veterinary': 1, 'homes': 1, 'gardens': 1, 'scented': 1, 'wax': 1, 'diffusing': 1, 'pseudoscience': 1, 'marinating': 1, 'pathogens': 1, 'consult': 1, 'eventful': 1, 'tragedy': 1, 'mlmrecovery': 1, 'sigh': 1, 'avenue': 1, 'maternity': 1, 'premature': 1, 'nicu': 1, 'devastating': 1, 'pathetically': 1, 'donated': 1, 'grossness': 1, '~~water': 1, 'lover~~': 1, 'h2o.': 1, 'tangents': 1, 'weakest': 1, 'dantes': 1, 'garbo': 1, 'workers': 1, 'teambuilding': 1, 'fortress': 1, 'requirements': 1, 'fellas': 1, 'snakeoil': 1, 'inticreates': 1, 'zxa': 1, 'rye': 1, 'joint': 1, 'coolers': 1, 'establishment': 1, 'yikes': 1, '63': 1, 'washtenaw': 1, 'county': 1, 'interconnected': 1, 'thumbsticks': 1, 'j)rpg': 1, 'wishes': 1, 'weapon': 1, 'dq': 1, 'ni': 1, 'kuni': 1, 'sleuth': 1, '1.50': 1, 'stripped': 1, 'constructed': 1, 'crux': 1, '1v1': 1, 'cheetah': 1, 'jaguar': 1, 'dagger': 1, 'freestyle': 1, 'cupping': 1, 'boozy': 1, 'diesel': 1, 'considerable': 1, 'mucilage': 1, 'https://www.cacaoteaco.com/': 1, 'sweeten': 1, 'yard': 1, 'thrives': 1, 'inattention': 1, 'neglect': 1, 'mower': 1, 'mow': 1, 'graduates': 1, 'academically': 1, 'districts': 1, 'resonate': 1, 'conundrum': 1, 'moments': 1, 'resorting': 1, 'rewinding': 1, 'cheating': 1, 'ripping': 1, 'shucks': 1, 'kindly': 1, '76': 1, 'b.e.t.a.': 1, 'grabs': 1, 'aunty_fascist': 1, 'fancyvelociraptor': 1, 'nicer': 1, 'roided': 1, 'upgradeable': 1, 'ps4/': 1, 'fanciest': 1, 'dusty': 1, 'sweep': 1, 'sheds': 1, 'fierce': 1, 'birds': 1, 'singing': 1, 'trees': 1, 'confess': 1, 'bathrooms': 1, 'towel': 1, 'apparebtly': 1, 'inaccessible': 1, '12:00': 1, 'gmt': 1, '12.79': 1, 'ceremonies': 1, 'headaches': 1, 'reflux': 1, 'migraines': 1, 'gongu': 1, 'feb': 1, 'neighbourhood': 1, '2/16/2021': 1, 'primetime': 1, 'args': 1, 'postcards': 1, 'shere': 1, 'chipotle': 1, '12pk': 1, 'nevermissamoment': 1, 'hurtful': 1, 'confirms': 1, 'baits': 1, 'krocal': 1, 'https://youtu.be/lgxjxe9zd74': 1, 'crypto': 1, 'forex': 1, 'incomplete': 1, 'erased': 1, 'regressed': 1, 'amnesia': 1, 'bgae': 1, 'scouring': 1, 'dreamfall': 1, 'paradox': 1, 'vocabulary': 1, 'breed': 1, 'ingenuitea': 1, 'enjoyingtea.com': 1, 'defective': 1, 'gow': 1, 'https://preview.redd.it/k5szvq4i11981.jpg?width=508&format=pjpg&auto=webp&s=810744fb562096090786d1bb49b4353d03ce44f8': 1, 'http://imgur.com/a/jbkln': 1, 'https://www.reddit.com/r/pcgaming/comments/2agz8f/2012_vs_2013_vs_2014_xpost_rsteam/': 1, 'ethical': 1, 'pledge': 1, 'breeds': 1, 'rescue': 1, 'poodles': 1, 'allergens': 1, 'environmentally': 1, 'dispose': 1, 'reckon': 1, 'molding': 1, 'amused': 1, 'anitmlm': 1, 'https://imgur.com/gallery/irkh4ok': 1, 'b.over': 1, 'cannibalize': 1, 'equality': 1, 'distribute': 1, 'splurge': 1, 'powers': 1, 'replayable': 1, '192': 1, 'newbies': 1, 'soooooo': 1, 'monday)and': 1, \"aren't\": 1, 'pilot': 1, 'jobseeker': 1, 'appointment-': 1, 'gastric': 1, 'resubmit': 1, 'optavia': 1, 'flabbergasted': 1, 'pitching': 1, 'replaying': 1, 'detroit': 1, 'imagination': 1, '2007': 1, 'unibrew': 1, 'greenland': 1, 'diagonally': 1, 'widespread': 1, 'pur': 1, 'aqua': 1, 'windowsphone': 1, 'thousand': 1, 'cds': 1, 'amiix': 1, 'ruins': 1, 'platinums': 1, 'arbitrarily': 1, 'playback': 1, '7/9': 1, 'gamestops': 1, 'ticketing': 1, 'rung': 1, 'hoppers': 1, \"int'l\": 1, 'geelong': 1, 'workshops': 1, 'greeting': 1, 'schmoozing': 1, 'boozing': 1, 'soley': 1, 'plush': 1, 'pillows': 1, 'patterned': 1, 'literal': 1, 'repertoire': 1, 'frenchpress': 1, 'coldbrew': 1, 'dock(g': 1, 'nx(now': 1, 'questioned': 1, 'boosting': 1, 'it´s': 1, 'upscaling': 1, 'greetings': 1, 'society': 1, '34': 1, 'gang': 1, 'armored': 1, 'alls': 1, 'visa': 1, 'credibility': 1, 'nearsighted': 1, 'mileage': 1, 'ample': 1, 'particle': 1, 'alienware': 1, 'recieved': 1, 'tcl': 1, '55r646': 1, '@120hz': 1, 'grocer': 1, '0.5': 1, 'scarcity': 1, 'canning': 1, '2k20': 1, 'uninstalls': 1, 'acccount': 1, 'anna': 1, 'kendrick': 1, 'sorted': 1, 'acacia': 1, 'essentials': 1, 'sublime': 1, 'desserty': 1, 'tis': 1, '7:30pm': 1, 'cst': 1, '12/13/19': 1, 'https://imgur.com/a/fzcb2kx': 1, 'bright_light7': 1, 'gruvitron': 1, 'xbox.com': 1, 'fart': 1, 'mush': 1, 'pity': 1, 'sage': 1, 'bambino': 1, 'ap': 1, 'lieu': 1, 'sachet': 1, 'reheated': 1, 'wasteful': 1, 'brainer': 1, 'finger': 1, 'cozy': 1, 'drought': 1, 'malabsorption': 1, 'month+': 1, 'swiped': 1, '100%ing': 1, 'barred': 1, 'teraflop': 1, 'gear][question': 1, 'absoloutly': 1, 'kcups': 1, 'dq11': 1, 'bancha': 1, 'twig': 1, 'benifits': 1, 'twigs': 1, 'wolf': 1, 'overdose': 1, 'yogurt': 1, 'sizable': 1, 'banana': 1, 'bread': 1, 'nauseated': 1, 'intentionally': 1, 'locks': 1, 'accountability': 1, 'https://preview.redd.it/9ojungvv2c951.jpg?width=1276&format=pjpg&auto=webp&s=738c5be2ae8966f818e9179491e3d921bc44c83f': 1, 'enthusiastic': 1, 'discouraged': 1, 'devious': 1, 'patronize': 1, 'cal': 1, '8bitdo': 1, 'sn30': 1, 'pro+': 1, 'punched': 1, 'lava': 1, 'outdoor': 1, 'disgusted': 1, 'loathe': 1, 'commitments': 1, 'tent': 1, 'doterriblebusiness': 1, 'confidence': 1, 'athletic': 1, 'sustainability': 1, 'ethically': 1, 'mesh': 1, 'somepoint': 1, 'mimic': 1, 'spear': 1, 'sections': 1, 'insulated': 1, 'determined': 1, 'impact': 1, 'mailers': 1, 'qr': 1, 'https://preview.redd.it/vac8qr7916581.jpg?width=275&format=pjpg&auto=webp&s=54d4ecd70032261c8158e905fc6ac6f468bf34b0': 1, 'https://preview.redd.it/z3leys7916581.jpg?width=275&format=pjpg&auto=webp&s=b8fe83fbcfb42180632c97ae366595dfdfa64068': 1, 'bane': 1, 'suburban': 1, 'landscapers': 1, 'property': 1, 'plants': 1, 'preparation': 1, 'uproot': 1, 'taproot': 1, 'preheat': 1, 'fahrenheit': 1, 'brittle': 1, 'diffuse': 1, 'longer.(\"you': 1, 'autumn': 1, 'faux': 1, 'chicory': 1, 'disappoint': 1, 'roof': 1, 'pumping': 1, 'conflicted': 1, 'enlightened': 1, 'sauce': 1, 'compromise': 1, 'wits': 1, 'replicated': 1, 'ahhhhh': 1, 'lmao': 1, 'goty': 1, 'chewed': 1, 'spotify': 1, 'one/': 1, 'consumption': 1, 'exclude': 1, '1903': 1, 'https://i.imgur.com/ziwmkey.png': 1, 'witcherbat': 1, 'jaykresge': 1, 'override': 1, 'https://www.anandtech.com/show/10312/microsoft-adds-vsync-control-and-adaptive-framerate-support-to-the-universal-windows-platform': 1, 'reinstated': 1, 'https://www.playstation.com/en-us/games/pt-ps4/': 1, 'disconnected': 1, 'dnla': 1, 'spammy': 1, 'agadio': 1, 'tao': 1, 'admire': 1, 'reddit15': 1, 'www.theteaspot.com': 1, 'resolved': 1, 'brushes': 1, 'carpet': 1, 'viii': 1, 'enjoyability': 1, 'omori': 1, 'ikenfell': 1, 'swords': 1, 'ditto': 1, 'turnip': 1, 'commits': 1, 'evasion': 1, 'pikuniku': 1, 'submittions': 1, 'shortages': 1, '46': 1, 'duplicates': 1, 'refined': 1, 'strainer': 1, 'pa': 1, 'https://www.papowerswitch.com/': 1, 'mgs5': 1, 'metalgearsolidv_pc/.': 1, 'metalgearsolid': 1, 'caters': 1, 'diehard': 1, 'wooden': 1, 'cigar': 1, 'rington': 1, 'ouch': 1, 'barry': 1, 'fiancé': 1, 'wobbly': 1, 'me-': 1, 'joker': 1, 'georgia': 1, 'medroid': 1, 'fifth': 1, 'uninitiated': 1, 'switchs': 1, 'introduces': 1, 'zeldas': 1, 'windwaker': 1, 'rebirths': 1, 'launches': 1, 'directional': 1, 'enabling': 1, 'covers': 1, 'nuance': 1, 'peachette': 1, 'relegated': 1, 'aback': 1, 'overreacting': 1, 'soured': 1, 'lido2': 1, 'flavorings': 1, 'drowning': 1, 'seattle': 1, '7mo': 1, 'striving': 1, '25th': 1, 'sippy': 1, 'poo': 1, 'tripleshot-': 1, '224mlg': 1, 'advancement': 1, 'nicotine': 1, 'edis': 1, 'perth': 1, 'https://preview.redd.it/pikesdli5ky11.jpg?width=1920&format=pjpg&auto=webp&s=403ed90fb11839322ccd967632dcdaf9cd202261': 1, 'racer': 1, 'mashup': 1, '9.99': 1, '7.69': 1, 'au': 1, '1995': 1, 'nickelodeon': 1, 'mtv': 1, 'lenny': 1, 'loosejocks': 1, 'sling': 1, 'ezonecom': 1, 'jk': 1, 'accusation': 1, 'https://www.reddit.com/r/circleoftrust/comments/89vuos/attila_the_hunbot/?st=jflxi9kz&sh=9d26e54a': 1, 'foretaste': 1, 'carbonic': 1, 'pleasingly': 1, 'echoes': 1, 'lingers': 1, 'rum': 1, 'eww': 1, 'shamed': 1, 'norm': 1, 'scoff': 1, 'evian': 1, 'precise': 1, 'http://imgur.com/sjc4qva': 1, '37': 1, 'simplex': 1, 'http://imgur.com/a/xduiy': 1, 'clove': 1, 'bud': 1, 'ingesting': 1, 'though.https://imgur.com/a/gvjjbys/': 1, 'pinnacle': 1, 'snowboarding': 1, 'chivalrous': 1, 'raid': 1, 'modhau': 1, 'br': 1, 'economy': 1, 'raids': 1, 'zeroes': 1, 'sentences': 1, '+1': 1, 'idea)l': 1, 'blunt)what': 1, '2012/13': 1, 'hahaaha': 1, '11/12': 1, '🙌': 1, 'seek': 1, 'aquafina': 1, 'granules': 1, 'sis': 1, 'beneficial': 1, 'dc': 1, 'villains': 1, 'pomegranite': 1, 'pelegrino': 1, 'https://youtu.be/ciylrbtahju': 1, 'https://store.steampowered.com/app/1547540/they_are_here/': 1, 'unexplained': 1, 'phenomena': 1, '7th': 1, 'witnessed': 1, 'breakneck': 1, 'cornfield': 1, 'vanished': 1, 'behaviour': 1, 'observed': 1, 'peter': 1, 'himself': 1, 'deception': 1, 'oneself': 1, 'sensation': 1, 'journalist': 1, 'taylor': 1, 'newspaper': 1, 'ddr2': 1, '550ti': 1, 'umami': 1, 'caramels': 1, 'cinnamons': 1, 'klecan': 1, 'kanteen': 1, '5820k': 1, 'xg270hu': 1, '550': 1, '9th': 1, 'uptick': 1, 'sleeves': 1, 'subnatica': 1, 'actuality': 1, 'radar': 1, 'stikbold': 1, 'nine': 1, 'parchments': 1, 'nidhogg': 1, 'nitro': 1, 'fueled': 1, 'towerfall': 1, 'pode': 1, 'duck': 1, 'monopoly': 1, 'crawl': 1, 'morta': 1, 'lichtspeer': 1, 'speer': 1, 'cannoli': 1, 'chicken': 1, 'wizard': 1, 'littlebigplanet': 1, 'disorder': 1, 'understatement': 1, 'vent': 1, 'poisoning': 1, 'drowsy': 1, 'activities': 1, 'compensate': 1, 'replenish': 1, 'oversee': 1, 'charities': 1, '90days': 1, 'broker': 1, '401k': 1, 'freelance': 1, 'verted': 1, 'fixin': 1, 'lifelong': 1, 'fidelity': 1, 'blurriness': 1, 'n.verted': 1, 'experimental': 1, 'mirrored': 1, 'goofy': 1, 'zany': 1, 'oftentimes': 1, 'smoothen': 1, 'orochi': 1, 'nah': 1, 'bout': 1, 'dear': 1, 'gamedevs': 1, 'anemic': 1, 'cast': 1, 'siren': 1, 'spew': 1, 'spells': 1, 'amaze': 1, 'faking': 1, 'phaselocking': 1, 'npc': 1, 'takeshi': 1, 'castle': 1, 'wipeout': 1, 'receipt': 1, 'kanomi': 1, 'shoe': 1, 'aspirations': 1, 'neutral': 1, 'chatter': 1, 'transitioned': 1, 'regime': 1, 'breakout': 1, 'visibly': 1, 'repulsed': 1, 'contradict': 1, 'realise': 1, 'friendships': 1, 'sucker': 1, 'grasping': 1, 'straws': 1, 'meditation': 1, 'tea(s': 1, 'pai': 1, 'tan': 1, 'fluddless': 1, 'nozzle': 1, 'descent': 1, 'spraying': 1, 'miserably': 1, 'spamming': 1, 'sprays': 1, 'shoulder': 1, 'gains': 1, 'straightaways': 1, 'execution': 1, 'planted': 1, 'whoooooo': 1, 'shaking': 1, 'm+b': 1, 'cronicles': 1, 'thay': 1, 'yell': 1, 'horrifying': 1, 'foks': 1, 'poking': 1, 'fads': 1, 'nutraceuticals': 1, 'defended': 1, 'bffs': 1, 'pet': 1, 'groomer': 1, 'scalp': 1, 'itchy': 1, 'haircare': 1, 'obsolete': 1, '750': 1, '670': 1, 'theranos': 1, 'mural': 1, 'district': 1, 'headquarters': 1, 'utah': 1, 'stricter': 1, 'fraudulent': 1, 'https://www.forbes.com/sites/katevinton/2016/06/01/billion-dollar-brand-proactiv-rodan-fields/#c9d9a8b3bfe3': 1, 'unsolved': 1, 'compile': 1, 'digi': 1, 'thermal': 1, 'chased': 1, 'truthful': 1, 'texting': 1, 'hq': 1, 'insistent': 1, '9:30': 1, 'phoning': 1, 'consolidate': 1, 'messaged': 1, 'http://www.bestbuy.com/site/sony-dualshock-4-controller-charging-station-for-playstation-4-black/9715101.p?id=1219431371359&skuid=9715101': 1, 'sh*t': 1, 'leagues': 1, 'laying': 1, 'shopper': 1, 'lowest': 1, 'damaging': 1, 'removable': 1, 'cashiers': 1, 'cashier': 1, 'w/4': 1, 'charlie': 1, '4k.': 1, 'maximise': 1, 'shengs': 1, 'vouche': 1, '2008': 1, 'alter': 1, 'chunks': 1, 'liability': 1, 'yas': 1, 'dorm': 1, 'foreign': 1, 'thinkin': 1, 'stonks': 1, 'hmmmm': 1, 'imarketslive': 1, 'believes': 1, 'woo': 1, 'subrebbit': 1, 'revival': 1, 'revive': 1, 'bigelow': 1, 'zhena': 1, 'hearty': 1, 'sniff': 1, 'stench': 1, 'campfire': 1, 'charisma': 1, 'cruise': 1, 'wonders': 1, 'quicksand': 1, 'jumbled': 1, 'throughly': 1, 'spell': 1, 'hotkeys': 1, 'poe': 1, 'forge': 1, 'voxel': 1, 'girlfriended': 1, 'predators': 1, 'laundry': 1, 'basketball': 1, 'coaches': 1, 'congratulating': 1, 'thrilled': 1, 'idolized': 1, 'attainable': 1, 'burnout': 1, 'measurements': 1, 'resold': 1, 'https://store.steampowered.com/app/382890/final_fantasy_v_old_ver/': 1, 'https://store.steampowered.com/app/382900/final_fantasy_vi_old_ver/': 1, 'h5': 1, 'ocean': 1, 'lb': 1, '2ish': 1, 'solidify': 1, 'belief': 1, 'downing': 1, 'devoid': 1, 'adored': 1, 'dialogue': 1, 'wordplay': 1, 'mesmerizing': 1, 'charming': 1, 'sophisticated': 1, 'conceptually': 1, 'clickers': 1, 'wright': 1, 'interactivity': 1, 'facilitate': 1, 'contemporary': 1, 'intoxicating': 1, 'beige': 1, 'enigmatic': 1, 'dexterity': 1, 'acquisition': 1, 'lively': 1, 'pace': 1, 'canned': 1, 'recyclable': 1, '1/12': 1, 'superbowl': 1, 'a.m.': 1, \"pm'd\": 1, 'apocalyptic': 1, 'supernatural': 1, 'beings': 1, 'drones': 1, 'roadmap': 1, 'propriety': 1, 'engineered': 1, 'elgato': 1, 'tempers': 1, 'rgb': 1, 'pb': 1, 'cb': 1, 'daylight': 1, 'noon': 1, 'receiver': 1, 'detecting': 1, 'questionnaire': 1, 'https://www.lifestraw.com/collections/daily-use/products/lifestraw-go': 1, 'chem': 1, '100gals': 1, 'efficiency': 1, 'vouch': 1, 'lake': 1, 'chelan': 1, 'wa': 1, 'nba2k19': 1, 'v.1.02': 1, 'v1.02': 1, 'mycareer': 1, '12mins': 1, 'nov.': 1, 'navy': 1, 'jingle': 1, 'gorgeous': 1, 'barrier': 1, '🙃': 1, 'bundles': 1, 'splinters': 1, 'flew': 1, 'shootout': 1, 'matrix': 1, 'manages': 1, 'o.o': 1, 'https://twitter.com/galyonkin/status/1083807010964025346': 1, 'resellers': 1, 'cools': 1, 'tangy': 1, 'decreasing': 1, '50g-70g-60g-60g-60': 1, '70g-50g-60g-60g-60': 1, '3ww': 1, 'scenic': 1, 'interfaced': 1, 'saboteur': 1, 'ww2': 1, 'omitted': 1, 'gathering': 1, 'church': 1, 'allocating': 1, 'fooled': 1, 'morals': 1, 'appreicate': 1, 'migration': 1, 'motto': 1, 'tattooed': 1, 'sayings': 1, 'extras': 1, 'taxation': 1, 'delive': 1, 'northern': 1, 'heyo': 1, 'montclair': 1, 'staten': 1, 'trips': 1, 'ovarian': 1, 'upsetting': 1, 'rogaine': 1, 'demential': 1, 'colder': 1, 'snowing': 1, 'ontario': 1, 'lays': 1, 'workforce': 1, 'empowering': 1, 'https://www.businessinsider.com/rodan-fields-layoffs-corporate-employees-2019-12?fbclid=iwar1mc_dus0ao07w8rfedrc2q9wwz7c92rqxfug7n3d0loai3fuvkrxxnpvq': 1, \"h'aanith\": 1, 'chapters': 1, 'haanith': 1, 'ohtpctoa': 1, 'dog22222': 1, 'collaborating': 1, 'unity': 1, 'drunkenly': 1, 'brainstormed': 1, 'blended': 1, 'executing': 1, 'iterations': 1, 'hummed': 1, 'kunming': 1, 'lamu': 1, '2dog': 1, 'genius': 1, 'printing': 1, 'bricks': 1, 'warmth': 1, 'consumers': 1, 'likeminded': 1, 'mfs': 1, 'restricting': 1, 'teaexchange': 1, 'http://www.reddit.com/r/teaexchange/comments/1eb8fs/official_tea_exchange_box_uscanada/': 1, 'discredit': 1, 'ostensibly': 1, 'peers': 1, 'horrified': 1, '800flowers': 1, 'alienate': 1, 'brow': 1, 'littler': 1, 'lao': 1, 'styrofoam': 1, 'zojirushi': 1, 'limescale': 1, 'it-': 1, 'http://justanotherteablog.blogspot.com/2015/03/white-2-teas-lao-cha-tou-first-try.html': 1, 'duster': 1, 'sarah': 1, 'smearing': 1, 'lipsense': 1, 'gloss': 1, 'contrived': 1, 'scammy': 1, 'communications': 1, 'irc': 1, 'mt.': 1, 'sangrita': 1, 'drawer': 1, 'listings': 1, 'intoxication': 1, 'seminar': 1, 'rainstorm': 1, 'eaten': 1, 'sandwich': 1, 'decked': 1, 'toe': 1, 'declared': 1, 'forty': 1, '100,000': 1, 'hotels': 1, 'breakfasts': 1, 'twinning': 1, 'equipped': 1, 'chais': 1, 'mints': 1, 'multipurpose': 1, 'looooove': 1, 'fx': 1, '5200': 1, '9700': 1, '6800': 1, 'x1950': 1, '9800': 1, '6850': 1, 'tartness': 1, 'https://www.reddit.com/r/hydrohomies/comments/ctegnt/update_i_will_donate_10_cents_for_every_upvote/?utm_source=share&utm_medium=ios_app': 1, 'organizations': 1, 'loljkcuzurgay': 1, 'miscalculated': 1, '5k': 1, '4am': 1, 'donation': 1, 'stickied': 1, '50s': 1, '8:00': 1, 'serums': 1, 'obligation': 1, 'sheesh': 1, 'transitioning': 1, 'rubber': 1, 'rubbery': 1, 'chemical': 1, 'washed': 1, 'poison': 1, 'newbie': 1, 'maria': 1, 'unroasted': 1, 'roasted-': 1, 'g5s3w': 1, 'xn1': 1, 'http://www.newegg.com/product/product.aspx?item=n82e16834230027': 1, 'softmod': 1, 'learnt': 1, 'wiser': 1, 'surprises': 1, 'colleague': 1, 'probed': 1, 'admitted': 1, 'exclaimed': 1, 'priceless': 1, 'ap24': 1, 'nag': 1, 'undesirable': 1, 'c++': 1, 'x64': 1, 'redistributable': 1, 'https://imgur.com/a/uibtucp': 1, 'popup': 1, 'registry': 1, 'boylan': 1, 'akira': 1, 'encha': 1, 'physiological': 1, 'usucha': 1, 'courtesy': 1, 'sazen': 1, 'wako': 1, 'kan': 1, 'shiro': 1, 'mukashi': 1, 'budgetary': 1, 'carbonation': 1, 's|x': 1, 'topo': 1, 'chico': 1, 'xposted': 1, 'lulano': 1, 'anon': 1, 'reader': 1, 'http://links.lularoefail.com/ftcregs': 1, 'http://links.lularoefail.com/illegalcredits': 1, 'https://preview.redd.it/qmy6a8j1gox11.png?width=750&format=png&auto=webp&s=d5b669963e8124c7a984aa18dffc3d29a499136d': 1, 'https://preview.redd.it/t973y9j1gox11.png?width=750&format=png&auto=webp&s=2bbce9a7251e19626711655e7ca8153fc68731b1': 1, 'https://preview.redd.it/hbhgiaj1gox11.png?width=750&format=png&auto=webp&s=3815aec47e93c299d2e302107b076ec8f7e99c08': 1, 'lighthearted': 1, 'ooblets': 1, 'sights': 1, 'tamagotchi': 1, 'pallet': 1, 'starve': 1, 'transistor': 1, 'grid': 1, 'icons': 1, 'offset': 1, 'realising': 1, 'foolish': 1, 'hacking': 1, 'alarms': 1, 'cameras': 1, 'ingocnita': 1, 'interact': 1, 'https://gaming.youtube.com/watch?v=2p5on8hvfdc': 1, 'uh': 1, 'mins-3': 1, 'unreadable': 1, 'theta': 1, 'schweppes': 1, 'mojito': 1, 'tonic': 1, 'windows10': 1, 'detects': 1, 'vjoy': 1, 'https://preview.redd.it/g8r4ufmsm3661.png?width=640&format=png&auto=webp&s=90d3f3d4ec5879eac34c69ba0b6617344e7646e6': 1, 'pointer': 1, 'bend': 1, 'bones': 1, 'nero': 1, 'ffx|x-2': 1, 'ffx-2': 1, 'https://store.eu.square-enix-games.com/en_eu/product/526762/final-fantasy-xx-2-hd-remaster-nintendo-switch#/fea': 1, 'playasia': 1, 'de_dust': 1, 'alamein': 1, 'neutrally': 1, 'sweetened': 1, 'distinguishable': 1, 'truest': 1, 'patched': 1, 'siege': 1, '20th': 1, '23rd': 1, 'barony': 1, '26th': 1, 'borderzone': 1, 'fullest': 1, '-sorry': 1, '2618': 1, '0521': 1, 'responding': 1, 'traversal': 1, 'arris': 1, 'tg1662': 1, 'dmz': 1, 'rogue': 1, 'https://www.humblebundle.com/star-wars': 1, 'swig': 1, 'poisoned': 1, 'query': 1, 'solicit': 1, 'invariably': 1, 'revolve': 1, 'disks': 1, 'rebuy': 1, 'threading': 1, 'tighter': 1, 'equation': 1, 'revolutions': 1, 'notches': 1, 'ibm': 1, 'tile': 1, 'narrating': 1, 'narrator': 1, '-tame': 1, 'mi': 1, '-coffee': 1, 'creeme': 1, '-tummy': 1, '-market': 1, '-pure': 1, '-smokey': 1, 'fortnum': 1, '-jasmine': 1, 'composed': 1, 'lumi': 1, 'spa': 1, 'vaccine': 1, 'breastfeeding': 1, 'accomodation': 1, 'nw-31291': 1, 'correct.(nw-31291': 1, 'division': 1, 'thedivision': 1, 'http://abload.de/img/thedivision_2016_01_2grqvo.png': 1, 'http://abload.de/img/thedivision_2016_01_2azrac.png': 1, 'http://abload.de/img/thedivision_2016_01_2lcr1z.png': 1, 'http://abload.de/img/thedivision_2016_01_219s1l.png': 1, 'http://abload.de/img/thedivision_2016_01_22estz.png': 1, 'http://abload.de/img/thedivision_2016_01_2aksp7.png': 1, 'http://abload.de/img/thedivision_2016_01_2bnr2l.png': 1, 'http://abload.de/img/thedivision_2016_01_2gwshx.png': 1, 'http://abload.de/img/thedivision_2016_01_2hcs11.png': 1, 'http://abload.de/img/thedivision_2016_01_2h2qm5.png': 1, 'http://abload.de/img/thedivision_2016_01_2tds6i.png': 1, 'http://abload.de/img/thedivision_2016_01_2bqs78.png': 1, 'http://abload.de/img/thedivision_2016_01_26gsd5.png': 1, 'http://abload.de/img/thedivision_2016_01_255pck.png': 1, 'http://abload.de/img/thedivision_2016_01_254s10.png': 1, 'http://abload.de/img/thedivision_2016_01_2y8sps.png': 1, 'http://abload.de/img/thedivision_2016_01_24qsl7.png': 1, 'http://abload.de/img/thedivision_2016_01_2k1shv.png': 1, 'http://abload.de/img/thedivision_2016_01_24vr2j.png': 1, 'http://abload.de/img/thedivision_2016_01_2hep7k.png': 1, 'http://abload.de/img/thedivision_2016_01_2qkqrp.png': 1, 'http://abload.de/img/thedivision_2016_01_2q1r0y.png': 1, 'http://abload.de/img/thedivision_2016_01_2mgrbz.png': 1, 'metacarpal': 1, 'dire': 1, 'diabetic': 1, 'https://www.rootbeer.com/products/aw-diet-cream-soda': 1, '2l/64': 1, 'cracks': 1, 'tipped': 1, 'tolerance': 1, 'seal': 1, 'requirement': 1, 'liters/64': 1, 'delfino': 1, 'plaza': 1, 'bianco': 1, 'hills': 1, 'ricco': 1, 'gelato': 1, 'pinna': 1, 'casino': 1, 'noki': 1, 'pianta': 1, 'limits': 1, 'widow': 1, 'invites': 1, 'landed': 1, 'careers': 1, 'futures': 1, 'yrs': 1, 'coruption': 1, 'restored': 1, 'licences': 1, 'restrictions': 1, 'manu': 1, 'liqyidsky': 1, 'egpu': 1, 'enclosure': 1, 'pubg': 1, 'pirates': 1, 'decades': 1, 'overkill': 1, 'refurb': 1, 'dreaming': 1, 'discounted': 1, '~$450': 1, 'p.m.': 1, 'retracted': 1, 'xbo': 1, 'communicated': 1, 'advocate': 1, 'clog': 1, 'merit': 1, 'asymmetric': 1, 'acts': 1, 'technologically': 1, 'splitscreen': 1, 'functionally': 1, 'dividing': 1, '/mouse': 1, 'useable': 1, 'cezve': 1, 'yugoslavian': 1, 'bosanska': 1, 'kava\"/bosnian': 1, 'https://imgur.com/a/3nvkacc': 1, 'naranja': 1, 'spain': 1, 'exorbitant': 1, ':o': 1, 'b&n': 1, 'founder': 1, 'millions': 1, 'vomit': 1, 'brave': 1, 'confront': 1, 'introvert': 1, 'ab': 1, 'partly': 1, 'introverted': 1, 'teaming': 1, \"ya'll\": 1, 'ign': 1, 'dodging': 1, 'attacks': 1, 'yanno': 1, '22.110.b': 1, '22.110': 1, 'discard': 1, \"it's\": 1, \"dc'd\": 1, 'mates': 1, '4hr': 1, 'tiktok': 1, 'cruises': 1, 'awe': 1, 'bogo': 1, 'weirded': 1, 'puzzler': 1, '2!it': 1, 'thursday': 1, '21st': 1, 'https://www.nintendo.com/games/detail/q-u-b-e-2-switch': 1, 'https://superraregames.com/': 1, 'harry': 1, 'corr': 1, 'savery': 1, 'benni': 1, 'adam': 1, 'rocha': 1, 'study': 1, 'investigation': 1, 'rebrand': 1, 'neways': 1, 'dries': 1, 'hopping': 1, 'water-': 1, 'porto': 1, 'rico': 1, 'importing': 1, 'flowery': 1, 'heating': 1, 'microwave': 1, 'bill': 1, 'dungeon': 1, 'spire': 1, 'xbox360': 1, 'downspeed': 1, 'successor': 1, 'successors': 1, 'defunct': 1, 'matchmaking': 1, 'matchmake': 1, '50252': 1, 'mw1': 1, \"beat'em\": 1, 'seamlessly': 1, 'baddies': 1, 'someplace': 1, 'twists': 1, 'monotony': 1, 'pause': 1, 'selectively': 1, 'reviewer': 1, 'compares': 1, 'portia': 1, 'aromatic': 1, 'dissipated': 1, 'stimulating': 1, 'fresher': 1, 'ziplock': 1, 'decreases': 1, 'neophyte': 1, 'perusing': 1, '205': 1, 'ehr': 1, 'https://preview.redd.it/alaozk3ktg741.jpg?width=3024&format=pjpg&auto=webp&s=9b81a963c7eea3a9303ff28f004a46984e29685f': 1, 'wfg': 1, 'uploading': 1, 'sinces': 1, 'promotions': 1, 'sc': 1, 'defer': 1, '20,000': 1, 'pellegrino': 1, 'perrier': 1, 'iso': 1, 'cheapish': 1, 'amongst': 1, 'souchongs': 1, 'hehe': 1, '2:53': 1, 'isagenix': 1, 'dated': 1, 'milestone': 1, 'leveled': 1, 'beside': 1, 'tease': 1, 'incorporate': 1, 'meditative': 1, 'widening': 1, 'scope': 1, 'ninja': 1, 'madcatz': 1, 'emulation': 1, 'culprit': 1, 'tannin': 1, 'inhibits': 1, 'seasoning': 1, 'ash': 1, 'odors': 1, 'jingdezhen': 1, 'fu#c': 1, 'killsone': 1, 'gg': 1, 'bait': 1, 'pretend': 1, 'pursue': 1, 'walled': 1, 'deliciousness': 1, \"gmo'd\": 1, 'herbals': 1, \"aeropress'd\": 1, 'xenonblade': 1, 'twilight': 1, 'princess': 1, 'sideways': 1, 'profclub': 1, 'gamemode': 1, 'collagens': 1, 'unrealistic': 1, 'tamarind': 1, 'mandarin': 1, 'potato': 1, 'whispering': 1, 'http://imgur.com/a/crhvu': 1, 'kinum47': 1, 'helor101': 1, 'comadantec40': 1, 'produces': 1, 'mk1': 1, 'mk3': 1, 'formally': 1, 'urinalysis': 1, 'unusually': 1, 'conclusion': 1, 'exam': 1, 'http://imgur.com/a/pqgkl3z': 1, 'ecocha': 1, 'pakola': 1, 'inca': 1, 'kola': 1, 'stressfree': 1, 'rank': 1, 'mhgenu': 1, 'unwind': 1, '99.9': 1, 'cities': 1, 'unseen': 1, 'bottoms': 1, 'tacky': 1, 'dilemmas': 1, 'relentlessly': 1, 'vain': 1, 'flatter': 1, 'wealthy': 1, 'wwyd': 1, 'mount': 1, 'watering': 1, 'modifications': 1, 'inspiring': 1, 'genious': 1, 'rushed': 1, 'outdoors': 1, 'whirl': 1, 'capturing': 1, 'boji': 1, 'kelloo': 1, 'kochere': 1, 'makati': 1, 'contrast': 1, 'underneath': 1, 'submautica': 1, 'disscussion': 1, 'spec': 1, '4700mq': 1, '1600mhz': 1, 'plextor': 1, 'px-256m5': 1, '256': 1, 'msata': 1, '6gb': 1, '8mbps': 1, '2sv': 1, 'retreats': 1, 'shy': 1, 'laughable': 1, 'nauseam': 1, 'angel': 1, 'punishment': 1, '^(prices': 1, 'salon': 1, 'tetley': 1, 'dilmah': 1, 'ahmad': 1, 'mumtaz': 1, 'teakruthi': 1, 'portugal': 1, '6:30': 1, 'insisted': 1, 'cheering': 1, 'cheerier': 1, 'praising': 1, 'vulkan': 1, 'bug': 1, 'kudos': 1, 'viable': 1, '75hz': 1, 'accuracy': 1, 'dualshock': 1, '4s': 1, 'expert': 1, 'yr': 1, 'eso': 1, 'comeback': 1, 'stab': 1, 'pound': 1, 'peaberry': 1, 'occasions': 1, 'oculus': 1, '4.5': 1, 'scoops': 1, 'absurdly': 1, 'augment': 1, 'armoury': 1, '~12': 1, 'panick': 1, 'desired': 1, 'aeropressing': 1, '100mg': 1, ':-p': 1, 'disposable': 1, 'abundance': 1, 'comprehensive': 1, 'steepster': 1, 'healthfood': 1, 'ust': 1, 'amateur': 1, 'connoisseur': 1, 'alton': 1, 'metropolitan': 1, 'enhancement': 1, 'role': 1, 'lessen': 1, 'possesses': 1, 'properties': 1, 'synergistically': 1, 'spillane': 1, 'perceived': 1, 'shorter': 1, 'scientific': 1, 'threshold': 1, 'eyeball': 1, 'unscientific': 1, 'calculation': 1, 'badly': 1, 'altered': 1, 'carriage': 1, 'gardening': 1, 'serves': 1, 'rôles': 1, 'bankrupt': 1, 'nonetheless': 1, 'positively': 1, 'dermatologists': 1, 'proactiv': 1, 'routinely': 1, 'negligible': 1, 'unknowingly': 1, 'sinister': 1, 'nw-31281': 1, 'cr*p': 1, 'messsenger': 1, 'stalk': 1, 'respectable': 1, 'sidelines': 1, 'know-': 1, 'scripts': 1, 'counterpoints': 1, 'cigarette': 1, '1s': 1, 'terminate': 1, 'screwdriver': 1, 'hibernation': 1, 'skipped': 1, 'aces(2018': 1, 'softeners': 1, 'peddling': 1, 'https://preview.redd.it/jsxgmsncubd61.png?width=491&format=png&auto=webp&s=743fe30a7f2dbb25b682e928282df351007a983f': 1, 'https://preview.redd.it/bza6kekjubd61.png?width=485&format=png&auto=webp&s=d227df26ab65efe8ce58a77ab685b503a0e0ffcd': 1, 'tire': 1, \"f'in\": 1, 'makerid': 1, 'reserved': 1, 'occurring': 1, 'hasty': 1, 'downvoted': 1, 'messenger': 1, 'https://www.reddit.com/r/gamestop/comments/5nsjg8/zelda_botw_master_edition_sku_is_fake_in_all_gs/': 1, 'gawain': 1, 'sec': 1, 'dang': 1, 'qbvh': 1, 'xxnb': 1, 'ganp': 1, 'heje': 1, 'https://mynintendonews.com/2017/01/17/rumour-rockstars-l-a-noire-may-be-heading-to-nintendo-switch/': 1, '499': 1, '648': 1, 'aud': 1, '749': 1, 'uncensored': 1, 'intrest': 1, '295': 1, '210': 1, 'nh': 1, 'anonymous': 1, 'https://monsterhunter.fr/2019/03/31/monster-hunter-victory-portable-v-fuite-sur-nintendo-switch/': 1, \"vest'an\": 1, 'inculding': 1, 'chained': 1, 'harpoon': 1, 'underwater': 1, 'tigrex': 1, 'magala': 1, 'ultrahd': 1, 'oxidized': 1, 'hong': 1, 'pao': 1, 'woody': 1, 'backseat': 1, 'mellow': 1, 'intervals': 1, 'longtime': 1, 'realllllllly': 1, 'cheer': 1, 'conventionally': 1, 'conscious': 1, 'mkl': 1, '-mary': 1, 'pardon': 1, 'ffense': 1, 'formatting': 1, 'ff15': 1, 'dollars(gamestop': 1, 'new(subject': 1, 'opnion': 1, 'thrill': 1, 'yankee': 1, 'ne': 1, 'bb&b': 1, 'earp': 1, 'lockdown': 1, 'aer': 1, 'bookmark': 1, 'practicing': 1, 'capp': 1, 'whites': 1, 'glossy': 1, 'velvety': 1, 'shapes': 1, 'https://www.getonthegel.com/': 1, '10m': 1, 'bytes': 1, 'stopping': 1, 'prequelmemes': 1, 'https://preview.redd.it/41e2ozyh7a931.png?width=799&format=png&auto=webp&s=95a0f0e5c9abb145e584cb1018f0e444aea1460e': 1, 'nerf': 1, 'drate': 1, 'ce-41839': 1, 'rebuilding': 1, 'unfamiliar': 1, 'duds': 1, 'bourbon': 1, 'bernadina': 1, 'dent': 1, 'purchaser': 1, 'pos': 1, '50k+': 1, 'skewed': 1, 'beeps': 1, 'portafilters': 1, 'c2': 1, 'jx': 1, 'blunted': 1, 'masked': 1, 'game(s': 1, 'transformers': 1, 'cybertron': 1, 'lollipop': 1, 'chainsaw': 1, 'teen': 1, 'tricked': 1, 'navigate': 1, 'tanked': 1, 'trader': 1, '12oz/350ml': 1, '45ml': 1, 'swirling': 1, 'moisten': 1, 'undrinkable': 1, 'isp': 1, 'verizon': 1, '75mbps': 1, 'fluctuate': 1, 'hashtags': 1, 'logos': 1, 'towns': 1, 'brit': 1, 'soliciting': 1, 'irony': 1, '😉': 1, '4k60fps': 1, 'namely': 1, 'underappreciated': 1, 'masterpieces': 1, 'cappucino': 1, 'blonde': 1, 'duo': 1, 'dairy': 1, 'prouder': 1, 'yknow': 1, 'linrary': 1, 'directed': 1, '11.99': 1, 'evem': 1, '185': 1, '22g/350': 1, 'generating': 1, 'realigning': 1, 'verdant': 1, 'cleaver': 1, 'reseller': 1, 'palatable': 1, 'bv1901gw': 1, '~16': 1, 'adjusted': 1, 'soapy': 1, 'don’ts': 1, 'behalf': 1, 'trashy': 1, 'checkout': 1, 'thanking': 1, 'looping': 1, 'luxury': 1, 'furniture': 1, 'manipulate': 1, 'innocent': 1, 'inflicting': 1, 'smallest': 1, 'pee’d': 1, 'plantronics': 1, 'becasue': 1, 'inbuilt': 1, '10hours': 1, 'tragic': 1, 'flaw': 1, 'inability': 1, 'overarching': 1, 'controllable': 1, 'ft': 1, 'corporation': 1, 'obsessive': 1, 'negatively': 1, 'chains': 1, 'extensive': 1, 'workshop': 1, '~$12.27': 1, 'immediatlly': 1, 'mono': 1, 'upstairs': 1, 'whines': 1, 'paces': 1, 'downstairs': 1, 'whine': 1, 're4': 1, 'dongle': 1, 'doenst': 1, 'bluedooth': 1, 'acc': 1, '1000kbps': 1, 'dns': 1, 'obs': 1, 'accord': 1, 'waiter': 1, 'guesses': 1, 'keyboards': 1, 'joysticks': 1, 'wellness': 1, 'aimed': 1, 'popcorn': 1, 'popper': 1, 'burning': 1, 'motor': 1, 'ultrafine': 1, 'preperation': 1, 'lifespan': 1, '49': 1, 'nanocell': 1, 'scoot': 1, 'quits': 1, 'anecdotes': 1, 'benton': 1, 'https://imgur.com/z47onux': 1, 'counterculture': 1, 's&w.': 1, '2lbs': 1, '1.5lbs': 1, 'tetleys': 1, 'refrigerated': 1, 'concentration': 1, 'minutes-5': 1, 'repower': 1, 'stuffed': 1, 's.t.a.l.k.e.r.': 1, 'stalker': 1, 'pebo': 1, '8cup': 1, 'brew(about': 1, '990': 1, 'rabbits': 1, 'https://www.youtube.com/watch?v=j-cure2499w': 1, 'teamwork': 1, 'cooperation': 1, 'castles': 1, 'smudge': 1, 'hordes': 1, 'relics': 1, 'gunpowder': 1, 'cannons': 1, 'defeat': 1, 'directx': 1, 'monies': 1, 'prudent': 1, 'announces': 1, 'foil?-like': 1, 'tightly': 1, 'degraded': 1, 'binges': 1, 'reload': 1, 'triology': 1, 'posible': 1, 'notices': 1, 'vicarious': 1, 'visions': 1, 'regulator': 1, 'merger': 1, 'whispered': 1, 'peet': 1, 'twining': 1, 'refill': 1, 'smokier': 1, 'scalper': 1, 'steamfriend': 1, 'hoses': 1, 'tubs': 1, 'keygens': 1, 'conscience': 1, 'manuals': 1, 'authenticate': 1, 'task': 1, 'gore(and': 1, 'sickness': 1, 'yonder': 1, 'professor': 1, 'layton': 1, 'attorney': 1, 'lego(my': 1, 'indiana': 1, 'operate': 1, 'queens': 1, 'kiki': 1, 'chanel': 1, 'stamina': 1, 'dicided': 1, 'bloat': 1, 'lowered': 1, '2liters': 1, 'puffy': 1, 'heavier': 1, 'quenches': 1, 'urinate': 1, 'served': 1, 'kegs': 1, 'rarity': 1, 'laudato': 1, 'si': 1, 'encyclical': 1, 'francis': 1, 'intending': 1, 'pockets': 1, 'muddle': 1, 'basics': 1, 'confuse': 1, 'plugin': 1, 'circuit': 1, '120w': 1, '1200': 1, 'unwell': 1, 'award': 1, 'taster': 1, 'championship': 1, 'soundcard': 1, 'clicks': 1, 'breathe': 1, 'amyway': 1, 'stampin': 1, 'distributer': 1, 'su': 1, 'spouses': 1, 'longaburger': 1, 'spelling': 1, 'baskets': 1, 'menghai': 1, 'toucha': 1, 'mcnultys': 1, 'descriptive': 1, 'soil': 1, '6.3': 1, 'teraflops': 1, 'floodgates': 1, 'breathtaking': 1, '2l.': 1, 'mum': 1, 'thrift': 1, 'teapots': 1, 'girly': 1, '3000': 1, 'fistofwolf': 1, 'drifted': 1, 'apprehensive': 1, 'jumping': 1, 'fe3h': 1, 'silence': 1, 'workaround': 1, 'foolishness': 1, 'ignorance': 1, 'prompting': 1, 'verified': 1, 'resign': 1, 'pcsx4': 1, 'orbital': 1, 'jailbreaking': 1, 'revoke': 1, 'solace': 1, 'kh3': 1, 'mill': 1, 'tpp': 1, 'scandinavia': 1, 'eager': 1, 'kart8': 1, 'voucher': 1, 'oddyssey': 1, 'tynemouth': 1, 'alcafé': 1, 'ouseburn': 1, 'oily': 1, 'garry': 1, '🥳': 1, 'charting': 1, 'hubs': 1, 'persist': 1, 'stocking': 1, 'loooong': 1, '59': 1, 'endangered': 1, 'species': 1, 'o_o': 1, 'heaters': 1, 'el-4000': 1, 'http://amzn.com/b01mg5ken3': 1, 'java': 1, 'http://amzn.com/b01mr8ce6i': 1, 'terrified': 1, 'foam': 1, 'spoon': 1, 'froth': 1, 'feast': 1, 'http://ibb.co/h154sp': 1, 'pepsis': 1, 'experation': 1, 'bottlecapcollecting': 1, 'saeco': 1, 'urnex': 1, 'dezcal': 1, 'slept': 1, 'elected': 1, 'retained': 1, 'progressed': 1, 'devotion': 1, 'reel': 1, 'redownload': 1, '5-$7': 1, 'rightfully': 1, 'cypriot': 1, 'arabian': 1, 'watered': 1, 'lucozade': 1, 'earphones': 1, 'adapters': 1, 'hood': 1, 'sensory': 1, 'ruining': 1, 'mio': 1, 'camelback': 1, 'squirt': 1, 'tampa': 1, 'banging': 1, 'hotline': 1, 'boyfiend': 1, 'slimy': 1, 'detectives': 1, 'anteaque': 1, 'downtown': 1, 'stamps': 1, 'symbol': 1, 'koreans': 1, 'ink': 1, 'fascinating': 1, 'delights': 1, 'iroh': 1, 'potter': 1, 'whas': 1, 'https://imgur.com/a/uaggjpj': 1, 'boarding': 1, 'greys': 1, 'daresay': 1, 'supreme': 1, \"p's4\": 1, 'blanking': 1, 'r.d.s.': 1, 'revision': 1, 'inside(which': 1, 'pouches': 1, 'folds': 1, 'patching': 1, 'spiking': 1, 'rebuild': 1, 'niece-': 1, 'acknowledged': 1, 'anyway-': 1, 'pelvic': 1, 'bursts': 1, 'tbsp': 1, 'mixing': 1, 'ttbsp': 1, 'whiff': 1, 'hx': 1, 'boiler': 1, 'adequate': 1, 'advises': 1, 'processes': 1, 'calcium': 1, '3mg': 1, 'mg++': 1, '0,7mg': 1, 'qualities': 1, 'tubings': 1, 'pitting': 1, 'hardness': 1, 'composition': 1, 'recommand': 1, 'sins': 1, 'copious': 1, 'scandalous': 1, \"ol'\": 1, 'h20': 1, 'dxr': 1, 'negative)one': 1, 'resolves': 1, 'dice': 1, 'kelso': 1, 'shifts': 1, 'cole': 1, 'underwhelming': 1, 'wasted': 1, 'bodysuits': 1, 'ik': 1, 'wearer': 1, 'punches': 1, 'gunfire': 1, 'layer': 1, 'intensity': 1, 'vests': 1, 'dome': 1, 'treadmill': 1, 'shoes': 1, 'utterly': 1, 'incomprehensible': 1, 'describing': 1, 'readyplayerone': 1, 'biotech': 1, 'bigwig': 1, 'fired': 1, 'proceeded': 1, 'awkward': 1, 'intentional': 1, 'bothersome': 1, 'awkwardly': 1, 'immanent': 1, 'payne': 1, 'sam': 1, 'tentacle': 1, 'grim': 1, 'fandango': 1, 'caesar': 1, 'pharaoh': 1, 'zeus': 1, 'pastel': 1, 'cuteness': 1, 'bw': 1, 'b2w2': 1, 'shakeology': 1, 'nit': 1, 'accustomed': 1, 'syrupy': 1, 'kirin': 1, 'crispy': 1, 'overwhelmed': 1, 'importer': 1, 'closures': 1, 'banners': 1, '79.99': 1, 'scanner': 1, 'signals': 1, 'remasters': 1, 'tier': 1, 'plastering': 1, 'hypnotised': 1, 'deceivingly': 1, 'perceive': 1, 'nuances': 1, 'corridor': 1, 'zombines': 1, 'adobe': 1, 'archive': 1, '78,000': 1, 'temporarily': 1, 'relive': 1, 'gemcraft': 1, 'bloons': 1, 'td': 1, '3l': 1, 'mentors': 1, 'tricky': 1, 'flooded': 1, 'political': 1, 'painfully': 1, 'scripted': 1, 'groundbreaking': 1, 'cultural': 1, 'societal': 1, 'economical': 1, 'sociology': 1, 'statistics': 1, 'turnover': 1, 'outcomes': 1, 'scamway': 1, 'mys': 1, 'hoffmans': 1, '6/8': 1, '3.how': 1, 'wwg': 1, '/w': 1, 'privately': 1, 'bossing': 1, 'nest': 1, 'salvage': 1, 'pertain': 1, 'intuitive': 1, 'screws': 1, 'mnk': 1, 'groove': 1, 'toy': 1, 'gopaldhara': 1, 'queen': 1, 'approx': 1, 'ftgfop1': 1, 'harvest': 1, 'mushrooms': 1, 'appearance': 1, 'swirly': 1, 'swirled': 1, 'peaches': 1, 'apricots': 1, 'malty': 1, 'stayton': 1, 'chinfai': 1, 'silicone': 1, 'skins': 1, 'https://www.amazon.com/dp/b06xfbsbzn/ref=cm_sw_r_cp_apa_q5p2yberqvfb9': 1, 'decals': 1, 'wast': 1, 'silicon': 1, 'curios': 1, 'reshades': 1, 'overtime': 1, 'gimmicky': 1, 'photograph': 1, '2080super': 1, 'stabilizer': 1, 'resoundingly': 1, 'puddles': 1, 'res': 1, 'miracle': 1, 'slowing': 1, 'kanto': 1, 'mainline': 1, 'befuddlement': 1, 'teasing': 1, 'removal': 1, 'encounters': 1, 'engage': 1, 'leisure': 1, 'onix': 1, 'unannounced': 1, 'arose': 1, 'chiefly': 1, 'undocked': 1, 'iama': 1, 'https://new.reddit.com/r/iama/comments/dt2prs/we_are_the_dark_crystal_games_team_members/': 1, 'backbone': 1, '50,000': 1, 'https://www.kickstarter.com/projects/ceresgames/realms-beyond-ashes-of-the-fallen/description': 1, 'attaching': 1, 'thinner': 1, 'steven': 1, 'k.o.': 1, '2.4': 1, 'featuring': 1, 'fridges': 1, 'choked': 1, 'rad': 1, 'emily': 1, 'leah': 1, 'verbose': 1, 'endearing': 1, 'campaigned': 1, 'spat': 1, 'traffickers': 1, 'repeating': 1, 'meaningless': 1, 'addressing': 1, 'unsubscribe': 1, '0˚c': 1, 'coat': 1, 'overlocking': 1, '10ghz': 1, 'snow': 1, 'winds': 1, 'pigs': 1, 'backs': 1, 'realtime': 1, 'folders': 1, 'alternating': 1, 'http://pastebin.com/tiqf0mrq': 1, 'c:\\\\program': 1, 'x86)\\\\steam\\\\userdata\\\\yoursteamid\\\\311340\\\\remote': 1, 'metalgearsolidv_pc': 1, 'scheduled': 1, '~~job~~': 1, 'gist': 1, 'motivating': 1, 'neglected': 1, 'expansion': 1, 'executive': 1, 'x(my': 1, 'refereed': 1, 'disclosing': 1, 'attend': 1, 'wastes': 1, 'expanding': 1, 'heaps': 1, 'renaissance': 1, '1,2,3': 1, 'counterstrike': 1, 'conker': 1, 'fur': 1, 'plane': 1, 'your(obviously': 1, 'ns': 1, 'suspecting': 1, 'airport': 1, 'cope': 1, 'plethora': 1, 'growlers': 1, 'comparisons': 1, 'legally': 1, 'rosemary': 1, 'https://www.globenewswire.com/news-release/2020/10/06/2104567/0/en/doterra-center-for-integrative-oncology-opens-at-new-st-elizabeth-cancer-center.html': 1, 'converters': 1, 'lug': 1, 'projector': 1, 'outlets': 1, 'converts': 1, 'messaging': 1, 'uni': 1, 'apposed': 1, 'mars': 1, 'interplanetary': 1, 'wn': 1, 'unadulterated': 1, 'cosmic': 1, 'https://www.independent.co.uk/life-style/gadgets-and-tech/mars-water-bodies-nasa-alien-life-b673519.html?utm_source=reddit.com': 1, 'jesus': 1, 'repaired': 1, 'arriving': 1, 'housing': 1, 'hydroskeptic': 1, 'dauntless': 1, 'f2p': 1, 'slayers': 1, '@squier': 1, 'sodas.com': 1, 'lauson1ex': 1, 'kyrpt': 1, 'fatalities': 1, 'intros': 1, 'film': 1, 'grain': 1, 'patreon': 1, 'ide': 1, 'nrs': 1, 'mk': 1, 'https://www.youtube.com/watch?v=pxo51gtgkds': 1, '1/2/20': 1, 'relate': 1, 'friend(who': 1, 'flashcards': 1, 'excitedly': 1, 'hurried': 1, 'introduced': 1, 'qna': 1, 'firstly': 1, 'instruction': 1, 'ghosted': 1, 'https://www.reddit.com/r/antimlm/comments/q0j0f1/my_experience_with_my_close_friend_who_is/?utm_source=share&utm_medium=web2x&context=3': 1, 'concise': 1, 'betting': 1, 'trifecta': 1, 'adherent': 1, 'empowered': 1, 'methid': 1, 'infiltrated': 1, 'hideous': 1, 'nickel': 1, 'spoke': 1, 'cleanup': 1, 'bases': 1, 'disconnecting': 1, 'paired': 1, 'sorrowtv': 1, 'voiceovers': 1, 'immortals': 1, 'alley': 1, 'artesian': 1, '1920s': 1, 'percolated': 1, 'corningware': 1, 'arabica': 1, 'duplicated': 1, 'tinted': 1, 'rotten': 1, 'bathe': 1, 'divine': 1, 'filtration': 1, 'notch': 1, 'seamstress': 1, 'touted': 1, '1950s': 1, 'eek': 1, 'memorable': 1, 'rowdy': 1, 'roddy': 1, 'piper': 1, 'gum': 1, 'https://youtu.be/6acncdjtoa8': 1, \"c'm\": 1, 'don': 1, 'quixotea': 1, 'manchai': 1, 'backers': 1, 'pippi': 1, 'oolongstocking': 1, 'jenni': 1, 'rosy': 1, 'cuppageek': 1, 'gehab': 1, 'publishing': 1, 'shizz': 1, 'https://www.youtube.com/watch?v=mpdtftdahd4': 1, 'https://www.youtube.com/watch?v=jabvoilcuek&feature=youtu.be': 1, '160': 1, '170': 1, 'battlefied': 1, 'beeing': 1, 'stoned': 1, 'doping': 1, \"young'n\": 1, 'inklings': 1, 'splatted': 1, 'colorfully': 1, 'https://gamerant.com/bethesda-starfield-news-2022/?utm_content=buffer9a16e&utm_medium=social-distribution&utm_source=gr-tw&utm_campaign=gr-tw': 1, 'todd': 1, 'howard': 1, 'aya': 1, '9am': 1, 'https://www.reddit.com/r/intel/comments/epk0zs/official_intel_graphics_aya_ask_you_anything/': 1, 'printables': 1, 'co2': 1, 'servicing': 1, 'infrastructure': 1, 'troubleshoot': 1, 'e208': 1, 'v.s.': 1, 'ambiguous': 1, 'motivational': 1, 'distinctly': 1, 'foolishly': 1, 'eh': 1, 'metabolism': 1, 'https://imgur.com/a/8qwfsqr': 1, 'saint': 1, 'indefinately': 1, 'trek': 1, 'unskippable': 1, 'trudge': 1, 'corridors': 1, 'obstacle': 1, 'airplane': 1, 'ccop': 1, 'socoms': 1, 'https://www.sofstudios.com/index.php?/page/index.html': 1, 'attract': 1, 'banjo': 1, 'kazooie': 1, 'iirc': 1, 'reskin': 1, 'nindie': 1, 'teams': 1, 'playstation5': 1, 'logomark': 1, 'prototype': 1, 'segments': 1, 'gradient': 1, 'impaired': 1, 'deaf': 1, 'cranks': 1, 'r.b.i.': 1, 'itching': 1, 'drafting': 1, 'offseason': 1, 'backlog': 1, 'awesomely': 1, 'accessories(battery': 1, '”addiction': 1, 'carried': 1, '48': 1, 'meal': 1, 'unhealthily': 1, 'dependence': 1, 'sips': 1, 'psychological': 1, 'explorer.exe': 1, 'skeptic': 1, 'beware': 1, 'gliding': 1, 'snappier': 1, 'chop': 1, 'feasibility': 1, 'entrepreneurship': 1, 'http://goo.gl/forms/moj9rsgoyi': 1, 'collectable': 1, 'exploding': 1, 'wikipedia': 1, 'mythical': 1, 'verify': 1, 'disprove': 1, 'wsu': 1, 'idaho': 1, 'oregon': 1, 'majors': 1, 'minors': 1, 'shadowing': 1, 'realised': 1, 'v1': 1, '0.07': 1, 'risks': 1, 'obligations': 1, \"y'know\": 1, 'confined': 1, 'chapter': 1, 'obligatory': 1, 'coffin': 1, 'playnite': 1, 'https://imgur.com/a/38pknbq': 1, 'recovering': 1, 'onward': 1, 'wean': 1, 'replacements': 1, '3,000': 1, 'fp': 1, 'setups': 1, 'jot': 1, 'replication': 1, 'popcorning': 1, 'trades': 1, 'excelling': 1, 'versatility': 1, 'configure': 1, 'arguably': 1, 'improvements': 1, 'monolith': 1, 'eg-1': 1, 'modding': 1, 'untill': 1, '3k': 1, 'apricot': 1, 'peaked': 1, 'cinematic': 1, 'coffe': 1, '30ml': 1, '1:(x': 1, '2oz/': 1, '3.2': 1, '1:3.2': 1, 'compete': 1, 'peripheral': 1, 'perma': 1, 'relieved': 1, 'suspended': 1, '12/31/9999': 1, 'separately': 1, 'authorized': 1, 'ticket': 1, 'unbanned': 1, 'guitar': 1, 'warner': 1, 'rumored': 1, 'ny': 1, 'accessed': 1, 'anywho': 1, 'grounded': 1, 'absorbs': 1, 'seeps': 1, 'swirl': 1, 'swallow': 1, 'tectonic': 1, 'elegant': 1, 'delightful': 1, 'authorities': 1, 'azure': 1, 'oath': 1, 'felghana': 1, 'fights': 1, 'atelier': 1, 'mundane': 1, 'unbelievable': 1, 'binbok': 1, 'dammit': 1, 'teavivre': 1, 'worldwide': 1, 'consume': 1, '16.9': 1, 'repenting': 1, 'limestone': 1, 'monsooned': 1, 'malabar': 1, 'whiskey': 1, 'underestimate': 1, 'snacks': 1, 'subtract': 1, 'cookie': 1, 'savory': 1, 'hash': 1, 'browns': 1, 'piping': 1, 'tastiest': 1, 'harsh': 1, 'prospect': 1, 'secondly': 1, 'garunteed': 1, 'multiplats': 1, 'asia': 1, '240v': 1, 'delivers': 1, '120v.': 1, 'interchangeable': 1, 'bamboo': 1, 'bleached': 1, 'unbleached': 1, 'neuroscientists': 1, 'resorting(though': 1, 'lab': 1, 'german': 1, 'inch': 1, 'desicion': 1, '-thank': 1, 'someway': 1, 'doable': 1, 'at&t': 1, 'upfront': 1, 'cydcor': 1, 'dominos': 1, 'someday': 1, '.most': 1, '.to': 1, 'fro': 1, 'superlumen': 1, 'riddles': 1, 'endings': 1, 'investigate': 1, 'hiding': 1, 'madness': 1, 'darkness': 1, 'insanity': 1, 'incorporates': 1, 'ambisonic': 1, '8d': 1, 'lovecraftian': 1, '360º': 1, 'integrating': 1, 'casinello': 1, 'superlumen_oficial': 1, 'chema': 1, 'designer': 1, 'chemacogo': 1, 'charly': 1, 'hermogenes': 1, 'solracher': 1, 'irene': 1, 'martínez': 1, 'superirenne': 1, 'chang': 1, 'taught': 1, 'stem': 1, 'prominent': 1, 'treehouse': 1, 'beam': 1, 'antagonist': 1, 'oriented': 1, 'existent': 1, 'dunkin': 1, '4.25': 1, 'mentor': 1, 'vie': 1, 'membrane': 1, 'gungeon': 1, 'blossom': 1, 'tales': 1, 'mere': 1, 'dg': 1, 'maui': 1, 'https://i.imgur.com/p4goa6e.jpg': 1, 'minty': 1, 'forming': 1, 'george': 1, 'howell': 1, '420': 1, '50ml': 1, '30s': 1, 'increments': 1, 'neck': 1, 'edges': 1, '15s': 1, 'fews': 1, 'subbing': 1, 'https://www.youtube.com/watch?v=fzz0pk2q3g8': 1, 'platfomer': 1, 'jak': 1, 'succeeding': 1, 'theoretically': 1, 'bitters': 1, 'interpret': 1, 'https://pdfhost.io/v/0qtoqunc5_pepsin_bitterspdf.pdf': 1, 'gentian': 1, 'wahoo': 1, 'mandrake': 1, 'coriander': 1, 'β': 1, 'dil': 1, '3½': 1, 'oiij': 1, 'oij': 1, 'aq': 1, 'dist': 1, 'qs': 1, 'macerate': 1, 'dissolve': 1, '640': 1, 'gms': 1, 'wyatt': 1, '2k18': 1, '59.99': 1, 'paddles': 1, 'famed': 1, 'eastgate': 1, 'raving': 1, 'tinge': 1, '1.79': 1, 'parchment': 1, 'silverskin': 1, 'appriate': 1, 'matte': 1, 'jar': 1, 'trieste': 1, 'croatia': 1, 'slovenian': 1, 'cola?i': 1, 'coastal': 1, 'shadowplay': 1, 'alt+z.': 1, 'uncertainties': 1, 'delaying': 1, 'ctr': 1, 'incompetence': 1, 'uncertainty': 1, 'beg': 1, 'mitigate': 1, 'unofficial': 1, 'alleviate': 1, 'announcing': 1, 'physically': 1, 'scratching': 1, 'inbetween': 1, 'stalled': 1, 'mid-90s': 1, 'chrono': 1, 'roman': 1, 'twelve': 1, 'awarded': 1, 'https://www.ey.com/en_us/news/2020/10/ey-announces-winners-for-the-entrepreneur-of-the-year-2020-new-jersey-award': 1, 'decomposing': 1, '~3.5': 1, 'decant': 1, 'leathery': 1, 'pry': 1, 'appreciating': 1, 'attractive': 1, 'attractiveness': 1, 'https://www.bodum.com/gb/en/11920-259-douro': 1, '8th': 1, 'destinythegame': 1, '@bungie': 1, 'https://youtu.be/_bn_wjo2m9q': 1, '2070': 1, 'gfuel': 1, 'savvy': 1, 'stumped': 1, 'folding': 1, 'fathom': 1, 'suffers': 1, 'performed': 1, 'negativity': 1, 'venting': 1, 'haptic': 1, 'disabling': 1, 'ito': 1, 'en': 1, 'venus': 1, 'lp': 1, 'elektra': 1, 'wpid': 1, 'http://imgur.com/edexcga': 1, 'bargain': 1, '7pound': 1, 'sp': 1, 'mariokarts': 1, 'fave': 1, '3.it': 1, 'warrant': 1, 'categories': 1, 'https://rocketfizz.com/media/soda-labels/': 1, 'hickups': 1, 'redshift': 1, '1.25': 1, 'secretly': 1, 'hide': 1, '3500': 1, 'kº': 1, 'paywalls': 1, 'polling': 1, 'curves': 1, '24h': 1, 'blink': 1, '~~the': 1, 'segmented': 1, 'table.~~': 1, '~~in': 1, 'costly': 1, 'me).~~': 1, 'tackled': 1, 'segmentation': 1, 'usd$': 1, 'insomnia': 1, '01:00': 1, 'msconfig.exe': 1, 'logon': 1, 'vip': 1, '10:30': 1, 'notify': 1, 'cloudstrifehy3': 1, 'reedit': 1, 'guarantee': 1, 'infos': 1, 'im': 1, 'daisy': 1, 'msg': 1, '379': 1, 'https://www.nintendo.com/games/detail/bury-me-my-love-switch/': 1, '12/31/19': 1, 'themo': 1, '3yrs': 1, 'forgave': 1, 'payed': 1, 'achievements': 1, 'notifications': 1, 'xboxes': 1, 'nonstop': 1, 'h(2)0mies': 1, 'heathens': 1, 'pacing': 1, 'capping': 1, 'demanding': 1, 'traded': 1, 'flying': 1, 'cauldron': 1, 'overlooking': 1, 'hedge': 1, 'fund': 1, 'shorting': 1, 'http://i.imgur.com/bqf2ptn.jpg': 1, 'bath': 1, 'slit': 1, 'tbb': 1, 'mighty': 1, 'showers': 1, 'http://shop.sandisk.com/store/sdiskus/en_us/pd/productid.5180084100': 1, 'promocode': 1, 'ultra128sd': 1, 'https://www.amazon.com/samsung-microsd-adapter-mb-me128ga-am/dp/b06xwzwyvp': 1, 'https://www.samsung.com/us/computing/memory-storage/memory-cards/microsdxc-evo-plus-memory-card-w--adapter-128gb--2017-model--mb-mc128ga-am/': 1, 'bans': 1, 'http://imgur.com/a/wdwdn': 1, 'insecure': 1, 'pathetic': 1, 'trolling': 1, 'banning': 1, 'campuses': 1, 'collectively': 1, 'horrific': 1, 'organized': 1, 'packed': 1, 'broad': 1, 'drafted': 1, '400k+': 1, 'colleges': 1, 'reappear': 1, 'pooling': 1, 'organizing': 1, 'detrimental': 1, 'roadblocks': 1, 'goldeneye': 1, '007': 1, 'dwellers': 1, 'staring': 1, 'ceiling': 1, 'übermensch': 1, 'xoxo': 1, 'perk': 1, 'fanatical': 1, 'academy': 1, 'p5xcr': 1, 'vy2ty': 1, 'hlr47': 1, 'knights': 1, 'ccf78': 1, 'tbb2b-82w22': 1, '2b4pl': 1, 'ylwa5': 1, 'j9a3f': 1, 'wzakr': 1, 'hampg': 1, 'y3ym9': 1, 'gapev': 1, 'wgihn': 1, 'ayddf': 1, 'l4bxe': 1, 'vz407': 1, 'mec3w': 1, '2i7wr': 1, 'vncel': 1, 'x79ep': 1, 'codex': 1, '75dby': 1, 'r7qjc': 1, 'yj0vj': 1, 'wyhae-8bcyv': 1, 'b4kwb': 1, 'oke': 1, 'configured': 1, 'tieguanyin': 1, 'structure': 1, 'ngl': 1, 'television': 1, 'crysis': 1, 'ctrl': 1, 'fledgling': 1, 'deacf': 1, 'rost': 1, 'suger': 1, 'wth': 1, 'mgsv': 1, 'misspelled': 1, 'pt': 1, 'whatdoyaknow': 1, 'memo': 1, 'surreal': 1, 'escaped': 1, 'brainwashed': 1, 'midwestern': 1, 'disposal': 1, 'sill': 1, 'settle': 1, 'desensitized': 1, 'apostrophe': 1, 'concluded': 1, 'bf5': 1, 'witch': 1, 'pastimes': 1, 'yourselves': 1, 'capitalized': 1, 'hurricanes&mlms': 1, 'beyourownceo': 1, 'knocked': 1, 'vodka': 1, 'jameson': 1, 'ales': 1, 'blenheim': 1, 'dr.pepper': 1, 'annoyingly': 1, 'torch': 1, 'monochrome': 1, 'hungry': 1, 'scare': 1, 'froze': 1, 'rebooted': 1, 'intact': 1, 'influential': 1, 'conventions': 1, 'tasteless': 1, 'cooperate': 1, 'gratification': 1, 'josta': 1, 'alltime': 1, 'antarctica': 1, 'brasil': 1, 'spiciness': 1, 'dnl': 1, 'upside': 1, 'aruba': 1, 'jam': 1, 'variation': 1, 'jazz': 1, 'intervention': 1, 'fewdays': 1, 'welfare': 1, 'imporant': 1, 'mutual': 1, 'surface': 1, 'formed': 1, 'tipping': 1, 'anybodies': 1, 'tender': 1, 'weighing': 1, 'redirected': 1, 'applicable': 1, 'exotics': 1, 'israel': 1, 'bradford': 1, 'enthusiast(read': 1, 'pbr': 1, 'purelife': 1, 'quenching': 1, 'settles': 1, 'exception': 1, 'tingly': 1, 'amiss': 1, 'wha': 1, '😳': 1, 'saline': 1, 'huh': 1, 'https://i.imgur.com/fk5nbuo.jpg': 1, 'sahms': 1, 'achievers': 1, 'workplace': 1, 'shills': 1, 'talent': 1, 'burdening': 1, 'mil': 1, 'teaching': 1, 'relying': 1, 'sonic': 1, 'forces': 1, 'unleashed': 1, 'sucking': 1, 'congratulations': 1, 'remodeling': 1, 'estimates': 1, 'karens': 1, 'justifiably': 1, 'huffy': 1, 'obligated': 1, 'sarcastic': 1, 'wised': 1, 'ceos': 1, 'organizes': 1, 'mixer': 1, 'parking': 1, 'thugs': 1, 'water+': 1, 'yerba': 1, 'http://www.mymateworld.com/catalog/index.php?cpath=1': 1, 'tweets': 1, 'fumihiko': 1, 'yasuda': 1, 'quote': 1, 'downvote': 1, 'bombed': 1, '118.05': 1, 'ec': 1, '/espresso': 1, 'tamp': 1, 'geysers': 1, 'bengal': 1, 'herbal/': 1, \"i've\": 1, 'jamaica': 1, 'ka': 1, 'bigga': 1, 'unnoficial': 1, 'journal': 1, 'haveing': 1, 'compact': 1, 'straightforwardness': 1, 'spills': 1, 'citron': 1, 'responsive': 1, 'comfortably': 1, 'travesty': 1, 'builder': 1, 'p65': 1, 'c1': 1, 'subsampling': 1, 'krups': 1, 'xp1020': 1, 'arizona': 1, '2kgs': 1, 'negotiate': 1, 'https://reddit.com/link/ca7z9c/video/c9lesvwofw831/player': 1, 'https://preview.redd.it/blln3plmlz831.jpg?width=1608&format=pjpg&auto=webp&s=e896f327de8ef788b7dc61250aea8f91eb4a0896': 1, 'stagg': 1, 'redirects': 1, '0x87e50007': 1, 'express': 1, 'hobbie': 1, 'limitation': 1, 'standardized': 1, 'thief': 1, 'catnip': 1, 'carolina': 1, 'hydrates': 1, 'crafted': 1, 'objects': 1, '1min': 1, 'linkedin': 1, 'slinging': 1, 'slightest': 1, 'resume': 1, 'preciso': 1, 'trends': 1, 'viewed': 1, 'automatics': 1, 'squared': 1, 'erythritol': 1, 'sucralose': 1, 'aspartame': 1, 'pamphlet': 1, 'magazine': 1, 'beefier': 1, 'dreamcast': 1, '24gm79g': 1, '4kuhd': 1, 'nuts': 1, 'proved': 1, 'commando': 1, 'straining': 1, 'colander': 1, 'messy': 1, 'wound': 1, 'grit': 1, 'shall': 1, 'alerts': 1, 'yardwork': 1, 'inversion': 1, 'matchas': 1, 'being\"/relaxation': 1, '10/40': 1, '25/40': 1, '50/40': 1, 'sounding': 1, 'tiniest': 1, 'b&q': 1, 'f@#&in': 1, 'vhs': 1, 'hecka': 1, 'sonys': 1, 'pile': 1, 'farts': 1, 'repasted': 1, 'idle': 1, 'nonalcoholic': 1, 'welcomed': 1, 'paris': 1, 'switzerland': 1, 'liechtenstein': 1, 'venice': 1, 'austria': 1, \"hasn't\": 1, \"doesn't\": 1, 'obv': 1, 'synergy': 1, 'remastering': 1, 'mario64': 1, 'standards': 1, 'casul': 1, 'discovers': 1, 'crawling': 1, 'deliberation': 1, 'slick': 1, 'limitations': 1, 'valiant': 1, 'efforts': 1, 'utilizing': 1, 'preaching': 1, 'choir': 1, '1070': 1, 'bottlenecked': 1, '3070ti': 1, '5600x.': 1, 'confuses': 1})\n"
          ]
        }
      ]
    },
    {
      "cell_type": "markdown",
      "source": [
        "Now what about for our own corpus?\n",
        "\n",
        "**Exercise:** Using your definitions of `bigram_count` and `trigram_count` from above, complete the code below by putting the values for `N` and `V`."
      ],
      "metadata": {
        "id": "MBvXK7LJnmrs"
      }
    },
    {
      "cell_type": "code",
      "metadata": {
        "id": "Xq0xcWzaFWPS",
        "colab": {
          "base_uri": "https://localhost:8080/"
        },
        "outputId": "6550d25f-e3a6-4d6c-e84c-2ecbc864eb3a"
      },
      "source": [
        "N = posts_unigram_N # Complete this\n",
        "V = len(posts_unigram_counts.keys()) # Complete this\n",
        "\n",
        "# Number of possible bigrams\n",
        "bigram_count = V**2 # Complete this\n",
        "print(\"Number of possible bigrams:\", bigram_count)\n",
        "\n",
        "# Number of possible trigrams\n",
        "trigram_count = V**3 # Complete this\n",
        "print(\"Number of possible trigrams:\", trigram_count)\n",
        "\n",
        "# Technically, the practical limit is also limited by size of the collection, N.\n",
        "# Bigrams would be limited by N-1\n",
        "# Trigrams would be limited by N-2\n",
        "print(\"Number of possible bigrams (limited by the size of our corpus):\", min(N-1, bigram_count))\n",
        "print(\"Number of possible trigrams (limited by the size of our corpus):\", min(N-2, trigram_count))"
      ],
      "execution_count": 71,
      "outputs": [
        {
          "output_type": "stream",
          "name": "stdout",
          "text": [
            "Number of possible bigrams: 150945796\n",
            "Number of possible trigrams: 1854520049656\n",
            "Number of possible bigrams (limited by the size of our corpus): 189427\n",
            "Number of possible trigrams (limited by the size of our corpus): 189426\n"
          ]
        }
      ]
    },
    {
      "cell_type": "markdown",
      "metadata": {
        "id": "aSyqn4e8bmKS"
      },
      "source": [
        "- How much space would a table of all possible unigrams, bigrams and trigrams take?\n",
        "- For simplicity, let's assume 8 bytes per entry.  \n",
        "- How much space would we need to store all of them?"
      ]
    },
    {
      "cell_type": "code",
      "metadata": {
        "id": "xEgIEGc-DsEa",
        "colab": {
          "base_uri": "https://localhost:8080/"
        },
        "outputId": "b345a4bb-d0c0-45ee-eecf-acd23233732f"
      },
      "source": [
        "import psutil\n",
        "\n",
        "V = len(posts_unigram_counts.keys()) # Complete this\n",
        "\n",
        "print (\"Vocab size:\\t%d tokens\" % V)\n",
        "print (\"Unigrams need:\\t%g KB\" % (8 * (V ** 1) / (2**10)))\n",
        "print (\"Bigrams need:\\t%g GB\" % (8 * (V ** 2) / (2**30)))\n",
        "print (\"Trigrams need:\\t%g TB\" % (8 * (V ** 3) / (2**40)))\n",
        "print (\"Memory Available:\\t%g GB\" % (psutil.virtual_memory().available / (2**30)))"
      ],
      "execution_count": 73,
      "outputs": [
        {
          "output_type": "stream",
          "name": "stdout",
          "text": [
            "Vocab size:\t12286 tokens\n",
            "Unigrams need:\t95.9844 KB\n",
            "Bigrams need:\t1.12463 GB\n",
            "Trigrams need:\t13.4934 TB\n",
            "Memory Available:\t11.0567 GB\n"
          ]
        }
      ]
    },
    {
      "cell_type": "markdown",
      "metadata": {
        "id": "JOoet6sSEbKR"
      },
      "source": [
        "Look at the results! Given a typical machine, we can store all possible unigrams and probably all the bigrams, but we'd never get to trigrams!\n",
        "\n",
        "Thankfully, we don't have to store every possible n-gram combination. Most words occur rarely. As a result, for bigrams and trigrams, the table will be very sparse. We will only store the entries that we observe; the rest we can assume to be zero or we can estimate their values using smoothing.\n",
        "\n"
      ]
    },
    {
      "cell_type": "markdown",
      "metadata": {
        "id": "8OpxWsOoFf1F"
      },
      "source": [
        "### Constructing a bigram model\n",
        "\n",
        "For now, we'll build a bigram model, which considers the only the preceding token:\n",
        "\n",
        "$$ P(w_i\\ |\\ w_{0}, ..., w_{i-1}) \\approx P(w_i\\ |\\ w_{i-1}) $$\n"
      ]
    },
    {
      "cell_type": "markdown",
      "metadata": {
        "id": "gC5tanICEigU"
      },
      "source": [
        "\n",
        "We want to calculate the probability of one token following the other using the counts of that bigram $C_{ab}$ and the count of the first token $C_a$.\n",
        "\n",
        "$$  P_{ab} = P(w_i = b\\ |\\ w_{i-1} = a) = \\frac{C_{ab}}{C_{a}} $$\n",
        "\n",
        "\n"
      ]
    },
    {
      "cell_type": "markdown",
      "source": [
        "Before we can generate probabilities from bigrams, we need to know the frequency that bigrams appear in our data.\n",
        "\n",
        "**Exercise:** Write a function `count_bigrams` that given a flattened list of tokens returns a [Counter](https://docs.python.org/3/library/collections.html#collections.Counter) mapping tuples (pairs of neighbouring tokens) to their count in the tokens.\n",
        "\n",
        "For example `count_bigrams(['a','b','c'])` should give a Counter with values `{ ('a','b'):1, ('b','c'):1 }`"
      ],
      "metadata": {
        "id": "ObV3pvpupK47"
      }
    },
    {
      "cell_type": "code",
      "source": [
        "def count_bigrams(flattened):\n",
        "  length = len(flattened)\n",
        "  result = Counter( (flattened[i-1], flattened[i]) for i in range(1, length))\n",
        "  # print(result)\n",
        "  return result\n",
        "\n",
        "  # your code!\n",
        "\n",
        "count_bigrams(['<START>','irn','bru','is','great','<START>','i','dislike','irn','bru'])"
      ],
      "metadata": {
        "id": "n4EmDhxjfAc7",
        "colab": {
          "base_uri": "https://localhost:8080/"
        },
        "outputId": "fd2b3eda-9d44-4665-acf8-27d3d01891ad"
      },
      "execution_count": 75,
      "outputs": [
        {
          "output_type": "execute_result",
          "data": {
            "text/plain": [
              "Counter({('<START>', 'irn'): 1,\n",
              "         ('irn', 'bru'): 2,\n",
              "         ('bru', 'is'): 1,\n",
              "         ('is', 'great'): 1,\n",
              "         ('great', '<START>'): 1,\n",
              "         ('<START>', 'i'): 1,\n",
              "         ('i', 'dislike'): 1,\n",
              "         ('dislike', 'irn'): 1})"
            ]
          },
          "metadata": {},
          "execution_count": 75
        }
      ]
    },
    {
      "cell_type": "code",
      "source": [
        "labtest(count_bigrams)"
      ],
      "metadata": {
        "id": "lDDFIxos7NMy",
        "colab": {
          "base_uri": "https://localhost:8080/"
        },
        "outputId": "1e45f875-f651-40bd-83e6-9d8f281d092b"
      },
      "execution_count": 76,
      "outputs": [
        {
          "output_type": "stream",
          "name": "stdout",
          "text": [
            "----------------------------\n",
            "LABTEST: Running 5 testcases\n",
            "----------------------------\n",
            "Input: (['accidentally', 'halo', 'halo', 'halo'],). Running... \n",
            "OK.\n",
            "Input: (['teavana', 'teavana', 'order'],). Running... \n",
            "OK.\n",
            "Input: (['started', 'enough', 'enough', 'started', 'enough', 'enough'],). Running... \n",
            "OK.\n",
            "Input: (['hario', 'hario', 'lead'],). Running... \n",
            "OK.\n",
            "Input: (['similar', 'college', 'similar'],). Running... \n",
            "OK.\n",
            "----------------------------\n",
            "5 testcases PASSED\n",
            "----------------------------\n"
          ]
        }
      ]
    },
    {
      "cell_type": "markdown",
      "source": [
        "We can get the bigrams of our mini corpus:"
      ],
      "metadata": {
        "id": "X4yuV3JI7Pko"
      }
    },
    {
      "cell_type": "code",
      "source": [
        "count_bigrams(mini_flattened)"
      ],
      "metadata": {
        "id": "qUfyE6K6h-E6",
        "colab": {
          "base_uri": "https://localhost:8080/"
        },
        "outputId": "663d7b82-d7bb-438c-d565-e44d0a6ba3df"
      },
      "execution_count": 77,
      "outputs": [
        {
          "output_type": "execute_result",
          "data": {
            "text/plain": [
              "Counter({('<START>', 'my'): 1,\n",
              "         ('my', 'favourite'): 1,\n",
              "         ('favourite', 'soft'): 1,\n",
              "         ('soft', 'drink'): 2,\n",
              "         ('drink', 'is'): 1,\n",
              "         ('is', 'apple'): 1,\n",
              "         ('apple', 'tango'): 1,\n",
              "         ('tango', 'but'): 1,\n",
              "         ('but', 'i'): 1,\n",
              "         ('i', 'also'): 1,\n",
              "         ('also', 'love'): 1,\n",
              "         ('love', 'irn'): 1,\n",
              "         ('irn', 'bru'): 5,\n",
              "         ('bru', '<START>'): 1,\n",
              "         ('<START>', 'irn'): 3,\n",
              "         ('bru', 'is'): 3,\n",
              "         ('is', 'a'): 2,\n",
              "         ('a', 'great'): 1,\n",
              "         ('great', 'drink'): 1,\n",
              "         ('drink', '<START>'): 1,\n",
              "         ('<START>', 'i'): 1,\n",
              "         ('i', 'once'): 1,\n",
              "         ('once', 'found'): 1,\n",
              "         ('found', 'a'): 1,\n",
              "         ('a', 'can'): 1,\n",
              "         ('can', 'of'): 1,\n",
              "         ('of', 'irn'): 1,\n",
              "         ('bru', 'in'): 1,\n",
              "         ('in', 'st'): 1,\n",
              "         ('st', 'petersburg'): 1,\n",
              "         ('petersburg', '<START>'): 1,\n",
              "         ('a', 'soft'): 1,\n",
              "         ('drink', 'launched'): 1,\n",
              "         ('launched', 'in'): 1,\n",
              "         ('in', '1901'): 1,\n",
              "         ('1901', 'by'): 1,\n",
              "         ('by', 'ag'): 1,\n",
              "         ('ag', 'barr'): 2,\n",
              "         ('barr', '<START>'): 1,\n",
              "         ('is', 'made'): 1,\n",
              "         ('made', 'at'): 1,\n",
              "         ('at', 'ag'): 1,\n",
              "         ('barr', 'in'): 1,\n",
              "         ('in', 'cumbernauld'): 1})"
            ]
          },
          "metadata": {},
          "execution_count": 77
        }
      ]
    },
    {
      "cell_type": "markdown",
      "source": [
        "Let's calculate the bigrams for our Reddit posts. This will be useful!"
      ],
      "metadata": {
        "id": "KXKcWmzG7UL4"
      }
    },
    {
      "cell_type": "code",
      "source": [
        "posts_bigram_counts = count_bigrams(posts_flattened_tokens)"
      ],
      "metadata": {
        "id": "UlF914RYkEp4"
      },
      "execution_count": 78,
      "outputs": []
    },
    {
      "cell_type": "markdown",
      "source": [
        "Now we have a method for bigram counts, we can calculate the probability of a next work, given the previous token:\n",
        "\n",
        "$$ P(w_i \\ |\\ w_{i-1} ) $$\n",
        "\n",
        "Specifically for the probability for token $b$ following token $a$:\n",
        "\n",
        "$$  P_{ab} = P(w_i = b\\ |\\ w_{i-1} = a) = \\frac{C_{ab}}{C_{a}} $$\n",
        "\n",
        "where $C_{ab}$ is the bigram count of $(a,b)$ and $C_a$ is the unigram count of $a$.\n",
        "\n",
        "**Exercise:** Write a function `bigram_token_prob` that takes in the previous token, the next token and the unigram and bigram counts and calculates the conditional probability of the next token given the previous token."
      ],
      "metadata": {
        "id": "hbfJQJU27Xrm"
      }
    },
    {
      "cell_type": "code",
      "source": [
        "def bigram_token_prob(prev_token, next_token, unigram_counts, bigram_counts):\n",
        "  prev_count = unigram_counts[prev_token]\n",
        "  bigram_count = bigram_counts[(prev_token, next_token)]\n",
        "  # print(prev_count, bigram_count)\n",
        "  return bigram_count/prev_count\n",
        "  # your code!\n",
        "\n",
        "bigram_token_prob('irn', 'bru', posts_unigram_counts, posts_bigram_counts)"
      ],
      "metadata": {
        "id": "eEn6cYwVj9Ou",
        "colab": {
          "base_uri": "https://localhost:8080/"
        },
        "outputId": "f9b623c3-4e37-4064-eda5-f27e5ea3e465"
      },
      "execution_count": 84,
      "outputs": [
        {
          "output_type": "execute_result",
          "data": {
            "text/plain": [
              "1.0"
            ]
          },
          "metadata": {},
          "execution_count": 84
        }
      ]
    },
    {
      "cell_type": "markdown",
      "source": [
        "### Using bigrams for spelling correction\n",
        "\n",
        "We'll use our bigram model to improve our spelling correction model. This time it will use the prior token to give some context to the probability calculations.\n",
        "\n",
        "**Exercise:** Write a function `bigram_spelling_correct` that takes in the previous token, the token to be spell-checked, the unigram/bigram counts and uses the bigram probability function (from above) to find the most likely token. Look back at your `unigram_spelling_correct` function."
      ],
      "metadata": {
        "id": "Za8mdM5c8xQq"
      }
    },
    {
      "cell_type": "code",
      "source": [
        "def bigram_spelling_correct(prev_token, token, unigram_counts, bigram_counts):\n",
        "  candidates = get_candidate_tokens(token, unigram_counts)\n",
        "  candidates_values = [bigram_token_prob(prev_token, candidate, unigram_counts, bigram_counts) for candidate in candidates]\n",
        "  max_idx = candidates_values.index(max(candidates_values))\n",
        "  return list(candidates)[max_idx]\n",
        "  # your code!\n",
        "\n",
        "bigram_spelling_correct('irn', 'burp', posts_unigram_counts, posts_bigram_counts)"
      ],
      "metadata": {
        "id": "WmZv74ZXl6Tj",
        "colab": {
          "base_uri": "https://localhost:8080/",
          "height": 35
        },
        "outputId": "3ece14ba-2841-46dd-e979-51c4fa169117"
      },
      "execution_count": 85,
      "outputs": [
        {
          "output_type": "execute_result",
          "data": {
            "text/plain": [
              "'bru'"
            ],
            "application/vnd.google.colaboratory.intrinsic+json": {
              "type": "string"
            }
          },
          "metadata": {},
          "execution_count": 85
        }
      ]
    },
    {
      "cell_type": "code",
      "source": [
        "labtest(bigram_spelling_correct)"
      ],
      "metadata": {
        "id": "OuipSIjJ-rdU",
        "colab": {
          "base_uri": "https://localhost:8080/"
        },
        "outputId": "b32b4549-6a96-42bb-f753-072d22b343ab"
      },
      "execution_count": 86,
      "outputs": [
        {
          "output_type": "stream",
          "name": "stdout",
          "text": [
            "----------------------------\n",
            "LABTEST: Running 5 testcases\n",
            "----------------------------\n",
            "Input: ('i', 'hcacn', Counter({'where': 7, 'i': 6, 'can': 6}), Counter({('i', 'can'): 4, ('where', 'i'): 3})). Running... \n",
            "OK.\n",
            "Input: ('the', 'owvnyr', Counter({'the': 9, 'and': 8, 'owner': 5}), Counter({('and', 'the'): 2, ('the', 'owner'): 1})). Running... \n",
            "OK.\n",
            "Input: ('life', 'gtze', Counter({'life': 7, 'her': 6, 'the': 6}), Counter({('her', 'life'): 3, ('life', 'the'): 1})). Running... \n",
            "OK.\n",
            "Input: ('it', 's', Counter({'it': 8, 'is': 7, 'says': 5}), Counter({('it', 'is'): 2, ('says', 'it'): 1})). Running... \n",
            "OK.\n",
            "Input: ('as', 'hmcin', Counter({'main': 9, 'linked': 8, 'as': 6}), Counter({('as', 'main'): 1, ('linked', 'as'): 1})). Running... \n",
            "OK.\n",
            "----------------------------\n",
            "5 testcases PASSED\n",
            "----------------------------\n"
          ]
        }
      ]
    },
    {
      "cell_type": "markdown",
      "source": [
        "Let's try the 'gmaig' example from before (which previously was corrected to 'gaming'). What if we give it another context. Maybe the token before it is 'e'? How does that change it?"
      ],
      "metadata": {
        "id": "reOHTEDz-sa4"
      }
    },
    {
      "cell_type": "code",
      "source": [
        "bigram_spelling_correct('e', 'gmaig', posts_unigram_counts, posts_bigram_counts)"
      ],
      "metadata": {
        "id": "tKwzswAm-sh4",
        "colab": {
          "base_uri": "https://localhost:8080/",
          "height": 35
        },
        "outputId": "595cc35c-6ce6-47af-97a7-3d8706327cd9"
      },
      "execution_count": 87,
      "outputs": [
        {
          "output_type": "execute_result",
          "data": {
            "text/plain": [
              "'mail'"
            ],
            "application/vnd.google.colaboratory.intrinsic+json": {
              "type": "string"
            }
          },
          "metadata": {},
          "execution_count": 87
        }
      ]
    },
    {
      "cell_type": "markdown",
      "source": [
        "Neat! With a different context, the most likely token changes.\n",
        "\n",
        "A bigram model gave some context. Maybe a trigram model would be better. Well, we're going to look at trigrams, but for a different problem!"
      ],
      "metadata": {
        "id": "0NbFZUbM_C1h"
      }
    },
    {
      "cell_type": "markdown",
      "metadata": {
        "id": "cZbqWAJFJ_qP"
      },
      "source": [
        "## Application: Generating fake Reddit posts\n",
        "\n",
        "Language models are *generative*.  They model the probability of generating a sequence of tokens. The probabilities can be used in interesting ways, for example to score sequences or even to generate made up text sequences iteratively.\n",
        "\n",
        "We're going to use trigrams to capture a bit more about language and use them to generate some fake Reddit posts. To get started, we need to calculate trigram counts.\n",
        "\n",
        "**Exercise:** Write a function `count_trigrams` that returns a Counter that contains the counts of all trigrams from the input text.\n",
        "\n",
        "For example `count_trigrams(['a','b','c','d'])` should give a Counter with values `{ ('a','b','c'):1, ('b','c','d'):1 }`"
      ]
    },
    {
      "cell_type": "code",
      "source": [
        "def count_trigrams(flattened):\n",
        "  length = len(flattened)\n",
        "  result = Counter( (flattened[i], flattened[i+1], flattened[i+2]) for i in range(length-2) )\n",
        "  return result\n",
        "  # your code!\n",
        "\n",
        "count_trigrams(['<START>','irn','bru','is','great','<START>','i','dislike','irn','bru'])"
      ],
      "metadata": {
        "id": "Ixlhi6djoZZx",
        "colab": {
          "base_uri": "https://localhost:8080/"
        },
        "outputId": "85fcb0c6-dd10-41f5-d695-86f5542a0959"
      },
      "execution_count": 90,
      "outputs": [
        {
          "output_type": "execute_result",
          "data": {
            "text/plain": [
              "Counter({('<START>', 'irn', 'bru'): 1,\n",
              "         ('irn', 'bru', 'is'): 1,\n",
              "         ('bru', 'is', 'great'): 1,\n",
              "         ('is', 'great', '<START>'): 1,\n",
              "         ('great', '<START>', 'i'): 1,\n",
              "         ('<START>', 'i', 'dislike'): 1,\n",
              "         ('i', 'dislike', 'irn'): 1,\n",
              "         ('dislike', 'irn', 'bru'): 1})"
            ]
          },
          "metadata": {},
          "execution_count": 90
        }
      ]
    },
    {
      "cell_type": "code",
      "source": [
        "labtest(count_trigrams)"
      ],
      "metadata": {
        "id": "uTORvdhFFUD0",
        "colab": {
          "base_uri": "https://localhost:8080/"
        },
        "outputId": "42052a06-f42f-40d4-998f-18df476373b7"
      },
      "execution_count": 91,
      "outputs": [
        {
          "output_type": "stream",
          "name": "stdout",
          "text": [
            "----------------------------\n",
            "LABTEST: Running 5 testcases\n",
            "----------------------------\n",
            "Input: (['accidentally', 'halo', 'halo', 'halo'],). Running... \n",
            "OK.\n",
            "Input: (['teavana', 'teavana', 'order'],). Running... \n",
            "OK.\n",
            "Input: (['started', 'enough', 'enough', 'started', 'enough', 'enough'],). Running... \n",
            "OK.\n",
            "Input: (['hario', 'hario', 'lead'],). Running... \n",
            "OK.\n",
            "Input: (['similar', 'college', 'similar'],). Running... \n",
            "OK.\n",
            "----------------------------\n",
            "5 testcases PASSED\n",
            "----------------------------\n"
          ]
        }
      ]
    },
    {
      "cell_type": "markdown",
      "source": [
        "Let's get the trigrams from our Reddit posts:"
      ],
      "metadata": {
        "id": "doh2Tc-8Fc-Z"
      }
    },
    {
      "cell_type": "code",
      "source": [
        "posts_trigram_counts = count_trigrams(posts_flattened_tokens)"
      ],
      "metadata": {
        "id": "Xn79VVtzqPDF"
      },
      "execution_count": 92,
      "outputs": []
    },
    {
      "cell_type": "markdown",
      "source": [
        "Now, we need a function that gets us the conditional trigram probability. What is the probability of a token given the two previous tokens?\n",
        "\n",
        "$$ P(w_i \\ |\\ w_{i-1}, w_{i-2} ) $$\n",
        "\n",
        "In this case, we want to calculate the probability of a trigram using the trigram count for that triple and the bigram count of the first two tokens.\n",
        "\n",
        "**Exercise:** Write a function `trigram_token_prob` that takes in the two previous tokens, the next token and the bigram & trigram count data. It should output the probability of the next token given the two prior tokens using the bigram and trigram counts."
      ],
      "metadata": {
        "id": "SsvdRnxpFiIC"
      }
    },
    {
      "cell_type": "code",
      "source": [
        "def trigram_token_prob(prev_prev_token, prev_token, next_token, bigram_counts, trigram_counts):\n",
        "  # print(bigram_counts)\n",
        "  prev_count = bigram_counts[(prev_prev_token, prev_token)]\n",
        "  curr_count = trigram_counts[(prev_prev_token, prev_token, next_token)]\n",
        "  # print(prev_count, curr_count)\n",
        "  return curr_count/prev_count\n",
        "\n",
        "  # your code!\n",
        "\n",
        "trigram_token_prob('i', 'walk', 'around', posts_bigram_counts, posts_trigram_counts)"
      ],
      "metadata": {
        "id": "7KuBiHmspmox",
        "colab": {
          "base_uri": "https://localhost:8080/"
        },
        "outputId": "678336ee-6d23-498b-ff44-522d38cbb724"
      },
      "execution_count": 96,
      "outputs": [
        {
          "output_type": "execute_result",
          "data": {
            "text/plain": [
              "1.0"
            ]
          },
          "metadata": {},
          "execution_count": 96
        }
      ]
    },
    {
      "cell_type": "code",
      "source": [
        "labtest(trigram_token_prob)"
      ],
      "metadata": {
        "id": "ZUr1JeDLojR9",
        "colab": {
          "base_uri": "https://localhost:8080/"
        },
        "outputId": "c506a029-03cd-450a-c70a-9037a0b8e610"
      },
      "execution_count": 97,
      "outputs": [
        {
          "output_type": "stream",
          "name": "stdout",
          "text": [
            "----------------------------\n",
            "LABTEST: Running 5 testcases\n",
            "----------------------------\n",
            "Input: ('c', 'a', 'a', Counter({('a', 'a'): 5, ('c', 'a'): 3, ('c', 'c'): 3}), Counter({('c', 'a', 'a'): 1, ('c', 'c', 'a'): 1})). Running... \n",
            "OK.\n",
            "Input: ('a', 'c', 'a', Counter({('a', 'a'): 4, ('a', 'c'): 4, ('c', 'a'): 4}), Counter({('a', 'a', 'c'): 1, ('a', 'c', 'a'): 1})). Running... \n",
            "OK.\n",
            "Input: ('a', 'b', 'c', Counter({('a', 'a'): 5, ('a', 'b'): 4, ('b', 'c'): 4, ('c', 'a'): 4}), Counter({('a', 'b', 'c'): 2, ('c', 'a', 'a'): 2, ('a', 'a', 'b'): 1})). Running... \n",
            "OK.\n",
            "Input: ('c', 'b', 'b', Counter({('a', 'a'): 5, ('a', 'c'): 4, ('c', 'b'): 4, ('b', 'b'): 3}), Counter({('a', 'c', 'b'): 2, ('c', 'b', 'b'): 2, ('a', 'a', 'c'): 1})). Running... \n",
            "OK.\n",
            "Input: ('a', 'b', 'b', Counter({('a', 'b'): 5, ('b', 'b'): 3}), Counter({('a', 'b', 'b'): 2})). Running... \n",
            "OK.\n",
            "----------------------------\n",
            "5 testcases PASSED\n",
            "----------------------------\n"
          ]
        }
      ]
    },
    {
      "cell_type": "markdown",
      "source": [
        "We want to get the probability of all possible tokens after two previous tokens. We'll store this probability distribution as a dictionary mapping a potential token to its probabilities.\n",
        "\n",
        "The `get_trigram_distribution` below iterates through all the possible tokens (which are all the unigrams) and calculates their conditional trigram probability."
      ],
      "metadata": {
        "id": "JVpnGeevGFH2"
      }
    },
    {
      "cell_type": "code",
      "source": [
        "def get_trigram_distribution(prev_prev_token, prev_token, unigram_counts, bigram_counts, trigram_counts):\n",
        "  prob_distribution = {}\n",
        "  for token in unigram_counts:\n",
        "    p = trigram_token_prob(prev_prev_token, prev_token, token, bigram_counts, trigram_counts)\n",
        "    prob_distribution[token] = p\n",
        "  return prob_distribution"
      ],
      "metadata": {
        "id": "j1taysLdrMVM"
      },
      "execution_count": 98,
      "outputs": []
    },
    {
      "cell_type": "markdown",
      "source": [
        "Let's see what the distribution looks like for a sequence starting \"i like\":"
      ],
      "metadata": {
        "id": "fDDdhGm1HFcc"
      }
    },
    {
      "cell_type": "code",
      "source": [
        "get_trigram_distribution('i','like', posts_unigram_counts, posts_bigram_counts, posts_trigram_counts)"
      ],
      "metadata": {
        "id": "UFp-8T6vGypx",
        "colab": {
          "base_uri": "https://localhost:8080/"
        },
        "outputId": "d3612a94-306a-433d-a9f4-c0c5e432c58f"
      },
      "execution_count": 99,
      "outputs": [
        {
          "output_type": "execute_result",
          "data": {
            "text/plain": [
              "{'<START>': 0.0,\n",
              " 'anyone': 0.0,\n",
              " 'tried': 0.0,\n",
              " 'irn': 0.0,\n",
              " 'bru': 0.0,\n",
              " 'it': 0.0784313725490196,\n",
              " '’s': 0.0,\n",
              " 'a': 0.058823529411764705,\n",
              " 'scottish': 0.0,\n",
              " 'drink': 0.0,\n",
              " 'and': 0.0,\n",
              " 'banned': 0.0,\n",
              " 'some': 0.0,\n",
              " 'countries': 0.0,\n",
              " 'i': 0.0196078431372549,\n",
              " 'was': 0.0,\n",
              " 'wondering': 0.0,\n",
              " 'if': 0.0,\n",
              " 'here': 0.0,\n",
              " 'has': 0.0,\n",
              " 'quite': 0.0,\n",
              " 'unique': 0.0,\n",
              " 'taste': 0.0,\n",
              " 'not': 0.0,\n",
              " 'something': 0.0,\n",
              " 'you': 0.0,\n",
              " '’d': 0.0,\n",
              " 'forget': 0.0,\n",
              " 'quickly': 0.0,\n",
              " 'either': 0.0,\n",
              " 'love': 0.0,\n",
              " 'or': 0.0,\n",
              " 'hate': 0.0,\n",
              " 'think': 0.0,\n",
              " 'what': 0.0196078431372549,\n",
              " 'is': 0.0,\n",
              " 'the': 0.13725490196078433,\n",
              " 'worst': 0.0,\n",
              " 'of': 0.0,\n",
              " 'sodas': 0.0,\n",
              " 'have': 0.0,\n",
              " 'drunk': 0.0,\n",
              " 'absolute': 0.0,\n",
              " 'soda': 0.0,\n",
              " 've': 0.0,\n",
              " 'ever': 0.0,\n",
              " 'had': 0.0,\n",
              " 'that': 0.0,\n",
              " 'can': 0.0,\n",
              " 'remember': 0.0,\n",
              " 'probaly': 0.0,\n",
              " 'new': 0.0196078431372549,\n",
              " 'mystery': 0.0,\n",
              " 'fanta': 0.0,\n",
              " 'watermelon+strawberry': 0.0,\n",
              " 'tango': 0.0,\n",
              " 'other': 0.0,\n",
              " 'ones': 0.0,\n",
              " 'include': 0.0,\n",
              " 'mango': 0.0,\n",
              " 'coke': 0.0,\n",
              " 'sugar': 0.0,\n",
              " 'free': 0.0,\n",
              " 'but': 0.0,\n",
              " 'xtra': 0.0,\n",
              " 'nice': 0.0,\n",
              " 'once': 0.0,\n",
              " 'box': 0.0,\n",
              " 'tea': 0.0196078431372549,\n",
              " 'believe': 0.0,\n",
              " 'highland': 0.0,\n",
              " 'black': 0.0196078431372549,\n",
              " 'recommend': 0.0,\n",
              " 'me': 0.0,\n",
              " 'along': 0.0,\n",
              " 'those': 0.0,\n",
              " 'lines': 0.0,\n",
              " \"'d\": 0.0,\n",
              " 'like': 0.0,\n",
              " 'to': 0.17647058823529413,\n",
              " 'repurchase': 0.0,\n",
              " 'this': 0.0196078431372549,\n",
              " 'find': 0.0,\n",
              " 'exact': 0.0,\n",
              " 'do': 0.0,\n",
              " \"n't\": 0.0,\n",
              " 'want': 0.0,\n",
              " 'buy': 0.0,\n",
              " 'am': 0.0,\n",
              " 'sure': 0.0,\n",
              " 'will': 0.0,\n",
              " 'be': 0.0,\n",
              " 'good': 0.0,\n",
              " \"ddos'd\": 0.0,\n",
              " 'my': 0.0,\n",
              " 'city': 0.0,\n",
              " 'named': 0.0,\n",
              " 'kicked': 0.0,\n",
              " 'from': 0.0,\n",
              " 'party': 0.0,\n",
              " 'by': 0.0,\n",
              " 'person': 0.0,\n",
              " 'who': 0.0,\n",
              " 'leader': 0.0,\n",
              " 'nor': 0.0,\n",
              " 'he': 0.0,\n",
              " 'in': 0.0,\n",
              " 'hi': 0.0,\n",
              " 'question': 0.0,\n",
              " 'someone': 0.0,\n",
              " 'joined': 0.0,\n",
              " 'our': 0.0,\n",
              " '1': 0.0,\n",
              " 'said': 0.0,\n",
              " 'state': 0.0,\n",
              " 'live': 0.0,\n",
              " 'smaller': 0.0,\n",
              " 'goes': 0.0,\n",
              " 'big': 0.0,\n",
              " 'so': 0.0,\n",
              " 'name': 0.0,\n",
              " 'specific': 0.0,\n",
              " 'scary': 0.0,\n",
              " 'say': 0.0,\n",
              " 'least': 0.0,\n",
              " '2': 0.0,\n",
              " 'kept': 0.0,\n",
              " 'kicking': 0.0,\n",
              " 'us': 0.0,\n",
              " 'out': 0.0,\n",
              " 'despite': 0.0,\n",
              " 'fact': 0.0,\n",
              " 'most': 0.0,\n",
              " 'definitely': 0.0,\n",
              " 'being': 0.0,\n",
              " 'done': 0.0,\n",
              " 'kid': 0.0,\n",
              " 'supposed': 0.0,\n",
              " 'when': 0.0,\n",
              " 'happens': 0.0,\n",
              " 'than': 0.0,\n",
              " 'report': 0.0,\n",
              " 'there': 0.0,\n",
              " 'any': 0.0,\n",
              " 'recourse': 0.0,\n",
              " 'hun': 0.0,\n",
              " 'really': 0.0,\n",
              " 'running': 0.0,\n",
              " 'small': 0.0,\n",
              " 'business': 0.0,\n",
              " 'then': 0.0,\n",
              " 'surely': 0.0,\n",
              " 'they': 0.0,\n",
              " 'comply': 0.0,\n",
              " 'with': 0.0,\n",
              " 'gdpr': 0.0,\n",
              " 'which': 0.0,\n",
              " 'means': 0.0,\n",
              " 'no': 0.0,\n",
              " 'contact': 0.0,\n",
              " 'unless': 0.0,\n",
              " 'previously': 0.0,\n",
              " 'stipulated': 0.0,\n",
              " 'help': 0.0,\n",
              " \"'m\": 0.0,\n",
              " 'super': 0.0196078431372549,\n",
              " 'dehydrated': 0.0,\n",
              " 'ca': 0.0,\n",
              " 'fet': 0.0,\n",
              " 'myself': 0.0,\n",
              " 'more': 0.0,\n",
              " 'used': 0.0,\n",
              " 'specialized': 0.0,\n",
              " 'scale': 0.0,\n",
              " 'only': 0.0,\n",
              " '54': 0.0,\n",
              " 'water': 0.0,\n",
              " 'instead': 0.0,\n",
              " '70': 0.0,\n",
              " 'how': 0.0196078431372549,\n",
              " 'force': 0.0,\n",
              " 'where': 0.0,\n",
              " 'source': 0.0,\n",
              " \"pu'er\": 0.0,\n",
              " 'early': 0.0,\n",
              " '90': 0.0,\n",
              " \"'s\": 0.0,\n",
              " 'found': 0.0,\n",
              " 'lots': 0.0,\n",
              " 'apparently': 0.0,\n",
              " 'online': 0.0,\n",
              " 'however': 0.0,\n",
              " 'know': 0.0,\n",
              " 'sites': 0.0,\n",
              " 'companies': 0.0,\n",
              " 'trust': 0.0,\n",
              " 'looking': 0.0,\n",
              " 'for': 0.0,\n",
              " 'an': 0.0,\n",
              " 'anniversary': 0.0,\n",
              " 'present': 0.0,\n",
              " 'would': 0.0,\n",
              " 'grown': 0.0,\n",
              " 'processed': 0.0,\n",
              " '1991': 0.0,\n",
              " 'as': 0.0,\n",
              " 'close': 0.0,\n",
              " 'possible': 0.0,\n",
              " 'advice': 0.0,\n",
              " 'on': 0.0,\n",
              " 'helpful': 0.0,\n",
              " 'based': 0.0,\n",
              " 'uk': 0.0,\n",
              " 'ship': 0.0,\n",
              " 'without': 0.0,\n",
              " 'too': 0.0,\n",
              " 'much': 0.0,\n",
              " 'trouble': 0.0,\n",
              " 'great': 0.0,\n",
              " 'thanks': 0.0,\n",
              " 'day': 0.0,\n",
              " 'tapping': 0.0,\n",
              " 'tapir': 0.0,\n",
              " '\\u200b': 0.0,\n",
              " '12': 0.0,\n",
              " 'flavours': 0.0,\n",
              " 'sparkling': 0.0,\n",
              " 'tasted': 0.0,\n",
              " 'amazing': 0.0,\n",
              " 'artwork': 0.0,\n",
              " 'design': 0.0,\n",
              " 'these': 0.0196078431372549,\n",
              " 'cans': 0.0,\n",
              " 'are': 0.0,\n",
              " 'did': 0.0,\n",
              " 'opened': 0.0,\n",
              " 'each': 0.0,\n",
              " 'yet': 0.0,\n",
              " 'hibiscus': 0.0,\n",
              " 'lime': 0.0,\n",
              " 'flower': 0.0,\n",
              " 'flavour': 0.0,\n",
              " 'please': 0.0,\n",
              " 'game': 0.0,\n",
              " '10': 0.0,\n",
              " 'years': 0.0,\n",
              " 'ago': 0.0,\n",
              " 'loved': 0.0,\n",
              " 'n’t': 0.0,\n",
              " 'now': 0.0,\n",
              " 'show': 0.0,\n",
              " 'battle': 0.0,\n",
              " 'royale': 0.0,\n",
              " 'thing': 0.0,\n",
              " 'all': 0.0392156862745098,\n",
              " 'contestants': 0.0,\n",
              " 'killed': 0.0,\n",
              " 'prize': 0.0,\n",
              " 'characters': 0.0,\n",
              " 'naked': 0.0,\n",
              " 'lady': 0.0,\n",
              " 'purple': 0.0,\n",
              " 'penguin': 0.0,\n",
              " 'eugene': 0.0,\n",
              " 'little': 0.0,\n",
              " 'rich': 0.0,\n",
              " 'girl': 0.0,\n",
              " 'charity': 0.0,\n",
              " 'just': 0.0,\n",
              " 'need': 0.0,\n",
              " 'thank': 0.0,\n",
              " 'got': 0.0,\n",
              " 'xbox': 0.0,\n",
              " 'series': 0.0,\n",
              " 's': 0.0,\n",
              " 'type': 0.0,\n",
              " 'since': 0.0,\n",
              " '360': 0.0,\n",
              " 'pretty': 0.0,\n",
              " 'make': 0.0,\n",
              " 'account': 0.0,\n",
              " 'before': 0.0,\n",
              " 'even': 0.0,\n",
              " 'turn': 0.0,\n",
              " 'system': 0.0,\n",
              " 'could': 0.0,\n",
              " 'go': 0.0,\n",
              " 'website': 0.0,\n",
              " '’m': 0.0,\n",
              " 'bottle': 0.0,\n",
              " 'get': 0.0,\n",
              " 'mine': 0.0,\n",
              " 'cheap': 0.0,\n",
              " 'broken': 0.0,\n",
              " 'caffeine': 0.0,\n",
              " 'shortage': 0.0,\n",
              " 'nos': 0.0,\n",
              " 'certain': 0.0,\n",
              " 'drinks': 0.0,\n",
              " 'stock': 0.0,\n",
              " 'started': 0.0,\n",
              " 'over': 0.0,\n",
              " 'labor': 0.0,\n",
              " 'holiday': 0.0,\n",
              " 'visiting': 0.0,\n",
              " 'parents': 0.0,\n",
              " 'two': 0.0,\n",
              " 'separate': 0.0,\n",
              " 'royal': 0.0,\n",
              " 'farms': 0.0,\n",
              " 'convenience': 0.0,\n",
              " 'stores': 0.0,\n",
              " 'went': 0.0,\n",
              " 'turbo': 0.0,\n",
              " 'available': 0.0,\n",
              " 'shelves': 0.0,\n",
              " 'flavors': 0.0,\n",
              " 'varieties': 0.0,\n",
              " 'were': 0.0,\n",
              " 'empty': 0.0,\n",
              " 'caused': 0.0,\n",
              " 'look': 0.0,\n",
              " 'notice': 0.0,\n",
              " 'several': 0.0,\n",
              " 'open': 0.0196078431372549,\n",
              " 'slots': 0.0,\n",
              " 'around': 0.0,\n",
              " 'refrigerator': 0.0,\n",
              " 'case': 0.0,\n",
              " 'peninsula': 0.0,\n",
              " 'at': 0.0,\n",
              " 'beach': 0.0,\n",
              " 'chalked': 0.0,\n",
              " 'up': 0.0,\n",
              " 'distribution': 0.0,\n",
              " 'issues': 0.0,\n",
              " 'locally': 0.0,\n",
              " 'back': 0.0,\n",
              " 'home': 0.0,\n",
              " 'still': 0.0,\n",
              " 'seeing': 0.0,\n",
              " 'rows': 0.0,\n",
              " 'local': 0.0,\n",
              " 'sheetz': 0.0,\n",
              " 'longer': 0.0,\n",
              " 'pick': 0.0,\n",
              " '8': 0.0,\n",
              " 'pack': 0.0,\n",
              " 'grocery': 0.0,\n",
              " 'store': 0.0,\n",
              " 'granted': 0.0,\n",
              " 'always': 0.0,\n",
              " 'been': 0.0,\n",
              " 'hit': 0.0,\n",
              " 'miss': 0.0,\n",
              " 'about': 0.0196078431372549,\n",
              " 'keeping': 0.0,\n",
              " 'poor': 0.0,\n",
              " 'inventory': 0.0,\n",
              " 'management': 0.0,\n",
              " 'symptom': 0.0,\n",
              " 'supply': 0.0,\n",
              " 'chain': 0.0,\n",
              " 'issue': 0.0,\n",
              " 'happened': 0.0,\n",
              " 'gsync': 0.0,\n",
              " 'monitors': 0.0,\n",
              " 'going': 0.0,\n",
              " 'released': 0.0,\n",
              " 'seems': 0.0,\n",
              " 'we': 0.0,\n",
              " 'heard': 0.0,\n",
              " 'them': 0.0392156862745098,\n",
              " 'months': 0.0,\n",
              " 'forward': 0.0,\n",
              " 'getting': 0.0,\n",
              " 'one': 0.0,\n",
              " 'dark': 0.0,\n",
              " 'their': 0.0,\n",
              " 'release': 0.0,\n",
              " 'dates': 0.0,\n",
              " 'kit': 0.0,\n",
              " 'because': 0.0,\n",
              " '$': 0.0,\n",
              " '100': 0.0,\n",
              " 'waited': 0.0,\n",
              " 'official': 0.0,\n",
              " 'worth': 0.0,\n",
              " 'scored': 0.0,\n",
              " 'bunch': 0.0,\n",
              " 'syrup': 0.0,\n",
              " 'month': 0.0,\n",
              " 'purchased': 0.0,\n",
              " 'stream': 0.0,\n",
              " 'machine': 0.0,\n",
              " \"'ve\": 0.0,\n",
              " 'having': 0.0,\n",
              " 'fun': 0.0,\n",
              " 'yesterday': 0.0,\n",
              " 'work': 0.0,\n",
              " 'decided': 0.0,\n",
              " 'rid': 0.0,\n",
              " 'fountain': 0.0,\n",
              " 'setup': 0.0,\n",
              " 'leftover': 0.0,\n",
              " 'syrups': 0.0,\n",
              " '5': 0.0,\n",
              " 'gallons': 0.0,\n",
              " 'cherry': 0.0,\n",
              " 'pepsi': 0.0,\n",
              " 'diet': 0.0,\n",
              " 'yuck': 0.0,\n",
              " 'gallon': 0.0,\n",
              " 'mountain': 0.0,\n",
              " 'dew': 0.0,\n",
              " 'sierra': 0.0,\n",
              " 'mist': 0.0,\n",
              " 'figured': 0.0,\n",
              " 'ratio': 0.0,\n",
              " 'liter': 0.0,\n",
              " 'bottles': 0.0,\n",
              " 'seem': 0.0,\n",
              " 'take': 0.0,\n",
              " '1/2': 0.0,\n",
              " '3/4': 0.0,\n",
              " 'cup': 0.0,\n",
              " 'retailers': 0.0,\n",
              " 'put': 0.0,\n",
              " 'queues': 0.0,\n",
              " 'x': 0.0,\n",
              " 'does': 0.0,\n",
              " 'queue': 0.0,\n",
              " 'reason': 0.0,\n",
              " 'unreleastic': 0.0,\n",
              " 'times': 0.0,\n",
              " 'last': 0.0,\n",
              " 'using': 0.0,\n",
              " 'walmart': 0.0,\n",
              " 'plus': 0.0,\n",
              " 'paid': 0.0,\n",
              " 'version': 0.0,\n",
              " 'trial': 0.0,\n",
              " 'best': 0.0,\n",
              " 'brand': 0.0,\n",
              " 'milk': 0.0,\n",
              " 'w/': 0.0,\n",
              " 'boba': 0.0,\n",
              " 'gon': 0.0,\n",
              " 'na': 0.0,\n",
              " 'give': 0.0,\n",
              " 'making': 0.0,\n",
              " 'try': 0.0,\n",
              " 'brands': 0.0,\n",
              " 'breakfast': 0.0,\n",
              " 'use': 0.0,\n",
              " 'preferably': 0.0,\n",
              " 'amazon': 0.0,\n",
              " 'shipping': 0.0,\n",
              " 'tips': 0.0,\n",
              " 'r': 0.0,\n",
              " 'hydrohomies': 0.0,\n",
              " 'community': 0.0,\n",
              " 'fundraiser': 0.0,\n",
              " 'homies': 0.0,\n",
              " 'long': 0.0,\n",
              " 'time': 0.0,\n",
              " '’ve': 0.0,\n",
              " 'asking': 0.0,\n",
              " 'potential': 0.0,\n",
              " 'starting': 0.0,\n",
              " 'your': 0.0,\n",
              " 'own': 0.0,\n",
              " 'posted': 0.0,\n",
              " 'survey': 0.0,\n",
              " 'interest': 0.0,\n",
              " 'amount': 0.0,\n",
              " 'responses': 0.0,\n",
              " 'proud': 0.0,\n",
              " 'announce': 0.0,\n",
              " 'first': 0.0,\n",
              " 'purpose': 0.0,\n",
              " 'bring': 0.0,\n",
              " 'almost': 0.0196078431372549,\n",
              " 'million': 0.0,\n",
              " 'members': 0.0,\n",
              " 'together': 0.0,\n",
              " 'people': 0.0,\n",
              " 'proper': 0.0,\n",
              " 'access': 0.0,\n",
              " 'doing': 0.0,\n",
              " 'through': 0.0,\n",
              " 'water.org': 0.0,\n",
              " 'money': 0.0,\n",
              " 'straight': 0.0,\n",
              " 'also': 0.0,\n",
              " 'launching': 0.0,\n",
              " 'merch': 0.0,\n",
              " 'shop': 0.0,\n",
              " 'profit': 0.0,\n",
              " 'sales': 0.0,\n",
              " 'towards': 0.0,\n",
              " 'run': 0.0,\n",
              " 'until': 0.0,\n",
              " 'july': 0.0,\n",
              " '15th': 0.0,\n",
              " 'initial': 0.0,\n",
              " 'goal': 0.0,\n",
              " '1,000': 0.0,\n",
              " 'raised': 0.0,\n",
              " 'link': 0.0,\n",
              " 'ac': 0.0,\n",
              " 'valhalla': 0.0,\n",
              " 'pc': 0.0,\n",
              " 'performance': 0.0,\n",
              " 'experience': 0.0,\n",
              " 'mods': 0.0,\n",
              " 'auto': 0.0,\n",
              " 'removing': 0.0,\n",
              " 'comments': 0.0,\n",
              " 'regarding': 0.0,\n",
              " 'sub': 0.0,\n",
              " 'share': 0.0,\n",
              " 'concerns': 0.0,\n",
              " 'ubisoft': 0.0,\n",
              " 'customer': 0.0,\n",
              " 'blown': 0.0,\n",
              " 'away': 0.0,\n",
              " '30': 0.0,\n",
              " 'fps': 0.0,\n",
              " 'high': 0.0,\n",
              " 'medium': 0.0,\n",
              " 'settings': 0.0,\n",
              " 'gtx1080': 0.0,\n",
              " 'stuttering': 0.0,\n",
              " 'terrible': 0.0,\n",
              " 'detail': 0.0,\n",
              " 'levels': 0.0,\n",
              " 'bad': 0.0,\n",
              " 'played': 0.0,\n",
              " 'legion': 0.0,\n",
              " 'ran': 0.0,\n",
              " 'better': 0.0,\n",
              " 'thought': 0.0,\n",
              " 'incase': 0.0,\n",
              " 'wanted': 0.0,\n",
              " 'avoid': 0.0,\n",
              " 'launch': 0.0,\n",
              " 'edit': 0.0,\n",
              " 'everyone': 0.0,\n",
              " 'cpu': 0.0,\n",
              " 'resolution': 0.0,\n",
              " 'i7': 0.0,\n",
              " '8700k': 0.0,\n",
              " '3440x1440': 0.0,\n",
              " 'ultrawide': 0.0,\n",
              " 'already': 0.0,\n",
              " 'knew': 0.0,\n",
              " 'end': 0.0,\n",
              " 'coming': 0.0,\n",
              " 'memory': 0.0,\n",
              " 'bottleneck': 0.0,\n",
              " 'add': 0.0,\n",
              " 'fan': 0.0,\n",
              " 'changes': 0.0,\n",
              " 'made': 0.0,\n",
              " 'far': 0.0,\n",
              " 'favorite': 0.0,\n",
              " 'pulled': 0.0,\n",
              " 'into': 0.0,\n",
              " 'insurance': 0.0,\n",
              " 'mlm': 0.0,\n",
              " 'licensed': 0.0,\n",
              " 'producer': 0.0,\n",
              " 'off': 0.0,\n",
              " 'tail': 0.0,\n",
              " 'medicare': 0.0,\n",
              " 'annual': 0.0,\n",
              " 'enrollment': 0.0,\n",
              " 'another': 0.0,\n",
              " 'position': 0.0,\n",
              " 'actively': 0.0,\n",
              " 'applying': 0.0,\n",
              " 'indeed': 0.0,\n",
              " 'contacted': 0.0,\n",
              " 'hart': 0.0,\n",
              " 'group': 0.0,\n",
              " 'dug': 0.0,\n",
              " 'applied': 0.0,\n",
              " 'jobs': 0.0,\n",
              " 'perplexed': 0.0,\n",
              " 'nothing': 0.0,\n",
              " 'under': 0.0,\n",
              " 'uncommon': 0.0,\n",
              " 'receive': 0.0,\n",
              " 'outbound': 0.0,\n",
              " 'contacts': 0.0,\n",
              " 'agencies': 0.0,\n",
              " 'especially': 0.0,\n",
              " 'prior': 0.0,\n",
              " 'accepting': 0.0,\n",
              " 'today': 0.0,\n",
              " 'realized': 0.0,\n",
              " 'mistake': 0.0,\n",
              " 'never': 0.0,\n",
              " 'should': 0.0,\n",
              " 'red': 0.0,\n",
              " 'flag': 0.0,\n",
              " 'logged': 0.0,\n",
              " 'onto': 0.0,\n",
              " 'overview': 0.0,\n",
              " 'zoom': 0.0,\n",
              " 'call': 0.0,\n",
              " 'given': 0.0,\n",
              " 'american': 0.0,\n",
              " 'income': 0.0,\n",
              " 'life': 0.0196078431372549,\n",
              " 'immediately': 0.0,\n",
              " 'set': 0.0,\n",
              " 'alarm': 0.0,\n",
              " 'bells': 0.0,\n",
              " 'head': 0.0,\n",
              " 'research': 0.0,\n",
              " 'pertaining': 0.0,\n",
              " 'accident': 0.0,\n",
              " 'health': 0.0,\n",
              " 'license': 0.0,\n",
              " 'few': 0.0,\n",
              " 'pyramid': 0.0,\n",
              " 'schemes': 0.0,\n",
              " 'deeper': 0.0,\n",
              " 'flags': 0.0,\n",
              " 'promised': 0.0,\n",
              " 'major': 0.0,\n",
              " 'commission': 0.0,\n",
              " '80k+': 0.0,\n",
              " 'year': 0.0,\n",
              " 'vacations': 0.0,\n",
              " 'rewards': 0.0,\n",
              " 'sock': 0.0,\n",
              " 'reviews': 0.0,\n",
              " 'talking': 0.0,\n",
              " 'pay': 0.0,\n",
              " 'boss': 0.0,\n",
              " 'every': 0.0,\n",
              " 'statement': 0.0,\n",
              " 'promise': 0.0,\n",
              " 'textbook': 0.0,\n",
              " 'recruitment': 0.0,\n",
              " 'garbage': 0.0,\n",
              " 'shocked': 0.0,\n",
              " 'recruited': 0.0,\n",
              " 'defeated': 0.0,\n",
              " 'left': 0.0,\n",
              " 'told': 0.0,\n",
              " 'interested': 0.0,\n",
              " 'wholeheartedly': 0.0,\n",
              " 'believed': 0.0,\n",
              " 'fell': 0.0,\n",
              " 'tactics': 0.0,\n",
              " 'let': 0.0,\n",
              " 'foot': 0.0,\n",
              " 'door': 0.0,\n",
              " 'staunch': 0.0,\n",
              " 'roles': 0.0,\n",
              " 'doubt': 0.0,\n",
              " 'sunk': 0.0,\n",
              " 'teeth': 0.0,\n",
              " 'cold': 0.0,\n",
              " 'world': 0.0,\n",
              " 'stay': 0.0,\n",
              " 'alert': 0.0,\n",
              " 'gongfu': 0.0,\n",
              " 'western': 0.0,\n",
              " 'wanna': 0.0,\n",
              " 'maximize': 0.0,\n",
              " 'cups': 0.0,\n",
              " 'buying': 0.0,\n",
              " 'higher': 0.0,\n",
              " 'quality': 0.0,\n",
              " 'loose': 0.0,\n",
              " 'leaf': 0.0,\n",
              " 'teas': 0.0,\n",
              " 'sample': 0.0,\n",
              " 'different': 0.0,\n",
              " 'g': 0.0,\n",
              " 'diff': 0.0,\n",
              " 'kinds': 0.0,\n",
              " 'oolongs': 0.0,\n",
              " 'jin': 0.0,\n",
              " 'xuan': 0.0,\n",
              " 'tgy': 0.0,\n",
              " 'dried': 0.0,\n",
              " 'chamomile': 0.0,\n",
              " 'brew': 0.0,\n",
              " 'style': 0.0,\n",
              " '3': 0.0,\n",
              " 'max': 0.0,\n",
              " 'doctor': 0.0,\n",
              " 'recommendation': 0.0,\n",
              " 'same': 0.0,\n",
              " '+': 0.0,\n",
              " 'save': 0.0,\n",
              " 'leftovers': 0.0,\n",
              " 're': 0.0,\n",
              " 'infusion': 0.0,\n",
              " 'leaves': 0.0,\n",
              " 'stick': 0.0,\n",
              " 'roasted': 0.0,\n",
              " 'oolong': 0.0,\n",
              " 'lasted': 0.0,\n",
              " '4': 0.0,\n",
              " 'infusions': 0.0,\n",
              " 'stored': 0.0,\n",
              " 'bowl': 0.0,\n",
              " 'lined': 0.0,\n",
              " 'paper': 0.0,\n",
              " 'towels': 0.0,\n",
              " 'counter': 0.0,\n",
              " 'top': 0.0,\n",
              " 'idk': 0.0,\n",
              " 'optimal': 0.0,\n",
              " 'request': 0.0,\n",
              " 'flairs': 0.0,\n",
              " 'pre': 0.0,\n",
              " 'orders': 0.0,\n",
              " 'begun': 0.0,\n",
              " 'ordered': 0.0,\n",
              " 'xsx': 0.0,\n",
              " 'india': 0.0,\n",
              " 'xss': 0.0,\n",
              " 'why': 0.0,\n",
              " '60fps': 0.0,\n",
              " 'watching': 0.0,\n",
              " 'youtube': 0.0,\n",
              " '60': 0.0,\n",
              " 'videos': 0.0,\n",
              " 'weird': 0.0,\n",
              " 'smooth': 0.0,\n",
              " 'gta': 0.0,\n",
              " 'v': 0.0,\n",
              " 'video': 0.0,\n",
              " 'looked': 0.0,\n",
              " 'play': 0.0,\n",
              " 'games': 0.0,\n",
              " 'anything': 0.0,\n",
              " 'ideas': 0.0,\n",
              " 'u.s.': 0.0,\n",
              " 'switch': 0.0,\n",
              " 'owners': 0.0,\n",
              " 'minecraft': 0.0,\n",
              " 'u.k.': 0.0,\n",
              " 'eshop': 0.0,\n",
              " 'roughly': 0.0,\n",
              " 'cheaper': 0.0,\n",
              " '£': 0.0,\n",
              " '19.99': 0.0,\n",
              " 'unhappy': 0.0,\n",
              " 'price': 0.0,\n",
              " 'tag': 0.0,\n",
              " 'q': 0.0,\n",
              " 'fruit': 0.0,\n",
              " 'flavored': 0.0,\n",
              " 'strawberry': 0.0,\n",
              " 'lemon': 0.0,\n",
              " 'echinachea': 0.0,\n",
              " 'etc': 0.0,\n",
              " 'advertise': 0.0,\n",
              " 'omit': 0.0,\n",
              " 'chai': 0.0,\n",
              " 'gives': 0.0,\n",
              " 'coffee': 0.0,\n",
              " 'post': 0.0,\n",
              " 'cafe': 0.0,\n",
              " 'stages': 0.0,\n",
              " 'designing': 0.0,\n",
              " 'café': 0.0,\n",
              " 'inspiration': 0.0,\n",
              " ':p': 0.0,\n",
              " 'somewhere': 0.0,\n",
              " 'designs': 0.0,\n",
              " 'browse': 0.0,\n",
              " 'and/or': 0.0,\n",
              " 'recommendations': 0.0,\n",
              " 'gladly': 0.0,\n",
              " 'welcome': 0.0,\n",
              " 'bunn': 0.0,\n",
              " 'sticker': 0.0,\n",
              " 'burr': 0.0,\n",
              " 'upgrade': 0.0,\n",
              " 'noticed': 0.0,\n",
              " 'electrical': 0.0,\n",
              " 'info': 0.0,\n",
              " 'serial': 0.0,\n",
              " 'number': 0.0,\n",
              " 'wh': 0.0,\n",
              " 'numbers': 0.0,\n",
              " 'correlate': 0.0,\n",
              " 'confirm': 0.0,\n",
              " 'way': 0.0,\n",
              " 'many': 0.0,\n",
              " 'stickers': 0.0,\n",
              " 'seen': 0.0,\n",
              " 'gifted': 0.0,\n",
              " 'refurbished': 0.0,\n",
              " 'looks': 0.0,\n",
              " 'says': 0.0,\n",
              " '1117': 0.0,\n",
              " 'nov': 0.0,\n",
              " '2017': 0.0,\n",
              " 'unit': 0.0,\n",
              " 'hot': 0.0,\n",
              " 'dog': 0.0,\n",
              " 'burrs': 0.0,\n",
              " 'nt': 0.0,\n",
              " 'ditting': 0.0,\n",
              " 'wonder': 0.0,\n",
              " 'its': 0.0,\n",
              " '430': 0.0,\n",
              " 'discerning': 0.0,\n",
              " 'plate': 0.0,\n",
              " 'days': 0.0,\n",
              " 'less': 0.0196078431372549,\n",
              " 'ek43': 0.0,\n",
              " 'obvious': 0.0,\n",
              " 'dooo': 0.0,\n",
              " 'gosh': 0.0,\n",
              " 'seriously': 0.0,\n",
              " 'known': 0.0,\n",
              " 'avid': 0.0,\n",
              " 'hater': 0.0,\n",
              " 'visit': 0.0,\n",
              " '2x': 0.0,\n",
              " 'friend': 0.0,\n",
              " 'yl': 0.0,\n",
              " 'shiller': 0.0,\n",
              " 'whose': 0.0,\n",
              " 'fb': 0.0,\n",
              " 'posts': 0.0,\n",
              " 'shared': 0.0,\n",
              " 'sent': 0.0,\n",
              " 'text': 0.0,\n",
              " 'she': 0.0,\n",
              " 'working': 0.0,\n",
              " 'episode': 0.0,\n",
              " 'workaholics': 0.0,\n",
              " 'distracted': 0.0,\n",
              " 'thinking': 0.0,\n",
              " 'invited': 0.0,\n",
              " 'page': 0.0,\n",
              " 'saw': 0.0,\n",
              " 'r+f': 0.0,\n",
              " 'see': 0.0,\n",
              " 'interesting': 0.0,\n",
              " 'leave': 0.0,\n",
              " 'asap': 0.0,\n",
              " 'lol': 0.0,\n",
              " 'dr': 0.0,\n",
              " 'pepper': 0.0,\n",
              " 'cream': 0.0,\n",
              " 'missing': 0.0,\n",
              " 'sold': 0.0,\n",
              " 'pennsylvania': 0.0,\n",
              " 'btw': 0.0,\n",
              " 'egg': 0.0,\n",
              " 'preorder': 0.0,\n",
              " 'start': 0.0,\n",
              " '/r': 0.0,\n",
              " 'teacup': 0.0,\n",
              " 'idea': 0.0,\n",
              " 'might': 0.0,\n",
              " 'guys': 0.0,\n",
              " 'subreddit': 0.0,\n",
              " 'teacups': 0.0,\n",
              " 'heavily': 0.0,\n",
              " 'promoted': 0.0,\n",
              " 'sidebar': 0.0,\n",
              " 'willing': 0.0,\n",
              " 'sell': 0.0,\n",
              " 'revenue': 0.0,\n",
              " 'paying': 0.0,\n",
              " 'coders': 0.0,\n",
              " 'awesome': 0.0,\n",
              " 'contests': 0.0,\n",
              " 'giveaways': 0.0,\n",
              " 'enough': 0.0,\n",
              " 'maybe': 0.0,\n",
              " 'able': 0.0,\n",
              " 'cool': 0.0,\n",
              " 'tldr': 0.0,\n",
              " 'monoprice': 0.0,\n",
              " 'reveals': 0.0,\n",
              " 'ips': 0.0,\n",
              " '11': 0.0,\n",
              " '2013': 0.0,\n",
              " 'listed': 0.0,\n",
              " 'after': 0.0,\n",
              " 'discontinuing': 0.0,\n",
              " 'older': 0.0,\n",
              " 'models': 0.0,\n",
              " 'word': 0.0,\n",
              " 'expect': 0.0,\n",
              " 'http://www.monoprice.com/product?c_id=113&cp_id=11307&cs_id=1130703&p_id=10734&seq=1&format=2': 0.0,\n",
              " 'led': 0.0,\n",
              " 'backlit': 0.0,\n",
              " 'specifically': 0.0,\n",
              " 'actually': 0.0,\n",
              " 'unlike': 0.0,\n",
              " 'complained': 0.0,\n",
              " 'tempted': 0.0,\n",
              " 'order': 0.0,\n",
              " 'display': 0.0,\n",
              " 'knows': 0.0,\n",
              " 'discount': 0.0,\n",
              " 'code': 0.0,\n",
              " 'speak': 0.0,\n",
              " 'forth': 0.0,\n",
              " 'opinions': 0.0,\n",
              " 'normal': 0.0,\n",
              " 'ps4': 0.0,\n",
              " 'trying': 0.0,\n",
              " 'grand': 0.0,\n",
              " 'theft': 0.0,\n",
              " 'playstation': 0.0,\n",
              " 'comes': 0.0,\n",
              " 'premium': 0.0,\n",
              " 'edition': 0.0,\n",
              " 'ons': 0.0,\n",
              " 'matcha': 0.0,\n",
              " 'lattes': 0.0,\n",
              " 'recently': 0.0,\n",
              " 'vanilla': 0.0,\n",
              " 'steamed': 0.0,\n",
              " 'coconut': 0.0,\n",
              " 'almond': 0.0,\n",
              " 'packet': 0.0,\n",
              " 'stevia': 0.0,\n",
              " 'school': 0.0,\n",
              " 'rotation': 0.0,\n",
              " 'read': 0.0,\n",
              " 'meant': 0.0,\n",
              " 'fast': 0.0,\n",
              " 'lot': 0.0,\n",
              " 'yours': 0.0,\n",
              " 'x.': 0.0,\n",
              " 'next': 0.0,\n",
              " 'gen': 0.0,\n",
              " 'point': 0.0,\n",
              " 'update': 0.0,\n",
              " 'specs': 0.0,\n",
              " 'stuff': 0.0,\n",
              " 'full': 0.0,\n",
              " 'consoles': 0.0,\n",
              " '17': 0.0,\n",
              " 'promotional': 0.0,\n",
              " 'posters': 0.0,\n",
              " 'promo': 0.0,\n",
              " 'mua3': 0.0,\n",
              " 'ssbu': 0.0,\n",
              " 'fortnite': 0.0,\n",
              " 'poster': 0.0,\n",
              " 'nintendo': 0.0,\n",
              " 'mall': 0.0,\n",
              " 'event': 0.0,\n",
              " 'summer': 0.0,\n",
              " 'gave': 0.0,\n",
              " 'nephew': 0.0,\n",
              " 'list': 0.0,\n",
              " 'advance': 0.0,\n",
              " 'converter': 0.0,\n",
              " 'between': 0.0,\n",
              " '3.5': 0.0,\n",
              " 'mm': 0.0,\n",
              " 'digital': 0.0,\n",
              " 'audio': 0.0,\n",
              " 'everything': 0.0,\n",
              " 'allows': 0.0,\n",
              " 'plug': 0.0,\n",
              " 'cable': 0.0,\n",
              " 'jack': 0.0,\n",
              " 'pluck': 0.0,\n",
              " 'dac': 0.0,\n",
              " \"y'\": 0.0,\n",
              " 'consignment': 0.0,\n",
              " 'things': 0.0,\n",
              " 'across': 0.0,\n",
              " 'rack': 0.0,\n",
              " 'skirts': 0.0,\n",
              " 'cheesy': 0.0,\n",
              " 'color': 0.0,\n",
              " 'combos': 0.0,\n",
              " 'felt': 0.0,\n",
              " 'tags': 0.0,\n",
              " 'lularoe': 0.0,\n",
              " 'picture': 0.0,\n",
              " 'mind': 0.0,\n",
              " 'hauling': 0.0,\n",
              " 'serious': 0.0,\n",
              " 'tasting': 0.0,\n",
              " 'corner': 0.0,\n",
              " 'apart': 0.0,\n",
              " ...}"
            ]
          },
          "metadata": {},
          "execution_count": 99
        }
      ]
    },
    {
      "cell_type": "markdown",
      "source": [
        "If we wanted to generate text, we could choose the token with the highest probability. But that quickly generate boring text. Instead we are going to sample from this distribution, where tokens with higher probability have a higher chance of being chosen.\n",
        "\n",
        "The `sample_from_distribution` function takes a token distribution (like we've calculated above) and randomly chooses a token based on the probabilities."
      ],
      "metadata": {
        "id": "D0EGFXCYHKkY"
      }
    },
    {
      "cell_type": "code",
      "source": [
        "import random\n",
        "def sample_from_distribution(distribution):\n",
        "  population = list(distribution.keys())\n",
        "  probabilities = list(distribution.values())\n",
        "\n",
        "  choice, = random.choices(population, weights=probabilities, k=1)\n",
        "  return choice\n",
        "\n",
        "sample_from_distribution({'a':0.2,'b':0.5,'c':0.3})"
      ],
      "metadata": {
        "id": "CJQBr3DysMOL",
        "colab": {
          "base_uri": "https://localhost:8080/",
          "height": 35
        },
        "outputId": "d1af13b9-fe79-4e7b-c23d-a1e830deeaad"
      },
      "execution_count": 100,
      "outputs": [
        {
          "output_type": "execute_result",
          "data": {
            "text/plain": [
              "'b'"
            ],
            "application/vnd.google.colaboratory.intrinsic+json": {
              "type": "string"
            }
          },
          "metadata": {},
          "execution_count": 100
        }
      ]
    },
    {
      "cell_type": "markdown",
      "source": [
        "Let's join our trigram distribution with the sampling code. This finds the trigram distribution that starts 'i like'. It then randomly picks a token weighted by the probabilities. Try running the cell a few times and you should get different results."
      ],
      "metadata": {
        "id": "WszeCNGiH8qq"
      }
    },
    {
      "cell_type": "code",
      "source": [
        "prev_prev_token, prev_token = 'i', 'like'\n",
        "trigram_distribution = get_trigram_distribution(prev_prev_token, prev_token, posts_unigram_counts, posts_bigram_counts, posts_trigram_counts)\n",
        "sample_from_distribution(trigram_distribution)"
      ],
      "metadata": {
        "id": "BRWHLDZJti-4",
        "colab": {
          "base_uri": "https://localhost:8080/",
          "height": 35
        },
        "outputId": "bb6c7af4-63f9-4266-a75d-d313e917fa50"
      },
      "execution_count": 107,
      "outputs": [
        {
          "output_type": "execute_result",
          "data": {
            "text/plain": [
              "'to'"
            ],
            "application/vnd.google.colaboratory.intrinsic+json": {
              "type": "string"
            }
          },
          "metadata": {},
          "execution_count": 107
        }
      ]
    },
    {
      "cell_type": "markdown",
      "source": [
        "Now we can put this together to generate a whole sequence of text.\n",
        "\n",
        "**Exercise:** Write a function `hallucinate_text` that takes an initial sequence of tokens, the desired length of the output sequence, and the uni/bi/trigram counts. It should calculate a trigram distribution based on the final two tokens of the sequence, sample from it to pick a new token (using `sample_from_distribution`) and add that to the list. It should then repeat this until the desired length is achieved.\n",
        "\n",
        "_Coding Tip:_ Your function should create a new list and not make edits to the input list. You may want to do `sequence = list(sequence)` to make a copy of it. Here's an [explainer](https://colab.research.google.com/drive/13DndtbgZbur0RSq2xcYOwxjdIw9LIX8E?usp=sharing) about this idea."
      ],
      "metadata": {
        "id": "vlIBAt0ZIQVU"
      }
    },
    {
      "cell_type": "code",
      "source": [
        "def hallucinate_text(sequence, max_length, unigram_counts, bigram_counts, trigram_counts):\n",
        "  result = sequence.copy()\n",
        "  for i in range(max_length-len(result)):\n",
        "    trigram_distribution = get_trigram_distribution(result[-2], result[-1], unigram_counts, bigram_counts, trigram_counts)\n",
        "    result.append(sample_from_distribution(trigram_distribution))\n",
        "  return result\n",
        "  # your code!\n",
        "\n",
        "hallucinate_text(['i','like'], 10, posts_unigram_counts, posts_bigram_counts, posts_trigram_counts)"
      ],
      "metadata": {
        "id": "5tzedoaDtogX",
        "colab": {
          "base_uri": "https://localhost:8080/"
        },
        "outputId": "02018d9f-e9c1-4f61-c08a-f671b4373f0a"
      },
      "execution_count": 114,
      "outputs": [
        {
          "output_type": "execute_result",
          "data": {
            "text/plain": [
              "['i', 'like', 'a', 'wireless', 'screen', 'to', 'the', 'right', 'tea', 'expo']"
            ]
          },
          "metadata": {},
          "execution_count": 114
        }
      ]
    },
    {
      "cell_type": "code",
      "source": [
        "labtest(hallucinate_text)"
      ],
      "metadata": {
        "id": "EEcKbFsMJLLK",
        "colab": {
          "base_uri": "https://localhost:8080/"
        },
        "outputId": "94cbfb25-1c6b-46fb-af28-d6b725d83e9a"
      },
      "execution_count": 115,
      "outputs": [
        {
          "output_type": "stream",
          "name": "stdout",
          "text": [
            "----------------------------\n",
            "LABTEST: Running 1 testcases\n",
            "----------------------------\n",
            "Input: (['i', 'like'], 3, Counter({'potatoes': 5, 'like': 4, 'i': 3}), Counter({('i', 'like'): 5}), Counter({('i', 'like', 'potatoes'): 5})). Running... \n",
            "OK.\n",
            "----------------------------\n",
            "1 testcases PASSED\n",
            "----------------------------\n"
          ]
        }
      ]
    },
    {
      "cell_type": "markdown",
      "source": [
        "Now we can generate a bunch of hallucinated sentences!"
      ],
      "metadata": {
        "id": "vbTpQtCdJGIq"
      }
    },
    {
      "cell_type": "code",
      "metadata": {
        "id": "mSI2dfh3e3q3",
        "colab": {
          "base_uri": "https://localhost:8080/"
        },
        "outputId": "e57c7e41-0da7-47f6-86db-fef65a143bb3"
      },
      "source": [
        "# Maximum length of sequence to generate.\n",
        "max_length = 20\n",
        "\n",
        "# Number of sequences to generate\n",
        "num_sequences = 5\n",
        "\n",
        "start = [\"i\", \"like\"] # Needs to be an n-gram that occurs in our collection\n",
        "for _ in range(num_sequences):\n",
        "  sequence = hallucinate_text(start, max_length, posts_unigram_counts, posts_bigram_counts, posts_trigram_counts)\n",
        "  print (\" \".join(sequence))\n"
      ],
      "execution_count": 116,
      "outputs": [
        {
          "output_type": "stream",
          "name": "stdout",
          "text": [
            "i like what you think <START> just wondering if anyone knows of a known big mlm shared this shortcut for\n",
            "i like about a year not everyday and at this point i 'm thinking about buying dragon fang z translation\n",
            "i like the 3ds could be a peripheral that you need how much water only <START> what water did you\n",
            "i like all the same game twice now i 'd ask for a couple of months and have read that\n",
            "i like pg tips i have triple checked the available replacement parts <START> what are some recommended brands models ideally\n"
          ]
        }
      ]
    },
    {
      "cell_type": "markdown",
      "metadata": {
        "id": "W4TLERMrKXj7"
      },
      "source": [
        "We now have a simple bot that can write reddit-like posts!  It sort-of-almost makes sense. Many naive spam bots work in a similar way by taking sample text and using it to generate made up auto-replies.\n",
        "\n",
        "Have fun with this example by modifying the starting sequence."
      ]
    },
    {
      "cell_type": "markdown",
      "metadata": {
        "id": "buvdn5h1EGnw"
      },
      "source": [
        "## Language Model Evaluation"
      ]
    },
    {
      "cell_type": "markdown",
      "metadata": {
        "id": "MVHBk7zEo49K"
      },
      "source": [
        "Our model seems to capture some aspects of language. It often gets the idea of adjectives being before nouns, and subjects before verbs, etc. We know that it's using the probability of the token frequencies to do this. But how can we judge how well it has modelled the language?\n",
        "\n",
        "Let's evaluate our models by seeing how well they can predict real text.\n",
        "\n",
        "At this point, we are going to distinguish how well our model can predict the text it has been trained on (the **training performance**) from how well it can predict new unseen data (the **test performance**)."
      ]
    },
    {
      "cell_type": "markdown",
      "source": [
        "### The novel token problem\n",
        "\n",
        "Any unseen data is very likely to have new tokens that we haven't seen before. English has a very large vocabulary, and we'd need to have a huge number of documents to contain every token. And then there are spelling mistakes, etc. So there will always be some new unknown tokens.\n",
        "\n",
        "All our language models (unigram, bigram, trigram) assume that the tokens have been seen before. How do we deal with new tokens so that our probabilities are not always zero for unseen text?\n",
        "\n",
        "For example, what's the unigram probability of 'abracadabra' which never appears in our Reddit posts."
      ],
      "metadata": {
        "id": "exYVpaioKURr"
      }
    },
    {
      "cell_type": "code",
      "source": [
        "unigram_token_prob('abracadabra', posts_unigram_counts, posts_unigram_N)"
      ],
      "metadata": {
        "id": "4X_e-l4qL_0b",
        "colab": {
          "base_uri": "https://localhost:8080/"
        },
        "outputId": "83600b22-1b0f-4c8c-d9a7-9565a140e94d"
      },
      "execution_count": 117,
      "outputs": [
        {
          "output_type": "execute_result",
          "data": {
            "text/plain": [
              "0.0"
            ]
          },
          "metadata": {},
          "execution_count": 117
        }
      ]
    },
    {
      "cell_type": "markdown",
      "source": [
        "So any sequence containing that token would have a probability of zero. And that's true for any new token not in our original text data."
      ],
      "metadata": {
        "id": "WhJvxFqKMSBb"
      }
    },
    {
      "cell_type": "markdown",
      "source": [
        "### Smoothing (Add-K / Laplace)\n",
        "\n",
        "Smoothing a language model gives some probability to unseen words, even if it is very little. This enables unseen text to not automatically have a zero probability.\n",
        "\n",
        "There were a few methods of smoothing mentioned in the lecture. We're going to implement Add-K / Laplacian Smoothing to our unigram model.\n",
        "\n",
        "The unigram probability is modified by effectively adding a value $k$ to the count of every possible token.\n",
        "\n",
        "$$ P(t) = \\frac{count(t) + k}{\\sum_{t' \\in V}{count(t') + k}} = \\frac{count(t) + k}{k|V| + \\sum_{t' \\in V}{count(t')}} $$\n",
        "\n",
        "This means that a token with a count of zero (e.g. any novel token) still has a non-zero value as the $k$ raises it up a little.\n",
        "\n",
        "**Exercise:** Write a function `unigram_token_prob_ksmooth` that implements Add-K smoothing for the unigram model. Refer to your `unigram_token_prob` function as it will be a modification of that."
      ],
      "metadata": {
        "id": "DyAk8vYEK0il"
      }
    },
    {
      "cell_type": "code",
      "source": [
        "def unigram_token_prob_ksmooth(next_token, unigram_counts, unigram_N, k):\n",
        "  # print(unigram_counts)\n",
        "  # print(unigram_N)\n",
        "  V = len(unigram_counts)\n",
        "  return (unigram_counts[next_token]+k)/(unigram_N+k*V)\n",
        "  # your code!\n",
        "\n",
        "unigram_token_prob_ksmooth('abracadabra', posts_unigram_counts, posts_unigram_N, 0.1)"
      ],
      "metadata": {
        "id": "LREfSI8ELyHV",
        "colab": {
          "base_uri": "https://localhost:8080/"
        },
        "outputId": "88ad6f73-c5ef-4e2a-e1ff-62f75720f995"
      },
      "execution_count": 125,
      "outputs": [
        {
          "output_type": "execute_result",
          "data": {
            "text/plain": [
              "5.245032167782285e-07"
            ]
          },
          "metadata": {},
          "execution_count": 125
        }
      ]
    },
    {
      "cell_type": "code",
      "source": [
        "labtest(unigram_token_prob_ksmooth)"
      ],
      "metadata": {
        "id": "e3IdeSR4OulG",
        "colab": {
          "base_uri": "https://localhost:8080/"
        },
        "outputId": "f03b32f2-9978-430b-d3b9-f756341836e6"
      },
      "execution_count": 126,
      "outputs": [
        {
          "output_type": "stream",
          "name": "stdout",
          "text": [
            "----------------------------\n",
            "LABTEST: Running 5 testcases\n",
            "----------------------------\n",
            "Input: ('cup', {'cup': 2, 'spoon': 2, 'glass': 6, 'fork': 1}, 11, 0.1). Running... \n",
            "OK.\n",
            "Input: ('plate', {'plate': 2, 'cup': 2, 'fork': 5, 'spoon': 5}, 14, 0.1). Running... \n",
            "OK.\n",
            "Input: ('fork', {'bowl': 4, 'fork': 5, 'plate': 3, 'cup': 1}, 13, 0.1). Running... \n",
            "OK.\n",
            "Input: ('cup', {'plate': 2, 'glass': 3, 'fork': 1, 'cup': 1}, 7, 0.1). Running... \n",
            "OK.\n",
            "Input: ('glass', {'glass': 5, 'spoon': 3}, 8, 0.1). Running... \n",
            "OK.\n",
            "----------------------------\n",
            "5 testcases PASSED\n",
            "----------------------------\n"
          ]
        }
      ]
    },
    {
      "cell_type": "markdown",
      "metadata": {
        "id": "pIuLPUSIEyJa"
      },
      "source": [
        "### Splitting into training and test data\n",
        "\n",
        "We want to see how good our language model is modelling the language. We'll work with the Add-K smoothed unigram model.\n",
        "\n",
        "We'll split the data into two parts: train and test. We train our model (using counts) on the training sample of posts. This means that we fixed (or *fit* in sci-kit learn terminology) our vocabulary based on the words in *training* set.  We then evaluate on how well it can predict the new unseen test posts.  \n",
        "\n",
        "Let's first shuffle and split our posts into training and testing posts."
      ]
    },
    {
      "cell_type": "code",
      "metadata": {
        "id": "pcb0HYwKFQ9x",
        "colab": {
          "base_uri": "https://localhost:8080/"
        },
        "outputId": "b537f208-2bc2-4117-b816-5660ab0adbc9"
      },
      "source": [
        "random.seed(42)\n",
        "shuffled_posts = random.sample(posts, k=len(posts))\n",
        "\n",
        "# Split the data into 80% train, 20% test posts.\n",
        "train_frac = 0.8\n",
        "split_idx = int(train_frac * len(shuffled_posts))\n",
        "train_posts = shuffled_posts[:split_idx]\n",
        "test_posts = shuffled_posts[split_idx:]\n",
        "\n",
        "print (\"Training set size:\", len(train_posts))\n",
        "print (\"Test set size:\", len(test_posts))"
      ],
      "execution_count": 127,
      "outputs": [
        {
          "output_type": "stream",
          "name": "stdout",
          "text": [
            "Training set size: 1600\n",
            "Test set size: 400\n"
          ]
        }
      ]
    },
    {
      "cell_type": "markdown",
      "source": [
        "And we'll make the same flattened lists for the training and testing sets. We'll add `<START>` and `<END>` tokens to mark the start and end of posts."
      ],
      "metadata": {
        "id": "YNo0vNASPH7u"
      }
    },
    {
      "cell_type": "code",
      "source": [
        "train_flattened_tokens = []\n",
        "for post in train_posts:\n",
        "  train_flattened_tokens += ['<START>'] + post['tokens'] + ['<END>']\n",
        "len(train_flattened_tokens)"
      ],
      "metadata": {
        "id": "p28M-hLMwR-K",
        "colab": {
          "base_uri": "https://localhost:8080/"
        },
        "outputId": "a03a6d37-ed47-451c-8f8e-e0c75bdf8e51"
      },
      "execution_count": 128,
      "outputs": [
        {
          "output_type": "execute_result",
          "data": {
            "text/plain": [
              "153987"
            ]
          },
          "metadata": {},
          "execution_count": 128
        }
      ]
    },
    {
      "cell_type": "code",
      "source": [
        "test_flattened_tokens = []\n",
        "for post in test_posts:\n",
        "  test_flattened_tokens += ['<START>'] + post['tokens'] + ['<END>']\n",
        "len(test_flattened_tokens)"
      ],
      "metadata": {
        "id": "WhAvbCzq3G18",
        "colab": {
          "base_uri": "https://localhost:8080/"
        },
        "outputId": "dbd46d4b-6fc0-48d0-dd9b-80de7814a45f"
      },
      "execution_count": 129,
      "outputs": [
        {
          "output_type": "execute_result",
          "data": {
            "text/plain": [
              "37441"
            ]
          },
          "metadata": {},
          "execution_count": 129
        }
      ]
    },
    {
      "cell_type": "markdown",
      "source": [
        "Lastly, we'll calculate the unigram counts **for the training data** so that we can use our Add-K smoothed unigram model. Now recall, that without the smoothing, any new token in the test data with a probability of zero would cause the whole sequence to have a probability of zero."
      ],
      "metadata": {
        "id": "IRoCs64DPPev"
      }
    },
    {
      "cell_type": "code",
      "source": [
        "train_unigram_counts = Counter(train_flattened_tokens)\n",
        "train_unigram_N = len(train_flattened_tokens)"
      ],
      "metadata": {
        "id": "1RjwEQCM3OTX"
      },
      "execution_count": 130,
      "outputs": []
    },
    {
      "cell_type": "markdown",
      "source": [
        "To save you some time, here's an implementation of a function that calculates the log transformed probability of a sequence (similar to a method earlier in this lab) that uses our smoothed unigram model:"
      ],
      "metadata": {
        "id": "-mkVSrNcauh8"
      }
    },
    {
      "cell_type": "code",
      "source": [
        "import math\n",
        "def unigram_sequence_logprob_ksmooth(sequence, unigram_counts, unigram_N, k):\n",
        "  logprob = 0\n",
        "  for t in sequence:\n",
        "    logprob += math.log2(unigram_token_prob_ksmooth(t, unigram_counts, unigram_N, k))\n",
        "\n",
        "  return logprob\n",
        "\n",
        "unigram_sequence_logprob_ksmooth(['i', 'like', 'irn', 'moo'], posts_unigram_counts, posts_unigram_N, 0.1)"
      ],
      "metadata": {
        "id": "cnJvk7ktP50y",
        "colab": {
          "base_uri": "https://localhost:8080/"
        },
        "outputId": "04e34530-47ef-44f3-e8bf-6100d69e14d0"
      },
      "execution_count": 131,
      "outputs": [
        {
          "output_type": "execute_result",
          "data": {
            "text/plain": [
              "-47.312934943431344"
            ]
          },
          "metadata": {},
          "execution_count": 131
        }
      ]
    },
    {
      "cell_type": "markdown",
      "metadata": {
        "id": "ZJIm9npFP8FN"
      },
      "source": [
        "### Cross-Entropy Loss and Perplexity\n",
        "\n",
        "Now we can calculate the probability of our training data and our test data using a unigram model \"trained\" using the training data.\n",
        "\n",
        "We'll score our model using perplexity. Perplexity measures how \"surprised\" the model was (on average) when it came across a new token in the corpus. A model that has done a good job modelling a language dataset shouldn't be very surprised, so should have lower perplexity.\n",
        "\n",
        "As mentioned in lecture, we take $ 2^H $ (exponentiate it) to get the perplexity score, where $H$ is the cross-entropy. How do we get this?\n",
        "\n",
        "Running the `unigram_sequence_logprob_ksmooth` function computes the log-likelihood of our data:\n",
        "\n",
        "$$ Log P(w_1, ... w_N) = \\sum_{i=1}^N \\log_2 \\hat{p}(w_i) $$\n",
        "\n",
        "Which is very close to the cross-entropy loss:\n",
        "$$ \\text{H}_{\\text{total}}(y, \\hat{y}) = -1 \\sum_{i=1}^N \\frac{1}{N} \\log_2 \\hat{p}(w_i) $$\n",
        "\n",
        "The cross-entropy is equal to $-1$ times the log-likelihood of the data under our model, averaged by the total number of instances (tokens).\n",
        "\n",
        "Let's run it for the training data first.  We compute the probability of the whole collection as a sequence using our model.\n",
        "\n",
        "We've arbitrarily chosen $k = 0.1$ for the smoothing parameter. You could try different values and see how it changes the perplexity."
      ]
    },
    {
      "cell_type": "code",
      "source": [
        "k = 0.1\n",
        "train_logprob = unigram_sequence_logprob_ksmooth(train_flattened_tokens, train_unigram_counts, train_unigram_N, k)\n",
        "\n",
        "train_cross_entropy_loss = -train_logprob / len(train_flattened_tokens)\n",
        "\n",
        "train_perplexity = 2**train_cross_entropy_loss\n",
        "\n",
        "print(f\"Train Cross-entropy Loss:\\t{train_cross_entropy_loss:.4f}\")\n",
        "print(f\"Train Perplexity:\\t{train_perplexity:.4f}\")"
      ],
      "metadata": {
        "id": "tBH_ZOanwrku",
        "colab": {
          "base_uri": "https://localhost:8080/"
        },
        "outputId": "876caff1-dfb7-4b27-8f25-5f410994a71d"
      },
      "execution_count": 132,
      "outputs": [
        {
          "output_type": "stream",
          "name": "stdout",
          "text": [
            "Train Cross-entropy Loss:\t9.6211\n",
            "Train Perplexity:\t787.5012\n"
          ]
        }
      ]
    },
    {
      "cell_type": "markdown",
      "source": [
        "And now we can calculate the cross entropy loss and perplexity for the test set. Note that we still use the unigram counts from the training set as that's the data that the model has been \"trained\" on."
      ],
      "metadata": {
        "id": "Wj5bn5TCUOqq"
      }
    },
    {
      "cell_type": "code",
      "source": [
        "k = 0.1\n",
        "test_logprob = unigram_sequence_logprob_ksmooth(test_flattened_tokens, train_unigram_counts, train_unigram_N, k)\n",
        "\n",
        "test_cross_entropy_loss = -test_logprob / len(test_flattened_tokens)\n",
        "\n",
        "test_perplexity = 2**test_cross_entropy_loss\n",
        "\n",
        "print(f\"Test Cross-entropy Loss:\\t{test_cross_entropy_loss:.4f}\")\n",
        "print(f\"Test Perplexity:\\t{test_perplexity:.4f}\")"
      ],
      "metadata": {
        "id": "cEQZtj-yRojJ",
        "colab": {
          "base_uri": "https://localhost:8080/"
        },
        "outputId": "b9820ee4-9a96-4446-fd93-5c26649b16b5"
      },
      "execution_count": 133,
      "outputs": [
        {
          "output_type": "stream",
          "name": "stdout",
          "text": [
            "Test Cross-entropy Loss:\t9.9392\n",
            "Test Perplexity:\t981.7333\n"
          ]
        }
      ]
    },
    {
      "cell_type": "markdown",
      "source": [
        "The cross entropy loss and perplexity should be higher for the test set compared to the training set. This makes sense as the model should have learned patterns about words from the training set that apply to the test set (but marginally not as well)."
      ],
      "metadata": {
        "id": "QYdlHWc7Uk8n"
      }
    },
    {
      "cell_type": "markdown",
      "source": [
        "The perplexity is definitely high for our unigram model. It is constantly surprised by each token (because it's not taking context into account).\n",
        "\n",
        "Would you expect a bi-gram or a tri-gram model to have a higher or lower cross-entropy loss (& perplexity) than the unigram model?"
      ],
      "metadata": {
        "id": "XE3lWADmU3yr"
      }
    },
    {
      "cell_type": "markdown",
      "metadata": {
        "id": "93XMGHE-dCib"
      },
      "source": [
        "## End\n",
        "\n",
        "This is the end of Lab 3. Let us know if you encounter any issues! Remember we are here to help!.\n",
        "\n",
        "**Please submit your lab through Moodle. We don't mark the labs but it helps us to craft better labs in the future**"
      ]
    },
    {
      "cell_type": "markdown",
      "metadata": {
        "id": "u0ZpeD5vd_hc"
      },
      "source": [
        "## Optional Extras\n",
        "\n",
        "- Read about how shopping service Etsy uses language models in [spelling correction in search](https://codeascraft.com/2017/05/01/modeling-spelling-correction-for-search-at-etsy/).\n",
        "- Read more about training cool language systems directly from text data in [Chapter 14](http://norvig.com/ngrams/ch14.pdf) of Peter Norvig's [Natural Language Corpus Data: Beautiful Data](http://norvig.com/ngrams/).\n",
        "- Write a Trigram model for the spelling corrector\n",
        "- Make `sample_from_distribution` more efficient\n",
        "- Calculate perplexity for a bigram or trigram model with Add-K smoothing"
      ]
    }
  ]
}