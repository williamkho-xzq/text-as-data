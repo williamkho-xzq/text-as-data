{
  "nbformat": 4,
  "nbformat_minor": 0,
  "metadata": {
    "colab": {
      "provenance": [],
      "include_colab_link": true
    },
    "kernelspec": {
      "name": "python3",
      "display_name": "Python 3"
    },
    "language_info": {
      "name": "python"
    }
  },
  "cells": [
    {
      "cell_type": "markdown",
      "metadata": {
        "id": "view-in-github",
        "colab_type": "text"
      },
      "source": [
        "<a href=\"https://colab.research.google.com/github/williamkho-xzq/text-as-data/blob/main/Lab_4_Text_Classification.ipynb\" target=\"_parent\"><img src=\"https://colab.research.google.com/assets/colab-badge.svg\" alt=\"Open In Colab\"/></a>"
      ]
    },
    {
      "cell_type": "markdown",
      "source": [
        "# Text as Data Lab 4: Text Classification\n",
        "\n",
        "The goal of this lab is to build a classifier that can identify research articles that discuss clinical trials. You'll then tune and evaluate it.\n",
        "\n",
        "[Clinical trials](https://en.wikipedia.org/wiki/Clinical_trial) test out new treatments for diseases and their results are generally reported in published research articles. Keeping track of all the results of clinical trials is very important but can be challenging. We'll be looking at the titles and abstracts of these articles. Some authors do a good job of linking them back to registered clinical trials and some do not. Identifying that a paper is talking about a clinical trial is an important step towards gathering all these results together for further analysis.\n",
        "\n",
        "**Before you start, save a copy of this lab to your drive using \"File > Save a Copy in Drive\".** If you skip this step, you may lose progress that you have made (e.g., if you close the browser tab or your computer crashes).\n",
        "\n",
        "This lab is linked with the fourth lecture. Please watch the lecture and refer to the slides as needed.\n",
        "\n",
        "In this lab you will learn about:\n",
        "- Splitting a dataset into training, validation and test sets\n",
        "- Building a classifier for a binary classification problem\n",
        "- Evaluation metrics for classification\n",
        "- Tuning a classifier with a validation set\n",
        "- Using the test set for final evaluations\n",
        "\n",
        "This lab will make use of [scikit-learn](https://scikit-learn.org). This lab won't give you the code directly but will point you towards the documentation for the function to use. **Each scikit-learn function comes with example code in its documentation.** You should examine the example code there and follow any extra instructions for the lab. The lab also does not use `labtest` this time but will provide expected answers."
      ],
      "metadata": {
        "id": "PKluMul19CYb"
      }
    },
    {
      "cell_type": "markdown",
      "source": [
        "## Loading the text classification data\n",
        "\n",
        "We'll be looking at the problem of identifying if a biomedical research article is discussing the results of a [clinical trial](https://en.wikipedia.org/wiki/Clinical_trial). Biomedical research articles are indexed in a huge database called [PubMed](https://pubmed.ncbi.nlm.nih.gov/). It tracks the titles & abstracts of almost all biomedical publications along with various other bits of metadata.\n",
        "\n",
        "We've created a small subset of these articles that focus on [asthma](https://en.wikipedia.org/wiki/Asthma). Some of the articles are reporting on clinical trials and others are not.\n",
        "\n",
        "Let's download it:"
      ],
      "metadata": {
        "id": "na9QqFaf9SN5"
      }
    },
    {
      "cell_type": "code",
      "source": [
        "!wget -O asthma_dataset.json https://gla-my.sharepoint.com/:u:/g/personal/jake_lever_glasgow_ac_uk/ERJRy93FbypJm4mawO79wwgB1bt9uvuvHQs5gtKRkzXyHg?download=1"
      ],
      "metadata": {
        "id": "CTVB3fVFkFdU",
        "colab": {
          "base_uri": "https://localhost:8080/"
        },
        "outputId": "3623cd0c-0431-4003-eaf3-b3adc5837c74"
      },
      "execution_count": 1,
      "outputs": [
        {
          "output_type": "stream",
          "name": "stdout",
          "text": [
            "--2024-02-06 14:34:44--  https://gla-my.sharepoint.com/:u:/g/personal/jake_lever_glasgow_ac_uk/ERJRy93FbypJm4mawO79wwgB1bt9uvuvHQs5gtKRkzXyHg?download=1\n",
            "Resolving gla-my.sharepoint.com (gla-my.sharepoint.com)... 13.107.136.10, 13.107.138.10, 2a01:111:f402:f0fa::53\n",
            "Connecting to gla-my.sharepoint.com (gla-my.sharepoint.com)|13.107.136.10|:443... connected.\n",
            "HTTP request sent, awaiting response... 302 Found\n",
            "Location: https://gla-my.sharepoint.com/personal/jake_lever_glasgow_ac_uk/_layouts/15/download.aspx?UniqueId=ddcb51126fc5492a9b899ac0eefdc308 [following]\n",
            "--2024-02-06 14:34:45--  https://gla-my.sharepoint.com/personal/jake_lever_glasgow_ac_uk/_layouts/15/download.aspx?UniqueId=ddcb51126fc5492a9b899ac0eefdc308\n",
            "Reusing existing connection to gla-my.sharepoint.com:443.\n",
            "HTTP request sent, awaiting response... 200 OK\n",
            "Length: 1675650 (1.6M) [application/json]\n",
            "Saving to: ‘asthma_dataset.json’\n",
            "\n",
            "asthma_dataset.json 100%[===================>]   1.60M  2.03MB/s    in 0.8s    \n",
            "\n",
            "2024-02-06 14:34:46 (2.03 MB/s) - ‘asthma_dataset.json’ saved [1675650/1675650]\n",
            "\n"
          ]
        }
      ]
    },
    {
      "cell_type": "markdown",
      "source": [
        "It's a JSON file. We can use the Unix `head` command to look inside the file. As the file is nicely formatted, we can see that it is a set of records with four fields: `is_clinical_trial`, `pubmed_id`, `title` and `abstract`."
      ],
      "metadata": {
        "id": "X_CmIQOJBBSE"
      }
    },
    {
      "cell_type": "code",
      "source": [
        "!head asthma_dataset.json"
      ],
      "metadata": {
        "id": "3F7YxdM-kPx6",
        "colab": {
          "base_uri": "https://localhost:8080/"
        },
        "outputId": "f53f052c-d684-49f4-a389-82d277ae0a9d"
      },
      "execution_count": 2,
      "outputs": [
        {
          "output_type": "stream",
          "name": "stdout",
          "text": [
            "[\n",
            "  {\n",
            "    \"is_clinical_trial\": true,\n",
            "    \"pubmed_id\": 346628,\n",
            "    \"title\": \"Immunotherapy in cat-induced asthma. Double-blind trial with evaluation of bronchial responses to cat allergen and histamine.\",\n",
            "    \"abstract\": \"Ten asymptomatic patients with normal pulmonary function were selected for a double-blind trial of immunotherapy in cat-induced asthma. Each patient had a positive prick test to cat pelt extract and also a positive bronchial challenge response to the same extract. Patients were randomly assigned to active treatment or placebo groups and received weekly or biweekly injections over a 3 to 4-month period. The 5 patients who received the active treatment received a cumulative dose of cat pelt extract that ranged from 16.4 to 44.8 mg of total solid containing 1.7 to 4.7 mg of cat allergen 1. Apparent systemic reactions were observed in 3 patients who received the placebo and 3 patients who received the active treatment. The 5 patients who received the active treatment showed a reduction in skin reactivity to cat pelt extract as well as a significant mean reduction in bronchial sensitivity to the same extract. The 5 patients who received the placebo showed no significant changes in skin reactivity or bronchial sensitivity to cat pelt extract. Bronchial response to histamine did not change significantly in either the active treatment of the placebo group.\"\n",
            "  },\n",
            "  {\n",
            "    \"is_clinical_trial\": false,\n",
            "    \"pubmed_id\": 27455824,\n"
          ]
        }
      ]
    },
    {
      "cell_type": "markdown",
      "source": [
        "### Exploring the data\n",
        "\n",
        "Let's get this data loaded and start looking at it.\n",
        "\n",
        "**Exercise:** Load the `asthma_dataset.json` into a variable called `documents` and check how many documents are in the dataset."
      ],
      "metadata": {
        "id": "tJZoj_MG9uKL"
      }
    },
    {
      "cell_type": "code",
      "source": [
        "# Your code here\n",
        "import json\n",
        "with open('asthma_dataset.json') as f:\n",
        "    documents = json.load(f)\n",
        "\n",
        "len(documents)"
      ],
      "metadata": {
        "id": "Mtvpy7ydkZld",
        "colab": {
          "base_uri": "https://localhost:8080/"
        },
        "outputId": "6ae1c520-2f48-4a7d-a24a-e21932cd29ee"
      },
      "execution_count": 3,
      "outputs": [
        {
          "output_type": "execute_result",
          "data": {
            "text/plain": [
              "1021"
            ]
          },
          "metadata": {},
          "execution_count": 3
        }
      ]
    },
    {
      "cell_type": "markdown",
      "source": [
        "You should see that there are 1021 documents.\n",
        "\n",
        "Let's take a look at the first couple of documents. The first document is a clinical trial and even mentions it in the title. The second article is about asthma but is about the cost of treatment. Could the word `trial` be enough to identify papers talking about clinical trials?"
      ],
      "metadata": {
        "id": "wjv_YnSxBsMs"
      }
    },
    {
      "cell_type": "code",
      "source": [
        "documents[:2]"
      ],
      "metadata": {
        "id": "6vlqhig9BrcP",
        "colab": {
          "base_uri": "https://localhost:8080/"
        },
        "outputId": "a80193d4-cfe9-49a2-b121-bb55be45f87f"
      },
      "execution_count": 4,
      "outputs": [
        {
          "output_type": "execute_result",
          "data": {
            "text/plain": [
              "[{'is_clinical_trial': True,\n",
              "  'pubmed_id': 346628,\n",
              "  'title': 'Immunotherapy in cat-induced asthma. Double-blind trial with evaluation of bronchial responses to cat allergen and histamine.',\n",
              "  'abstract': 'Ten asymptomatic patients with normal pulmonary function were selected for a double-blind trial of immunotherapy in cat-induced asthma. Each patient had a positive prick test to cat pelt extract and also a positive bronchial challenge response to the same extract. Patients were randomly assigned to active treatment or placebo groups and received weekly or biweekly injections over a 3 to 4-month period. The 5 patients who received the active treatment received a cumulative dose of cat pelt extract that ranged from 16.4 to 44.8 mg of total solid containing 1.7 to 4.7 mg of cat allergen 1. Apparent systemic reactions were observed in 3 patients who received the placebo and 3 patients who received the active treatment. The 5 patients who received the active treatment showed a reduction in skin reactivity to cat pelt extract as well as a significant mean reduction in bronchial sensitivity to the same extract. The 5 patients who received the placebo showed no significant changes in skin reactivity or bronchial sensitivity to cat pelt extract. Bronchial response to histamine did not change significantly in either the active treatment of the placebo group.'},\n",
              " {'is_clinical_trial': False,\n",
              "  'pubmed_id': 27455824,\n",
              "  'title': 'The Cost of Asthma Treatment in Phramongkutlao Hospital: Population-Based Study in Adults.',\n",
              "  'abstract': \"Asthma is a chronic respiratory disease that affects patients' quality of life and work performance. The cost of asthma treatment is a global economic burden. The costs include the direct medical costs and the indirect costs, such as the loss of productivity, which is difficult to quantify. Analyze the cost of asthma treatment in Thailand. Seventy-four asthmatic patients who had exacerbation were enrolled in the present study. Self-answer questionnaires were completed by the subjects including characteristics, socioeconomic factors, and level of asthma control by asthma control test (ACT) score. We evaluated the cost of asthma treatment calculated from direct medical, direct non-medical, and indirect medical costs. The average total cost per month was 2,752 Thai baht (US$ 86). The direct medical, direct non-medical, and indirect medical costs were 52.39%, 20.73%, and 26.88%, respectively. The direct medical costs accounted for quick-relief medications 11.91% and control medications 36.85% of the total medical cost. Loss of productivity, loss of work caused by asthma exacerbation, was the majority cost of non-medical costs. The average cost of treatment in uncontrolled was higher than partly controlled asthmatic patients but without significant difference. Healthcare payment system and age range affected the total costs of asthma treatment. The direct non-medical costs and indirect medical costs tend to play an important role of asthma treatment. The data suggested that cost savings could be achieved by improving asthma control.\"}]"
            ]
          },
          "metadata": {},
          "execution_count": 4
        }
      ]
    },
    {
      "cell_type": "markdown",
      "source": [
        "It's a good idea to dig around in the data to see if there are any oddities. Maybe some documents are missing titles or abstracts? Or could there be whole documents in there? It's always good to know these things.\n",
        "\n",
        "**Exercise:** Find out the minimum and maximum lengths of the `abstract` field across all the documents"
      ],
      "metadata": {
        "id": "phJTr7BBCPaM"
      }
    },
    {
      "cell_type": "code",
      "source": [
        "# Your code here\n",
        "import sys\n",
        "\n",
        "min_abstract_length = sys.maxsize\n",
        "max_abstract_length = -1\n",
        "for document in documents:\n",
        "  len_abstract = len(document['abstract'])\n",
        "  min_abstract_length = min(min_abstract_length, len_abstract)\n",
        "  max_abstract_length = max(max_abstract_length, len_abstract)\n",
        "\n",
        "print(\"minimum\", min_abstract_length)\n",
        "print(\"maximum\", max_abstract_length)"
      ],
      "metadata": {
        "id": "p_fJbPAjoYAD",
        "colab": {
          "base_uri": "https://localhost:8080/"
        },
        "outputId": "be2193f6-eb4d-453a-d4c9-e7d45c81651b"
      },
      "execution_count": 5,
      "outputs": [
        {
          "output_type": "stream",
          "name": "stdout",
          "text": [
            "minimum 161\n",
            "maximum 4140\n"
          ]
        }
      ]
    },
    {
      "cell_type": "markdown",
      "source": [
        "You should see that the minimum length is 161 characters and maximum is 4140 characters. That's quite a spread. From a tweet up to a short essay.\n",
        "\n",
        "Now it's time to prepare the data for the classification task. Let's create two lists to separate the target labels (`is_clinical_trial`) from the text field that we'll use. The two lists are called `labels` and `texts`. We'll combine the `title` and `abstract` field like we did for the Reddit data in previous labs."
      ],
      "metadata": {
        "id": "ApxoZUl6owmD"
      }
    },
    {
      "cell_type": "code",
      "source": [
        "labels, texts = [], []\n",
        "\n",
        "for doc in documents:\n",
        "  labels.append(doc['is_clinical_trial'])\n",
        "  texts.append(doc['title'] + '\\n' + doc['abstract'])"
      ],
      "metadata": {
        "id": "FYZ-XQq45Hdy"
      },
      "execution_count": 6,
      "outputs": []
    },
    {
      "cell_type": "markdown",
      "source": [
        "And let's check what the distribution of labels is:"
      ],
      "metadata": {
        "id": "JVgCXsGVEmxc"
      }
    },
    {
      "cell_type": "code",
      "source": [
        "from collections import Counter\n",
        "Counter(labels)\n"
      ],
      "metadata": {
        "id": "hoKl9A3u5anb",
        "colab": {
          "base_uri": "https://localhost:8080/"
        },
        "outputId": "9154d352-c5c7-4f6c-c3f1-1efad7b9b70d"
      },
      "execution_count": 7,
      "outputs": [
        {
          "output_type": "execute_result",
          "data": {
            "text/plain": [
              "Counter({True: 327, False: 694})"
            ]
          },
          "metadata": {},
          "execution_count": 7
        }
      ]
    },
    {
      "cell_type": "markdown",
      "source": [
        "You should see that there are 327 True labels and 694 False labels."
      ],
      "metadata": {
        "id": "E4S4dXVqozsK"
      }
    },
    {
      "cell_type": "markdown",
      "source": [
        "### Split the data into training, validation and testing datasets\n",
        "\n",
        "As discussed in the lecture, we need to split the dataset into parts to train and parts to evaluate. This is known as **cross-validation**. Let's split our dataset of 1021 `labels` and `texts` into training, validation and test splits.\n",
        "\n",
        "**Exercise:** Use scikit-learn's [train_test_split](https://scikit-learn.org/stable/modules/generated/sklearn.model_selection.train_test_split.html) function to split the dataset into three parts using a 60%/20%/20% split for training, validation and testing respectively. You'll need to call [train_test_split](https://scikit-learn.org/stable/modules/generated/sklearn.model_selection.train_test_split.html) twice. First to split the `labels` and `texts` into 80%/20% to get the train+val and the test set. Then call it again on the train+val with a 75%/25% split. You'll want to use the `test_size` parameter and use `random_state=42` to get the same results as everyone else.\n",
        "\n",
        "The six outputs should be called `texts_train`, `labels_train`, `texts_val`, `labels_val`, `texts_test` and `labels_test`."
      ],
      "metadata": {
        "id": "pTcbSuqq-Ifk"
      }
    },
    {
      "cell_type": "code",
      "source": [
        "# Your code here\n",
        "from sklearn.model_selection import train_test_split\n",
        "\n",
        "texts_training, texts_test, labels_training, labels_test = train_test_split(texts, labels, train_size=0.8, test_size=0.2, random_state=42)\n",
        "# print(len(texts_training), len(texts_test), len(labels_training), len(labels_test))\n",
        "\n",
        "texts_train, texts_val, labels_train, labels_val = train_test_split(texts_training, labels_training, train_size=0.75, test_size=0.25, random_state=42)"
      ],
      "metadata": {
        "id": "SgwBYpyY5d4R"
      },
      "execution_count": 8,
      "outputs": []
    },
    {
      "cell_type": "markdown",
      "source": [
        "Let's check the size of the different parts after the split."
      ],
      "metadata": {
        "id": "aBVWmnHTHMvc"
      }
    },
    {
      "cell_type": "code",
      "source": [
        "print(f\"{len(texts_train)=}\\t{len(labels_train)=}\")\n",
        "print(f\"{len(texts_val)=}\\t{len(labels_val)=}\")\n",
        "print(f\"{len(texts_test)=}\\t{len(labels_test)=}\")"
      ],
      "metadata": {
        "id": "qfzmep9hFURl",
        "colab": {
          "base_uri": "https://localhost:8080/"
        },
        "outputId": "4d934e9a-3ea7-479f-8dc0-4a2c3a3c3b3c"
      },
      "execution_count": 9,
      "outputs": [
        {
          "output_type": "stream",
          "name": "stdout",
          "text": [
            "len(texts_train)=612\tlen(labels_train)=612\n",
            "len(texts_val)=204\tlen(labels_val)=204\n",
            "len(texts_test)=205\tlen(labels_test)=205\n"
          ]
        }
      ]
    },
    {
      "cell_type": "markdown",
      "source": [
        "You should see that the dataset has been split into parts with sizes 612, 204 and 205. And that the corresponding `texts_*` and `labels_*` parts are the same sizes.\n",
        "\n",
        "And let's check if we got the desired 60%/20%/20% split."
      ],
      "metadata": {
        "id": "iDOP3za-HWK_"
      }
    },
    {
      "cell_type": "code",
      "source": [
        "total = len(texts_train) + len(texts_val) + len(texts_test)\n",
        "len(texts_train)/total, len(texts_val)/total, len(texts_test)/total"
      ],
      "metadata": {
        "id": "cBJn1MRj5ltO",
        "colab": {
          "base_uri": "https://localhost:8080/"
        },
        "outputId": "95ca3976-cbcd-409e-c823-99721e653778"
      },
      "execution_count": 10,
      "outputs": [
        {
          "output_type": "execute_result",
          "data": {
            "text/plain": [
              "(0.5994123408423114, 0.19980411361410383, 0.2007835455435847)"
            ]
          },
          "metadata": {},
          "execution_count": 10
        }
      ]
    },
    {
      "cell_type": "markdown",
      "source": [
        "Yep, that's probably as close as we could get to 60%/20%/20% when splitting up 1021 documents."
      ],
      "metadata": {
        "id": "y1OTco3fHmfn"
      }
    },
    {
      "cell_type": "markdown",
      "source": [
        "### Why training, validation and testing?\n",
        "\n",
        "As mentioned in the lectures, we want part of the data to build a classifier and part to evaluate with. So why not just training and test? Using a validation set allows us to try a lot more experiments to test out different approaches without the worry that we're overfitting on the test set.\n",
        "\n",
        "Good practice is to avoid touching the test set until your final set of experiments. We'll forget about the test data until the end of the lab and use the training and validation splits for now."
      ],
      "metadata": {
        "id": "xTzGM_W8-Npg"
      }
    },
    {
      "cell_type": "markdown",
      "source": [
        "## Build your own classifier\n",
        "\n",
        "Earlier, we noticed that the word \"trial\" appeared in the first document talking about clinical trials. Maybe the existence of the word \"trial\" would be enough to identify clinical trials?\n",
        "\n",
        "**Exercise:** Iterate over the validation set `texts_val` and check if the string \"trial\" appears in each text. Save the prediction (which should be `True` or `False`) to a list called `labels_predicted`. You do not need to do any parsing. You can use the string [count](https://www.w3schools.com/python/ref_string_count.asp) method."
      ],
      "metadata": {
        "id": "BDOKzmlN-e-q"
      }
    },
    {
      "cell_type": "code",
      "source": [
        "# Your code here\n",
        "labels_predicted = [ \"trial\" in text.lower() for text in texts_val]"
      ],
      "metadata": {
        "id": "j3MFjti7-hc0"
      },
      "execution_count": 11,
      "outputs": []
    },
    {
      "cell_type": "markdown",
      "source": [
        "Let's check how many predictions of each label we have using a `Counter`:"
      ],
      "metadata": {
        "id": "ZsgYanW7I2OH"
      }
    },
    {
      "cell_type": "code",
      "source": [
        "Counter(labels_predicted)"
      ],
      "metadata": {
        "id": "hk7hfs73IQjl",
        "colab": {
          "base_uri": "https://localhost:8080/"
        },
        "outputId": "eecf5997-ac8d-4fd5-cd4d-c70af09d4725"
      },
      "execution_count": 12,
      "outputs": [
        {
          "output_type": "execute_result",
          "data": {
            "text/plain": [
              "Counter({False: 176, True: 28})"
            ]
          },
          "metadata": {},
          "execution_count": 12
        }
      ]
    },
    {
      "cell_type": "markdown",
      "source": [
        "You should have 176 False predictions and 28 True Predictions (totalling 204 for the size of the validation set).\n",
        "\n",
        "**Congratulations!** You have written a machine learning classifier. It may be a simple rule-based approach but sometimes simple is all you need. This type of classifier is known as a [decision stump](https://en.wikipedia.org/wiki/Decision_stump) where a single decision is used to classify the data.\n",
        "\n",
        "But is it any good?"
      ],
      "metadata": {
        "id": "-7749fmsI5R2"
      }
    },
    {
      "cell_type": "markdown",
      "source": [
        "#### Evaluate your own classifier\n",
        "\n",
        "Now let's compare our predictions `labels_predicted` against the actual labels `labels_val`. We'll need the four numbers that make up a [confusion matrix](https://en.wikipedia.org/wiki/Confusion_matrix) for a binary classification problem:\n",
        "\n",
        "- True positive count: Where the actual label is True and predicted label is True\n",
        "- False positive count: Where the actual label is False and predicted label is True\n",
        "- False negative count: Where the actual label is True and predicted label is False\n",
        "- True negative count: Where the actual label is False and predicted label is False\n",
        "\n",
        "**Exercise:** Calculate the counts of true positives, false positives, false negatives and true negatives when comparing `labels_predicted` and `labels_val`.\n",
        "\n",
        "*Tip:* Python's [zip function](https://docs.python.org/3.3/library/functions.html#zip) is useful for this."
      ],
      "metadata": {
        "id": "ufZOZTLl--A3"
      }
    },
    {
      "cell_type": "code",
      "source": [
        "# Your code here\n",
        "labels_diff = zip(labels_predicted, labels_val)\n",
        "tp, fp, fn, tn = 0, 0, 0, 0\n",
        "for data in labels_diff:\n",
        "  truth = data[1]\n",
        "  predicted = data[0]\n",
        "\n",
        "  if truth==predicted :\n",
        "    if truth == True:\n",
        "      tp+=1\n",
        "    else:\n",
        "      tn+=1\n",
        "  else:\n",
        "    if predicted == True:\n",
        "      fp+=1\n",
        "    else:\n",
        "      fn+=1\n",
        "\n",
        "print(\"tp\", tp)\n",
        "print(\"fp\", fp)\n",
        "print(\"fn\", fn)\n",
        "print(\"tn\", tn)"
      ],
      "metadata": {
        "id": "gRlfA_0i_HNx",
        "colab": {
          "base_uri": "https://localhost:8080/"
        },
        "outputId": "8aff44cf-27bb-4cd5-f3eb-0bae5ce7dfd1"
      },
      "execution_count": 13,
      "outputs": [
        {
          "output_type": "stream",
          "name": "stdout",
          "text": [
            "tp 20\n",
            "fp 8\n",
            "fn 52\n",
            "tn 124\n"
          ]
        }
      ]
    },
    {
      "cell_type": "markdown",
      "source": [
        "You should get 20 true positives, 8 false positives, 52 false negatives and 124 true negatives. So it does identify quite a few documents correctly as describing clinical trials but misses many more.\n",
        "\n",
        "The raw counts of a confusion matrix can be a little challenging to comprehend. It gets harder if you want to compare multiple classifier results. Let's turn the counts into some of the standard metrics we will use:\n",
        "\n",
        "- $ accuracy = \\frac{TP+TN}{TP+FP+FN+TN} $\n",
        "\n",
        "- $ precision = \\frac{TP}{TP+FP} $\n",
        "\n",
        "- $ recall = \\frac{TP}{TP+FN} $\n",
        "\n",
        "- $ F_1 = 2\\frac{precision \\times recall}{precision + recall} $\n",
        "\n",
        "**Exercise:** Calculate the $accuracy$, $precision$, $recall$ and $F_1 score$ with the confusion matrix counts to 3 decimal places.\n",
        "\n",
        "*Tip:* You can output a number nicely using [f-strings](https://docs.python.org/3/tutorial/inputoutput.html#formatted-string-literals). To output the variable `x` to 5 decimal places, you could use `print(f\"{x:.5f}\")`"
      ],
      "metadata": {
        "id": "zAhWrVk6__f5"
      }
    },
    {
      "cell_type": "code",
      "source": [
        "# Your code here\n",
        "accuracy = (tp+tn)/(tp+fp+fn+tn)\n",
        "precision = (tp)/(tp+fp)\n",
        "recall = (tp)/(tp+fn)\n",
        "f1 = 2*((precision*recall)/(precision+recall))\n",
        "\n",
        "print(f\"accuracy {accuracy:.3f}\")\n",
        "print(f\"precision {precision:.3f}\")\n",
        "print(f\"recall {recall:.3f}\")\n",
        "print(f\"f1 {f1:.3f}\")"
      ],
      "metadata": {
        "id": "AUy8X85L_qe5",
        "colab": {
          "base_uri": "https://localhost:8080/"
        },
        "outputId": "8b39a3ea-bef7-443b-a99d-1b1e908864f9"
      },
      "execution_count": 14,
      "outputs": [
        {
          "output_type": "stream",
          "name": "stdout",
          "text": [
            "accuracy 0.706\n",
            "precision 0.714\n",
            "recall 0.278\n",
            "f1 0.400\n"
          ]
        }
      ]
    },
    {
      "cell_type": "markdown",
      "source": [
        "You should get accuracy=0.706, precision=0.714, recall=0.278 and f1=0.400. The precision is on the higher end as it doesn't predict too many false positives, but the recall is low as there are many false negatives.\n",
        "\n",
        "*Bonus tip:* practically you only want to give a few decimal places when reporting results. It can look odd to give 10 decimal places, and it can make the numbers more challenging to read. The numbers at the 5th and 6th decimal place are likely not very important. Three decimal places are often sufficient.\n",
        "\n",
        "Scikit-learn offers some useful functions to calculate the confusion matrix counts as well as the different evaluation metrics directly.\n",
        "\n",
        "**Exercise:** Use scikit-learn's [confusion_matrix](https://scikit-learn.org/stable/modules/generated/sklearn.metrics.confusion_matrix.html) function to calculate the true positive, false positive, false negative and true negative counts of the actual labels `labels_val` and the predicted labels `labels_predicted` from above. The counts should be the same as you calculated earlier"
      ],
      "metadata": {
        "id": "z7abv4NLAJun"
      }
    },
    {
      "cell_type": "code",
      "source": [
        "# Your code here\n",
        "from sklearn.metrics import confusion_matrix\n",
        "result = confusion_matrix(labels_val, labels_predicted)\n",
        "result"
      ],
      "metadata": {
        "id": "QUCizu9r-7-6",
        "colab": {
          "base_uri": "https://localhost:8080/"
        },
        "outputId": "ca848500-c291-43ed-a64c-99ec215e8b14"
      },
      "execution_count": 15,
      "outputs": [
        {
          "output_type": "execute_result",
          "data": {
            "text/plain": [
              "array([[124,   8],\n",
              "       [ 52,  20]])"
            ]
          },
          "metadata": {},
          "execution_count": 15
        }
      ]
    },
    {
      "cell_type": "markdown",
      "source": [
        "Now let's get the evaluation metrics with scikit-learn.\n",
        "\n",
        "**Exercise:** Use [scikit-learn metrics functions](https://scikit-learn.org/stable/modules/model_evaluation.html) to calculate the accuracy, precision, recall and f1 scores of our earlier predictions `labels_predicted` against the actual labels `labels_val`."
      ],
      "metadata": {
        "id": "twlqyslDrLxd"
      }
    },
    {
      "cell_type": "code",
      "source": [
        "# Your code here\n",
        "from sklearn import metrics\n",
        "accuracy = metrics.accuracy_score(labels_val, labels_predicted)\n",
        "precision = metrics.precision_score(labels_val, labels_predicted)\n",
        "recall = metrics.recall_score(labels_val, labels_predicted)\n",
        "f1 =  metrics.f1_score(labels_val, labels_predicted)\n",
        "\n",
        "print(f\"accuracy {accuracy:.3f}\")\n",
        "print(f\"precision {precision:.3f}\")\n",
        "print(f\"recall {recall:.3f}\")\n",
        "print(f\"f1 {f1:.3f}\")"
      ],
      "metadata": {
        "id": "BsSmX2zvBQep",
        "colab": {
          "base_uri": "https://localhost:8080/"
        },
        "outputId": "3a41dfcb-3d8a-4a04-9033-b2c3d7ae529e"
      },
      "execution_count": 16,
      "outputs": [
        {
          "output_type": "stream",
          "name": "stdout",
          "text": [
            "accuracy 0.706\n",
            "precision 0.714\n",
            "recall 0.278\n",
            "f1 0.400\n"
          ]
        }
      ]
    },
    {
      "cell_type": "markdown",
      "source": [
        "You may want to make a figure from the confusion matrix. Scikit-learn offers a function [ConfusionMatrixDisplay](https://scikit-learn.org/stable/modules/generated/sklearn.metrics.ConfusionMatrixDisplay.html) that displays the confusion matrix."
      ],
      "metadata": {
        "id": "7x6EIrvBsstG"
      }
    },
    {
      "cell_type": "code",
      "source": [
        "from sklearn.metrics import ConfusionMatrixDisplay\n",
        "\n",
        "cm = confusion_matrix(labels_val, labels_predicted)\n",
        "ConfusionMatrixDisplay(confusion_matrix=cm, display_labels=['not clinical trial','clinical trial']).plot()"
      ],
      "metadata": {
        "id": "KgqSjvHCok8F",
        "colab": {
          "base_uri": "https://localhost:8080/",
          "height": 467
        },
        "outputId": "558291df-875c-4892-f52c-2bbd8d5547db"
      },
      "execution_count": 17,
      "outputs": [
        {
          "output_type": "execute_result",
          "data": {
            "text/plain": [
              "<sklearn.metrics._plot.confusion_matrix.ConfusionMatrixDisplay at 0x79edff4035e0>"
            ]
          },
          "metadata": {},
          "execution_count": 17
        },
        {
          "output_type": "display_data",
          "data": {
            "text/plain": [
              "<Figure size 640x480 with 2 Axes>"
            ],
            "image/png": "[encoded data removed]"
          },
          "metadata": {}
        }
      ]
    },
    {
      "cell_type": "markdown",
      "source": [
        "It can be nice to have a bit more control over the plotting. Here's some code using a plotting library called [seaborn](https://seaborn.pydata.org/) that outputs a labeled confusion matrix. It allows you to use a custom colour palette including [ColorBrewer](https://colorbrewer2.org/) which is commonly used for making nice plots. Here we use the `Reds` palette, but there are [many more](https://seaborn.pydata.org/tutorial/color_palettes.html). Some are recommended for colour-blind audiences or for printing."
      ],
      "metadata": {
        "id": "XeI-KTXkolFM"
      }
    },
    {
      "cell_type": "code",
      "source": [
        "import seaborn as sn\n",
        "\n",
        "def plotConfusionMatrix(labels_val, labels_predicted):\n",
        "  cm = confusion_matrix(labels_val, labels_predicted)\n",
        "  colour_map = sn.color_palette(\"Reds\", as_cmap=True)\n",
        "  labels = ['not clinical trial', 'clinical trial']\n",
        "  plot = sn.heatmap(cm,\n",
        "                    annot=True, # Put the numbers in\n",
        "                    annot_kws={\"size\": 16}, # Make the numbers bigger\n",
        "                    fmt='g', # Stop scientific notation\n",
        "                    cmap = colour_map, # Choose the colour palette\n",
        "                    cbar = False, # Don't include the colour bar\n",
        "                    xticklabels=labels, # Put in the X and Y labels\n",
        "                    yticklabels=labels)\n",
        "  plot.set(xlabel='Predicted', ylabel='Actual')\n",
        "  return plot\n",
        "\n",
        "plotConfusionMatrix(labels_val, labels_predicted)"
      ],
      "metadata": {
        "id": "ZeolcJivAebZ",
        "colab": {
          "base_uri": "https://localhost:8080/",
          "height": 467
        },
        "outputId": "f6090c68-971e-4ef4-cadb-9c35761085eb"
      },
      "execution_count": 18,
      "outputs": [
        {
          "output_type": "execute_result",
          "data": {
            "text/plain": [
              "<Axes: xlabel='Predicted', ylabel='Actual'>"
            ]
          },
          "metadata": {},
          "execution_count": 18
        },
        {
          "output_type": "display_data",
          "data": {
            "text/plain": [
              "<Figure size 640x480 with 1 Axes>"
            ],
            "image/png": "[encoded data removed]"
          },
          "metadata": {}
        }
      ]
    },
    {
      "cell_type": "markdown",
      "source": [
        "*Extra tip:* Scikit-learn also has a nice function [classification_report](https://scikit-learn.org/stable/modules/generated/sklearn.metrics.classification_report.html) which is useful for multi-class classification problems. It's not as useful for binary problems."
      ],
      "metadata": {
        "id": "4w3XDPEgzY4s"
      }
    },
    {
      "cell_type": "markdown",
      "source": [
        "### Building a dummy classifier\n",
        "\n",
        "We got an accuracy of 0.706. Is that good? Well, it depends on the class balance, which in this dataset is the balance of positive and negative labels.\n",
        "\n",
        "At the beginning, we calculated the label counts for the whole dataset and know that the negatives are in the majority. What if the classifier always predicted False?\n",
        "\n",
        "**Exercise:** Make another classifier (not using scikit-learn) that always predicts False for every sample in the validation set. Store the result to `labels_predicted` again."
      ],
      "metadata": {
        "id": "58GqEha6m_vu"
      }
    },
    {
      "cell_type": "code",
      "source": [
        "# Your code here\n",
        "labels_predicted = [False for i in range(len(texts_val))]"
      ],
      "metadata": {
        "id": "Qjf020LfnEb6"
      },
      "execution_count": 19,
      "outputs": []
    },
    {
      "cell_type": "markdown",
      "source": [
        "**Exercise:** Calculate the accuracy of these new predictions using scikit-learn. *Tip:* copy your scikit-learn code from above"
      ],
      "metadata": {
        "id": "xcZ3fBFTu5SV"
      }
    },
    {
      "cell_type": "code",
      "source": [
        "# Your code here\n",
        "accuracy = metrics.accuracy_score(labels_val, labels_predicted)\n",
        "print(f\"accuracy {accuracy:.3f}\")\n"
      ],
      "metadata": {
        "id": "_fODkxN2pXrN",
        "colab": {
          "base_uri": "https://localhost:8080/"
        },
        "outputId": "4e06a9d0-f5a9-4738-cc4c-575fe625a401"
      },
      "execution_count": 20,
      "outputs": [
        {
          "output_type": "stream",
          "name": "stdout",
          "text": [
            "accuracy 0.647\n"
          ]
        }
      ]
    },
    {
      "cell_type": "markdown",
      "source": [
        "Huh, the accuracy of always predicting False is 0.647. So 0.704 is better, but not by that much.\n",
        "\n",
        "Where does the 0.647 come from?\n",
        "\n",
        "**Exercise:** Calculate the percentage of False labels in `labels_val`. You could use a [Counter](https://docs.python.org/3/library/collections.html#collections.Counter) again or you can use [sum](https://docs.python.org/3/library/functions.html#sum) to add up lists of boolean values."
      ],
      "metadata": {
        "id": "fdtuLc8DvD_o"
      }
    },
    {
      "cell_type": "code",
      "source": [
        "# Your code here\n",
        "labels_counter = Counter(labels_val)\n",
        "false_percentage = labels_counter[False]/(labels_counter[False]+labels_counter[True])\n",
        "false_percentage"
      ],
      "metadata": {
        "id": "mTfKK01hs87q",
        "colab": {
          "base_uri": "https://localhost:8080/"
        },
        "outputId": "d94aadc9-fe67-45d8-eb10-7cc6191c9273"
      },
      "execution_count": 21,
      "outputs": [
        {
          "output_type": "execute_result",
          "data": {
            "text/plain": [
              "0.6470588235294118"
            ]
          },
          "metadata": {},
          "execution_count": 21
        }
      ]
    },
    {
      "cell_type": "markdown",
      "source": [
        "The accuracy score matches the majority class percentage. So, for really extreme class imbalances (like 1% positive labels), guessing the most frequent class will get you a very high accuracy score - which is not helpful. That's why we need to use other metrics like precision, recall and F1.\n",
        "\n",
        "*Extra tip:* Scikit-learn offers a [dummy classifier](https://scikit-learn.org/stable/modules/generated/sklearn.dummy.DummyClassifier.html) that can use basic strategies like guessing the most frequent class. This can provide a baseline to compare other scores against.\n",
        "\n",
        "**Exercise:** Now calculate the precision, recall and F1 scores of these new predictions `labels_predicted` against the actual labels `labels_val` using scikit-learn functions. *Tip:* Copy your code again from above."
      ],
      "metadata": {
        "id": "-8t9TCGkvs2g"
      }
    },
    {
      "cell_type": "code",
      "source": [
        "# Your code here\n",
        "accuracy = metrics.accuracy_score(labels_val, labels_predicted)\n",
        "precision = metrics.precision_score(labels_val, labels_predicted)\n",
        "recall = metrics.recall_score(labels_val, labels_predicted)\n",
        "f1 =  metrics.f1_score(labels_val, labels_predicted)\n",
        "\n",
        "print(f\"accuracy {accuracy:.3f}\")\n",
        "print(f\"precision {precision:.3f}\")\n",
        "print(f\"recall {recall:.3f}\")\n",
        "print(f\"f1 {f1:.3f}\")"
      ],
      "metadata": {
        "id": "eskVuZhYnotT",
        "colab": {
          "base_uri": "https://localhost:8080/"
        },
        "outputId": "0d4705c6-ce26-4cf3-9c8e-d8b172183fd6"
      },
      "execution_count": 22,
      "outputs": [
        {
          "output_type": "stream",
          "name": "stdout",
          "text": [
            "accuracy 0.647\n",
            "precision 0.000\n",
            "recall 0.000\n",
            "f1 0.000\n"
          ]
        },
        {
          "output_type": "stream",
          "name": "stderr",
          "text": [
            "/usr/local/lib/python3.10/dist-packages/sklearn/metrics/_classification.py:1344: UndefinedMetricWarning: Precision is ill-defined and being set to 0.0 due to no predicted samples. Use `zero_division` parameter to control this behavior.\n",
            "  _warn_prf(average, modifier, msg_start, len(result))\n"
          ]
        }
      ]
    },
    {
      "cell_type": "markdown",
      "source": [
        "Wow, zeros for precision, recall and F1. This is not a good classifier even though the accuracy looked okay.\n",
        "\n",
        "Notice the warning about precision being ill-defined. If the denominators in the equations for precision, recall or F1 are zero, you have a divide by zero and the metric is not defined. Scikit-learn will still return a zero, but you may get a warning."
      ],
      "metadata": {
        "id": "krWnU7X2v9Gy"
      }
    },
    {
      "cell_type": "markdown",
      "source": [
        "## Train a scikit-learn classifier\n",
        "\n",
        "Now, we've created our own classifier that looked for the word `trial` and a dummy classifier that always predicted the most frequent class. Let's create an actual classifier based on the word frequencies in the documents.\n",
        "\n",
        "First, we want to vectorize the documents and turn each one into a TF-IDF vector. This will give us feature matrices that we can use for our classifiers.\n",
        "\n",
        "**Exercise:** Fit a [TfidfVectorizer](https://scikit-learn.org/stable/modules/generated/sklearn.feature_extraction.text.TfidfVectorizer.html) to the training text (`texts_train`), transform the training text and the validation text. Use the default parameters for TfidfVectorizer. You may want to check previous labs for using TfidfVectorizer. Output the matrix dimensions (`.shape`) of the vectorized training and validation texts."
      ],
      "metadata": {
        "id": "mEWu-jfZ-Ty9"
      }
    },
    {
      "cell_type": "code",
      "source": [
        "# Your code here\n",
        "from sklearn.feature_extraction.text import TfidfVectorizer\n",
        "vectorizer = TfidfVectorizer()\n",
        "vectorized_train_text = vectorizer.fit_transform(texts_train)\n",
        "print(vectorized_train_text.shape)\n",
        "\n",
        "vectorized_val_text = vectorizer.transform(texts_val)\n",
        "print(vectorized_val_text.shape)\n",
        "\n",
        "# vectorized_test_text = vectorizer.transform(texts_test)\n",
        "# print(vectorized_test_text.shape)"
      ],
      "metadata": {
        "id": "O44MyLCy6smw",
        "colab": {
          "base_uri": "https://localhost:8080/"
        },
        "outputId": "9392c80c-b2bd-4fb4-d50b-d7f65419bcf3"
      },
      "execution_count": 23,
      "outputs": [
        {
          "output_type": "stream",
          "name": "stdout",
          "text": [
            "(612, 9321)\n",
            "(204, 9321)\n"
          ]
        }
      ]
    },
    {
      "cell_type": "markdown",
      "source": [
        "You should have a training dataset with dimensions (612,9321) and a validation feature matrix with dimensions (204, 9321).\n",
        "\n",
        "We've got the feature matrices that we need to train a scikit-learn classifier. We'll look at one of the standard ones: Logistic Regression.\n",
        "\n",
        "**Exercise:** Fit a [LogisticRegression](https://scikit-learn.org/stable/modules/generated/sklearn.linear_model.LogisticRegression.html) classifier to the training feature matrix (that you got from the TfidfVectorizer) and the training labels (`labels_train`). Then make predictions on the validation data (using its feature matrix). Save the predictions to the `labels_predicted` variable and check its length. Use the defaults with a `random_state=42`."
      ],
      "metadata": {
        "id": "6IGvOVFKycK9"
      }
    },
    {
      "cell_type": "code",
      "source": [
        "# Your code here\n",
        "from sklearn.linear_model import LogisticRegression\n",
        "\n",
        "lr_model = LogisticRegression(random_state=42)\n",
        "lr_model.fit(vectorized_train_text, labels_train)\n",
        "\n",
        "labels_predicted = lr_model.predict(vectorized_val_text)"
      ],
      "metadata": {
        "id": "IU7VVbWK7EuC"
      },
      "execution_count": 24,
      "outputs": []
    },
    {
      "cell_type": "markdown",
      "source": [
        "You should have 204 predictions that matches the size of the validation set.\n",
        "\n",
        "Let's see what the confusion matrix of our new predictions `labels_predicted` with Logistic Regression looks like:"
      ],
      "metadata": {
        "id": "o9oq7KCE0Xl3"
      }
    },
    {
      "cell_type": "code",
      "source": [
        "plotConfusionMatrix(labels_val, labels_predicted)"
      ],
      "metadata": {
        "id": "sfxP16o-7WNg",
        "colab": {
          "base_uri": "https://localhost:8080/",
          "height": 467
        },
        "outputId": "9148608e-2560-4453-8543-f273786f534f"
      },
      "execution_count": 25,
      "outputs": [
        {
          "output_type": "execute_result",
          "data": {
            "text/plain": [
              "<Axes: xlabel='Predicted', ylabel='Actual'>"
            ]
          },
          "metadata": {},
          "execution_count": 25
        },
        {
          "output_type": "display_data",
          "data": {
            "text/plain": [
              "<Figure size 640x480 with 1 Axes>"
            ],
            "image/png": "[encoded data removed]"
          },
          "metadata": {}
        }
      ]
    },
    {
      "cell_type": "markdown",
      "source": [
        "You should see 132 true negatives, 0 false positives, 41 false negatives and 31 true positives.\n",
        "\n",
        "**Exercise:** Now we know that accuracy isn't good for this dataset, calculate the precision, recall and F1 scores to three decimal places."
      ],
      "metadata": {
        "id": "dgdRpj1A03FT"
      }
    },
    {
      "cell_type": "code",
      "source": [
        "# Your code here\n",
        "accuracy = metrics.accuracy_score(labels_val, labels_predicted)\n",
        "precision = metrics.precision_score(labels_val, labels_predicted)\n",
        "recall = metrics.recall_score(labels_val, labels_predicted)\n",
        "f1 =  metrics.f1_score(labels_val, labels_predicted)\n",
        "\n",
        "print(f\"accuracy {accuracy:.3f}\")\n",
        "print(f\"precision {precision:.3f}\")\n",
        "print(f\"recall {recall:.3f}\")\n",
        "print(f\"f1 {f1:.3f}\")"
      ],
      "metadata": {
        "id": "XLr9g_Is3phZ",
        "colab": {
          "base_uri": "https://localhost:8080/"
        },
        "outputId": "41af2f58-d945-4934-8644-857a74227329"
      },
      "execution_count": 26,
      "outputs": [
        {
          "output_type": "stream",
          "name": "stdout",
          "text": [
            "accuracy 0.799\n",
            "precision 1.000\n",
            "recall 0.431\n",
            "f1 0.602\n"
          ]
        }
      ]
    },
    {
      "cell_type": "markdown",
      "source": [
        "That's great precision! All of the documents it predicts to be clinical trial reports are. The recall is on the lower end though."
      ],
      "metadata": {
        "id": "Y7ave66nUZsH"
      }
    },
    {
      "cell_type": "markdown",
      "source": [
        "### Evaluating on the training set\n",
        "\n",
        "The most useful evaluation metrics is on a **held-out** dataset - one which was not used for training the classifier. However, it is sometimes useful to see how the classifier performs on the training set. If it performs very very well on the training set, and much worse on the validation set, it is likely that the classifier has [overfit](https://en.wikipedia.org/wiki/Overfitting) the training set. This can depend on the specific algorithm of the classifier\n",
        "\n",
        "Let's check out the performance metrics on the training set.\n",
        "\n",
        "**Exercise:** Use the existing classifier to make predictions on the training vectors and calculate the precision, recall and F1 scores against the training labels `labels_train`."
      ],
      "metadata": {
        "id": "1FOtIce5B3D9"
      }
    },
    {
      "cell_type": "code",
      "source": [
        "# Your code here\n",
        "labels_predicted = lr_model.predict(vectorized_train_text)\n",
        "\n",
        "accuracy = metrics.accuracy_score(labels_train, labels_predicted)\n",
        "precision = metrics.precision_score(labels_train, labels_predicted)\n",
        "recall = metrics.recall_score(labels_train, labels_predicted)\n",
        "f1 =  metrics.f1_score(labels_train, labels_predicted)\n",
        "\n",
        "print(f\"accuracy {accuracy:.3f}\")\n",
        "print(f\"precision {precision:.3f}\")\n",
        "print(f\"recall {recall:.3f}\")\n",
        "print(f\"f1 {f1:.3f}\")"
      ],
      "metadata": {
        "id": "u_mOm6SCClp1",
        "colab": {
          "base_uri": "https://localhost:8080/"
        },
        "outputId": "432b7ffe-94b5-47a8-b804-145c3e7ce349"
      },
      "execution_count": 27,
      "outputs": [
        {
          "output_type": "stream",
          "name": "stdout",
          "text": [
            "accuracy 0.887\n",
            "precision 0.984\n",
            "recall 0.651\n",
            "f1 0.784\n"
          ]
        }
      ]
    },
    {
      "cell_type": "markdown",
      "source": [
        "You should see training precision=0.984, training recall=0.651 and training f1=0.784. The F1 score is higher on the training set than the validation set so some amount of overfitting is likely happening. Note that the classifier performance will almost always be better on the training set than the validation set."
      ],
      "metadata": {
        "id": "fFwe4ijLDEOc"
      }
    },
    {
      "cell_type": "markdown",
      "source": [
        "## Trying out different pipelines\n",
        "\n",
        "We've got one machine learning pipeline (from text data, to vectorized data, to a classifier and to predictions). We now want to try out some other pipelines and see if we can make any improvements."
      ],
      "metadata": {
        "id": "mzQYOn0z1Ovf"
      }
    },
    {
      "cell_type": "markdown",
      "source": [
        "### Using Spacy for tokenization\n",
        "\n",
        "We used the defaults for the TfidfVectorizer before. One of those defaults is how to do the tokenization. The TfidfVectorizer uses a fairly basic technique to split up text into tokens. Let's see if using Spacy improves anything.\n",
        "\n",
        "Below is code from a previous lab to tokenize text using Spacy."
      ],
      "metadata": {
        "id": "4uI37J5omb0s"
      }
    },
    {
      "cell_type": "code",
      "source": [
        "import spacy\n",
        "\n",
        "nlp = spacy.load('en_core_web_sm')\n",
        "\n",
        "def text_pipeline_spacy(text):\n",
        "    tokens = []\n",
        "    doc = nlp(text)\n",
        "    for t in doc:\n",
        "        if not t.is_stop and not t.is_punct and not t.is_space:\n",
        "            tokens.append(t.lemma_.lower())\n",
        "    return tokens\n",
        "\n",
        "# Example usage:\n",
        "text_pipeline_spacy(\"Of all the things I miss, I miss my mind the most.\")"
      ],
      "metadata": {
        "id": "oaugEKBK8SoA",
        "colab": {
          "base_uri": "https://localhost:8080/"
        },
        "outputId": "44a9a174-9c66-4fe6-aeb1-b1f33a831438"
      },
      "execution_count": 28,
      "outputs": [
        {
          "output_type": "execute_result",
          "data": {
            "text/plain": [
              "['thing', 'miss', 'miss', 'mind']"
            ]
          },
          "metadata": {},
          "execution_count": 28
        }
      ]
    },
    {
      "cell_type": "markdown",
      "source": [
        "**Exercise:** Run the machine learning pipeline again using this new tokenization - essentially copy the various steps of scikit-learn from above and change the TfidfVectorizer. Specifically: vectorize the training and validation data with a [TfidfVectorizer](https://scikit-learn.org/stable/modules/generated/sklearn.feature_extraction.text.TfidfVectorizer.html) that uses the `text_pipeline_spacy` function as its tokenizer. Train a new LogisticRegression classifier on the training labels and new training feature matrix. Make predictions on the validation set and calculate the F1-score. As before, use `random_state=42` and no other parameters for LogisticRegression\n",
        "\n",
        "This may take a minute to run."
      ],
      "metadata": {
        "id": "3XYeGPnP2QmG"
      }
    },
    {
      "cell_type": "code",
      "source": [
        "# Your code here\n",
        "vectorizer = TfidfVectorizer(tokenizer=text_pipeline_spacy)\n",
        "vectorized_train_text = vectorizer.fit_transform(texts_train)\n",
        "print(vectorized_train_text.shape)\n",
        "\n",
        "vectorized_val_text = vectorizer.transform(texts_val)\n",
        "print(vectorized_val_text.shape)\n",
        "\n",
        "lr_model = LogisticRegression(random_state=42)\n",
        "lr_model.fit(vectorized_train_text, labels_train)\n",
        "\n",
        "labels_predicted = lr_model.predict(vectorized_val_text)\n",
        "\n",
        "accuracy = metrics.accuracy_score(labels_val, labels_predicted)\n",
        "precision = metrics.precision_score(labels_val, labels_predicted)\n",
        "recall = metrics.recall_score(labels_val, labels_predicted)\n",
        "f1 =  metrics.f1_score(labels_val, labels_predicted)\n",
        "\n",
        "print(f\"accuracy {accuracy:.3f}\")\n",
        "print(f\"precision {precision:.3f}\")\n",
        "print(f\"recall {recall:.3f}\")\n",
        "print(f\"f1 {f1:.3f}\")\n"
      ],
      "metadata": {
        "id": "nZRsz7DA7c5O",
        "colab": {
          "base_uri": "https://localhost:8080/"
        },
        "outputId": "13499013-95e6-4740-c02a-99a9540a4f30"
      },
      "execution_count": 29,
      "outputs": [
        {
          "output_type": "stream",
          "name": "stderr",
          "text": [
            "/usr/local/lib/python3.10/dist-packages/sklearn/feature_extraction/text.py:528: UserWarning: The parameter 'token_pattern' will not be used since 'tokenizer' is not None'\n",
            "  warnings.warn(\n"
          ]
        },
        {
          "output_type": "stream",
          "name": "stdout",
          "text": [
            "(612, 9297)\n",
            "(204, 9297)\n",
            "accuracy 0.809\n",
            "precision 1.000\n",
            "recall 0.458\n",
            "f1 0.629\n"
          ]
        }
      ]
    },
    {
      "cell_type": "markdown",
      "source": [
        "You should get an F1 score of 0.629 so slightly better with this tokenization strategy."
      ],
      "metadata": {
        "id": "Zsoalmjk4FHj"
      }
    },
    {
      "cell_type": "markdown",
      "source": [
        "### Changing the hyperparameters\n",
        "\n",
        "Looking at the scikit-learn pages for the [TfidfVectorizer](https://scikit-learn.org/stable/modules/generated/sklearn.feature_extraction.text.TfidfVectorizer.html) and [LogisticRegression](https://scikit-learn.org/stable/modules/generated/sklearn.linear_model.LogisticRegression.html), there are a lot of options you can tweak that will affect how the classifier behaves. These are known as hyperparameters. Let's try out a different setting. The `C` hyperparameter of a Logistic Regression classifier controls a feature known as [regularization](https://en.wikipedia.org/wiki/Regularization_(mathematics)). This can stop a classifier from overfitting by limiting the weights that the classifier puts on different individual features. A higher `C` lowers the amount of regularization.\n",
        "\n",
        "**Exercise:** Run the machine learning pipeline (vectorizing, building classifier and making predictions) with a TfidfVectorizer using its default tokenization (no Spacy) and the LogisticRegression with parameter `C=5` and `random_state=42`. Calculate the F1-score of the predictions on the validation dataset."
      ],
      "metadata": {
        "id": "PE4mi08DmhP4"
      }
    },
    {
      "cell_type": "code",
      "source": [
        "# Your code here\n",
        "vectorizer = TfidfVectorizer()\n",
        "vectorized_train_text = vectorizer.fit_transform(texts_train)\n",
        "print(vectorized_train_text.shape)\n",
        "\n",
        "vectorized_val_text = vectorizer.transform(texts_val)\n",
        "print(vectorized_val_text.shape)\n",
        "\n",
        "lr_model = LogisticRegression(C=5, random_state=42)\n",
        "lr_model.fit(vectorized_train_text, labels_train)\n",
        "\n",
        "labels_predicted = lr_model.predict(vectorized_val_text)\n",
        "\n",
        "accuracy = metrics.accuracy_score(labels_val, labels_predicted)\n",
        "precision = metrics.precision_score(labels_val, labels_predicted)\n",
        "recall = metrics.recall_score(labels_val, labels_predicted)\n",
        "f1 =  metrics.f1_score(labels_val, labels_predicted)\n",
        "\n",
        "print(f\"accuracy {accuracy:.3f}\")\n",
        "print(f\"precision {precision:.3f}\")\n",
        "print(f\"recall {recall:.3f}\")\n",
        "print(f\"f1 {f1:.3f}\")"
      ],
      "metadata": {
        "id": "yxHFRHwSmjP9",
        "colab": {
          "base_uri": "https://localhost:8080/"
        },
        "outputId": "a0a89c84-8af3-491b-b85f-09d0fde0e895"
      },
      "execution_count": 30,
      "outputs": [
        {
          "output_type": "stream",
          "name": "stdout",
          "text": [
            "(612, 9321)\n",
            "(204, 9321)\n",
            "accuracy 0.858\n",
            "precision 0.978\n",
            "recall 0.611\n",
            "f1 0.752\n"
          ]
        }
      ]
    },
    {
      "cell_type": "markdown",
      "source": [
        "You should get an F1 score of 0.752. Even better!"
      ],
      "metadata": {
        "id": "k1FAfOw4FWUO"
      }
    },
    {
      "cell_type": "markdown",
      "source": [
        "### Tuning the hyperparameters\n",
        "\n",
        "There are a lot of hyperparameters that can be tweaked. It is standard practice to try out a bunch of hyperparameter settings with training on the training set and evaluating on the validation set.\n",
        "\n",
        "Searching across all possible settings (given lists of each possible desired setting for each hyperparameter) is known as [grid search](https://en.wikipedia.org/wiki/Hyperparameter_optimization).\n",
        "\n",
        "Scikit-learn provides a nice feature known as [ParameterGrid](https://scikit-learn.org/stable/modules/generated/sklearn.model_selection.ParameterGrid.html) that allows you to list the possible settings for each hyperparameter and to then iterate over the different settings. The code below illustrates it for two imagined hyperparameters `a` and `b`."
      ],
      "metadata": {
        "id": "jR9WfyHTmfQs"
      }
    },
    {
      "cell_type": "code",
      "source": [
        "from sklearn.model_selection import ParameterGrid\n",
        "param_grid = {'a': [1, 2], 'b': [True, False]}\n",
        "\n",
        "for params in ParameterGrid(param_grid):\n",
        "    print(params)"
      ],
      "metadata": {
        "id": "eqwZbudqmymO",
        "colab": {
          "base_uri": "https://localhost:8080/"
        },
        "outputId": "f9c70926-a4e0-4ab1-b3bd-8bef9b6e583c"
      },
      "execution_count": 31,
      "outputs": [
        {
          "output_type": "stream",
          "name": "stdout",
          "text": [
            "{'a': 1, 'b': True}\n",
            "{'a': 1, 'b': False}\n",
            "{'a': 2, 'b': True}\n",
            "{'a': 2, 'b': False}\n"
          ]
        }
      ]
    },
    {
      "cell_type": "markdown",
      "source": [
        "Practically the number of possible settings may be so vast that the computational cost of trying them all using grid search is infeasible. You would likely pick a small number of hyperparameters that are known to have a big effect and also choose a limited set of possible values for them.\n",
        "\n",
        "You may also try a strategy other than grid search, such as optimising one hyperparameter at a time before moving onto the next or some form of random search. There are many strategies for this problem known as [hyperparameter optimization](https://en.wikipedia.org/wiki/Hyperparameter_optimization). But for now, we'll stick with grid search.\n",
        "\n",
        "**Exercise:** Using a [ParameterGrid](https://scikit-learn.org/stable/modules/generated/sklearn.model_selection.ParameterGrid.html), try out different settings for the `C` for Logistic Regression (try 1 or 10) and `max_df` for TfidfVectorizer (try 0.7 or 1.0). Again, don't use Spacy for tokenization (for speed) and use `random_state=42` for the Logistic Regression classifier. Save the hyperparameter settings that give the highest F1 score on the validation set."
      ],
      "metadata": {
        "id": "W3c78c-36Jt_"
      }
    },
    {
      "cell_type": "code",
      "source": [
        "# Your code here\n",
        "best_f1_score = -1\n",
        "best_params = None\n",
        "param_grid = {'C': list(range(1,11)), 'max_df': [0.7, 1.0]}\n",
        "for params in ParameterGrid(param_grid):\n",
        "  vectorizer = TfidfVectorizer(max_df=params['max_df'])\n",
        "  vectorized_train_text = vectorizer.fit_transform(texts_train)\n",
        "  # print(vectorized_train_text.shape)\n",
        "\n",
        "  vectorized_val_text = vectorizer.transform(texts_val)\n",
        "  # print(vectorized_val_text.shape)\n",
        "\n",
        "  lr_model = LogisticRegression(C=params['C'], random_state=42)\n",
        "  lr_model.fit(vectorized_train_text, labels_train)\n",
        "\n",
        "  labels_predicted = lr_model.predict(vectorized_val_text)\n",
        "  f1 =  metrics.f1_score(labels_val, labels_predicted)\n",
        "  if best_f1_score < f1:\n",
        "    best_f1_score = f1\n",
        "    best_params = params\n",
        "\n",
        "print(f\"Best f1 {best_f1_score:.3f} with {best_params}\")"
      ],
      "metadata": {
        "id": "pxbDANKEl_-a",
        "colab": {
          "base_uri": "https://localhost:8080/"
        },
        "outputId": "461a2dd9-2df2-497c-8e91-4271fadf97c5"
      },
      "execution_count": 32,
      "outputs": [
        {
          "output_type": "stream",
          "name": "stdout",
          "text": [
            "Best f1 0.793 with {'C': 10, 'max_df': 0.7}\n"
          ]
        }
      ]
    },
    {
      "cell_type": "markdown",
      "source": [
        "You should find that the settings (`C=10` and `max_df=0.7`) gives the best validation F1 score of 0.793.\n",
        "\n",
        "We've only tested out a LogisticRegression classifier. It's a good idea to try out a few other classifiers. Scikit-learn offers a large selection of classifier algorithms.\n",
        "\n",
        "**Exercise:** Pick another classifier from scikit-learn such as a K Nearest Neighbors Classifier, a Linear Support Vector classifier, a Random Forest classifier. Rerun the machine learning classifier with it and see how it performs on the validation set by calculating the F1 score."
      ],
      "metadata": {
        "id": "vbyFNc4W8bz3"
      }
    },
    {
      "cell_type": "code",
      "source": [
        "# Your code here\n",
        "from sklearn.svm import SVC\n",
        "\n",
        "best_f1_score = -1\n",
        "best_params = None\n",
        "param_grid = {'C': list(range(1,11)), 'max_df': [0.7, 1.0], 'kernel': ['linear', 'poly', 'rbf']}\n",
        "for params in ParameterGrid(param_grid):\n",
        "  vectorizer = TfidfVectorizer(max_df=params['max_df'])\n",
        "  vectorized_train_text = vectorizer.fit_transform(texts_train)\n",
        "  # print(vectorized_train_text.shape)\n",
        "\n",
        "  vectorized_val_text = vectorizer.transform(texts_val)\n",
        "  # print(vectorized_val_text.shape)\n",
        "\n",
        "  lr_model = SVC(C=params['C'], kernel=params['kernel'], random_state=42)\n",
        "  lr_model.fit(vectorized_train_text, labels_train)\n",
        "\n",
        "  labels_predicted = lr_model.predict(vectorized_val_text)\n",
        "  f1 =  metrics.f1_score(labels_val, labels_predicted)\n",
        "  if best_f1_score < f1:\n",
        "    best_f1_score = f1\n",
        "    best_params = params\n",
        "\n",
        "print(f\"Best f1 {best_f1_score:.3f} with {best_params}\")"
      ],
      "metadata": {
        "id": "rUxqOtSc8o5T",
        "colab": {
          "base_uri": "https://localhost:8080/"
        },
        "outputId": "0036fd7b-6650-470f-90ba-d95447413665"
      },
      "execution_count": 33,
      "outputs": [
        {
          "output_type": "stream",
          "name": "stdout",
          "text": [
            "Best f1 0.841 with {'C': 2, 'kernel': 'linear', 'max_df': 1.0}\n"
          ]
        }
      ]
    },
    {
      "cell_type": "markdown",
      "source": [
        "### Error analysis\n",
        "\n",
        "As we're trying to squeeze more performance out of our machine learning pipeline, this is also a good time to understand what errors are happening. Essentially, what is our best classifier good at, and what is it not good at? This can lead us to create new custom features, annotate more specific data or other strategies to solve problems.\n",
        "\n",
        "A good practice is to randomly select some false positives and false negatives (the mistakes) from the validation set and to manually check why they are mistakes. This may require expert knowledge of the text (as in the case of clinical trial reports). Some common outcomes of this analysis:\n",
        "- The useful features that you can see when you look at the text are not being captured by the features (maybe trigrams are essential)\n",
        "- The class is so rare that the classifier is having a hard time distinguishing it from the majority class.\n",
        "  - More data may be required - or other tricks to deal with class imbalance.\n",
        "- They are not mistakes and the labels are wrong\n",
        "- The classifier has a problem with certain types of data\n",
        "  - For the clinical trial reports, there could a type of trial that is described completely differently from others\n",
        "\n",
        "For multiclass problems, the confusion matrix can also tell you what classes are being confused with others.\n",
        "\n",
        "We won't dive into the data to do error analysis in this lab.\n"
      ],
      "metadata": {
        "id": "m3WQR_Gf-UfH"
      }
    },
    {
      "cell_type": "markdown",
      "source": [
        "## Evaluating on the test set\n",
        "\n",
        "At the end of a machine learning project, when you have done all your experiments on the training & validation sets, it is finally time to turn to the **test set**. You shouldn't use it in training and tuning your model. It should only be used for evaluation and the less you use it the better.\n",
        "\n",
        "For this lab, don't worry about rerunning things on the test set.\n",
        "\n",
        "**Exercise:** Take your best pipeline (vectorizer & classifier) approach from above. Train it on the training data and evaluate it on the test data (`texts_test` and `labels_test`). Calculate the Precision, Recall, and F1 score on the test set."
      ],
      "metadata": {
        "id": "h_mN8ZvWnOaq"
      }
    },
    {
      "cell_type": "code",
      "source": [
        "# Your code here\n",
        "vectorizer = TfidfVectorizer(max_df=1.0)\n",
        "vectorized_train_text = vectorizer.fit_transform(texts_train)\n",
        "vectorized_val_text = vectorizer.transform(texts_val)\n",
        "vectorized_test_text = vectorizer.transform(texts_test)\n",
        "\n",
        "lr_model = SVC(C=2, kernel='linear', random_state=42)\n",
        "lr_model.fit(vectorized_train_text, labels_train)\n",
        "\n",
        "## Validation\n",
        "labels_predicted = lr_model.predict(vectorized_val_text)\n",
        "\n",
        "accuracy = metrics.accuracy_score(labels_val, labels_predicted)\n",
        "precision = metrics.precision_score(labels_val, labels_predicted)\n",
        "recall = metrics.recall_score(labels_val, labels_predicted)\n",
        "f1 =  metrics.f1_score(labels_val, labels_predicted)\n",
        "\n",
        "print(\"Validation scores\")\n",
        "print(f\"accuracy {accuracy:.3f}\")\n",
        "print(f\"precision {precision:.3f}\")\n",
        "print(f\"recall {recall:.3f}\")\n",
        "print(f\"f1 {f1:.3f}\")\n",
        "print()\n",
        "# print(vectorized_test_text.shape)\n",
        "\n",
        "## Testing\n",
        "labels_predicted = lr_model.predict(vectorized_test_text)\n",
        "\n",
        "accuracy = metrics.accuracy_score(labels_test, labels_predicted)\n",
        "precision = metrics.precision_score(labels_test, labels_predicted)\n",
        "recall = metrics.recall_score(labels_test, labels_predicted)\n",
        "f1 =  metrics.f1_score(labels_test, labels_predicted)\n",
        "\n",
        "print(\"Testing scores\")\n",
        "print(f\"accuracy {accuracy:.3f}\")\n",
        "print(f\"precision {precision:.3f}\")\n",
        "print(f\"recall {recall:.3f}\")\n",
        "print(f\"f1 {f1:.3f}\")"
      ],
      "metadata": {
        "id": "KxRMeUMxnQ9L",
        "colab": {
          "base_uri": "https://localhost:8080/"
        },
        "outputId": "8ad6a717-9bcb-4c92-b8fe-dad098103baf"
      },
      "execution_count": 40,
      "outputs": [
        {
          "output_type": "stream",
          "name": "stdout",
          "text": [
            "Validation scores\n",
            "accuracy 0.902\n",
            "precision 0.981\n",
            "recall 0.736\n",
            "f1 0.841\n",
            "\n",
            "Testing scores\n",
            "accuracy 0.878\n",
            "precision 0.896\n",
            "recall 0.683\n",
            "f1 0.775\n"
          ]
        }
      ]
    },
    {
      "cell_type": "markdown",
      "source": [
        "You may have found a higher performing classifier so your result may differ. If you used a LogisticRegression classifier with the best parameters from earlier (`C=10` and `max_df=0.7`), you should see an F1 score of 0.771.\n",
        "\n",
        "You can use the `plotConfusionMatrix` function again to plot your test results (if your predictions are again stored in `labels_predicted`)."
      ],
      "metadata": {
        "id": "Z7x5GJbzBER7"
      }
    },
    {
      "cell_type": "code",
      "source": [
        "plotConfusionMatrix(labels_test, labels_predicted)"
      ],
      "metadata": {
        "id": "KqHrD3egsqlu",
        "colab": {
          "base_uri": "https://localhost:8080/",
          "height": 467
        },
        "outputId": "92072d9e-f549-4f2c-9308-cf3660ea4fc0"
      },
      "execution_count": 41,
      "outputs": [
        {
          "output_type": "execute_result",
          "data": {
            "text/plain": [
              "<Axes: xlabel='Predicted', ylabel='Actual'>"
            ]
          },
          "metadata": {},
          "execution_count": 41
        },
        {
          "output_type": "display_data",
          "data": {
            "text/plain": [
              "<Figure size 640x480 with 1 Axes>"
            ],
            "image/png": "[encoded data removed]"
          },
          "metadata": {}
        }
      ]
    },
    {
      "cell_type": "markdown",
      "source": [
        "## Deployment?"
      ],
      "metadata": {
        "id": "glwquTVQHlo-"
      }
    },
    {
      "cell_type": "markdown",
      "source": [
        "**Congratulations!** We've built a system that can do a good job at identifying articles that discuss clinical trials. You have built a classifier on a training set, tuned it with a validation set and finally evaluated it on a test set.\n",
        "\n",
        "We would now need to decide if the performance of the classifier is good enough to deploy. This will depend on the specific project and users of the system.\n",
        "\n",
        "Remember that for the clinical trials project, we aim to identify articles that the authors may have forgotten to tag as a clinical trial. Whether or not our system is suitable for deployment depends on how it will be used. For instance:\n",
        " - If we aim to automatically extend a database of clinical trials, we would want to be sure that the data that is inserted is very likely to be about a clinical trial. Otherwise, our database will become unreliable and reduce its utility. In this case, having a system that is high precision, say above 0.9 is desirable. Even if we miss some (i.e., have a lower recall), that might be alright because the alternative is missing these untagged articles anyway. But we'd still probably want reasonable recall (maybe > 0.5), otherwise it may not be worth the cost of deploying and maintaining the model.\n",
        " - If we instead aim to have a comprehensive list of clinical trial articles, high recall is critical. In this case, maybe we would target recall of at least 0.99, but acknowledge the fact that precision may suffer to achieve such recall. To counteract this, we would need to consider including a human in the loop to review the classified articles. To reduce human effort, we would want as high precision as possible while maintaining our target level of recall.\n",
        "\n",
        "For a trained model, these trade-offs can be made by adjusting the decision threshold. The [ROC curve](https://en.wikipedia.org/wiki/Receiver_operating_characteristic) or [precision-recall curve](https://www.geeksforgeeks.org/precision-recall-curve-ml/) may be helpful for this. You can explore this topic as an Optional Extra below."
      ],
      "metadata": {
        "id": "20W-b4FtEg-x"
      }
    },
    {
      "cell_type": "markdown",
      "source": [
        "## End\n",
        "\n",
        "This is the end of Lab 4. Let us know if you encounter any issues! Remember we are here to help!\n",
        "\n",
        "**Please submit your lab through Moodle. We don't mark the labs but it helps us to craft better labs in the future**"
      ],
      "metadata": {
        "id": "eOZN3s-Vt-7z"
      }
    },
    {
      "cell_type": "markdown",
      "source": [
        "## Optional Extras\n",
        "\n",
        "- The standard Spacy model is good for \"normal\" English but may not be the best for scientific English. There is a science-version of Spacy, known as [scispacy](https://allenai.github.io/scispacy/). Try out the `en_core_sci_sm` model from [scispacy](https://allenai.github.io/scispacy/). You'll need to install scispacy and the model.\n",
        "- See how only using the title performs\n",
        "- Try out other hyperparameters, such as bigrams from the vectorizer.\n",
        "- Construct and explore a [Receiver Operating Characteristic (ROC) curve](https://en.wikipedia.org/wiki/Receiver_operating_characteristic) and [precision-recall curve](https://www.geeksforgeeks.org/precision-recall-curve-ml/) for your model, and think about their use for the two deployment settings discussed above. You'll need to get probabilities from your classifier and not just binary predictions. You'll want the `.predict_proba(...)` classifier function along with the [roc_curve](https://scikit-learn.org/stable/modules/generated/sklearn.metrics.roc_curve.html) and [precision_recall_curve](https://scikit-learn.org/stable/modules/generated/sklearn.metrics.precision_recall_curve.html) functions. You then need to plot it. Here's some info on [line plotting with Matplotlib](https://jakevdp.github.io/PythonDataScienceHandbook/04.01-simple-line-plots.html).\n",
        "- If you're game for it, do the error analysis, look at some mistakenly misclassified documents and see if you can spot any patterns. If you do, let us know!"
      ],
      "metadata": {
        "id": "AdjwRHO2KLEm"
      }
    }
  ]
}